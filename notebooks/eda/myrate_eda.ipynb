{
 "cells": [
  {
   "cell_type": "markdown",
   "metadata": {},
   "source": [
    "# Exploratory Data Analysis of Freelance Profiles with relation to Hourly Rate"
   ]
  },
  {
   "cell_type": "code",
   "execution_count": 1,
   "metadata": {},
   "outputs": [],
   "source": [
    "# Notes to self:\n",
    "\n",
    "# The clustering on skills didn't work because there isn't enough skills per user.\n",
    "# Almost all users have about 5 skills, but there isn't enough overlap between them.\n",
    "# Futhermore, there is just about no signal relating the features to hourly rate.\n",
    "# Need to pivot and think of some alternative way to use this data.\n",
    "# Also, I need to figure out why everyone has a \"1\" for their invoices paid.\n",
    "\n",
    "# Do a regression tree model\n",
    "# Deriving other features from the text\n",
    "# Sentiment: Passive vs active voice?\n",
    "# do the skills appear in the text \n",
    "# Try a targeted search and get numerics out\n",
    "    # remove +'s' or try regex \n",
    "# Use text to look for those skills and maybe try to find words around it?\n",
    "# Skills in text vs not in the skill list \n",
    "# Naively do some kind of embedding (word2vec)\n",
    "    # Toss in their description and it creates a vector representation \n",
    "    # And then try looking at clusters in that space\n",
    "    # Specify the length of the vector "
   ]
  },
  {
   "cell_type": "markdown",
   "metadata": {},
   "source": [
    "### Importing and Merging to get EDA Dataset"
   ]
  },
  {
   "cell_type": "code",
   "execution_count": 46,
   "metadata": {
    "scrolled": false
   },
   "outputs": [],
   "source": [
    "# Packages for PostgreSQL Import and Export\n",
    "from sqlalchemy_utils import database_exists, create_database\n",
    "from sqlalchemy import create_engine\n",
    "import psycopg2\n",
    "import os\n",
    "\n",
    "# Packages for EDA\n",
    "import pandas as pd\n",
    "import numpy as np\n",
    "import seaborn as sns\n",
    "import matplotlib.pyplot as plt\n",
    "from scipy import stats\n",
    "from datetime import datetime\n",
    "from nltk.corpus import stopwords\n",
    "import re \n",
    "\n",
    "# Packages for K-Modes Cluster\n",
    "from kmodes.kmodes import KModes"
   ]
  },
  {
   "cell_type": "code",
   "execution_count": 47,
   "metadata": {
    "scrolled": false
   },
   "outputs": [],
   "source": [
    "# Ideally I'll move this into the project config.py file\n",
    "# Otherwise for now I have to just manually assign . . .\n",
    "\n",
    "dbname = \"freelance_db\"\n",
    "username = os.environ['USER']\n",
    "pswd = os.environ['SQLPSWD']\n",
    "\n",
    "# Connect to Data\n",
    "con = None\n",
    "con = psycopg2.connect(database=dbname, user=username,\n",
    "                       host='localhost', password=pswd)\n",
    "\n",
    "# Checking shapes of tables\n",
    "sql_query = \"\"\"SELECT * from user_details_table;\"\"\"\n",
    "dtls_table = pd.read_sql_query(sql_query, con)\n",
    "\n",
    "sql_query = \"\"\"SELECT * from freelance_table;\"\"\"\n",
    "fl_table = pd.read_sql_query(sql_query, con)"
   ]
  },
  {
   "cell_type": "code",
   "execution_count": 48,
   "metadata": {
    "scrolled": false
   },
   "outputs": [],
   "source": [
    "# Merging\n",
    "# Modifying profile_url in the details table so I can merge it with the fl_table\n",
    "dtls_table['profile_url'] = \"https://www.guru.com\"+dtls_table['profile_url']\n",
    "\n",
    "# Now I'm merging them together to make dt\n",
    "dt = pd.merge(fl_table, dtls_table, on='profile_url')\n",
    "dt.shape\n",
    "dt = dt.drop(columns=(['index_x']))\n",
    "dt = dt.drop_duplicates(subset='profile_url')"
   ]
  },
  {
   "cell_type": "code",
   "execution_count": 49,
   "metadata": {
    "scrolled": false
   },
   "outputs": [],
   "source": [
    "# Merging in data to crosswalk states with region labels\n",
    "state_region_crswlk = pd.read_csv(\n",
    "    '~/Desktop/Insight/projects/myrate/data/raw/census-regions/us census bureau regions and divisions.csv')\n",
    "state_region_crswlk.head()\n",
    "\n",
    "dt = pd.merge(dt, state_region_crswlk,\n",
    "              how='left', left_on='state', right_on='State')\n",
    "\n",
    "# Fixing region value for individuals living in Puerto Rico\n",
    "dt.loc[dt['state'] == \"Puerto Rico\", 'Region'] = \"Other\""
   ]
  },
  {
   "cell_type": "code",
   "execution_count": 50,
   "metadata": {},
   "outputs": [
    {
     "name": "stdout",
     "output_type": "stream",
     "text": [
      "<class 'pandas.core.frame.DataFrame'>\n",
      "Int64Index: 979 entries, 0 to 978\n",
      "Data columns (total 21 columns):\n",
      " #   Column            Non-Null Count  Dtype \n",
      "---  ------            --------------  ----- \n",
      " 0   profile_url       979 non-null    object\n",
      " 1   city              979 non-null    object\n",
      " 2   state             979 non-null    object\n",
      " 3   country           979 non-null    object\n",
      " 4   rating            979 non-null    object\n",
      " 5   earnings          979 non-null    object\n",
      " 6   hourly_rate       979 non-null    int64 \n",
      " 7   skills_list       979 non-null    object\n",
      " 8   user_description  979 non-null    object\n",
      " 9   index_y           979 non-null    int64 \n",
      " 10  member_since      979 non-null    object\n",
      " 11  earnings_pst_yr   948 non-null    object\n",
      " 12  earnings_ever     948 non-null    object\n",
      " 13  employers         948 non-null    object\n",
      " 14  invoices_paid     948 non-null    object\n",
      " 15  largest_employ    948 non-null    object\n",
      " 16  bio               948 non-null    object\n",
      " 17  State             975 non-null    object\n",
      " 18  State Code        975 non-null    object\n",
      " 19  Region            979 non-null    object\n",
      " 20  Division          975 non-null    object\n",
      "dtypes: int64(2), object(19)\n",
      "memory usage: 168.3+ KB\n"
     ]
    }
   ],
   "source": [
    "dt.info()"
   ]
  },
  {
   "cell_type": "markdown",
   "metadata": {},
   "source": [
    "# Exploratory Data Analysis - Outcome: Hourly Rate\n",
    "### Beginning with investigating the geographic labels "
   ]
  },
  {
   "cell_type": "code",
   "execution_count": null,
   "metadata": {
    "scrolled": false
   },
   "outputs": [],
   "source": [
    "# What is the overall mean?\n",
    "print(\"Mean hourly rate ($):\", round(dt['hourly_rate'].mean(), 2))"
   ]
  },
  {
   "cell_type": "code",
   "execution_count": null,
   "metadata": {},
   "outputs": [],
   "source": [
    "# What is the mean by region?\n",
    "dt.groupby(['Region']).hourly_rate.mean()\n",
    "\n",
    "# There is some variation, but it is minimal"
   ]
  },
  {
   "cell_type": "code",
   "execution_count": null,
   "metadata": {},
   "outputs": [],
   "source": [
    "# What is the mean across states?\n",
    "dt.groupby(['state']).hourly_rate.mean().sort_values().describe()\n",
    "\n",
    "# Pretty decent spread. This may be the most powerful signal yet.\n",
    "# If you print out hte full table it is clear that there is variation"
   ]
  },
  {
   "cell_type": "code",
   "execution_count": 51,
   "metadata": {},
   "outputs": [],
   "source": [
    "# What is the variation within states?\n",
    "state_lvl_hourly_rate_descriptives = {}\n",
    "state_lvl_hourly_rate_descriptives['min'] = dt.groupby(\n",
    "    ['state']).hourly_rate.min()\n",
    "state_lvl_hourly_rate_descriptives['mean'] = dt.groupby(\n",
    "    ['state']).hourly_rate.mean()\n",
    "state_lvl_hourly_rate_descriptives['max'] = dt.groupby(\n",
    "    ['state']).hourly_rate.max()\n",
    "state_lvl_hourly_rate_descriptives['var'] = dt.groupby(\n",
    "    ['state']).hourly_rate.var()\n",
    "dt_state_hr = pd.DataFrame(state_lvl_hourly_rate_descriptives)\n",
    "\n",
    "# A decent amount of variation within the states"
   ]
  },
  {
   "cell_type": "code",
   "execution_count": 6,
   "metadata": {},
   "outputs": [
    {
     "data": {
      "image/png": "[encoded data removed]",
      "text/plain": [
       "<Figure size 432x288 with 1 Axes>"
      ]
     },
     "metadata": {
      "needs_background": "light"
     },
     "output_type": "display_data"
    }
   ],
   "source": [
    "ax = sns.distplot(dt_state_hr['mean'], kde = False)\n",
    "ax.set(xlabel='Mean Hourly Rate', ylabel='Frequency')\n",
    "ax.set_title(\"Distribution of Mean Hourly Rate Across States\")\n",
    "plt.show()"
   ]
  },
  {
   "cell_type": "code",
   "execution_count": 12,
   "metadata": {},
   "outputs": [
    {
     "data": {
      "image/png": "[encoded data removed]",
      "text/plain": [
       "<Figure size 432x288 with 1 Axes>"
      ]
     },
     "metadata": {
      "needs_background": "light"
     },
     "output_type": "display_data"
    }
   ],
   "source": [
    "ax = sns.distplot(dt['hourly_rate'], kde = False)\n",
    "ax.set(xlabel='Hourly Rate', ylabel='Frequency')\n",
    "ax.set_title(\"Distribution of Hourly Rate\")\n",
    "plt.show()\n",
    "fig = ax.get_figure()\n",
    "fig.savefig(\"/Users/Metaverse/Desktop/Insight/presentation_materials/output.png\") \n"
   ]
  },
  {
   "cell_type": "code",
   "execution_count": null,
   "metadata": {
    "scrolled": false
   },
   "outputs": [],
   "source": [
    "# I tried to break it down further to the city level\n",
    "# But the city data is really messy and not worth the time sink\n",
    "# To try and get it set up. The idea would be to merge on\n",
    "# rural vs urban and see if it can help me filter out a signal."
   ]
  },
  {
   "cell_type": "markdown",
   "metadata": {},
   "source": [
    "### Investigating the relationship between a users \"rating\" and the outcome"
   ]
  },
  {
   "cell_type": "code",
   "execution_count": 52,
   "metadata": {
    "scrolled": false
   },
   "outputs": [],
   "source": [
    "# Cleaing it up real quick\n",
    "dt.rating = dt.rating.str.replace('%', '')\n",
    "dt.rating = dt.rating.str.replace('NA', '')\n",
    "dt.rating = pd.to_numeric(dt.rating)"
   ]
  },
  {
   "cell_type": "code",
   "execution_count": 7,
   "metadata": {},
   "outputs": [
    {
     "name": "stdout",
     "output_type": "stream",
     "text": [
      "Number of missing values:  68\n"
     ]
    }
   ],
   "source": [
    "# Starting with Missing Values\n",
    "print(\"Number of missing values: \", dt.rating.isna().sum())"
   ]
  },
  {
   "cell_type": "code",
   "execution_count": null,
   "metadata": {},
   "outputs": [],
   "source": [
    "# What does the spread look like for the rest?\n",
    "dt.rating.describe()\n",
    "\n",
    "# Basically no variation. Okay, let's make a binary variable (has_rating)"
   ]
  },
  {
   "cell_type": "code",
   "execution_count": 53,
   "metadata": {},
   "outputs": [
    {
     "data": {
      "text/plain": [
       "has_rating\n",
       "0    34.529412\n",
       "1    31.743139\n",
       "Name: hourly_rate, dtype: float64"
      ]
     },
     "execution_count": 53,
     "metadata": {},
     "output_type": "execute_result"
    }
   ],
   "source": [
    "# Creating \"has_rating\"\n",
    "dt['has_rating'] = None\n",
    "dt.loc[dt['rating'].isna(), 'has_rating'] = 0\n",
    "dt.loc[dt['rating'] > 0, 'has_rating'] = 1\n",
    "\n",
    "# Comparing outcome means by has_rating\n",
    "dt.groupby(['has_rating']).hourly_rate.mean()\n",
    "\n",
    "# Small difference, nothing substantial"
   ]
  },
  {
   "cell_type": "markdown",
   "metadata": {},
   "source": [
    "### Exploring the duration of membership and hourly rate\n",
    "\n",
    "1. Convert member start date to a date object\n",
    "2. Calculate years / months they've been a member (to today)"
   ]
  },
  {
   "cell_type": "code",
   "execution_count": 54,
   "metadata": {},
   "outputs": [],
   "source": [
    "def date_convert(member_since):\n",
    "    try:\n",
    "        tmp = datetime.strptime(member_since, '%b, %Y')\n",
    "        #tmp = tmp.strftime('%Y-%m')\n",
    "    except:\n",
    "        tmp = 'NaN'\n",
    "    return tmp"
   ]
  },
  {
   "cell_type": "code",
   "execution_count": 55,
   "metadata": {},
   "outputs": [],
   "source": [
    "def years_active(date):\n",
    "    cur_year = datetime.now().year\n",
    "    try:\n",
    "        yrs_active = cur_year - date.year\n",
    "    except:\n",
    "        yrs_active = 'NaN'\n",
    "\n",
    "    return yrs_active"
   ]
  },
  {
   "cell_type": "code",
   "execution_count": 56,
   "metadata": {},
   "outputs": [],
   "source": [
    "def months_active(date):\n",
    "    cur_year = datetime.now().year\n",
    "    cur_month = datetime.now().month\n",
    "\n",
    "    try:\n",
    "        mnths_active = (cur_year - date.year)*12 + (cur_month - date.month)\n",
    "    except:\n",
    "        mnths_active = 'NaN'\n",
    "\n",
    "    return mnths_active"
   ]
  },
  {
   "cell_type": "code",
   "execution_count": 57,
   "metadata": {},
   "outputs": [],
   "source": [
    "# Converting member_since to date\n",
    "dt.member_since = dt.member_since.str.strip()\n",
    "dt['start_date'] = dt.member_since.apply(date_convert)\n",
    "dt['years_active'] = dt.start_date.apply(years_active)\n",
    "dt['months_active'] = dt.start_date.apply(months_active)\n",
    "\n",
    "# Therea are 31 NAs. Just going to ignore them for now."
   ]
  },
  {
   "cell_type": "code",
   "execution_count": 77,
   "metadata": {},
   "outputs": [
    {
     "data": {
      "text/plain": [
       "years_active\n",
       "0.0     30.869565\n",
       "1.0     32.279570\n",
       "2.0     31.409091\n",
       "3.0     31.804598\n",
       "4.0     30.594203\n",
       "5.0     30.295775\n",
       "6.0     29.396552\n",
       "7.0     23.527778\n",
       "8.0     31.758621\n",
       "9.0     24.173913\n",
       "10.0    28.482759\n",
       "11.0    28.192308\n",
       "12.0    34.178571\n",
       "13.0    32.521739\n",
       "14.0    37.481481\n",
       "15.0    38.652174\n",
       "16.0    32.541667\n",
       "17.0    51.190476\n",
       "18.0    39.384615\n",
       "19.0    42.533333\n",
       "20.0    55.000000\n",
       "Name: hourly_rate, dtype: float64"
      ]
     },
     "execution_count": 77,
     "metadata": {},
     "output_type": "execute_result"
    }
   ],
   "source": [
    "# What I want to understand is:\n",
    "# How does the hourly rate (average) change across years active?\n",
    "dt.groupby('years_active').hourly_rate.mean()\n",
    "\n",
    "# Nothing much. It ramps up if years active > 17. Building that binary."
   ]
  },
  {
   "cell_type": "code",
   "execution_count": 58,
   "metadata": {},
   "outputs": [],
   "source": [
    "dt['active_17up'] = (dt['years_active'] >= 17) * 1"
   ]
  },
  {
   "cell_type": "code",
   "execution_count": 13,
   "metadata": {},
   "outputs": [
    {
     "data": {
      "image/png": "[encoded data removed]",
      "text/plain": [
       "<Figure size 432x288 with 1 Axes>"
      ]
     },
     "metadata": {
      "needs_background": "light"
     },
     "output_type": "display_data"
    }
   ],
   "source": [
    "# Okay let's try looking at months active. Maybe on a finer scale there is some difference?\n",
    "x = dt.groupby('months_active').hourly_rate.mean().index\n",
    "y = dt.groupby('months_active').hourly_rate.mean()\n",
    "ax = sns.scatterplot(x=x, y=y,\n",
    "                     color='black')\n",
    "ax.set(xlabel='months_active', ylabel='Average hourly_rate')\n",
    "plt.show()\n",
    "\n",
    "# No real pattern emerges. Unfortunately not useful."
   ]
  },
  {
   "cell_type": "markdown",
   "metadata": {},
   "source": [
    "### Exploring hourly rate and how it relates to the skills\n",
    "\n",
    "1. Obtain the dataset that is long by skills and shrink it down to just the skills. I'll work with that for this.\n",
    "2. Create some quick features such as: # of skills and top skill. These are user level so I can attach them back to dt to have everything in one place.\n",
    "\n",
    "Note: the skills are standardized on guru which makes this more straightforward"
   ]
  },
  {
   "cell_type": "code",
   "execution_count": 59,
   "metadata": {
    "scrolled": true
   },
   "outputs": [],
   "source": [
    "sql_query = \"\"\"SELECT profile_url, skills_list from freelance_table;\"\"\"\n",
    "skills_table = pd.read_sql_query(sql_query, con)\n",
    "skills_table_dummies = pd.get_dummies(skills_table, columns=[\n",
    "                                      'skills_list'], prefix='').groupby(['profile_url']).sum()"
   ]
  },
  {
   "cell_type": "code",
   "execution_count": 60,
   "metadata": {
    "scrolled": true
   },
   "outputs": [],
   "source": [
    "# Number of skills\n",
    "num_skills = skills_table.groupby('profile_url').count()\n",
    "num_skills = num_skills.rename(columns={\"skills_list\": \"num_skills\"})\n",
    "num_skills = num_skills.reset_index()"
   ]
  },
  {
   "cell_type": "code",
   "execution_count": 61,
   "metadata": {},
   "outputs": [],
   "source": [
    "# Merging num skills into dt\n",
    "dt = pd.merge(dt, num_skills, on=\"profile_url\")"
   ]
  },
  {
   "cell_type": "code",
   "execution_count": 82,
   "metadata": {},
   "outputs": [
    {
     "data": {
      "text/plain": [
       "num_skills\n",
       "1    25.620690\n",
       "2    42.600000\n",
       "3    27.750000\n",
       "4    24.381818\n",
       "5    32.415854\n",
       "Name: hourly_rate, dtype: float64"
      ]
     },
     "execution_count": 82,
     "metadata": {},
     "output_type": "execute_result"
    }
   ],
   "source": [
    "dt.groupby('num_skills').hourly_rate.mean()"
   ]
  },
  {
   "cell_type": "code",
   "execution_count": 62,
   "metadata": {},
   "outputs": [],
   "source": [
    "# Seems that for those with less than five skills listed\n",
    "# they tend to have a lower hourly rate.\n",
    "dt['less_five_skills'] = (dt['num_skills'] < 5) * 1"
   ]
  },
  {
   "cell_type": "code",
   "execution_count": 63,
   "metadata": {},
   "outputs": [],
   "source": [
    "# Moving on to something else. Let's look at the top skills (first skill listed)\n",
    "first_skill = skills_table[skills_table.groupby(\n",
    "    'profile_url')['skills_list'].cumcount() == 0]\n",
    "\n",
    "first_skill = first_skill.rename(\n",
    "    columns={\"profile_url\": \"profile_url\", \"skills_list\": \"first_skill\"})\n",
    "\n",
    "dt = pd.merge(dt, first_skill, on=\"profile_url\")"
   ]
  },
  {
   "cell_type": "code",
   "execution_count": 21,
   "metadata": {},
   "outputs": [
    {
     "name": "stdout",
     "output_type": "stream",
     "text": [
      "Number of unique skills:  350\n"
     ]
    },
    {
     "data": {
      "text/plain": [
       "count    350.000000\n",
       "mean       2.797143\n",
       "std        4.245543\n",
       "min        1.000000\n",
       "25%        1.000000\n",
       "50%        1.000000\n",
       "75%        2.000000\n",
       "max       32.000000\n",
       "Name: first_skill, dtype: float64"
      ]
     },
     "execution_count": 21,
     "metadata": {},
     "output_type": "execute_result"
    }
   ],
   "source": [
    "# Exploring First Skills\n",
    "print(\"Number of unique skills: \", dt.first_skill.nunique())\n",
    "dt.groupby('first_skill').first_skill.count().describe()\n",
    "\n",
    "# There is some repition but not much. Maybe I can get something off the extreme cases."
   ]
  },
  {
   "cell_type": "code",
   "execution_count": 64,
   "metadata": {},
   "outputs": [],
   "source": [
    "# Exploring extreme first skill frequencies\n",
    "skill_freq = {}\n",
    "skill_freq['skill_frequency'] = dt.groupby(\n",
    "    'first_skill').first_skill.count().sort_values(ascending=False)\n",
    "skill_freq['skills_list'] = dt.groupby(\n",
    "    'first_skill').first_skill.count().sort_values(ascending=False).index\n",
    "skill_freq = pd.DataFrame(skill_freq)\n",
    "skill_freq = skill_freq.reset_index()\n",
    "skill_freq = skill_freq.drop(['first_skill'], axis=1)\n",
    "\n",
    "dt = pd.merge(dt, skill_freq, on=\"skills_list\")"
   ]
  },
  {
   "cell_type": "code",
   "execution_count": null,
   "metadata": {},
   "outputs": [],
   "source": [
    "sns.scatterplot(x='skill_frequency', y='hourly_rate', data=dt)\n",
    "\n",
    "# Nope, not much of anything here."
   ]
  },
  {
   "cell_type": "code",
   "execution_count": null,
   "metadata": {},
   "outputs": [],
   "source": [
    "# Just have to try to keep thinking of ways I could use this information.\n",
    "# Ideally, I would be able to go group them by category and calculate hourly rate on that\n",
    "# There may also be an interaction effect occuring between the category and something like\n",
    "# years of experience."
   ]
  },
  {
   "cell_type": "markdown",
   "metadata": {},
   "source": [
    "### Starting the process of using the \"bio\" data\n",
    "\n",
    "1. The easiest variable to create is the len(bio)\n",
    "2. I'll have to try and expand it more using some other techniques"
   ]
  },
  {
   "cell_type": "code",
   "execution_count": 65,
   "metadata": {},
   "outputs": [],
   "source": [
    "def clean_bio(bio):\n",
    "    try:\n",
    "        cleaned_bio = ''.join(s for s in bio if ord(s) > 31 and ord(s) < 126)\n",
    "    except:\n",
    "        cleaned_bio = \"NaN\"\n",
    "    return cleaned_bio"
   ]
  },
  {
   "cell_type": "code",
   "execution_count": 66,
   "metadata": {},
   "outputs": [],
   "source": [
    "def len_bio(bio):\n",
    "    if bio == \"NaN\":\n",
    "        return 0\n",
    "    else:\n",
    "        return len(bio)"
   ]
  },
  {
   "cell_type": "code",
   "execution_count": 67,
   "metadata": {},
   "outputs": [],
   "source": [
    "# Average word length in bio\n",
    "def avg_word_ln(bio):\n",
    "    try:\n",
    "        words = bio.split()\n",
    "        res = (sum(len(word) for word in words)/len(words))\n",
    "    except:\n",
    "        res = 0\n",
    "    return res"
   ]
  },
  {
   "cell_type": "code",
   "execution_count": 68,
   "metadata": {},
   "outputs": [],
   "source": [
    "# Number of stop words\n",
    "def num_stopwords(bio):\n",
    "    stop = stopwords.words('english')\n",
    "\n",
    "    try:\n",
    "        res = len([x for x in bio.split() if x in stop])\n",
    "    except:\n",
    "        res = -1\n",
    "\n",
    "    return res"
   ]
  },
  {
   "cell_type": "code",
   "execution_count": 69,
   "metadata": {},
   "outputs": [],
   "source": [
    "dt['bio_clean'] = dt.bio.apply(clean_bio)"
   ]
  },
  {
   "cell_type": "code",
   "execution_count": 70,
   "metadata": {},
   "outputs": [],
   "source": [
    "dt['bio_length'] = dt.bio_clean.apply(len_bio)"
   ]
  },
  {
   "cell_type": "code",
   "execution_count": 76,
   "metadata": {},
   "outputs": [],
   "source": [
    "# Number of separate words in bio\n",
    "dt['bio_word_count'] = dt['bio_clean'].apply(\n",
    "    lambda x: len(str(x).split(\" \")))"
   ]
  },
  {
   "cell_type": "code",
   "execution_count": 77,
   "metadata": {},
   "outputs": [],
   "source": [
    "dt['avg_word_length'] = dt['bio_clean'].apply(avg_word_ln)"
   ]
  },
  {
   "cell_type": "code",
   "execution_count": 78,
   "metadata": {},
   "outputs": [],
   "source": [
    "dt['num_stop'] = dt['bio_clean'].apply(num_stopwords)"
   ]
  },
  {
   "cell_type": "code",
   "execution_count": 79,
   "metadata": {},
   "outputs": [],
   "source": [
    "# Preprocessing before pulling more features\n",
    "\n",
    "# Remvoing stop words\n",
    "stop = stopwords.words('english')\n",
    "dt['bio_processed'] = dt['bio_clean'].apply(\n",
    "    lambda x: \" \".join(x for x in x.split() if x not in stop))\n",
    "\n",
    "# Removing punctuation\n",
    "dt['bio_processed'] = dt['bio_processed'].str.replace(\n",
    "    '[^\\w\\s]', '')\n",
    "\n",
    "# Lower Case\n",
    "dt['bio_processed'] = dt['bio_processed'].apply(\n",
    "    lambda x: \" \".join(x.lower() for x in x.split()))"
   ]
  },
  {
   "cell_type": "code",
   "execution_count": null,
   "metadata": {
    "scrolled": true
   },
   "outputs": [],
   "source": [
    "# Exploring how these bio features related to hourly rate\n",
    "\n",
    "# Starting with the length of a users bio\n",
    "sns.scatterplot(x='bio_length', y='hourly_rate', data=dt)\n",
    "\n",
    "# Nothing."
   ]
  },
  {
   "cell_type": "code",
   "execution_count": null,
   "metadata": {},
   "outputs": [],
   "source": [
    "# How about how the word count related to hourly rate?\n",
    "sns.scatterplot(x='bio_word_count', y='hourly_rate', data=dt)\n",
    "\n",
    "# Nope, again nothing of interest here."
   ]
  },
  {
   "cell_type": "code",
   "execution_count": null,
   "metadata": {},
   "outputs": [],
   "source": [
    "# Okay, what about how word length\n",
    "sns.scatterplot(x='hourly_rate', y='avg_word_length', data=dt)\n",
    "\n",
    "# Hmm, no. But there are some very unusual outliers."
   ]
  },
  {
   "cell_type": "code",
   "execution_count": null,
   "metadata": {
    "scrolled": true
   },
   "outputs": [],
   "source": [
    "# Lastly, the number of stop words\n",
    "sns.scatterplot(x='num_stop', y='hourly_rate', data=dt)"
   ]
  },
  {
   "cell_type": "code",
   "execution_count": null,
   "metadata": {},
   "outputs": [],
   "source": [
    "# Whole lot of nothing came out of the bio features."
   ]
  },
  {
   "cell_type": "markdown",
   "metadata": {},
   "source": [
    "### Comparing number of employers and hourly rate\n",
    "\n",
    "Nevermind. There is no variance."
   ]
  },
  {
   "cell_type": "markdown",
   "metadata": {},
   "source": [
    "### Some final cleaning"
   ]
  },
  {
   "cell_type": "code",
   "execution_count": 80,
   "metadata": {},
   "outputs": [],
   "source": [
    "# Earnings per Month\n",
    "dt['earnings_ever'] = dt['earnings_ever'].str.replace('$', '')\n",
    "dt['earnings_ever'] = dt['earnings_ever'].str.replace(',', '')\n",
    "dt['earnings_ever'] = pd.to_numeric(dt['earnings_ever'])\n",
    "dt['earnings_pr_month'] = dt['earnings_ever'] / \\\n",
    "    dt['months_active']"
   ]
  },
  {
   "cell_type": "markdown",
   "metadata": {},
   "source": [
    "# Exploratory Data Analysis of Skills and Labels\n",
    "\n",
    "### Goal: Merge scraped skills list and categories into data based on user reported skills"
   ]
  },
  {
   "cell_type": "markdown",
   "metadata": {},
   "source": [
    "### Importing Data"
   ]
  },
  {
   "cell_type": "code",
   "execution_count": null,
   "metadata": {},
   "outputs": [],
   "source": [
    "sql_query = \"\"\"SELECT * from skills_categories_table;\"\"\"\n",
    "sk_table = pd.read_sql_query(sql_query, con)\n",
    "sk_table = sk_table.drop(['index'],axis = 1)"
   ]
  },
  {
   "cell_type": "code",
   "execution_count": null,
   "metadata": {},
   "outputs": [],
   "source": [
    "# Extracting Numbers\n",
    "sk_table['Skill_Frequency'] = pd.to_numeric(sk_table.Skills.str.extract(\n",
    "    r'\\((\\d*?)\\)').iloc[:, 0])"
   ]
  },
  {
   "cell_type": "code",
   "execution_count": null,
   "metadata": {},
   "outputs": [],
   "source": [
    "# Cleaning Columns of frequency labels\n",
    "sk_table['Skills_Clean'] = sk_table.Skills.str.replace(\n",
    "    r'\\((\\d*?)\\)','').str.strip().str.lower()\n",
    "sk_table['Category'] = sk_table.Category.str.replace(\n",
    "    r'\\((.*?)\\)','').str.strip().str.lower()\n",
    "sk_table['Subcategory'] = sk_table.Subcategory.str.replace(\n",
    "    r'\\((\\d*?)\\)','').str.strip().str.lower()"
   ]
  },
  {
   "cell_type": "code",
   "execution_count": null,
   "metadata": {},
   "outputs": [],
   "source": [
    "# Pulling in the user skills table\n",
    "sql_query = \"\"\"SELECT profile_url, skills_list from freelance_table;\"\"\"\n",
    "skills_table = pd.read_sql_query(sql_query, con)"
   ]
  },
  {
   "cell_type": "code",
   "execution_count": null,
   "metadata": {},
   "outputs": [],
   "source": [
    "skills_table['skills_list'] = skills_table['skills_list'].str.lower().str.strip()"
   ]
  },
  {
   "cell_type": "code",
   "execution_count": null,
   "metadata": {},
   "outputs": [],
   "source": [
    "tmp = pd.merge(skills_table,sk_table,\n",
    "               left_on='skills_list',right_on='Skills_Clean', how=\"left\",\n",
    "               indicator=True)"
   ]
  },
  {
   "cell_type": "code",
   "execution_count": null,
   "metadata": {},
   "outputs": [],
   "source": [
    "# Now I want to try and see how many people match\n",
    "# If they matched on at least one thing I can then expand that onto the rest of their data\n",
    "tmp['matched'] = (tmp['_merge'] == \"both\") * 1\n",
    "number_of_matches_by_user = tmp.groupby(['profile_url']).matched.sum()"
   ]
  },
  {
   "cell_type": "code",
   "execution_count": null,
   "metadata": {},
   "outputs": [],
   "source": [
    "(number_of_matches_by_user == 0).sum()\n",
    "\n",
    "# This is great, a good chunk of people matched.\n",
    "# Now I can guess what field they were in (for the ones who matched)\n",
    "# and then label the people similar to them"
   ]
  },
  {
   "cell_type": "code",
   "execution_count": null,
   "metadata": {},
   "outputs": [],
   "source": [
    "tmp['num_matched'] = tmp.groupby(['profile_url']).matched.transform('sum')"
   ]
  },
  {
   "cell_type": "code",
   "execution_count": null,
   "metadata": {},
   "outputs": [],
   "source": [
    "# So for people who matched, I want to determine which category most common for them\n",
    "test = tmp[tmp['num_matched'] > 0][['profile_url','Category']]"
   ]
  },
  {
   "cell_type": "code",
   "execution_count": null,
   "metadata": {},
   "outputs": [],
   "source": [
    "# Reshaping wide\n",
    "# test['counter'] = test.groupby(['profile_url']).cumcount()+1\n",
    "test['counter'] = 1\n",
    "skill_category_matrix = test.pivot_table(index = 'profile_url', columns = 'Category', \n",
    "                     values = 'counter', aggfunc = 'sum', \n",
    "                     fill_value = 0)\n",
    "skill_category_matrix.head()"
   ]
  },
  {
   "cell_type": "markdown",
   "metadata": {},
   "source": [
    "# Quick Update: Working with Skill Categories\n",
    "\n",
    "1. I now have a user-level matrix with the skill categories along the top\n",
    "2. I also have a user-level matrix with skill categories along the top but with missing data.\n",
    "3. I want to impute that matrix. How?\n",
    "4. The simplest way would be to create the **very** wide skill matrix and do lookups for similarity.\n",
    "    - For example, take skills vector (long, 0/1s) of user A who I want to impute his categories. Find the most similar vector among the users with data. Impute from there."
   ]
  },
  {
   "cell_type": "code",
   "execution_count": null,
   "metadata": {},
   "outputs": [],
   "source": [
    "# First resetting index on skill_category_matrix\n",
    "skill_category_matrix = skill_category_matrix.reset_index()\n",
    "skill_category_matrix['has_categories'] = 1"
   ]
  },
  {
   "cell_type": "code",
   "execution_count": null,
   "metadata": {},
   "outputs": [],
   "source": [
    "# And creating skills dummy matrix\n",
    "sql_query = \"\"\"SELECT profile_url, skills_list from freelance_table;\"\"\"\n",
    "skills_table = pd.read_sql_query(sql_query, con)\n",
    "skills_table_dummies = pd.get_dummies(skills_table, columns=[\n",
    "                                      'skills_list'], prefix='').groupby(['profile_url']).sum()\n",
    "skills_table_dummies = skills_table_dummies.reset_index()"
   ]
  },
  {
   "cell_type": "code",
   "execution_count": null,
   "metadata": {},
   "outputs": [],
   "source": [
    "# And merging\n",
    "skills_table_dummies = pd.merge(skills_table_dummies, \n",
    "                                skill_category_matrix.loc[:,['profile_url','has_categories']], \n",
    "                                left_on = 'profile_url',\n",
    "                                right_on = 'profile_url',\n",
    "                                how = 'left')"
   ]
  },
  {
   "cell_type": "code",
   "execution_count": null,
   "metadata": {},
   "outputs": [],
   "source": [
    "# Filling in the NA has_categories so it's a useful indicator\n",
    "skills_table_dummies['has_categories'] = skills_table_dummies['has_categories'].fillna(0)"
   ]
  },
  {
   "cell_type": "code",
   "execution_count": null,
   "metadata": {},
   "outputs": [],
   "source": [
    "has_cat = skills_table_dummies[skills_table_dummies['has_categories'] == 1]\n",
    "no_cat = skills_table_dummies[skills_table_dummies['has_categories'] == 0]"
   ]
  },
  {
   "cell_type": "code",
   "execution_count": null,
   "metadata": {},
   "outputs": [],
   "source": [
    "def raw_distance():\n",
    "    sqrdist = np.sum(np.sqrt(np.square(user_no_cat-user_has_cat)))\n",
    "    return sqrdist"
   ]
  },
  {
   "cell_type": "code",
   "execution_count": null,
   "metadata": {},
   "outputs": [],
   "source": [
    "# Creating one long list of all distances\n",
    "dist = []\n",
    "for k in range(0,no_cat.shape[0]):\n",
    "    if k%50 == 0 :\n",
    "        print(k) \n",
    "    for j in range(0,has_cat.shape[0]):\n",
    "        user_no_cat = np.array(list(no_cat.iloc[k,1:]))\n",
    "        user_has_cat = np.array(list(has_cat.iloc[j,1:]))\n",
    "        dist.append(raw_distance())\n",
    "\n",
    "    "
   ]
  },
  {
   "cell_type": "code",
   "execution_count": null,
   "metadata": {},
   "outputs": [],
   "source": [
    "# Putting that list into a numpy matrix of the appropriate shape\n",
    "res = np.array(dist).reshape(no_cat.shape[0],has_cat.shape[0])"
   ]
  },
  {
   "cell_type": "code",
   "execution_count": null,
   "metadata": {},
   "outputs": [],
   "source": [
    "# Finding where the FIRST minimum is for each user\n",
    "# Come back later and clean this up to return multiple minimums\n",
    "# Making my life easy for now . . .\n",
    "min_indices = np.argmin(res, axis = 1) "
   ]
  },
  {
   "cell_type": "code",
   "execution_count": null,
   "metadata": {},
   "outputs": [],
   "source": [
    "min_indices[1]"
   ]
  },
  {
   "cell_type": "code",
   "execution_count": null,
   "metadata": {},
   "outputs": [],
   "source": [
    "# Now I want to take the minimum index and use it on the has_cat table\n",
    "# to look up the person with whom they have similar relationship.\n",
    "# I can then extract this users row and slap it into a new table (impute_cat)\n",
    "cols = list(skill_category_matrix.columns)[0:10]\n",
    "impute_cat = pd.DataFrame(columns=cols)\n",
    "\n",
    "impute_cat['profile_url'] = no_cat['profile_url']\n",
    "\n",
    "for j in range(0,no_cat.shape[0]):\n",
    "    impute_cat.iloc[j,1:] = skill_category_matrix.iloc[min_indices[j],1:10]"
   ]
  },
  {
   "cell_type": "code",
   "execution_count": null,
   "metadata": {},
   "outputs": [],
   "source": [
    "# Append to skill_category_matrix\n",
    "full_cat = skill_category_matrix.append(impute_cat)\n",
    "full_cat = full_cat.drop(['has_categories'], axis = 1)\n",
    "full_cat = full_cat.fillna(0)\n",
    "# Done!"
   ]
  },
  {
   "cell_type": "code",
   "execution_count": null,
   "metadata": {},
   "outputs": [],
   "source": [
    "# Saving this out so I don't have to run the calculation again . . .\n",
    "engine = create_engine('postgresql://%s:%s@localhost/%s' %\n",
    "                       (username, pswd, dbname))\n",
    "full_cat.to_sql(\"full_cat_dt\", engine, if_exists='replace')"
   ]
  },
  {
   "cell_type": "markdown",
   "metadata": {},
   "source": [
    "### Skill Categories Update #2\n",
    "\n",
    "1. I imputed the skill categories using the L2 norm to find similar users\n",
    "2. Now I have a user level matrix with the skill category and the number of skills they have in it.\n",
    "3. However, the number is a little misleading because sometimes they just didn't match on their other listed skills.\n",
    "4. Therefore, I now have the question of:\n",
    "    - Do I create dummies for whether or not they have a certain category, at all?\n",
    "    - Or do I pick the one they have the largest value in?\n",
    "    - I think I may just do dummies for now. This means I just need to make any value > 0 = 1\n",
    "5. Anyways, the next step is to explore the mean hourly_rate by skill categories."
   ]
  },
  {
   "cell_type": "code",
   "execution_count": 81,
   "metadata": {},
   "outputs": [],
   "source": [
    "# Merging it into the data\n",
    "sql_query = \"\"\"SELECT * FROM full_cat_dt\"\"\"\n",
    "full_cat = pd.read_sql_query(sql_query, con)\n",
    "dt = pd.merge(dt, full_cat, on=\"profile_url\")"
   ]
  },
  {
   "cell_type": "code",
   "execution_count": 82,
   "metadata": {},
   "outputs": [],
   "source": [
    "# Making Binary Dummies\n",
    "cols = list(dt.columns[-9:])\n",
    "for j in range(0,len(cols)):\n",
    "    dt.loc[dt[cols[j]] > 0, cols[j]] = 1"
   ]
  },
  {
   "cell_type": "markdown",
   "metadata": {},
   "source": [
    "### Exploring the relationship between skill categories and hourly rate"
   ]
  },
  {
   "cell_type": "code",
   "execution_count": 83,
   "metadata": {},
   "outputs": [
    {
     "name": "stdout",
     "output_type": "stream",
     "text": [
      "administrative & secretarial\n",
      "0    32.663254\n",
      "1    25.550000\n",
      "Name: hourly_rate, dtype: float64\n",
      "business & finance\n",
      "0    31.718750\n",
      "1    33.573913\n",
      "Name: hourly_rate, dtype: float64\n",
      "design & art\n",
      "0    32.612434\n",
      "1    29.645740\n",
      "Name: hourly_rate, dtype: float64\n",
      "education & training\n",
      "0    32.037113\n",
      "1    21.111111\n",
      "Name: hourly_rate, dtype: float64\n",
      "engineering & architecture\n",
      "0    31.127494\n",
      "1    41.415584\n",
      "Name: hourly_rate, dtype: float64\n",
      "legal\n",
      "0    31.661123\n",
      "1    47.529412\n",
      "Name: hourly_rate, dtype: float64\n",
      "programming & development\n",
      "0    30.131579\n",
      "1    39.895028\n",
      "Name: hourly_rate, dtype: float64\n",
      "sales & marketing\n",
      "0    31.077220\n",
      "1    35.242574\n",
      "Name: hourly_rate, dtype: float64\n",
      "writing & translation\n",
      "0    35.605873\n",
      "1    24.786145\n",
      "Name: hourly_rate, dtype: float64\n"
     ]
    }
   ],
   "source": [
    "for j in range(0,len(cols)):\n",
    "    print(dt.groupby(cols[j]).hourly_rate.mean())\n",
    "    \n",
    "# For Engineering, Legal, programming, there is a marked difference."
   ]
  },
  {
   "cell_type": "markdown",
   "metadata": {},
   "source": [
    "### Exploring Outliers\n",
    "\n",
    "Can also try using Z score to identify outliers. \n",
    "    - https://towardsdatascience.com/ways-to-detect-and-remove-the-outliers-404d16608dba\n",
    "    \n",
    "Currently just manually removing uni-variate outliers"
   ]
  },
  {
   "cell_type": "code",
   "execution_count": 100,
   "metadata": {},
   "outputs": [
    {
     "data": {
      "text/plain": [
       "<matplotlib.axes._subplots.AxesSubplot at 0x1a2725d0d0>"
      ]
     },
     "execution_count": 100,
     "metadata": {},
     "output_type": "execute_result"
    },
    {
     "data": {
      "image/png": "[encoded data removed]",
      "text/plain": [
       "<Figure size 432x288 with 1 Axes>"
      ]
     },
     "metadata": {
      "needs_background": "light"
     },
     "output_type": "display_data"
    }
   ],
   "source": [
    "sns.boxplot(dt.hourly_rate)"
   ]
  },
  {
   "cell_type": "code",
   "execution_count": 85,
   "metadata": {},
   "outputs": [],
   "source": [
    "outliers = dt[dt.hourly_rate > 100]"
   ]
  },
  {
   "cell_type": "code",
   "execution_count": 86,
   "metadata": {},
   "outputs": [
    {
     "data": {
      "text/plain": [
       "Int64Index([553, 967, 968], dtype='int64')"
      ]
     },
     "execution_count": 86,
     "metadata": {},
     "output_type": "execute_result"
    }
   ],
   "source": [
    "# Manually inspecting these outliers to determine if they are real data or not\n",
    "# Remove \"sumdude-llc\" [2], \"michael-lyon-1\" [-2], \"brian-pegram\" [-1]\n",
    "# The rest of the outliers are real data points . . . so I'm hesitant to remove them\n",
    "outliers = outliers.iloc[[2,-2,-1],:].index\n",
    "outliers"
   ]
  },
  {
   "cell_type": "code",
   "execution_count": 87,
   "metadata": {},
   "outputs": [],
   "source": [
    "dt = dt.drop(outliers,axis = 0)"
   ]
  },
  {
   "cell_type": "markdown",
   "metadata": {},
   "source": [
    "# Exploratory Data Analysis - Job Completion Metrics\n",
    "\n",
    "The purpose of this is to identify users who are successful on the platform. At the highest level I can separate out users who have never completed any jobs and those who have. However, it would be great to dig a little bit deeper. Among those who have completed jobs, who has completed the most jobs? Are the undervaluing themselves or are they correctly valued? This EDA hopes to answer those questions and create a filtered dataset.\n",
    "\n",
    "Variables:\n",
    "    - earnings_pst_year: earnings in past year\n",
    "    - earnings_ever: earnings ever earned. Difference will tell me how successful they were prior to this year.\n",
    "    - invoices_paid: # of times they've been paid (ever, not just past year)\n",
    "   \n",
    "Create:\n",
    "    - hours_pst_year: earnings / hourly rate; assumes the hourly rate has been constant over the past year\n",
    "    - worked_pst_year: binary indicator of whether or not they even worked in the past year\n",
    "        - this is the most basic filtering level\n",
    "        \n",
    "Other:\n",
    "    - Concern of people who've been active for a very short period? If they have earnings then they're good."
   ]
  },
  {
   "cell_type": "markdown",
   "metadata": {},
   "source": [
    "## Creating Variables"
   ]
  },
  {
   "cell_type": "code",
   "execution_count": 133,
   "metadata": {},
   "outputs": [
    {
     "name": "stdout",
     "output_type": "stream",
     "text": [
      "<class 'pandas.core.frame.DataFrame'>\n",
      "Int64Index: 976 entries, 0 to 978\n",
      "Data columns (total 49 columns):\n",
      " #   Column                        Non-Null Count  Dtype         \n",
      "---  ------                        --------------  -----         \n",
      " 0   profile_url                   976 non-null    object        \n",
      " 1   city                          976 non-null    object        \n",
      " 2   state                         976 non-null    object        \n",
      " 3   country                       976 non-null    object        \n",
      " 4   rating                        910 non-null    float64       \n",
      " 5   earnings                      976 non-null    object        \n",
      " 6   hourly_rate                   976 non-null    int64         \n",
      " 7   skills_list                   976 non-null    object        \n",
      " 8   user_description              976 non-null    object        \n",
      " 9   index_y                       976 non-null    int64         \n",
      " 10  member_since                  976 non-null    object        \n",
      " 11  earnings_pst_yr               947 non-null    float64       \n",
      " 12  earnings_ever                 947 non-null    float64       \n",
      " 13  employers                     947 non-null    object        \n",
      " 14  invoices_paid                 947 non-null    object        \n",
      " 15  largest_employ                947 non-null    object        \n",
      " 16  bio                           947 non-null    object        \n",
      " 17  State                         972 non-null    object        \n",
      " 18  State Code                    972 non-null    object        \n",
      " 19  Region                        976 non-null    object        \n",
      " 20  Division                      972 non-null    object        \n",
      " 21  has_rating                    976 non-null    object        \n",
      " 22  start_date                    947 non-null    datetime64[ns]\n",
      " 23  years_active                  947 non-null    float64       \n",
      " 24  months_active                 947 non-null    float64       \n",
      " 25  active_17up                   976 non-null    int64         \n",
      " 26  num_skills                    976 non-null    int64         \n",
      " 27  less_five_skills              976 non-null    int64         \n",
      " 28  first_skill                   976 non-null    object        \n",
      " 29  skill_frequency               976 non-null    int64         \n",
      " 30  bio_clean                     976 non-null    object        \n",
      " 31  bio_length                    976 non-null    int64         \n",
      " 32  bio_word_count                976 non-null    int64         \n",
      " 33  avg_word_length               976 non-null    float64       \n",
      " 34  num_stop                      976 non-null    int64         \n",
      " 35  bio_processed                 976 non-null    object        \n",
      " 36  earnings_pr_month             947 non-null    float64       \n",
      " 37  index                         976 non-null    int64         \n",
      " 38  administrative & secretarial  976 non-null    int64         \n",
      " 39  business & finance            976 non-null    int64         \n",
      " 40  design & art                  976 non-null    int64         \n",
      " 41  education & training          976 non-null    int64         \n",
      " 42  engineering & architecture    976 non-null    int64         \n",
      " 43  legal                         976 non-null    int64         \n",
      " 44  programming & development     976 non-null    int64         \n",
      " 45  sales & marketing             976 non-null    int64         \n",
      " 46  writing & translation         976 non-null    int64         \n",
      " 47  worked_pst_yr                 976 non-null    int64         \n",
      " 48  earnings_per_month            947 non-null    float64       \n",
      "dtypes: datetime64[ns](1), float64(8), int64(20), object(20)\n",
      "memory usage: 381.2+ KB\n"
     ]
    }
   ],
   "source": [
    "dt.info()"
   ]
  },
  {
   "cell_type": "code",
   "execution_count": null,
   "metadata": {},
   "outputs": [],
   "source": [
    "# Converting earnings in past year to numeric\n",
    "earnings_pst_yr_num = dt.loc[:,'earnings_pst_yr']\n",
    "earnings_pst_yr_num = earnings_pst_yr_num.str.replace(',','')\n",
    "earnings_pst_yr_num = earnings_pst_yr_num.str.replace('$','')\n",
    "earnings_pst_yr_num = earnings_pst_yr_num.str.strip()\n",
    "earnings_pst_yr_num = pd.to_numeric(earnings_pst_yr_num)\n",
    "\n",
    "dt.loc[:,'earnings_pst_yr'] = earnings_pst_yr_num"
   ]
  },
  {
   "cell_type": "code",
   "execution_count": 132,
   "metadata": {},
   "outputs": [],
   "source": [
    "# Creating Earnings per Month (Earnings Ever / Months Active)\n",
    "dt['earnings_per_month'] = dt['earnings_ever'] / dt['months_active']"
   ]
  },
  {
   "cell_type": "code",
   "execution_count": 172,
   "metadata": {},
   "outputs": [],
   "source": [
    "# Creating Hours Worked Past year\n",
    "dt['hours_worked'] = dt['earnings_pst_yr'] / dt['hourly_rate']"
   ]
  },
  {
   "cell_type": "code",
   "execution_count": null,
   "metadata": {},
   "outputs": [],
   "source": [
    "# Creating worked_pst_year\n",
    "dt['worked_pst_yr'] = 0\n",
    "dt.loc[dt['earnings_pst_yr'] > 0, 'worked_pst_yr'] = 1"
   ]
  },
  {
   "cell_type": "code",
   "execution_count": 208,
   "metadata": {},
   "outputs": [],
   "source": [
    "# Creating Hours Worked per Month\n",
    "dt['hours_worked_pr_mnth'] = ( dt['earnings_ever'] / dt['hourly_rate'] ) / dt['months_active']\n",
    "dt['hours_worked_pr_mnth_pst_yr'] = ( dt['earnings_pst_yr'] / 12 ) / dt['hourly_rate']"
   ]
  },
  {
   "cell_type": "code",
   "execution_count": 209,
   "metadata": {},
   "outputs": [
    {
     "data": {
      "text/html": [
       "<div>\n",
       "<style scoped>\n",
       "    .dataframe tbody tr th:only-of-type {\n",
       "        vertical-align: middle;\n",
       "    }\n",
       "\n",
       "    .dataframe tbody tr th {\n",
       "        vertical-align: top;\n",
       "    }\n",
       "\n",
       "    .dataframe thead th {\n",
       "        text-align: right;\n",
       "    }\n",
       "</style>\n",
       "<table border=\"1\" class=\"dataframe\">\n",
       "  <thead>\n",
       "    <tr style=\"text-align: right;\">\n",
       "      <th></th>\n",
       "      <th>profile_url</th>\n",
       "      <th>hourly_rate</th>\n",
       "      <th>earnings_ever</th>\n",
       "      <th>earnings</th>\n",
       "      <th>earnings_pst_yr</th>\n",
       "      <th>earnings_per_month</th>\n",
       "      <th>months_active</th>\n",
       "    </tr>\n",
       "  </thead>\n",
       "  <tbody>\n",
       "    <tr>\n",
       "      <th>0</th>\n",
       "      <td>https://www.guru.com/freelancers/scopic</td>\n",
       "      <td>24</td>\n",
       "      <td>5633449.0</td>\n",
       "      <td>$1,338,285/year</td>\n",
       "      <td>1334283.0</td>\n",
       "      <td>27750.980296</td>\n",
       "      <td>203.0</td>\n",
       "    </tr>\n",
       "    <tr>\n",
       "      <th>1</th>\n",
       "      <td>https://www.guru.com/freelancers/crazy-program...</td>\n",
       "      <td>60</td>\n",
       "      <td>420661.0</td>\n",
       "      <td>$110,080/year</td>\n",
       "      <td>110080.0</td>\n",
       "      <td>12018.885714</td>\n",
       "      <td>35.0</td>\n",
       "    </tr>\n",
       "    <tr>\n",
       "      <th>2</th>\n",
       "      <td>https://www.guru.com/freelancers/andrii-tsyniuk</td>\n",
       "      <td>50</td>\n",
       "      <td>45320.0</td>\n",
       "      <td>$45,320/year</td>\n",
       "      <td>45320.0</td>\n",
       "      <td>6474.285714</td>\n",
       "      <td>7.0</td>\n",
       "    </tr>\n",
       "    <tr>\n",
       "      <th>3</th>\n",
       "      <td>https://www.guru.com/freelancers/tyler-william...</td>\n",
       "      <td>55</td>\n",
       "      <td>9278.0</td>\n",
       "      <td>$8,000/year</td>\n",
       "      <td>8000.0</td>\n",
       "      <td>579.875000</td>\n",
       "      <td>16.0</td>\n",
       "    </tr>\n",
       "    <tr>\n",
       "      <th>4</th>\n",
       "      <td>https://www.guru.com/freelancers/jonathan-ryan...</td>\n",
       "      <td>70</td>\n",
       "      <td>11700.0</td>\n",
       "      <td>$4,400/year</td>\n",
       "      <td>4400.0</td>\n",
       "      <td>162.500000</td>\n",
       "      <td>72.0</td>\n",
       "    </tr>\n",
       "  </tbody>\n",
       "</table>\n",
       "</div>"
      ],
      "text/plain": [
       "                                         profile_url  hourly_rate  \\\n",
       "0            https://www.guru.com/freelancers/scopic           24   \n",
       "1  https://www.guru.com/freelancers/crazy-program...           60   \n",
       "2    https://www.guru.com/freelancers/andrii-tsyniuk           50   \n",
       "3  https://www.guru.com/freelancers/tyler-william...           55   \n",
       "4  https://www.guru.com/freelancers/jonathan-ryan...           70   \n",
       "\n",
       "   earnings_ever         earnings  earnings_pst_yr  earnings_per_month  \\\n",
       "0      5633449.0  $1,338,285/year        1334283.0        27750.980296   \n",
       "1       420661.0    $110,080/year         110080.0        12018.885714   \n",
       "2        45320.0     $45,320/year          45320.0         6474.285714   \n",
       "3         9278.0      $8,000/year           8000.0          579.875000   \n",
       "4        11700.0      $4,400/year           4400.0          162.500000   \n",
       "\n",
       "   months_active  \n",
       "0          203.0  \n",
       "1           35.0  \n",
       "2            7.0  \n",
       "3           16.0  \n",
       "4           72.0  "
      ]
     },
     "execution_count": 209,
     "metadata": {},
     "output_type": "execute_result"
    }
   ],
   "source": [
    "dt.iloc[:,[0,6,12,5,11,48,24]].head()"
   ]
  },
  {
   "cell_type": "code",
   "execution_count": 211,
   "metadata": {},
   "outputs": [
    {
     "data": {
      "text/html": [
       "<div>\n",
       "<style scoped>\n",
       "    .dataframe tbody tr th:only-of-type {\n",
       "        vertical-align: middle;\n",
       "    }\n",
       "\n",
       "    .dataframe tbody tr th {\n",
       "        vertical-align: top;\n",
       "    }\n",
       "\n",
       "    .dataframe thead th {\n",
       "        text-align: right;\n",
       "    }\n",
       "</style>\n",
       "<table border=\"1\" class=\"dataframe\">\n",
       "  <thead>\n",
       "    <tr style=\"text-align: right;\">\n",
       "      <th></th>\n",
       "      <th>hourly_rate</th>\n",
       "      <th>earnings_ever</th>\n",
       "      <th>earnings</th>\n",
       "      <th>earnings_pst_yr</th>\n",
       "      <th>earnings_per_month</th>\n",
       "      <th>hours_worked</th>\n",
       "      <th>hours_worked_pr_mnth</th>\n",
       "      <th>hours_worked_pr_mnth_pst_yr</th>\n",
       "      <th>months_active</th>\n",
       "    </tr>\n",
       "  </thead>\n",
       "  <tbody>\n",
       "    <tr>\n",
       "      <th>978</th>\n",
       "      <td>30</td>\n",
       "      <td>200.0</td>\n",
       "      <td>NA</td>\n",
       "      <td>0.0</td>\n",
       "      <td>3.703704</td>\n",
       "      <td>0.000000</td>\n",
       "      <td>0.123457</td>\n",
       "      <td>0.000000</td>\n",
       "      <td>54.0</td>\n",
       "    </tr>\n",
       "    <tr>\n",
       "      <th>294</th>\n",
       "      <td>50</td>\n",
       "      <td>118.0</td>\n",
       "      <td>$11/year</td>\n",
       "      <td>11.0</td>\n",
       "      <td>2.000000</td>\n",
       "      <td>0.220000</td>\n",
       "      <td>0.040000</td>\n",
       "      <td>0.018333</td>\n",
       "      <td>59.0</td>\n",
       "    </tr>\n",
       "    <tr>\n",
       "      <th>486</th>\n",
       "      <td>70</td>\n",
       "      <td>63341.0</td>\n",
       "      <td>$15/year</td>\n",
       "      <td>16.0</td>\n",
       "      <td>532.277311</td>\n",
       "      <td>0.228571</td>\n",
       "      <td>7.603962</td>\n",
       "      <td>0.019048</td>\n",
       "      <td>119.0</td>\n",
       "    </tr>\n",
       "    <tr>\n",
       "      <th>965</th>\n",
       "      <td>15</td>\n",
       "      <td>4.0</td>\n",
       "      <td>$4/year</td>\n",
       "      <td>4.0</td>\n",
       "      <td>0.444444</td>\n",
       "      <td>0.266667</td>\n",
       "      <td>0.029630</td>\n",
       "      <td>0.022222</td>\n",
       "      <td>9.0</td>\n",
       "    </tr>\n",
       "    <tr>\n",
       "      <th>547</th>\n",
       "      <td>30</td>\n",
       "      <td>8.0</td>\n",
       "      <td>$8/year</td>\n",
       "      <td>8.0</td>\n",
       "      <td>2.666667</td>\n",
       "      <td>0.266667</td>\n",
       "      <td>0.088889</td>\n",
       "      <td>0.022222</td>\n",
       "      <td>3.0</td>\n",
       "    </tr>\n",
       "    <tr>\n",
       "      <th>20</th>\n",
       "      <td>30</td>\n",
       "      <td>14090.0</td>\n",
       "      <td>$8/year</td>\n",
       "      <td>8.0</td>\n",
       "      <td>320.227273</td>\n",
       "      <td>0.266667</td>\n",
       "      <td>10.674242</td>\n",
       "      <td>0.022222</td>\n",
       "      <td>44.0</td>\n",
       "    </tr>\n",
       "    <tr>\n",
       "      <th>559</th>\n",
       "      <td>35</td>\n",
       "      <td>2911.0</td>\n",
       "      <td>$10/year</td>\n",
       "      <td>10.0</td>\n",
       "      <td>74.641026</td>\n",
       "      <td>0.285714</td>\n",
       "      <td>2.132601</td>\n",
       "      <td>0.023810</td>\n",
       "      <td>39.0</td>\n",
       "    </tr>\n",
       "    <tr>\n",
       "      <th>803</th>\n",
       "      <td>25</td>\n",
       "      <td>8.0</td>\n",
       "      <td>$7/year</td>\n",
       "      <td>8.0</td>\n",
       "      <td>4.000000</td>\n",
       "      <td>0.320000</td>\n",
       "      <td>0.160000</td>\n",
       "      <td>0.026667</td>\n",
       "      <td>2.0</td>\n",
       "    </tr>\n",
       "    <tr>\n",
       "      <th>256</th>\n",
       "      <td>15</td>\n",
       "      <td>5.0</td>\n",
       "      <td>$5/year</td>\n",
       "      <td>5.0</td>\n",
       "      <td>0.416667</td>\n",
       "      <td>0.333333</td>\n",
       "      <td>0.027778</td>\n",
       "      <td>0.027778</td>\n",
       "      <td>12.0</td>\n",
       "    </tr>\n",
       "    <tr>\n",
       "      <th>161</th>\n",
       "      <td>25</td>\n",
       "      <td>10.0</td>\n",
       "      <td>$10/year</td>\n",
       "      <td>10.0</td>\n",
       "      <td>0.212766</td>\n",
       "      <td>0.400000</td>\n",
       "      <td>0.008511</td>\n",
       "      <td>0.033333</td>\n",
       "      <td>47.0</td>\n",
       "    </tr>\n",
       "    <tr>\n",
       "      <th>962</th>\n",
       "      <td>10</td>\n",
       "      <td>234.0</td>\n",
       "      <td>$4/year</td>\n",
       "      <td>4.0</td>\n",
       "      <td>4.978723</td>\n",
       "      <td>0.400000</td>\n",
       "      <td>0.497872</td>\n",
       "      <td>0.033333</td>\n",
       "      <td>47.0</td>\n",
       "    </tr>\n",
       "    <tr>\n",
       "      <th>964</th>\n",
       "      <td>25</td>\n",
       "      <td>10.0</td>\n",
       "      <td>$10/year</td>\n",
       "      <td>10.0</td>\n",
       "      <td>1.111111</td>\n",
       "      <td>0.400000</td>\n",
       "      <td>0.044444</td>\n",
       "      <td>0.033333</td>\n",
       "      <td>9.0</td>\n",
       "    </tr>\n",
       "    <tr>\n",
       "      <th>177</th>\n",
       "      <td>35</td>\n",
       "      <td>5235.0</td>\n",
       "      <td>$15/year</td>\n",
       "      <td>15.0</td>\n",
       "      <td>96.944444</td>\n",
       "      <td>0.428571</td>\n",
       "      <td>2.769841</td>\n",
       "      <td>0.035714</td>\n",
       "      <td>54.0</td>\n",
       "    </tr>\n",
       "    <tr>\n",
       "      <th>379</th>\n",
       "      <td>35</td>\n",
       "      <td>10758.0</td>\n",
       "      <td>$15/year</td>\n",
       "      <td>15.0</td>\n",
       "      <td>75.230769</td>\n",
       "      <td>0.428571</td>\n",
       "      <td>2.149451</td>\n",
       "      <td>0.035714</td>\n",
       "      <td>143.0</td>\n",
       "    </tr>\n",
       "    <tr>\n",
       "      <th>160</th>\n",
       "      <td>20</td>\n",
       "      <td>35.0</td>\n",
       "      <td>$10/year</td>\n",
       "      <td>10.0</td>\n",
       "      <td>1.666667</td>\n",
       "      <td>0.500000</td>\n",
       "      <td>0.083333</td>\n",
       "      <td>0.041667</td>\n",
       "      <td>21.0</td>\n",
       "    </tr>\n",
       "    <tr>\n",
       "      <th>730</th>\n",
       "      <td>25</td>\n",
       "      <td>14.0</td>\n",
       "      <td>$14/year</td>\n",
       "      <td>14.0</td>\n",
       "      <td>1.272727</td>\n",
       "      <td>0.560000</td>\n",
       "      <td>0.050909</td>\n",
       "      <td>0.046667</td>\n",
       "      <td>11.0</td>\n",
       "    </tr>\n",
       "    <tr>\n",
       "      <th>603</th>\n",
       "      <td>5</td>\n",
       "      <td>10313.0</td>\n",
       "      <td>$3/year</td>\n",
       "      <td>3.0</td>\n",
       "      <td>77.541353</td>\n",
       "      <td>0.600000</td>\n",
       "      <td>15.508271</td>\n",
       "      <td>0.050000</td>\n",
       "      <td>133.0</td>\n",
       "    </tr>\n",
       "    <tr>\n",
       "      <th>961</th>\n",
       "      <td>20</td>\n",
       "      <td>362.0</td>\n",
       "      <td>$12/year</td>\n",
       "      <td>12.0</td>\n",
       "      <td>4.641026</td>\n",
       "      <td>0.600000</td>\n",
       "      <td>0.232051</td>\n",
       "      <td>0.050000</td>\n",
       "      <td>78.0</td>\n",
       "    </tr>\n",
       "    <tr>\n",
       "      <th>448</th>\n",
       "      <td>8</td>\n",
       "      <td>7196.0</td>\n",
       "      <td>$5/year</td>\n",
       "      <td>5.0</td>\n",
       "      <td>58.983607</td>\n",
       "      <td>0.625000</td>\n",
       "      <td>7.372951</td>\n",
       "      <td>0.052083</td>\n",
       "      <td>122.0</td>\n",
       "    </tr>\n",
       "    <tr>\n",
       "      <th>721</th>\n",
       "      <td>8</td>\n",
       "      <td>6.0</td>\n",
       "      <td>$5/year</td>\n",
       "      <td>6.0</td>\n",
       "      <td>0.545455</td>\n",
       "      <td>0.750000</td>\n",
       "      <td>0.068182</td>\n",
       "      <td>0.062500</td>\n",
       "      <td>11.0</td>\n",
       "    </tr>\n",
       "    <tr>\n",
       "      <th>609</th>\n",
       "      <td>15</td>\n",
       "      <td>12.0</td>\n",
       "      <td>$12/year</td>\n",
       "      <td>12.0</td>\n",
       "      <td>1.714286</td>\n",
       "      <td>0.800000</td>\n",
       "      <td>0.114286</td>\n",
       "      <td>0.066667</td>\n",
       "      <td>7.0</td>\n",
       "    </tr>\n",
       "    <tr>\n",
       "      <th>963</th>\n",
       "      <td>10</td>\n",
       "      <td>10.0</td>\n",
       "      <td>$10/year</td>\n",
       "      <td>10.0</td>\n",
       "      <td>1.666667</td>\n",
       "      <td>1.000000</td>\n",
       "      <td>0.166667</td>\n",
       "      <td>0.083333</td>\n",
       "      <td>6.0</td>\n",
       "    </tr>\n",
       "    <tr>\n",
       "      <th>159</th>\n",
       "      <td>12</td>\n",
       "      <td>15.0</td>\n",
       "      <td>$15/year</td>\n",
       "      <td>15.0</td>\n",
       "      <td>2.142857</td>\n",
       "      <td>1.250000</td>\n",
       "      <td>0.178571</td>\n",
       "      <td>0.104167</td>\n",
       "      <td>7.0</td>\n",
       "    </tr>\n",
       "    <tr>\n",
       "      <th>909</th>\n",
       "      <td>5</td>\n",
       "      <td>13.0</td>\n",
       "      <td>$13/year</td>\n",
       "      <td>13.0</td>\n",
       "      <td>13.000000</td>\n",
       "      <td>2.600000</td>\n",
       "      <td>2.600000</td>\n",
       "      <td>0.216667</td>\n",
       "      <td>1.0</td>\n",
       "    </tr>\n",
       "    <tr>\n",
       "      <th>255</th>\n",
       "      <td>5</td>\n",
       "      <td>16.0</td>\n",
       "      <td>$16/year</td>\n",
       "      <td>16.0</td>\n",
       "      <td>4.000000</td>\n",
       "      <td>3.200000</td>\n",
       "      <td>0.800000</td>\n",
       "      <td>0.266667</td>\n",
       "      <td>4.0</td>\n",
       "    </tr>\n",
       "  </tbody>\n",
       "</table>\n",
       "</div>"
      ],
      "text/plain": [
       "     hourly_rate  earnings_ever  earnings  earnings_pst_yr  \\\n",
       "978           30          200.0        NA              0.0   \n",
       "294           50          118.0  $11/year             11.0   \n",
       "486           70        63341.0  $15/year             16.0   \n",
       "965           15            4.0   $4/year              4.0   \n",
       "547           30            8.0   $8/year              8.0   \n",
       "20            30        14090.0   $8/year              8.0   \n",
       "559           35         2911.0  $10/year             10.0   \n",
       "803           25            8.0   $7/year              8.0   \n",
       "256           15            5.0   $5/year              5.0   \n",
       "161           25           10.0  $10/year             10.0   \n",
       "962           10          234.0   $4/year              4.0   \n",
       "964           25           10.0  $10/year             10.0   \n",
       "177           35         5235.0  $15/year             15.0   \n",
       "379           35        10758.0  $15/year             15.0   \n",
       "160           20           35.0  $10/year             10.0   \n",
       "730           25           14.0  $14/year             14.0   \n",
       "603            5        10313.0   $3/year              3.0   \n",
       "961           20          362.0  $12/year             12.0   \n",
       "448            8         7196.0   $5/year              5.0   \n",
       "721            8            6.0   $5/year              6.0   \n",
       "609           15           12.0  $12/year             12.0   \n",
       "963           10           10.0  $10/year             10.0   \n",
       "159           12           15.0  $15/year             15.0   \n",
       "909            5           13.0  $13/year             13.0   \n",
       "255            5           16.0  $16/year             16.0   \n",
       "\n",
       "     earnings_per_month  hours_worked  hours_worked_pr_mnth  \\\n",
       "978            3.703704      0.000000              0.123457   \n",
       "294            2.000000      0.220000              0.040000   \n",
       "486          532.277311      0.228571              7.603962   \n",
       "965            0.444444      0.266667              0.029630   \n",
       "547            2.666667      0.266667              0.088889   \n",
       "20           320.227273      0.266667             10.674242   \n",
       "559           74.641026      0.285714              2.132601   \n",
       "803            4.000000      0.320000              0.160000   \n",
       "256            0.416667      0.333333              0.027778   \n",
       "161            0.212766      0.400000              0.008511   \n",
       "962            4.978723      0.400000              0.497872   \n",
       "964            1.111111      0.400000              0.044444   \n",
       "177           96.944444      0.428571              2.769841   \n",
       "379           75.230769      0.428571              2.149451   \n",
       "160            1.666667      0.500000              0.083333   \n",
       "730            1.272727      0.560000              0.050909   \n",
       "603           77.541353      0.600000             15.508271   \n",
       "961            4.641026      0.600000              0.232051   \n",
       "448           58.983607      0.625000              7.372951   \n",
       "721            0.545455      0.750000              0.068182   \n",
       "609            1.714286      0.800000              0.114286   \n",
       "963            1.666667      1.000000              0.166667   \n",
       "159            2.142857      1.250000              0.178571   \n",
       "909           13.000000      2.600000              2.600000   \n",
       "255            4.000000      3.200000              0.800000   \n",
       "\n",
       "     hours_worked_pr_mnth_pst_yr  months_active  \n",
       "978                     0.000000           54.0  \n",
       "294                     0.018333           59.0  \n",
       "486                     0.019048          119.0  \n",
       "965                     0.022222            9.0  \n",
       "547                     0.022222            3.0  \n",
       "20                      0.022222           44.0  \n",
       "559                     0.023810           39.0  \n",
       "803                     0.026667            2.0  \n",
       "256                     0.027778           12.0  \n",
       "161                     0.033333           47.0  \n",
       "962                     0.033333           47.0  \n",
       "964                     0.033333            9.0  \n",
       "177                     0.035714           54.0  \n",
       "379                     0.035714          143.0  \n",
       "160                     0.041667           21.0  \n",
       "730                     0.046667           11.0  \n",
       "603                     0.050000          133.0  \n",
       "961                     0.050000           78.0  \n",
       "448                     0.052083          122.0  \n",
       "721                     0.062500           11.0  \n",
       "609                     0.066667            7.0  \n",
       "963                     0.083333            6.0  \n",
       "159                     0.104167            7.0  \n",
       "909                     0.216667            1.0  \n",
       "255                     0.266667            4.0  "
      ]
     },
     "execution_count": 211,
     "metadata": {},
     "output_type": "execute_result"
    }
   ],
   "source": [
    "dt[dt['earnings_pst_yr'] < 20].sort_values(['hours_worked_pr_mnth_pst_yr']).iloc[:,[6,12,5,11,48,49,50,51,24]]"
   ]
  },
  {
   "cell_type": "code",
   "execution_count": 213,
   "metadata": {},
   "outputs": [
    {
     "name": "stdout",
     "output_type": "stream",
     "text": [
      "Summary statistics for hours_worked_pr_mnth:\n",
      " count     947.000000\n",
      "mean       17.691939\n",
      "std       160.999142\n",
      "min         0.000000\n",
      "25%         0.346230\n",
      "50%         1.333333\n",
      "75%         5.425417\n",
      "max      4632.927083\n",
      "Name: hours_worked_pr_mnth_pst_yr, dtype: float64\n",
      "Count of users with 40hrs per week or less per month:\n",
      " 935\n",
      "Total number of users:\n",
      " 947\n"
     ]
    },
    {
     "data": {
      "text/plain": [
       "0                https://www.guru.com/freelancers/scopic\n",
       "10     https://www.guru.com/freelancers/top-guru-assi...\n",
       "11     https://www.guru.com/freelancers/eden-programm...\n",
       "21     https://www.guru.com/freelancers/avion-technol...\n",
       "22         https://www.guru.com/freelancers/j-consulting\n",
       "55        https://www.guru.com/freelancers/ken-b-1083572\n",
       "66       https://www.guru.com/freelancers/kimberly-verdi\n",
       "109    https://www.guru.com/freelancers/nicholas-f-couch\n",
       "123              https://www.guru.com/freelancers/dugale\n",
       "180        https://www.guru.com/freelancers/evan-medrano\n",
       "264    https://www.guru.com/freelancers/lisamariebrennan\n",
       "296    https://www.guru.com/freelancers/super-writer-guy\n",
       "Name: profile_url, dtype: object"
      ]
     },
     "execution_count": 213,
     "metadata": {},
     "output_type": "execute_result"
    }
   ],
   "source": [
    "# Immediately can see outliers. 40 hrs a week x 4 weeks = 160 hours a month\n",
    "print(\"Summary statistics for hours_worked_pr_mnth:\\n\",\n",
    "      dt.hours_worked_pr_mnth_pst_yr.describe())\n",
    "print(\"Count of users with 40hrs per week or less per month:\\n\",\n",
    "      dt[dt.hours_worked_pr_mnth_pst_yr <= 160].profile_url.count())\n",
    "print(\"Total number of users:\\n\",\n",
    "     dt.hours_worked_pr_mnth_pst_yr.count())\n",
    "\n",
    "# I will want to remove the extreme outliers\n",
    "dt[dt.hours_worked_pr_mnth_pst_yr > 160].profile_url"
   ]
  },
  {
   "cell_type": "code",
   "execution_count": 249,
   "metadata": {},
   "outputs": [
    {
     "name": "stdout",
     "output_type": "stream",
     "text": [
      "Number of people working less than 160: 935\n",
      "Number of people working less than 100: 917\n",
      "Number of people working less than 50: 894\n",
      "Number of people working less than 20: 842\n",
      "Number of people working less than 10: 778\n",
      "Number of people working less than 5: 694\n",
      "Number of people working less than 3: 629\n",
      "Number of people working less than 2: 538\n",
      "Number of people working less than 1: 423\n"
     ]
    }
   ],
   "source": [
    "# The large majority of my sample works less than 50 hours per month.\n",
    "# It doesn't even start to drop off much until less than 5 hours per month\n",
    "# 423 people in the data have worked 1 or fewer hours per month over the past year.\n",
    "\n",
    "def num_people_by_hours_worked(hour_threshold):\n",
    "    print(\"Number of people working less than\",\n",
    "          str(hour_threshold) + \":\",dt[dt.hours_worked_pr_mnth_pst_yr < hour_threshold].profile_url.count())\n",
    "    \n",
    "for i, val in enumerate([160, 100, 50, 20, 10, 5, 3, 2, 1]):\n",
    "    num_people_by_hours_worked(val)\n"
   ]
  },
  {
   "cell_type": "code",
   "execution_count": 252,
   "metadata": {},
   "outputs": [
    {
     "name": "stdout",
     "output_type": "stream",
     "text": [
      "Mean hourly rate of people working less than 160: 31.727272727272727\n",
      "Mean hourly rate of people working less than 100: 31.799345692475462\n",
      "Mean hourly rate of people working less than 50: 31.914988814317674\n",
      "Mean hourly rate of people working less than 20: 32.14014251781472\n",
      "Mean hourly rate of people working less than 10: 32.77634961439589\n",
      "Mean hourly rate of people working less than 5: 33.15994236311239\n",
      "Mean hourly rate of people working less than 3: 33.69316375198728\n",
      "Mean hourly rate of people working less than 2: 34.51115241635688\n",
      "Mean hourly rate of people working less than 1: 36.05910165484634\n"
     ]
    }
   ],
   "source": [
    "# So theory is that the people working alot tend have a lower hourly rate\n",
    "# And the people working less have a higher hourly rate\n",
    "\n",
    "\n",
    "def mean_rate_by_hours_worked(hour_threshold):\n",
    "    print(\"Mean hourly rate of people working less than\",\n",
    "          str(hour_threshold) + \":\", \n",
    "          dt[dt.hours_worked_pr_mnth_pst_yr < hour_threshold].hourly_rate.mean())\n",
    "\n",
    "rate_by_hours = []\n",
    "for i, val in enumerate([160, 100, 50, 20, 10, 5, 3, 2, 1]):\n",
    "    mean_rate_by_hours_worked(val)\n",
    "    \n",
    "# Wow, there is a TINY difference"
   ]
  },
  {
   "cell_type": "code",
   "execution_count": 300,
   "metadata": {},
   "outputs": [
    {
     "name": "stdout",
     "output_type": "stream",
     "text": [
      "Mean hourly rate of people working less than 160: 39.89265536723164\n",
      "Mean hourly rate of people working less than 100: 39.71176470588235\n",
      "Mean hourly rate of people working less than 50: 39.41104294478528\n",
      "Mean hourly rate of people working less than 20: 38.773972602739725\n",
      "Mean hourly rate of people working less than 10: 38.68382352941177\n",
      "Mean hourly rate of people working less than 5: 38.73809523809524\n",
      "Mean hourly rate of people working less than 3: 38.88135593220339\n",
      "Mean hourly rate of people working less than 2: 38.12380952380953\n",
      "Mean hourly rate of people working less than 1: 38.44705882352941\n"
     ]
    }
   ],
   "source": [
    "def mean_rate_by_hours_worked_by_skill(hour_threshold, skill_category, verbose = True):\n",
    "    tmp = dt[(dt.hours_worked_pr_mnth_pst_yr < hour_threshold) & dt[skill_category] == 1].hourly_rate.mean()\n",
    "    \n",
    "    if verbose == True:\n",
    "        print(\"Mean hourly rate of people working less than\",\n",
    "              str(hour_threshold) + \":\",\n",
    "              tmp)\n",
    "    return tmp\n",
    "    \n",
    "for i, val in enumerate([160, 100, 50, 20, 10, 5, 3, 2, 1]):\n",
    "    mean_rate_by_hours_worked_by_skill(val, 'programming & development')"
   ]
  },
  {
   "cell_type": "code",
   "execution_count": 301,
   "metadata": {},
   "outputs": [
    {
     "data": {
      "text/plain": [
       "<matplotlib.axes._subplots.AxesSubplot at 0x1a2616c2d0>"
      ]
     },
     "execution_count": 301,
     "metadata": {},
     "output_type": "execute_result"
    },
    {
     "data": {
      "image/png": "[encoded data removed]",
      "text/plain": [
       "<Figure size 1080x720 with 1 Axes>"
      ]
     },
     "metadata": {
      "needs_background": "light"
     },
     "output_type": "display_data"
    }
   ],
   "source": [
    "# Let's drill into a specific subgroup and see if it holds\n",
    "\n",
    "skills = ['administrative & secretarial','business & finance', 'design & art', 'education & training',\n",
    "          'engineering & architecture', 'legal', 'programming & development','sales & marketing', \n",
    "          'writing & translation']\n",
    "\n",
    "hr_by_skill = {}\n",
    "for j, skill_val in enumerate(skills):\n",
    "    \n",
    "    rate_by_hours = []\n",
    "    for i, val in enumerate([160, 100, 50, 20, 10, 5, 3, 2, 1]):\n",
    "        hrate = mean_rate_by_hours_worked_by_skill(val, skill_val, verbose = False)\n",
    "        rate_by_hours.append(hrate)\n",
    "    \n",
    "    hr_by_skill.update({skill_val: rate_by_hours})\n",
    "\n",
    "# Cleaning\n",
    "hr_by_skill_pd = pd.DataFrame(hr_by_skill).stack()\n",
    "hr_by_skill_pd = hr_by_skill_pd.reset_index()\n",
    "#hr_by_skill_pd = hr_by_skill_pd.drop(['level_0'], axis = 1)\n",
    "hr_by_skill_pd.columns = ['iteration','Skill_Category','hourly_rate']\n",
    "\n",
    "# Plotting\n",
    "plt.figure(figsize=(15,10))\n",
    "sns.lineplot(x = hr_by_skill_pd.iteration, y = hr_by_skill_pd.hourly_rate, \n",
    "             hue = hr_by_skill_pd.Skill_Category)\n",
    "\n",
    "# The left most side is includes people who worked alot. The right most side is for those who barely worked."
   ]
  },
  {
   "cell_type": "code",
   "execution_count": 321,
   "metadata": {},
   "outputs": [
    {
     "data": {
      "text/plain": [
       "'Hourly Rate by Quantiles (4):'"
      ]
     },
     "metadata": {},
     "output_type": "display_data"
    },
    {
     "data": {
      "text/html": [
       "<div>\n",
       "<style scoped>\n",
       "    .dataframe tbody tr th:only-of-type {\n",
       "        vertical-align: middle;\n",
       "    }\n",
       "\n",
       "    .dataframe tbody tr th {\n",
       "        vertical-align: top;\n",
       "    }\n",
       "\n",
       "    .dataframe thead th {\n",
       "        text-align: right;\n",
       "    }\n",
       "</style>\n",
       "<table border=\"1\" class=\"dataframe\">\n",
       "  <thead>\n",
       "    <tr style=\"text-align: right;\">\n",
       "      <th></th>\n",
       "      <th>hours_worked_pr_mnth_pst_yr</th>\n",
       "      <th>hourly_rate</th>\n",
       "    </tr>\n",
       "    <tr>\n",
       "      <th>quantile_4</th>\n",
       "      <th></th>\n",
       "      <th></th>\n",
       "    </tr>\n",
       "  </thead>\n",
       "  <tbody>\n",
       "    <tr>\n",
       "      <th>(-0.001, 0.346]</th>\n",
       "      <td>0.165974</td>\n",
       "      <td>39.189873</td>\n",
       "    </tr>\n",
       "    <tr>\n",
       "      <th>(0.346, 1.333]</th>\n",
       "      <td>0.730223</td>\n",
       "      <td>30.599156</td>\n",
       "    </tr>\n",
       "    <tr>\n",
       "      <th>(1.333, 5.425]</th>\n",
       "      <td>2.816297</td>\n",
       "      <td>29.737288</td>\n",
       "    </tr>\n",
       "    <tr>\n",
       "      <th>(5.425, 4632.927]</th>\n",
       "      <td>66.992497</td>\n",
       "      <td>26.831224</td>\n",
       "    </tr>\n",
       "  </tbody>\n",
       "</table>\n",
       "</div>"
      ],
      "text/plain": [
       "                   hours_worked_pr_mnth_pst_yr  hourly_rate\n",
       "quantile_4                                                 \n",
       "(-0.001, 0.346]                       0.165974    39.189873\n",
       "(0.346, 1.333]                        0.730223    30.599156\n",
       "(1.333, 5.425]                        2.816297    29.737288\n",
       "(5.425, 4632.927]                    66.992497    26.831224"
      ]
     },
     "metadata": {},
     "output_type": "display_data"
    },
    {
     "data": {
      "text/plain": [
       "'Hourly Rate by Quantiles (8):'"
      ]
     },
     "metadata": {},
     "output_type": "display_data"
    },
    {
     "data": {
      "text/html": [
       "<div>\n",
       "<style scoped>\n",
       "    .dataframe tbody tr th:only-of-type {\n",
       "        vertical-align: middle;\n",
       "    }\n",
       "\n",
       "    .dataframe tbody tr th {\n",
       "        vertical-align: top;\n",
       "    }\n",
       "\n",
       "    .dataframe thead th {\n",
       "        text-align: right;\n",
       "    }\n",
       "</style>\n",
       "<table border=\"1\" class=\"dataframe\">\n",
       "  <thead>\n",
       "    <tr style=\"text-align: right;\">\n",
       "      <th></th>\n",
       "      <th>hours_worked_pr_mnth_pst_yr</th>\n",
       "      <th>hourly_rate</th>\n",
       "    </tr>\n",
       "    <tr>\n",
       "      <th>quantile_8</th>\n",
       "      <th></th>\n",
       "      <th></th>\n",
       "    </tr>\n",
       "  </thead>\n",
       "  <tbody>\n",
       "    <tr>\n",
       "      <th>(-0.001, 0.163]</th>\n",
       "      <td>0.090977</td>\n",
       "      <td>44.411765</td>\n",
       "    </tr>\n",
       "    <tr>\n",
       "      <th>(0.163, 0.346]</th>\n",
       "      <td>0.241606</td>\n",
       "      <td>33.923729</td>\n",
       "    </tr>\n",
       "    <tr>\n",
       "      <th>(0.346, 0.667]</th>\n",
       "      <td>0.498828</td>\n",
       "      <td>33.195122</td>\n",
       "    </tr>\n",
       "    <tr>\n",
       "      <th>(0.667, 1.333]</th>\n",
       "      <td>0.979886</td>\n",
       "      <td>27.798246</td>\n",
       "    </tr>\n",
       "    <tr>\n",
       "      <th>(1.333, 2.5]</th>\n",
       "      <td>1.914603</td>\n",
       "      <td>31.478992</td>\n",
       "    </tr>\n",
       "    <tr>\n",
       "      <th>(2.5, 5.425]</th>\n",
       "      <td>3.733405</td>\n",
       "      <td>27.965812</td>\n",
       "    </tr>\n",
       "    <tr>\n",
       "      <th>(5.425, 16.616]</th>\n",
       "      <td>9.712990</td>\n",
       "      <td>26.771186</td>\n",
       "    </tr>\n",
       "    <tr>\n",
       "      <th>(16.616, 4632.927]</th>\n",
       "      <td>123.790663</td>\n",
       "      <td>26.890756</td>\n",
       "    </tr>\n",
       "  </tbody>\n",
       "</table>\n",
       "</div>"
      ],
      "text/plain": [
       "                    hours_worked_pr_mnth_pst_yr  hourly_rate\n",
       "quantile_8                                                  \n",
       "(-0.001, 0.163]                        0.090977    44.411765\n",
       "(0.163, 0.346]                         0.241606    33.923729\n",
       "(0.346, 0.667]                         0.498828    33.195122\n",
       "(0.667, 1.333]                         0.979886    27.798246\n",
       "(1.333, 2.5]                           1.914603    31.478992\n",
       "(2.5, 5.425]                           3.733405    27.965812\n",
       "(5.425, 16.616]                        9.712990    26.771186\n",
       "(16.616, 4632.927]                   123.790663    26.890756"
      ]
     },
     "metadata": {},
     "output_type": "display_data"
    },
    {
     "data": {
      "text/plain": [
       "'Hourly Rate by Quantiles (10):'"
      ]
     },
     "metadata": {},
     "output_type": "display_data"
    },
    {
     "data": {
      "text/html": [
       "<div>\n",
       "<style scoped>\n",
       "    .dataframe tbody tr th:only-of-type {\n",
       "        vertical-align: middle;\n",
       "    }\n",
       "\n",
       "    .dataframe tbody tr th {\n",
       "        vertical-align: top;\n",
       "    }\n",
       "\n",
       "    .dataframe thead th {\n",
       "        text-align: right;\n",
       "    }\n",
       "</style>\n",
       "<table border=\"1\" class=\"dataframe\">\n",
       "  <thead>\n",
       "    <tr style=\"text-align: right;\">\n",
       "      <th></th>\n",
       "      <th>hours_worked_pr_mnth_pst_yr</th>\n",
       "      <th>hourly_rate</th>\n",
       "    </tr>\n",
       "    <tr>\n",
       "      <th>quantile_10</th>\n",
       "      <th></th>\n",
       "      <th></th>\n",
       "    </tr>\n",
       "  </thead>\n",
       "  <tbody>\n",
       "    <tr>\n",
       "      <th>(-0.001, 0.139]</th>\n",
       "      <td>0.083149</td>\n",
       "      <td>41.638095</td>\n",
       "    </tr>\n",
       "    <tr>\n",
       "      <th>(0.139, 0.251]</th>\n",
       "      <td>0.194258</td>\n",
       "      <td>38.047059</td>\n",
       "    </tr>\n",
       "    <tr>\n",
       "      <th>(0.251, 0.462]</th>\n",
       "      <td>0.348985</td>\n",
       "      <td>37.840426</td>\n",
       "    </tr>\n",
       "    <tr>\n",
       "      <th>(0.462, 0.75]</th>\n",
       "      <td>0.594236</td>\n",
       "      <td>28.760417</td>\n",
       "    </tr>\n",
       "    <tr>\n",
       "      <th>(0.75, 1.333]</th>\n",
       "      <td>1.035159</td>\n",
       "      <td>27.829787</td>\n",
       "    </tr>\n",
       "    <tr>\n",
       "      <th>(1.333, 2.236]</th>\n",
       "      <td>1.795260</td>\n",
       "      <td>30.787234</td>\n",
       "    </tr>\n",
       "    <tr>\n",
       "      <th>(2.236, 3.796]</th>\n",
       "      <td>2.888874</td>\n",
       "      <td>30.389474</td>\n",
       "    </tr>\n",
       "    <tr>\n",
       "      <th>(3.796, 8.184]</th>\n",
       "      <td>5.723903</td>\n",
       "      <td>27.382979</td>\n",
       "    </tr>\n",
       "    <tr>\n",
       "      <th>(8.184, 23.14]</th>\n",
       "      <td>13.627475</td>\n",
       "      <td>26.073684</td>\n",
       "    </tr>\n",
       "    <tr>\n",
       "      <th>(23.14, 4632.927]</th>\n",
       "      <td>150.168562</td>\n",
       "      <td>26.789474</td>\n",
       "    </tr>\n",
       "  </tbody>\n",
       "</table>\n",
       "</div>"
      ],
      "text/plain": [
       "                   hours_worked_pr_mnth_pst_yr  hourly_rate\n",
       "quantile_10                                                \n",
       "(-0.001, 0.139]                       0.083149    41.638095\n",
       "(0.139, 0.251]                        0.194258    38.047059\n",
       "(0.251, 0.462]                        0.348985    37.840426\n",
       "(0.462, 0.75]                         0.594236    28.760417\n",
       "(0.75, 1.333]                         1.035159    27.829787\n",
       "(1.333, 2.236]                        1.795260    30.787234\n",
       "(2.236, 3.796]                        2.888874    30.389474\n",
       "(3.796, 8.184]                        5.723903    27.382979\n",
       "(8.184, 23.14]                       13.627475    26.073684\n",
       "(23.14, 4632.927]                   150.168562    26.789474"
      ]
     },
     "metadata": {},
     "output_type": "display_data"
    }
   ],
   "source": [
    "# Repeating the above but with buckets\n",
    "dt['quantile_4'] = pd.qcut(dt['hours_worked_pr_mnth_pst_yr'], q=4)\n",
    "dt['quantile_8'] = pd.qcut(dt['hours_worked_pr_mnth_pst_yr'], q=8)\n",
    "dt['quantile_10'] = pd.qcut(dt['hours_worked_pr_mnth_pst_yr'], q=10)\n",
    "\n",
    "# Summary Stats\n",
    "display(\"Hourly Rate by Quantiles (4):\",\n",
    "      dt.groupby(['quantile_4'])[['hours_worked_pr_mnth_pst_yr','hourly_rate']].mean())\n",
    "display(\"Hourly Rate by Quantiles (8):\",\n",
    "      dt.groupby(['quantile_8'])[['hours_worked_pr_mnth_pst_yr','hourly_rate']].mean())\n",
    "display(\"Hourly Rate by Quantiles (10):\",\n",
    "      dt.groupby(['quantile_10'])[['hours_worked_pr_mnth_pst_yr','hourly_rate']].mean())\n",
    "\n",
    "# The idea here is to try and define who the \"successful\" people are\n",
    "# Doesn't seem to be working out. It's returning values as expected, but I'm not sure what to do with it.\n",
    "# The most obvious one is quantile 4, pick the two middle quantiles to be my \"successful\" group where\n",
    "# hourly_rate stabilizes at 30 and for the group with fewer jobs its 39 and for the group with more jobs its\n",
    "# only a little bit lower.\n",
    "# I could take the 10 split and just combine to make it how I like, actually. So leave out the edge cases\n",
    "# and train on the successful middle."
   ]
  },
  {
   "cell_type": "code",
   "execution_count": 316,
   "metadata": {},
   "outputs": [],
   "source": [
    "# Tentative Grouping is quantile 10_4 to 10_8\n",
    "# There is a clear uptick on group 10_3, _2, _1, but less of a drop off in _10, _9.\n",
    "# What I don't have is a clear argument that these people have priced themselves appropriately.\n",
    "# Before I decide I should try to split out 10_8, _9, _10 more"
   ]
  },
  {
   "cell_type": "code",
   "execution_count": 334,
   "metadata": {},
   "outputs": [
    {
     "data": {
      "text/plain": [
       "'Hourly Rate by Quantiles (X):'"
      ]
     },
     "metadata": {},
     "output_type": "display_data"
    },
    {
     "data": {
      "text/html": [
       "<div>\n",
       "<style scoped>\n",
       "    .dataframe tbody tr th:only-of-type {\n",
       "        vertical-align: middle;\n",
       "    }\n",
       "\n",
       "    .dataframe tbody tr th {\n",
       "        vertical-align: top;\n",
       "    }\n",
       "\n",
       "    .dataframe thead th {\n",
       "        text-align: right;\n",
       "    }\n",
       "</style>\n",
       "<table border=\"1\" class=\"dataframe\">\n",
       "  <thead>\n",
       "    <tr style=\"text-align: right;\">\n",
       "      <th></th>\n",
       "      <th>hourly_rate</th>\n",
       "    </tr>\n",
       "    <tr>\n",
       "      <th>quantile</th>\n",
       "      <th></th>\n",
       "    </tr>\n",
       "  </thead>\n",
       "  <tbody>\n",
       "    <tr>\n",
       "      <th>(8.199, 11.667]</th>\n",
       "      <td>26.717949</td>\n",
       "    </tr>\n",
       "    <tr>\n",
       "      <th>(11.667, 17.113]</th>\n",
       "      <td>22.432432</td>\n",
       "    </tr>\n",
       "    <tr>\n",
       "      <th>(17.113, 30.05]</th>\n",
       "      <td>30.605263</td>\n",
       "    </tr>\n",
       "    <tr>\n",
       "      <th>(30.05, 66.429]</th>\n",
       "      <td>27.342105</td>\n",
       "    </tr>\n",
       "    <tr>\n",
       "      <th>(66.429, 4632.927]</th>\n",
       "      <td>24.947368</td>\n",
       "    </tr>\n",
       "  </tbody>\n",
       "</table>\n",
       "</div>"
      ],
      "text/plain": [
       "                    hourly_rate\n",
       "quantile                       \n",
       "(8.199, 11.667]       26.717949\n",
       "(11.667, 17.113]      22.432432\n",
       "(17.113, 30.05]       30.605263\n",
       "(30.05, 66.429]       27.342105\n",
       "(66.429, 4632.927]    24.947368"
      ]
     },
     "metadata": {},
     "output_type": "display_data"
    },
    {
     "data": {
      "text/html": [
       "<div>\n",
       "<style scoped>\n",
       "    .dataframe tbody tr th:only-of-type {\n",
       "        vertical-align: middle;\n",
       "    }\n",
       "\n",
       "    .dataframe tbody tr th {\n",
       "        vertical-align: top;\n",
       "    }\n",
       "\n",
       "    .dataframe thead th {\n",
       "        text-align: right;\n",
       "    }\n",
       "</style>\n",
       "<table border=\"1\" class=\"dataframe\">\n",
       "  <thead>\n",
       "    <tr style=\"text-align: right;\">\n",
       "      <th></th>\n",
       "      <th>administrative &amp; secretarial</th>\n",
       "      <th>business &amp; finance</th>\n",
       "      <th>design &amp; art</th>\n",
       "      <th>education &amp; training</th>\n",
       "      <th>engineering &amp; architecture</th>\n",
       "      <th>legal</th>\n",
       "      <th>programming &amp; development</th>\n",
       "      <th>sales &amp; marketing</th>\n",
       "      <th>writing &amp; translation</th>\n",
       "    </tr>\n",
       "    <tr>\n",
       "      <th>quantile</th>\n",
       "      <th></th>\n",
       "      <th></th>\n",
       "      <th></th>\n",
       "      <th></th>\n",
       "      <th></th>\n",
       "      <th></th>\n",
       "      <th></th>\n",
       "      <th></th>\n",
       "      <th></th>\n",
       "    </tr>\n",
       "  </thead>\n",
       "  <tbody>\n",
       "    <tr>\n",
       "      <th>(8.199, 11.667]</th>\n",
       "      <td>3</td>\n",
       "      <td>7</td>\n",
       "      <td>12</td>\n",
       "      <td>1</td>\n",
       "      <td>2</td>\n",
       "      <td>0</td>\n",
       "      <td>2</td>\n",
       "      <td>8</td>\n",
       "      <td>14</td>\n",
       "    </tr>\n",
       "    <tr>\n",
       "      <th>(11.667, 17.113]</th>\n",
       "      <td>5</td>\n",
       "      <td>5</td>\n",
       "      <td>8</td>\n",
       "      <td>0</td>\n",
       "      <td>4</td>\n",
       "      <td>2</td>\n",
       "      <td>8</td>\n",
       "      <td>8</td>\n",
       "      <td>12</td>\n",
       "    </tr>\n",
       "    <tr>\n",
       "      <th>(17.113, 30.05]</th>\n",
       "      <td>5</td>\n",
       "      <td>3</td>\n",
       "      <td>7</td>\n",
       "      <td>1</td>\n",
       "      <td>1</td>\n",
       "      <td>0</td>\n",
       "      <td>11</td>\n",
       "      <td>10</td>\n",
       "      <td>14</td>\n",
       "    </tr>\n",
       "    <tr>\n",
       "      <th>(30.05, 66.429]</th>\n",
       "      <td>4</td>\n",
       "      <td>7</td>\n",
       "      <td>6</td>\n",
       "      <td>0</td>\n",
       "      <td>0</td>\n",
       "      <td>0</td>\n",
       "      <td>12</td>\n",
       "      <td>6</td>\n",
       "      <td>14</td>\n",
       "    </tr>\n",
       "    <tr>\n",
       "      <th>(66.429, 4632.927]</th>\n",
       "      <td>4</td>\n",
       "      <td>5</td>\n",
       "      <td>7</td>\n",
       "      <td>0</td>\n",
       "      <td>5</td>\n",
       "      <td>0</td>\n",
       "      <td>12</td>\n",
       "      <td>10</td>\n",
       "      <td>7</td>\n",
       "    </tr>\n",
       "  </tbody>\n",
       "</table>\n",
       "</div>"
      ],
      "text/plain": [
       "                    administrative & secretarial  business & finance  \\\n",
       "quantile                                                               \n",
       "(8.199, 11.667]                                3                   7   \n",
       "(11.667, 17.113]                               5                   5   \n",
       "(17.113, 30.05]                                5                   3   \n",
       "(30.05, 66.429]                                4                   7   \n",
       "(66.429, 4632.927]                             4                   5   \n",
       "\n",
       "                    design & art  education & training  \\\n",
       "quantile                                                 \n",
       "(8.199, 11.667]               12                     1   \n",
       "(11.667, 17.113]               8                     0   \n",
       "(17.113, 30.05]                7                     1   \n",
       "(30.05, 66.429]                6                     0   \n",
       "(66.429, 4632.927]             7                     0   \n",
       "\n",
       "                    engineering & architecture  legal  \\\n",
       "quantile                                                \n",
       "(8.199, 11.667]                              2      0   \n",
       "(11.667, 17.113]                             4      2   \n",
       "(17.113, 30.05]                              1      0   \n",
       "(30.05, 66.429]                              0      0   \n",
       "(66.429, 4632.927]                           5      0   \n",
       "\n",
       "                    programming & development  sales & marketing  \\\n",
       "quantile                                                           \n",
       "(8.199, 11.667]                             2                  8   \n",
       "(11.667, 17.113]                            8                  8   \n",
       "(17.113, 30.05]                            11                 10   \n",
       "(30.05, 66.429]                            12                  6   \n",
       "(66.429, 4632.927]                         12                 10   \n",
       "\n",
       "                    writing & translation  \n",
       "quantile                                   \n",
       "(8.199, 11.667]                        14  \n",
       "(11.667, 17.113]                       12  \n",
       "(17.113, 30.05]                        14  \n",
       "(30.05, 66.429]                        14  \n",
       "(66.429, 4632.927]                      7  "
      ]
     },
     "metadata": {},
     "output_type": "display_data"
    },
    {
     "data": {
      "text/plain": [
       "'Hourly Rate by Quantiles for administrative & secretarial:'"
      ]
     },
     "metadata": {},
     "output_type": "display_data"
    },
    {
     "data": {
      "text/html": [
       "<div>\n",
       "<style scoped>\n",
       "    .dataframe tbody tr th:only-of-type {\n",
       "        vertical-align: middle;\n",
       "    }\n",
       "\n",
       "    .dataframe tbody tr th {\n",
       "        vertical-align: top;\n",
       "    }\n",
       "\n",
       "    .dataframe thead th {\n",
       "        text-align: right;\n",
       "    }\n",
       "</style>\n",
       "<table border=\"1\" class=\"dataframe\">\n",
       "  <thead>\n",
       "    <tr style=\"text-align: right;\">\n",
       "      <th></th>\n",
       "      <th>hourly_rate</th>\n",
       "    </tr>\n",
       "    <tr>\n",
       "      <th>quantile</th>\n",
       "      <th></th>\n",
       "    </tr>\n",
       "  </thead>\n",
       "  <tbody>\n",
       "    <tr>\n",
       "      <th>(8.199, 11.667]</th>\n",
       "      <td>45.00</td>\n",
       "    </tr>\n",
       "    <tr>\n",
       "      <th>(11.667, 17.113]</th>\n",
       "      <td>14.60</td>\n",
       "    </tr>\n",
       "    <tr>\n",
       "      <th>(17.113, 30.05]</th>\n",
       "      <td>27.60</td>\n",
       "    </tr>\n",
       "    <tr>\n",
       "      <th>(30.05, 66.429]</th>\n",
       "      <td>39.50</td>\n",
       "    </tr>\n",
       "    <tr>\n",
       "      <th>(66.429, 4632.927]</th>\n",
       "      <td>18.75</td>\n",
       "    </tr>\n",
       "  </tbody>\n",
       "</table>\n",
       "</div>"
      ],
      "text/plain": [
       "                    hourly_rate\n",
       "quantile                       \n",
       "(8.199, 11.667]           45.00\n",
       "(11.667, 17.113]          14.60\n",
       "(17.113, 30.05]           27.60\n",
       "(30.05, 66.429]           39.50\n",
       "(66.429, 4632.927]        18.75"
      ]
     },
     "metadata": {},
     "output_type": "display_data"
    },
    {
     "data": {
      "text/plain": [
       "'Hourly Rate by Quantiles for business & finance:'"
      ]
     },
     "metadata": {},
     "output_type": "display_data"
    },
    {
     "data": {
      "text/html": [
       "<div>\n",
       "<style scoped>\n",
       "    .dataframe tbody tr th:only-of-type {\n",
       "        vertical-align: middle;\n",
       "    }\n",
       "\n",
       "    .dataframe tbody tr th {\n",
       "        vertical-align: top;\n",
       "    }\n",
       "\n",
       "    .dataframe thead th {\n",
       "        text-align: right;\n",
       "    }\n",
       "</style>\n",
       "<table border=\"1\" class=\"dataframe\">\n",
       "  <thead>\n",
       "    <tr style=\"text-align: right;\">\n",
       "      <th></th>\n",
       "      <th>hourly_rate</th>\n",
       "    </tr>\n",
       "    <tr>\n",
       "      <th>quantile</th>\n",
       "      <th></th>\n",
       "    </tr>\n",
       "  </thead>\n",
       "  <tbody>\n",
       "    <tr>\n",
       "      <th>(8.199, 11.667]</th>\n",
       "      <td>15.285714</td>\n",
       "    </tr>\n",
       "    <tr>\n",
       "      <th>(11.667, 17.113]</th>\n",
       "      <td>26.600000</td>\n",
       "    </tr>\n",
       "    <tr>\n",
       "      <th>(17.113, 30.05]</th>\n",
       "      <td>28.333333</td>\n",
       "    </tr>\n",
       "    <tr>\n",
       "      <th>(30.05, 66.429]</th>\n",
       "      <td>35.285714</td>\n",
       "    </tr>\n",
       "    <tr>\n",
       "      <th>(66.429, 4632.927]</th>\n",
       "      <td>20.000000</td>\n",
       "    </tr>\n",
       "  </tbody>\n",
       "</table>\n",
       "</div>"
      ],
      "text/plain": [
       "                    hourly_rate\n",
       "quantile                       \n",
       "(8.199, 11.667]       15.285714\n",
       "(11.667, 17.113]      26.600000\n",
       "(17.113, 30.05]       28.333333\n",
       "(30.05, 66.429]       35.285714\n",
       "(66.429, 4632.927]    20.000000"
      ]
     },
     "metadata": {},
     "output_type": "display_data"
    },
    {
     "data": {
      "text/plain": [
       "'Hourly Rate by Quantiles for design & art:'"
      ]
     },
     "metadata": {},
     "output_type": "display_data"
    },
    {
     "data": {
      "text/html": [
       "<div>\n",
       "<style scoped>\n",
       "    .dataframe tbody tr th:only-of-type {\n",
       "        vertical-align: middle;\n",
       "    }\n",
       "\n",
       "    .dataframe tbody tr th {\n",
       "        vertical-align: top;\n",
       "    }\n",
       "\n",
       "    .dataframe thead th {\n",
       "        text-align: right;\n",
       "    }\n",
       "</style>\n",
       "<table border=\"1\" class=\"dataframe\">\n",
       "  <thead>\n",
       "    <tr style=\"text-align: right;\">\n",
       "      <th></th>\n",
       "      <th>hourly_rate</th>\n",
       "    </tr>\n",
       "    <tr>\n",
       "      <th>quantile</th>\n",
       "      <th></th>\n",
       "    </tr>\n",
       "  </thead>\n",
       "  <tbody>\n",
       "    <tr>\n",
       "      <th>(8.199, 11.667]</th>\n",
       "      <td>23.750000</td>\n",
       "    </tr>\n",
       "    <tr>\n",
       "      <th>(11.667, 17.113]</th>\n",
       "      <td>17.000000</td>\n",
       "    </tr>\n",
       "    <tr>\n",
       "      <th>(17.113, 30.05]</th>\n",
       "      <td>16.428571</td>\n",
       "    </tr>\n",
       "    <tr>\n",
       "      <th>(30.05, 66.429]</th>\n",
       "      <td>22.500000</td>\n",
       "    </tr>\n",
       "    <tr>\n",
       "      <th>(66.429, 4632.927]</th>\n",
       "      <td>9.714286</td>\n",
       "    </tr>\n",
       "  </tbody>\n",
       "</table>\n",
       "</div>"
      ],
      "text/plain": [
       "                    hourly_rate\n",
       "quantile                       \n",
       "(8.199, 11.667]       23.750000\n",
       "(11.667, 17.113]      17.000000\n",
       "(17.113, 30.05]       16.428571\n",
       "(30.05, 66.429]       22.500000\n",
       "(66.429, 4632.927]     9.714286"
      ]
     },
     "metadata": {},
     "output_type": "display_data"
    },
    {
     "data": {
      "text/plain": [
       "'Hourly Rate by Quantiles for education & training:'"
      ]
     },
     "metadata": {},
     "output_type": "display_data"
    },
    {
     "data": {
      "text/html": [
       "<div>\n",
       "<style scoped>\n",
       "    .dataframe tbody tr th:only-of-type {\n",
       "        vertical-align: middle;\n",
       "    }\n",
       "\n",
       "    .dataframe tbody tr th {\n",
       "        vertical-align: top;\n",
       "    }\n",
       "\n",
       "    .dataframe thead th {\n",
       "        text-align: right;\n",
       "    }\n",
       "</style>\n",
       "<table border=\"1\" class=\"dataframe\">\n",
       "  <thead>\n",
       "    <tr style=\"text-align: right;\">\n",
       "      <th></th>\n",
       "      <th>hourly_rate</th>\n",
       "    </tr>\n",
       "    <tr>\n",
       "      <th>quantile</th>\n",
       "      <th></th>\n",
       "    </tr>\n",
       "  </thead>\n",
       "  <tbody>\n",
       "    <tr>\n",
       "      <th>(8.199, 11.667]</th>\n",
       "      <td>5.0</td>\n",
       "    </tr>\n",
       "    <tr>\n",
       "      <th>(11.667, 17.113]</th>\n",
       "      <td>NaN</td>\n",
       "    </tr>\n",
       "    <tr>\n",
       "      <th>(17.113, 30.05]</th>\n",
       "      <td>30.0</td>\n",
       "    </tr>\n",
       "    <tr>\n",
       "      <th>(30.05, 66.429]</th>\n",
       "      <td>NaN</td>\n",
       "    </tr>\n",
       "    <tr>\n",
       "      <th>(66.429, 4632.927]</th>\n",
       "      <td>NaN</td>\n",
       "    </tr>\n",
       "  </tbody>\n",
       "</table>\n",
       "</div>"
      ],
      "text/plain": [
       "                    hourly_rate\n",
       "quantile                       \n",
       "(8.199, 11.667]             5.0\n",
       "(11.667, 17.113]            NaN\n",
       "(17.113, 30.05]            30.0\n",
       "(30.05, 66.429]             NaN\n",
       "(66.429, 4632.927]          NaN"
      ]
     },
     "metadata": {},
     "output_type": "display_data"
    },
    {
     "data": {
      "text/plain": [
       "'Hourly Rate by Quantiles for engineering & architecture:'"
      ]
     },
     "metadata": {},
     "output_type": "display_data"
    },
    {
     "data": {
      "text/html": [
       "<div>\n",
       "<style scoped>\n",
       "    .dataframe tbody tr th:only-of-type {\n",
       "        vertical-align: middle;\n",
       "    }\n",
       "\n",
       "    .dataframe tbody tr th {\n",
       "        vertical-align: top;\n",
       "    }\n",
       "\n",
       "    .dataframe thead th {\n",
       "        text-align: right;\n",
       "    }\n",
       "</style>\n",
       "<table border=\"1\" class=\"dataframe\">\n",
       "  <thead>\n",
       "    <tr style=\"text-align: right;\">\n",
       "      <th></th>\n",
       "      <th>hourly_rate</th>\n",
       "    </tr>\n",
       "    <tr>\n",
       "      <th>quantile</th>\n",
       "      <th></th>\n",
       "    </tr>\n",
       "  </thead>\n",
       "  <tbody>\n",
       "    <tr>\n",
       "      <th>(8.199, 11.667]</th>\n",
       "      <td>40.00</td>\n",
       "    </tr>\n",
       "    <tr>\n",
       "      <th>(11.667, 17.113]</th>\n",
       "      <td>38.25</td>\n",
       "    </tr>\n",
       "    <tr>\n",
       "      <th>(17.113, 30.05]</th>\n",
       "      <td>10.00</td>\n",
       "    </tr>\n",
       "    <tr>\n",
       "      <th>(30.05, 66.429]</th>\n",
       "      <td>NaN</td>\n",
       "    </tr>\n",
       "    <tr>\n",
       "      <th>(66.429, 4632.927]</th>\n",
       "      <td>8.00</td>\n",
       "    </tr>\n",
       "  </tbody>\n",
       "</table>\n",
       "</div>"
      ],
      "text/plain": [
       "                    hourly_rate\n",
       "quantile                       \n",
       "(8.199, 11.667]           40.00\n",
       "(11.667, 17.113]          38.25\n",
       "(17.113, 30.05]           10.00\n",
       "(30.05, 66.429]             NaN\n",
       "(66.429, 4632.927]         8.00"
      ]
     },
     "metadata": {},
     "output_type": "display_data"
    },
    {
     "data": {
      "text/plain": [
       "'Hourly Rate by Quantiles for legal:'"
      ]
     },
     "metadata": {},
     "output_type": "display_data"
    },
    {
     "data": {
      "text/html": [
       "<div>\n",
       "<style scoped>\n",
       "    .dataframe tbody tr th:only-of-type {\n",
       "        vertical-align: middle;\n",
       "    }\n",
       "\n",
       "    .dataframe tbody tr th {\n",
       "        vertical-align: top;\n",
       "    }\n",
       "\n",
       "    .dataframe thead th {\n",
       "        text-align: right;\n",
       "    }\n",
       "</style>\n",
       "<table border=\"1\" class=\"dataframe\">\n",
       "  <thead>\n",
       "    <tr style=\"text-align: right;\">\n",
       "      <th></th>\n",
       "      <th>hourly_rate</th>\n",
       "    </tr>\n",
       "    <tr>\n",
       "      <th>quantile</th>\n",
       "      <th></th>\n",
       "    </tr>\n",
       "  </thead>\n",
       "  <tbody>\n",
       "    <tr>\n",
       "      <th>(8.199, 11.667]</th>\n",
       "      <td>NaN</td>\n",
       "    </tr>\n",
       "    <tr>\n",
       "      <th>(11.667, 17.113]</th>\n",
       "      <td>17.5</td>\n",
       "    </tr>\n",
       "    <tr>\n",
       "      <th>(17.113, 30.05]</th>\n",
       "      <td>NaN</td>\n",
       "    </tr>\n",
       "    <tr>\n",
       "      <th>(30.05, 66.429]</th>\n",
       "      <td>NaN</td>\n",
       "    </tr>\n",
       "    <tr>\n",
       "      <th>(66.429, 4632.927]</th>\n",
       "      <td>NaN</td>\n",
       "    </tr>\n",
       "  </tbody>\n",
       "</table>\n",
       "</div>"
      ],
      "text/plain": [
       "                    hourly_rate\n",
       "quantile                       \n",
       "(8.199, 11.667]             NaN\n",
       "(11.667, 17.113]           17.5\n",
       "(17.113, 30.05]             NaN\n",
       "(30.05, 66.429]             NaN\n",
       "(66.429, 4632.927]          NaN"
      ]
     },
     "metadata": {},
     "output_type": "display_data"
    },
    {
     "data": {
      "text/plain": [
       "'Hourly Rate by Quantiles for programming & development:'"
      ]
     },
     "metadata": {},
     "output_type": "display_data"
    },
    {
     "data": {
      "text/html": [
       "<div>\n",
       "<style scoped>\n",
       "    .dataframe tbody tr th:only-of-type {\n",
       "        vertical-align: middle;\n",
       "    }\n",
       "\n",
       "    .dataframe tbody tr th {\n",
       "        vertical-align: top;\n",
       "    }\n",
       "\n",
       "    .dataframe thead th {\n",
       "        text-align: right;\n",
       "    }\n",
       "</style>\n",
       "<table border=\"1\" class=\"dataframe\">\n",
       "  <thead>\n",
       "    <tr style=\"text-align: right;\">\n",
       "      <th></th>\n",
       "      <th>hourly_rate</th>\n",
       "    </tr>\n",
       "    <tr>\n",
       "      <th>quantile</th>\n",
       "      <th></th>\n",
       "    </tr>\n",
       "  </thead>\n",
       "  <tbody>\n",
       "    <tr>\n",
       "      <th>(8.199, 11.667]</th>\n",
       "      <td>25.000000</td>\n",
       "    </tr>\n",
       "    <tr>\n",
       "      <th>(11.667, 17.113]</th>\n",
       "      <td>37.500000</td>\n",
       "    </tr>\n",
       "    <tr>\n",
       "      <th>(17.113, 30.05]</th>\n",
       "      <td>46.818182</td>\n",
       "    </tr>\n",
       "    <tr>\n",
       "      <th>(30.05, 66.429]</th>\n",
       "      <td>46.250000</td>\n",
       "    </tr>\n",
       "    <tr>\n",
       "      <th>(66.429, 4632.927]</th>\n",
       "      <td>42.083333</td>\n",
       "    </tr>\n",
       "  </tbody>\n",
       "</table>\n",
       "</div>"
      ],
      "text/plain": [
       "                    hourly_rate\n",
       "quantile                       \n",
       "(8.199, 11.667]       25.000000\n",
       "(11.667, 17.113]      37.500000\n",
       "(17.113, 30.05]       46.818182\n",
       "(30.05, 66.429]       46.250000\n",
       "(66.429, 4632.927]    42.083333"
      ]
     },
     "metadata": {},
     "output_type": "display_data"
    },
    {
     "data": {
      "text/plain": [
       "'Hourly Rate by Quantiles for sales & marketing:'"
      ]
     },
     "metadata": {},
     "output_type": "display_data"
    },
    {
     "data": {
      "text/html": [
       "<div>\n",
       "<style scoped>\n",
       "    .dataframe tbody tr th:only-of-type {\n",
       "        vertical-align: middle;\n",
       "    }\n",
       "\n",
       "    .dataframe tbody tr th {\n",
       "        vertical-align: top;\n",
       "    }\n",
       "\n",
       "    .dataframe thead th {\n",
       "        text-align: right;\n",
       "    }\n",
       "</style>\n",
       "<table border=\"1\" class=\"dataframe\">\n",
       "  <thead>\n",
       "    <tr style=\"text-align: right;\">\n",
       "      <th></th>\n",
       "      <th>hourly_rate</th>\n",
       "    </tr>\n",
       "    <tr>\n",
       "      <th>quantile</th>\n",
       "      <th></th>\n",
       "    </tr>\n",
       "  </thead>\n",
       "  <tbody>\n",
       "    <tr>\n",
       "      <th>(8.199, 11.667]</th>\n",
       "      <td>39.125000</td>\n",
       "    </tr>\n",
       "    <tr>\n",
       "      <th>(11.667, 17.113]</th>\n",
       "      <td>19.625000</td>\n",
       "    </tr>\n",
       "    <tr>\n",
       "      <th>(17.113, 30.05]</th>\n",
       "      <td>29.500000</td>\n",
       "    </tr>\n",
       "    <tr>\n",
       "      <th>(30.05, 66.429]</th>\n",
       "      <td>13.333333</td>\n",
       "    </tr>\n",
       "    <tr>\n",
       "      <th>(66.429, 4632.927]</th>\n",
       "      <td>26.000000</td>\n",
       "    </tr>\n",
       "  </tbody>\n",
       "</table>\n",
       "</div>"
      ],
      "text/plain": [
       "                    hourly_rate\n",
       "quantile                       \n",
       "(8.199, 11.667]       39.125000\n",
       "(11.667, 17.113]      19.625000\n",
       "(17.113, 30.05]       29.500000\n",
       "(30.05, 66.429]       13.333333\n",
       "(66.429, 4632.927]    26.000000"
      ]
     },
     "metadata": {},
     "output_type": "display_data"
    },
    {
     "data": {
      "text/plain": [
       "'Hourly Rate by Quantiles for writing & translation:'"
      ]
     },
     "metadata": {},
     "output_type": "display_data"
    },
    {
     "data": {
      "text/html": [
       "<div>\n",
       "<style scoped>\n",
       "    .dataframe tbody tr th:only-of-type {\n",
       "        vertical-align: middle;\n",
       "    }\n",
       "\n",
       "    .dataframe tbody tr th {\n",
       "        vertical-align: top;\n",
       "    }\n",
       "\n",
       "    .dataframe thead th {\n",
       "        text-align: right;\n",
       "    }\n",
       "</style>\n",
       "<table border=\"1\" class=\"dataframe\">\n",
       "  <thead>\n",
       "    <tr style=\"text-align: right;\">\n",
       "      <th></th>\n",
       "      <th>hourly_rate</th>\n",
       "    </tr>\n",
       "    <tr>\n",
       "      <th>quantile</th>\n",
       "      <th></th>\n",
       "    </tr>\n",
       "  </thead>\n",
       "  <tbody>\n",
       "    <tr>\n",
       "      <th>(8.199, 11.667]</th>\n",
       "      <td>19.285714</td>\n",
       "    </tr>\n",
       "    <tr>\n",
       "      <th>(11.667, 17.113]</th>\n",
       "      <td>16.583333</td>\n",
       "    </tr>\n",
       "    <tr>\n",
       "      <th>(17.113, 30.05]</th>\n",
       "      <td>27.357143</td>\n",
       "    </tr>\n",
       "    <tr>\n",
       "      <th>(30.05, 66.429]</th>\n",
       "      <td>17.785714</td>\n",
       "    </tr>\n",
       "    <tr>\n",
       "      <th>(66.429, 4632.927]</th>\n",
       "      <td>19.285714</td>\n",
       "    </tr>\n",
       "  </tbody>\n",
       "</table>\n",
       "</div>"
      ],
      "text/plain": [
       "                    hourly_rate\n",
       "quantile                       \n",
       "(8.199, 11.667]       19.285714\n",
       "(11.667, 17.113]      16.583333\n",
       "(17.113, 30.05]       27.357143\n",
       "(30.05, 66.429]       17.785714\n",
       "(66.429, 4632.927]    19.285714"
      ]
     },
     "metadata": {},
     "output_type": "display_data"
    }
   ],
   "source": [
    "subset_quantiles = dt\n",
    "subset_quantiles['quantile'] = pd.qcut(subset_quantiles[subset_quantiles['hours_worked_pr_mnth_pst_yr'] >= 8.184].hours_worked_pr_mnth_pst_yr,\n",
    "                                          q=5)\n",
    "display(\"Hourly Rate by Quantiles (X):\",\n",
    "        subset_quantiles.groupby(['quantile'])[['hourly_rate']].mean())\n",
    "\n",
    "skills = ['administrative & secretarial','business & finance', 'design & art', 'education & training',\n",
    "          'engineering & architecture', 'legal', 'programming & development','sales & marketing', \n",
    "          'writing & translation']\n",
    "\n",
    "display(subset_quantiles.groupby(['quantile'])[skills].sum())\n",
    "\n",
    "# Clearly imbalance on the skill category. Going to need to split it out by skill category.\n",
    "\n",
    "for i, val in enumerate(skills):\n",
    "    display(\"Hourly Rate by Quantiles for \" + val +\":\",\n",
    "            subset_quantiles[subset_quantiles[val] == 1].groupby(['quantile'])[['hourly_rate']].mean())"
   ]
  },
  {
   "cell_type": "code",
   "execution_count": 337,
   "metadata": {},
   "outputs": [
    {
     "data": {
      "text/plain": [
       "1      https://www.guru.com/freelancers/crazy-program...\n",
       "11     https://www.guru.com/freelancers/eden-programm...\n",
       "12             https://www.guru.com/freelancers/ken-gold\n",
       "14         https://www.guru.com/freelancers/james-mays-1\n",
       "23     https://www.guru.com/freelancers/smart-softwar...\n",
       "24         https://www.guru.com/freelancers/marco-samson\n",
       "25        https://www.guru.com/freelancers/empiricaledge\n",
       "26        https://www.guru.com/freelancers/edgar-bolivar\n",
       "27     https://www.guru.com/freelancers/michael-kowalski\n",
       "28     https://www.guru.com/freelancers/optisol-business\n",
       "44       https://www.guru.com/freelancers/johnny-vencill\n",
       "45           https://www.guru.com/freelancers/sakthiguru\n",
       "46     https://www.guru.com/freelancers/john-son-1494196\n",
       "47           https://www.guru.com/freelancers/reddensoft\n",
       "50       https://www.guru.com/freelancers/beksconsulting\n",
       "51         https://www.guru.com/freelancers/stephenwhite\n",
       "55        https://www.guru.com/freelancers/ken-b-1083572\n",
       "65           https://www.guru.com/freelancers/mv-squared\n",
       "66       https://www.guru.com/freelancers/kimberly-verdi\n",
       "67      https://www.guru.com/freelancers/irish-ingenuity\n",
       "85           https://www.guru.com/freelancers/joel-kim-1\n",
       "122    https://www.guru.com/freelancers/jeffrey-r-smoots\n",
       "162        https://www.guru.com/freelancers/fan-wei-tsui\n",
       "166         https://www.guru.com/freelancers/tamiya-king\n",
       "178           https://www.guru.com/freelancers/alp-bakir\n",
       "179        https://www.guru.com/freelancers/hunter-foley\n",
       "216    https://www.guru.com/freelancers/visual-conten...\n",
       "259      https://www.guru.com/freelancers/yoelvis-guerra\n",
       "260       https://www.guru.com/freelancers/jon-roussel-1\n",
       "267    https://www.guru.com/freelancers/christopher-f...\n",
       "311    https://www.guru.com/freelancers/harathi-surya...\n",
       "367         https://www.guru.com/freelancers/shri-vidhya\n",
       "430            https://www.guru.com/freelancers/cmsminds\n",
       "515     https://www.guru.com/freelancers/gabriel-mendoza\n",
       "605       https://www.guru.com/freelancers/thomas-straub\n",
       "Name: profile_url, dtype: object"
      ]
     },
     "execution_count": 337,
     "metadata": {},
     "output_type": "execute_result"
    }
   ],
   "source": [
    "# Found a good example: thomas straub vs beksconsulting\n",
    "# Thomas straub is charging 8$ and has very small total earnings\n",
    "# Beksconsulting, however, is charging 60$ and has earned WAYYYY more.\n",
    "# Therefore, Thomas Straub likely could charge much. much more.\n",
    "# The question, however, is how can I identify successful people, like beksconsulting?\n",
    "# If I'm trying to separate people out by hours worked per month in the past year, it \n",
    "# lumps together Straub and beks. In fact, straub worked much much less than beks.\n",
    "# Therefore, by the logic of the theory, Straub is charging too much. This clearly isn't the case.\n",
    "\n",
    "# The most logical way to split these two up is to see that beks is charging more, for similar services,\n",
    "# and is very successful working many more hours per month.\n",
    "# To generalize that: find people with similar services and examine the distribution of hourly rates\n",
    "# In the ideal world, this would be normally distributed. Then among these I can plot hourly rates\n",
    "# against the hours worked per month in the past year. I would hope to see that those with\n",
    "# higher hourly rates work slightly less than those with lower hourly rates, a curve.\n",
    "\n",
    "dt[(dt['hours_worked_pr_mnth_pst_yr'] >= 17.113) & dt['programming & development'] == 1].profile_url"
   ]
  },
  {
   "cell_type": "code",
   "execution_count": 339,
   "metadata": {},
   "outputs": [
    {
     "data": {
      "text/html": [
       "<div>\n",
       "<style scoped>\n",
       "    .dataframe tbody tr th:only-of-type {\n",
       "        vertical-align: middle;\n",
       "    }\n",
       "\n",
       "    .dataframe tbody tr th {\n",
       "        vertical-align: top;\n",
       "    }\n",
       "\n",
       "    .dataframe thead th {\n",
       "        text-align: right;\n",
       "    }\n",
       "</style>\n",
       "<table border=\"1\" class=\"dataframe\">\n",
       "  <thead>\n",
       "    <tr style=\"text-align: right;\">\n",
       "      <th></th>\n",
       "      <th>profile_url</th>\n",
       "      <th>city</th>\n",
       "      <th>state</th>\n",
       "      <th>country</th>\n",
       "      <th>rating</th>\n",
       "      <th>earnings</th>\n",
       "      <th>hourly_rate</th>\n",
       "      <th>skills_list</th>\n",
       "      <th>user_description</th>\n",
       "      <th>index_y</th>\n",
       "      <th>...</th>\n",
       "      <th>writing &amp; translation</th>\n",
       "      <th>worked_pst_yr</th>\n",
       "      <th>earnings_per_month</th>\n",
       "      <th>hours_worked</th>\n",
       "      <th>hours_worked_pr_mnth</th>\n",
       "      <th>hours_worked_pr_mnth_pst_yr</th>\n",
       "      <th>quantile_4</th>\n",
       "      <th>quantile_8</th>\n",
       "      <th>quantile_10</th>\n",
       "      <th>quantile</th>\n",
       "    </tr>\n",
       "  </thead>\n",
       "  <tbody>\n",
       "    <tr>\n",
       "      <th>50</th>\n",
       "      <td>https://www.guru.com/freelancers/beksconsulting</td>\n",
       "      <td>Krum</td>\n",
       "      <td>Texas</td>\n",
       "      <td>United States</td>\n",
       "      <td>100.0</td>\n",
       "      <td>$82,000/year</td>\n",
       "      <td>60</td>\n",
       "      <td>Business Intelligence</td>\n",
       "      <td>Microsoft-certified SQL Server guru providing ...</td>\n",
       "      <td>10</td>\n",
       "      <td>...</td>\n",
       "      <td>0</td>\n",
       "      <td>1</td>\n",
       "      <td>5504.575269</td>\n",
       "      <td>1366.666667</td>\n",
       "      <td>91.742921</td>\n",
       "      <td>113.888889</td>\n",
       "      <td>(5.425, 4632.927]</td>\n",
       "      <td>(16.616, 4632.927]</td>\n",
       "      <td>(66.429, 137.013]</td>\n",
       "      <td>(66.429, 4632.927]</td>\n",
       "    </tr>\n",
       "    <tr>\n",
       "      <th>605</th>\n",
       "      <td>https://www.guru.com/freelancers/thomas-straub</td>\n",
       "      <td>Houston</td>\n",
       "      <td>Texas</td>\n",
       "      <td>United States</td>\n",
       "      <td>100.0</td>\n",
       "      <td>$2,381/year</td>\n",
       "      <td>8</td>\n",
       "      <td>Apache</td>\n",
       "      <td>Using technologies such as HTML, CSS, SEO, Jav...</td>\n",
       "      <td>15</td>\n",
       "      <td>...</td>\n",
       "      <td>0</td>\n",
       "      <td>1</td>\n",
       "      <td>153.154472</td>\n",
       "      <td>297.625000</td>\n",
       "      <td>19.144309</td>\n",
       "      <td>24.802083</td>\n",
       "      <td>(5.425, 4632.927]</td>\n",
       "      <td>(16.616, 4632.927]</td>\n",
       "      <td>(23.182, 30.05]</td>\n",
       "      <td>(17.113, 30.05]</td>\n",
       "    </tr>\n",
       "  </tbody>\n",
       "</table>\n",
       "<p>2 rows × 56 columns</p>\n",
       "</div>"
      ],
      "text/plain": [
       "                                         profile_url     city  state  \\\n",
       "50   https://www.guru.com/freelancers/beksconsulting     Krum  Texas   \n",
       "605   https://www.guru.com/freelancers/thomas-straub  Houston  Texas   \n",
       "\n",
       "           country  rating      earnings  hourly_rate            skills_list  \\\n",
       "50   United States   100.0  $82,000/year           60  Business Intelligence   \n",
       "605  United States   100.0   $2,381/year            8                 Apache   \n",
       "\n",
       "                                      user_description  index_y  ...  \\\n",
       "50   Microsoft-certified SQL Server guru providing ...       10  ...   \n",
       "605  Using technologies such as HTML, CSS, SEO, Jav...       15  ...   \n",
       "\n",
       "    writing & translation  worked_pst_yr  earnings_per_month hours_worked  \\\n",
       "50                      0              1         5504.575269  1366.666667   \n",
       "605                     0              1          153.154472   297.625000   \n",
       "\n",
       "    hours_worked_pr_mnth hours_worked_pr_mnth_pst_yr         quantile_4  \\\n",
       "50             91.742921                  113.888889  (5.425, 4632.927]   \n",
       "605            19.144309                   24.802083  (5.425, 4632.927]   \n",
       "\n",
       "             quantile_8        quantile_10            quantile  \n",
       "50   (16.616, 4632.927]  (66.429, 137.013]  (66.429, 4632.927]  \n",
       "605  (16.616, 4632.927]    (23.182, 30.05]     (17.113, 30.05]  \n",
       "\n",
       "[2 rows x 56 columns]"
      ]
     },
     "execution_count": 339,
     "metadata": {},
     "output_type": "execute_result"
    }
   ],
   "source": [
    "dt.iloc[[50,604],:]"
   ]
  },
  {
   "cell_type": "code",
   "execution_count": 376,
   "metadata": {},
   "outputs": [
    {
     "name": "stdout",
     "output_type": "stream",
     "text": [
      "writing & translation\n"
     ]
    },
    {
     "data": {
      "text/plain": [
       "<matplotlib.axes._subplots.AxesSubplot at 0x1a28351ed0>"
      ]
     },
     "execution_count": 376,
     "metadata": {},
     "output_type": "execute_result"
    },
    {
     "data": {
      "image/png": "[encoded data removed]",
      "text/plain": [
       "<Figure size 432x288 with 1 Axes>"
      ]
     },
     "metadata": {
      "needs_background": "light"
     },
     "output_type": "display_data"
    }
   ],
   "source": [
    "# Trying the scatter plot logic I described a couple of cells prior\n",
    "cols = ['administrative & secretarial','business & finance', 'design & art', 'education & training',\n",
    "          'engineering & architecture', 'legal', 'programming & development','sales & marketing', \n",
    "          'writing & translation', 'hourly_rate', 'hours_worked_pr_mnth_pst_yr']\n",
    "\n",
    "plt_dt = dt[cols]\n",
    "plt_skill_category = cols[8]\n",
    "print(plt_skill_category)\n",
    "sns.scatterplot(x = 'hourly_rate', y = 'hours_worked_pr_mnth_pst_yr',\n",
    "                data = plt_dt[(plt_dt['hours_worked_pr_mnth_pst_yr'] < 160) & (plt_dt[plt_skill_category] == 1) & (plt_dt['hourly_rate'] < 50)])\n",
    "sns.regplot(x = 'hourly_rate', y = 'hours_worked_pr_mnth_pst_yr',\n",
    "                data = plt_dt[(plt_dt['hours_worked_pr_mnth_pst_yr'] < 160) & (plt_dt[plt_skill_category] == 1) & (plt_dt['hourly_rate'] < 50)],\n",
    "           lowess=False)\n",
    "\n",
    "\n",
    "# There isn't really any discernable trend relating hourly_rate and hours_worked_pr_mnth_pst_yr\n",
    "# This says to me that determining a line at which to divide everyone up isn't easy.\n",
    "# I could try using a random forest with hours_worked_pr_mnth_pst_yr as the input and hourly_rate\n",
    "# as the output. The idea being: let the tree find where to split hourly rate, and order terminal nodes\n",
    "# from lowest mean hourly rate to the largest. Use the cut-offs the tree decides on?"
   ]
  },
  {
   "cell_type": "markdown",
   "metadata": {},
   "source": [
    "### Last Step: Making a dataset with state dummies"
   ]
  },
  {
   "cell_type": "code",
   "execution_count": 110,
   "metadata": {},
   "outputs": [],
   "source": [
    "# Making State dummy variables\n",
    "state_dummies = pd.get_dummies(dt['state'])\n",
    "dt_state_dummies = pd.concat([dt, state_dummies], axis=1)"
   ]
  },
  {
   "cell_type": "markdown",
   "metadata": {},
   "source": [
    "## Saving out Dataset - No State Dummies\n",
    "\n",
    "1. First printing the columns I have for reference.\n",
    "2. Saving it to a new table in the postgreSQL database"
   ]
  },
  {
   "cell_type": "code",
   "execution_count": 111,
   "metadata": {},
   "outputs": [
    {
     "name": "stdout",
     "output_type": "stream",
     "text": [
      "<class 'pandas.core.frame.DataFrame'>\n",
      "Int64Index: 976 entries, 0 to 978\n",
      "Data columns (total 47 columns):\n",
      " #   Column                        Non-Null Count  Dtype         \n",
      "---  ------                        --------------  -----         \n",
      " 0   profile_url                   976 non-null    object        \n",
      " 1   city                          976 non-null    object        \n",
      " 2   state                         976 non-null    object        \n",
      " 3   country                       976 non-null    object        \n",
      " 4   rating                        910 non-null    float64       \n",
      " 5   earnings                      976 non-null    object        \n",
      " 6   hourly_rate                   976 non-null    int64         \n",
      " 7   skills_list                   976 non-null    object        \n",
      " 8   user_description              976 non-null    object        \n",
      " 9   index_y                       976 non-null    int64         \n",
      " 10  member_since                  976 non-null    object        \n",
      " 11  earnings_pst_yr               947 non-null    object        \n",
      " 12  earnings_ever                 947 non-null    float64       \n",
      " 13  employers                     947 non-null    object        \n",
      " 14  invoices_paid                 947 non-null    object        \n",
      " 15  largest_employ                947 non-null    object        \n",
      " 16  bio                           947 non-null    object        \n",
      " 17  State                         972 non-null    object        \n",
      " 18  State Code                    972 non-null    object        \n",
      " 19  Region                        976 non-null    object        \n",
      " 20  Division                      972 non-null    object        \n",
      " 21  has_rating                    976 non-null    object        \n",
      " 22  start_date                    947 non-null    datetime64[ns]\n",
      " 23  years_active                  947 non-null    float64       \n",
      " 24  months_active                 947 non-null    float64       \n",
      " 25  active_17up                   976 non-null    int64         \n",
      " 26  num_skills                    976 non-null    int64         \n",
      " 27  less_five_skills              976 non-null    int64         \n",
      " 28  first_skill                   976 non-null    object        \n",
      " 29  skill_frequency               976 non-null    int64         \n",
      " 30  bio_clean                     976 non-null    object        \n",
      " 31  bio_length                    976 non-null    int64         \n",
      " 32  bio_word_count                976 non-null    int64         \n",
      " 33  avg_word_length               976 non-null    float64       \n",
      " 34  num_stop                      976 non-null    int64         \n",
      " 35  bio_processed                 976 non-null    object        \n",
      " 36  earnings_pr_month             947 non-null    float64       \n",
      " 37  index                         976 non-null    int64         \n",
      " 38  administrative & secretarial  976 non-null    int64         \n",
      " 39  business & finance            976 non-null    int64         \n",
      " 40  design & art                  976 non-null    int64         \n",
      " 41  education & training          976 non-null    int64         \n",
      " 42  engineering & architecture    976 non-null    int64         \n",
      " 43  legal                         976 non-null    int64         \n",
      " 44  programming & development     976 non-null    int64         \n",
      " 45  sales & marketing             976 non-null    int64         \n",
      " 46  writing & translation         976 non-null    int64         \n",
      "dtypes: datetime64[ns](1), float64(6), int64(19), object(21)\n",
      "memory usage: 366.0+ KB\n"
     ]
    }
   ],
   "source": [
    "dt.info()"
   ]
  },
  {
   "cell_type": "code",
   "execution_count": 112,
   "metadata": {},
   "outputs": [
    {
     "name": "stdout",
     "output_type": "stream",
     "text": [
      "[0, 6, 17, 26, 28, 31, 32, 33, 34, 38, 39, 40, 41, 42, 43, 44, 45, 46]\n"
     ]
    }
   ],
   "source": [
    "col_locs = [0,6,17,26,28,31,32,33,34,38,39,40,41,42,43,44,45,46]\n",
    "print(col_locs)"
   ]
  },
  {
   "cell_type": "code",
   "execution_count": 113,
   "metadata": {},
   "outputs": [
    {
     "name": "stdout",
     "output_type": "stream",
     "text": [
      "<class 'pandas.core.frame.DataFrame'>\n",
      "Int64Index: 972 entries, 0 to 978\n",
      "Data columns (total 18 columns):\n",
      " #   Column                        Non-Null Count  Dtype  \n",
      "---  ------                        --------------  -----  \n",
      " 0   profile_url                   972 non-null    object \n",
      " 1   hourly_rate                   972 non-null    int64  \n",
      " 2   State                         972 non-null    object \n",
      " 3   num_skills                    972 non-null    int64  \n",
      " 4   first_skill                   972 non-null    object \n",
      " 5   bio_length                    972 non-null    int64  \n",
      " 6   bio_word_count                972 non-null    int64  \n",
      " 7   avg_word_length               972 non-null    float64\n",
      " 8   num_stop                      972 non-null    int64  \n",
      " 9   administrative & secretarial  972 non-null    int64  \n",
      " 10  business & finance            972 non-null    int64  \n",
      " 11  design & art                  972 non-null    int64  \n",
      " 12  education & training          972 non-null    int64  \n",
      " 13  engineering & architecture    972 non-null    int64  \n",
      " 14  legal                         972 non-null    int64  \n",
      " 15  programming & development     972 non-null    int64  \n",
      " 16  sales & marketing             972 non-null    int64  \n",
      " 17  writing & translation         972 non-null    int64  \n",
      "dtypes: float64(1), int64(14), object(3)\n",
      "memory usage: 144.3+ KB\n"
     ]
    }
   ],
   "source": [
    "# Cleaning to just variables that will be used in the model\n",
    "analysis_dt = dt.iloc[:,col_locs]\n",
    "analysis_dt = analysis_dt.dropna()  # Removing people with NA\n",
    "analysis_dt.info()"
   ]
  },
  {
   "cell_type": "code",
   "execution_count": 114,
   "metadata": {},
   "outputs": [],
   "source": [
    "# Connect to the database and save data to it\n",
    "engine = create_engine('postgresql://%s:%s@localhost/%s' %\n",
    "                       (username, pswd, dbname))\n",
    "analysis_dt.to_sql(\"analysis_table\", engine, if_exists='replace')"
   ]
  },
  {
   "cell_type": "markdown",
   "metadata": {},
   "source": [
    "### Saving out dataset - Dummies"
   ]
  },
  {
   "cell_type": "code",
   "execution_count": 115,
   "metadata": {},
   "outputs": [
    {
     "name": "stdout",
     "output_type": "stream",
     "text": [
      "<class 'pandas.core.frame.DataFrame'>\n",
      "Int64Index: 976 entries, 0 to 978\n",
      "Data columns (total 97 columns):\n",
      " #   Column                        Non-Null Count  Dtype         \n",
      "---  ------                        --------------  -----         \n",
      " 0   profile_url                   976 non-null    object        \n",
      " 1   city                          976 non-null    object        \n",
      " 2   state                         976 non-null    object        \n",
      " 3   country                       976 non-null    object        \n",
      " 4   rating                        910 non-null    float64       \n",
      " 5   earnings                      976 non-null    object        \n",
      " 6   hourly_rate                   976 non-null    int64         \n",
      " 7   skills_list                   976 non-null    object        \n",
      " 8   user_description              976 non-null    object        \n",
      " 9   index_y                       976 non-null    int64         \n",
      " 10  member_since                  976 non-null    object        \n",
      " 11  earnings_pst_yr               947 non-null    object        \n",
      " 12  earnings_ever                 947 non-null    float64       \n",
      " 13  employers                     947 non-null    object        \n",
      " 14  invoices_paid                 947 non-null    object        \n",
      " 15  largest_employ                947 non-null    object        \n",
      " 16  bio                           947 non-null    object        \n",
      " 17  State                         972 non-null    object        \n",
      " 18  State Code                    972 non-null    object        \n",
      " 19  Region                        976 non-null    object        \n",
      " 20  Division                      972 non-null    object        \n",
      " 21  has_rating                    976 non-null    object        \n",
      " 22  start_date                    947 non-null    datetime64[ns]\n",
      " 23  years_active                  947 non-null    float64       \n",
      " 24  months_active                 947 non-null    float64       \n",
      " 25  active_17up                   976 non-null    int64         \n",
      " 26  num_skills                    976 non-null    int64         \n",
      " 27  less_five_skills              976 non-null    int64         \n",
      " 28  first_skill                   976 non-null    object        \n",
      " 29  skill_frequency               976 non-null    int64         \n",
      " 30  bio_clean                     976 non-null    object        \n",
      " 31  bio_length                    976 non-null    int64         \n",
      " 32  bio_word_count                976 non-null    int64         \n",
      " 33  avg_word_length               976 non-null    float64       \n",
      " 34  num_stop                      976 non-null    int64         \n",
      " 35  bio_processed                 976 non-null    object        \n",
      " 36  earnings_pr_month             947 non-null    float64       \n",
      " 37  index                         976 non-null    int64         \n",
      " 38  administrative & secretarial  976 non-null    int64         \n",
      " 39  business & finance            976 non-null    int64         \n",
      " 40  design & art                  976 non-null    int64         \n",
      " 41  education & training          976 non-null    int64         \n",
      " 42  engineering & architecture    976 non-null    int64         \n",
      " 43  legal                         976 non-null    int64         \n",
      " 44  programming & development     976 non-null    int64         \n",
      " 45  sales & marketing             976 non-null    int64         \n",
      " 46  writing & translation         976 non-null    int64         \n",
      " 47  Alabama                       976 non-null    uint8         \n",
      " 48  Arizona                       976 non-null    uint8         \n",
      " 49  Arkansas                      976 non-null    uint8         \n",
      " 50  California                    976 non-null    uint8         \n",
      " 51  Colorado                      976 non-null    uint8         \n",
      " 52  Connecticut                   976 non-null    uint8         \n",
      " 53  Delaware                      976 non-null    uint8         \n",
      " 54  District of Columbia          976 non-null    uint8         \n",
      " 55  Florida                       976 non-null    uint8         \n",
      " 56  Georgia                       976 non-null    uint8         \n",
      " 57  Idaho                         976 non-null    uint8         \n",
      " 58  Illinois                      976 non-null    uint8         \n",
      " 59  Indiana                       976 non-null    uint8         \n",
      " 60  Iowa                          976 non-null    uint8         \n",
      " 61  Kansas                        976 non-null    uint8         \n",
      " 62  Kentucky                      976 non-null    uint8         \n",
      " 63  Louisiana                     976 non-null    uint8         \n",
      " 64  Maine                         976 non-null    uint8         \n",
      " 65  Maryland                      976 non-null    uint8         \n",
      " 66  Massachusetts                 976 non-null    uint8         \n",
      " 67  Michigan                      976 non-null    uint8         \n",
      " 68  Minnesota                     976 non-null    uint8         \n",
      " 69  Mississippi                   976 non-null    uint8         \n",
      " 70  Missouri                      976 non-null    uint8         \n",
      " 71  Montana                       976 non-null    uint8         \n",
      " 72  Nebraska                      976 non-null    uint8         \n",
      " 73  Nevada                        976 non-null    uint8         \n",
      " 74  New Hampshire                 976 non-null    uint8         \n",
      " 75  New Jersey                    976 non-null    uint8         \n",
      " 76  New Mexico                    976 non-null    uint8         \n",
      " 77  New York                      976 non-null    uint8         \n",
      " 78  North Carolina                976 non-null    uint8         \n",
      " 79  North Dakota                  976 non-null    uint8         \n",
      " 80  Ohio                          976 non-null    uint8         \n",
      " 81  Oklahoma                      976 non-null    uint8         \n",
      " 82  Oregon                        976 non-null    uint8         \n",
      " 83  Pennsylvania                  976 non-null    uint8         \n",
      " 84  Puerto Rico                   976 non-null    uint8         \n",
      " 85  Rhode Island                  976 non-null    uint8         \n",
      " 86  South Carolina                976 non-null    uint8         \n",
      " 87  South Dakota                  976 non-null    uint8         \n",
      " 88  Tennessee                     976 non-null    uint8         \n",
      " 89  Texas                         976 non-null    uint8         \n",
      " 90  Utah                          976 non-null    uint8         \n",
      " 91  Vermont                       976 non-null    uint8         \n",
      " 92  Virginia                      976 non-null    uint8         \n",
      " 93  Washington                    976 non-null    uint8         \n",
      " 94  West Virginia                 976 non-null    uint8         \n",
      " 95  Wisconsin                     976 non-null    uint8         \n",
      " 96  Wyoming                       976 non-null    uint8         \n",
      "dtypes: datetime64[ns](1), float64(6), int64(19), object(21), uint8(50)\n",
      "memory usage: 413.7+ KB\n"
     ]
    }
   ],
   "source": [
    "dt_state_dummies.info()"
   ]
  },
  {
   "cell_type": "code",
   "execution_count": 116,
   "metadata": {},
   "outputs": [
    {
     "name": "stdout",
     "output_type": "stream",
     "text": [
      "[0, 6, 26, 28, 31, 32, 33, 34, 38, 39, 40, 41, 42, 43, 44, 45, 46, 47, 48, 49, 50, 51, 52, 53, 54, 55, 56, 57, 58, 59, 60, 61, 62, 63, 64, 65, 66, 67, 68, 69, 70, 71, 72, 73, 74, 75, 76, 77, 78, 79, 80, 81, 82, 83, 84, 85, 86, 87, 88, 89, 90, 91, 92, 93, 94, 95]\n"
     ]
    }
   ],
   "source": [
    "col_locs = [0,6,26,28,31,32,33,34]\n",
    "x = list(range(38,96))\n",
    "col_locs.extend(x)\n",
    "print(col_locs)"
   ]
  },
  {
   "cell_type": "code",
   "execution_count": 117,
   "metadata": {
    "scrolled": true
   },
   "outputs": [
    {
     "name": "stdout",
     "output_type": "stream",
     "text": [
      "<class 'pandas.core.frame.DataFrame'>\n",
      "Int64Index: 976 entries, 0 to 978\n",
      "Data columns (total 66 columns):\n",
      " #   Column                        Non-Null Count  Dtype  \n",
      "---  ------                        --------------  -----  \n",
      " 0   profile_url                   976 non-null    object \n",
      " 1   hourly_rate                   976 non-null    int64  \n",
      " 2   num_skills                    976 non-null    int64  \n",
      " 3   first_skill                   976 non-null    object \n",
      " 4   bio_length                    976 non-null    int64  \n",
      " 5   bio_word_count                976 non-null    int64  \n",
      " 6   avg_word_length               976 non-null    float64\n",
      " 7   num_stop                      976 non-null    int64  \n",
      " 8   administrative & secretarial  976 non-null    int64  \n",
      " 9   business & finance            976 non-null    int64  \n",
      " 10  design & art                  976 non-null    int64  \n",
      " 11  education & training          976 non-null    int64  \n",
      " 12  engineering & architecture    976 non-null    int64  \n",
      " 13  legal                         976 non-null    int64  \n",
      " 14  programming & development     976 non-null    int64  \n",
      " 15  sales & marketing             976 non-null    int64  \n",
      " 16  writing & translation         976 non-null    int64  \n",
      " 17  Alabama                       976 non-null    uint8  \n",
      " 18  Arizona                       976 non-null    uint8  \n",
      " 19  Arkansas                      976 non-null    uint8  \n",
      " 20  California                    976 non-null    uint8  \n",
      " 21  Colorado                      976 non-null    uint8  \n",
      " 22  Connecticut                   976 non-null    uint8  \n",
      " 23  Delaware                      976 non-null    uint8  \n",
      " 24  District of Columbia          976 non-null    uint8  \n",
      " 25  Florida                       976 non-null    uint8  \n",
      " 26  Georgia                       976 non-null    uint8  \n",
      " 27  Idaho                         976 non-null    uint8  \n",
      " 28  Illinois                      976 non-null    uint8  \n",
      " 29  Indiana                       976 non-null    uint8  \n",
      " 30  Iowa                          976 non-null    uint8  \n",
      " 31  Kansas                        976 non-null    uint8  \n",
      " 32  Kentucky                      976 non-null    uint8  \n",
      " 33  Louisiana                     976 non-null    uint8  \n",
      " 34  Maine                         976 non-null    uint8  \n",
      " 35  Maryland                      976 non-null    uint8  \n",
      " 36  Massachusetts                 976 non-null    uint8  \n",
      " 37  Michigan                      976 non-null    uint8  \n",
      " 38  Minnesota                     976 non-null    uint8  \n",
      " 39  Mississippi                   976 non-null    uint8  \n",
      " 40  Missouri                      976 non-null    uint8  \n",
      " 41  Montana                       976 non-null    uint8  \n",
      " 42  Nebraska                      976 non-null    uint8  \n",
      " 43  Nevada                        976 non-null    uint8  \n",
      " 44  New Hampshire                 976 non-null    uint8  \n",
      " 45  New Jersey                    976 non-null    uint8  \n",
      " 46  New Mexico                    976 non-null    uint8  \n",
      " 47  New York                      976 non-null    uint8  \n",
      " 48  North Carolina                976 non-null    uint8  \n",
      " 49  North Dakota                  976 non-null    uint8  \n",
      " 50  Ohio                          976 non-null    uint8  \n",
      " 51  Oklahoma                      976 non-null    uint8  \n",
      " 52  Oregon                        976 non-null    uint8  \n",
      " 53  Pennsylvania                  976 non-null    uint8  \n",
      " 54  Puerto Rico                   976 non-null    uint8  \n",
      " 55  Rhode Island                  976 non-null    uint8  \n",
      " 56  South Carolina                976 non-null    uint8  \n",
      " 57  South Dakota                  976 non-null    uint8  \n",
      " 58  Tennessee                     976 non-null    uint8  \n",
      " 59  Texas                         976 non-null    uint8  \n",
      " 60  Utah                          976 non-null    uint8  \n",
      " 61  Vermont                       976 non-null    uint8  \n",
      " 62  Virginia                      976 non-null    uint8  \n",
      " 63  Washington                    976 non-null    uint8  \n",
      " 64  West Virginia                 976 non-null    uint8  \n",
      " 65  Wisconsin                     976 non-null    uint8  \n",
      "dtypes: float64(1), int64(14), object(2), uint8(49)\n",
      "memory usage: 184.0+ KB\n"
     ]
    }
   ],
   "source": [
    "# Cleaning to just variables that will be used in the model\n",
    "analysis_dt = dt_state_dummies.iloc[:,col_locs]\n",
    "analysis_dt = analysis_dt.dropna()  # Removing people with NA\n",
    "analysis_dt.info()"
   ]
  },
  {
   "cell_type": "code",
   "execution_count": 118,
   "metadata": {},
   "outputs": [],
   "source": [
    "# Connect to the database and save data to it\n",
    "engine = create_engine('postgresql://%s:%s@localhost/%s' %\n",
    "                       (username, pswd, dbname))\n",
    "analysis_dt.to_sql(\"analysis_dummies_table\", engine, if_exists='replace')"
   ]
  },
  {
   "cell_type": "markdown",
   "metadata": {},
   "source": [
    "### OLD: Working on clustering the skills\n",
    "\n",
    "1. This didn't work. I think the reason is because I don't have enough skills for each user. Therefore, it can't find enough similarity between them. Maybe I could go back and jump into each users url and scrape their entire skills list? Time consuming."
   ]
  },
  {
   "cell_type": "code",
   "execution_count": null,
   "metadata": {},
   "outputs": [],
   "source": [
    "# Found K-Modes on stackoverflow\n",
    "# Following the package documentation\n",
    "# Ref: https://pypi.org/project/kmodes/\n",
    "# Ref: https://stackoverflow.com/questions/42639824/python-k-modes-explanation\n",
    "# Ref: https://www.kaggle.com/ashydv/bank-customer-clustering-k-modes-clustering"
   ]
  },
  {
   "cell_type": "code",
   "execution_count": null,
   "metadata": {},
   "outputs": [],
   "source": [
    "# Cleaning column names from the dummies database\n",
    "skills_table_dummies.columns = skills_table_dummies.columns.str.strip().str.lower().str.replace(\n",
    "    ' ', '_').str.replace('(', '').str.replace(')', '').str.replace('_', '')"
   ]
  },
  {
   "cell_type": "code",
   "execution_count": null,
   "metadata": {},
   "outputs": [],
   "source": [
    "skills_table_dummies.head()"
   ]
  },
  {
   "cell_type": "code",
   "execution_count": null,
   "metadata": {},
   "outputs": [],
   "source": [
    "# Modeling with K Modes\n",
    "cost = []\n",
    "for num_clusters in list(range(20, 30)):\n",
    "    kmode = KModes(n_clusters=num_clusters, init=\"Huang\", verbose=0)\n",
    "    kmode.fit_predict(skills_table_dummies)\n",
    "    cost.append(kmode.cost_)\n",
    "    print(\"Finished Cluster: \" + str(num_clusters))"
   ]
  },
  {
   "cell_type": "code",
   "execution_count": null,
   "metadata": {},
   "outputs": [],
   "source": [
    "y = np.array([i for i in range(20, 30, 1)])\n",
    "plt.plot(y, cost)"
   ]
  },
  {
   "cell_type": "code",
   "execution_count": null,
   "metadata": {},
   "outputs": [],
   "source": [
    "kmode = KModes(n_clusters=28, init='Huang', verbose=0)\n",
    "clusters = kmode.fit_predict(skills_table_dummies)\n",
    "\n",
    "kmodes = kmode.cluster_centroids_\n",
    "shape = kmodes.shape\n",
    "\n",
    "for i in range(shape[0]):\n",
    "    if sum(kmodes[i, :]) == 0:\n",
    "        print(\"\\ncluster \" + str(i) + \": \")\n",
    "        print(\"no-skills cluster\")\n",
    "    else:\n",
    "        print(\"\\ncluster \" + str(i) + \": \")\n",
    "        cent = kmodes[i, :]\n",
    "        for j in skills_table_dummies.columns[np.nonzero(cent)]:\n",
    "            print(j)"
   ]
  },
  {
   "cell_type": "code",
   "execution_count": null,
   "metadata": {},
   "outputs": [],
   "source": [
    "clust_assigned = km.predict(skills_table_dummies)"
   ]
  },
  {
   "cell_type": "code",
   "execution_count": null,
   "metadata": {
    "scrolled": true
   },
   "outputs": [],
   "source": [
    "unique, counts = np.unique(clust_assigned, return_counts=True)\n",
    "dict(zip(unique, counts))"
   ]
  },
  {
   "cell_type": "code",
   "execution_count": null,
   "metadata": {},
   "outputs": [],
   "source": [
    "user_cluster_crosswalk = pd.DataFrame(\n",
    "    skills_table['profile_url'].unique(), columns=[\"profile_url\"]).sort_values(by=\"profile_url\")\n",
    "user_cluster_crosswalk['cluster'] = clust_assigned\n",
    "user_cluster_crosswalk[user_cluster_crosswalk['cluster'] == 0].head()"
   ]
  },
  {
   "cell_type": "code",
   "execution_count": null,
   "metadata": {},
   "outputs": [],
   "source": [
    "# Merging into the skills table to investigate those with \"no skills\"\n",
    "tmp = pd.merge(skills_table, user_cluster_crosswalk, on=\"profile_url\")\n",
    "tmp[tmp['cluster'] == 0]"
   ]
  },
  {
   "cell_type": "code",
   "execution_count": null,
   "metadata": {},
   "outputs": [],
   "source": [
    "# It seems to not be working great.\n",
    "# Why is it putting so many people into the no skills cluster?"
   ]
  },
  {
   "cell_type": "markdown",
   "metadata": {},
   "source": [
    "# EDA for the Probability of Getting a Job (0/1)\n",
    "\n",
    "### Outcome: Probability of getting a job  . . . ever?\n",
    "\n",
    "1. Need to clean all of this up"
   ]
  },
  {
   "cell_type": "code",
   "execution_count": null,
   "metadata": {},
   "outputs": [],
   "source": [
    "# What about the (obvious) relationship between memebershp time and # of jobs completed\n",
    "# How strong is the relationship?\n",
    "# First have to clean the invoices paid variable\n",
    "dt.invoices_paid = dt.invoices_paid.str.replace(',', '')\n",
    "dt.invoices_paid = pd.to_numeric(dt.invoices_paid)\n",
    "dt.invoices_paid.describe()"
   ]
  },
  {
   "cell_type": "code",
   "execution_count": null,
   "metadata": {},
   "outputs": [],
   "source": [
    "# Who is NA? I have a whole bunch of 1s but then some NAs?\n",
    "# The question for a poisson model is: did they just have no invoices OR\n",
    "# were they never going to have any invoices.\n",
    "# Looked at some of them and I'll treat them as zeros. So there are really that many ones?!?\n",
    "dt[dt.invoices_paid.isna()].head()"
   ]
  },
  {
   "cell_type": "code",
   "execution_count": null,
   "metadata": {},
   "outputs": [],
   "source": [
    "# Assigning zero to the NAs. This is important!!\n",
    "dt.loc[dt.invoices_paid.isna(), 'invoices_paid'] = 0"
   ]
  },
  {
   "cell_type": "code",
   "execution_count": null,
   "metadata": {},
   "outputs": [],
   "source": [
    "sns.distplot(dt.invoices_paid)"
   ]
  },
  {
   "cell_type": "code",
   "execution_count": null,
   "metadata": {},
   "outputs": [],
   "source": [
    "# Wow, very heavy on the zeros. Let's look closer.\n",
    "dt.invoices_paid.describe()"
   ]
  },
  {
   "cell_type": "code",
   "execution_count": null,
   "metadata": {},
   "outputs": [],
   "source": [
    "# Ah, so it is truncating at one.\n",
    "# This is going to be problematic for those who are actually at a value of one.\n",
    "# I can either rerun the scrape and create something to make the val = 0\n",
    "# or I can just move forward. . .\n",
    "\n",
    "# For now I'm going to keep moving forward and treat 1 as 0.\n",
    "# Note, it is more likely than not that they are = 0"
   ]
  },
  {
   "cell_type": "code",
   "execution_count": null,
   "metadata": {},
   "outputs": [],
   "source": []
  },
  {
   "cell_type": "code",
   "execution_count": null,
   "metadata": {},
   "outputs": [],
   "source": [
    "# Checking dist vs months active (no 1s)\n",
    "sns.scatterplot(x='months_active', y='invoices_paid',\n",
    "                data=dt[dt.invoices_paid > 1])"
   ]
  },
  {
   "cell_type": "code",
   "execution_count": null,
   "metadata": {},
   "outputs": [],
   "source": [
    "# A few massive outliers. Going to rough chop it down and replot\n",
    "invoice_gtr_one = dt.invoices_paid > 1\n",
    "invoice_ls_2000 = dt.invoices_paid < 2000\n",
    "sns.scatterplot(x='months_active', y='invoices_paid',\n",
    "                data=dt[invoice_gtr_one & invoice_ls_2000])"
   ]
  },
  {
   "cell_type": "code",
   "execution_count": null,
   "metadata": {},
   "outputs": [],
   "source": [
    "# hmm, there may be a slight signal but you would expect a stronger trend"
   ]
  },
  {
   "cell_type": "code",
   "execution_count": null,
   "metadata": {},
   "outputs": [],
   "source": [
    "# Checking dist vs years active (no 1s)\n",
    "sns.scatterplot(x='years_active', y='invoices_paid',\n",
    "                data=dt[invoice_gtr_one & invoice_ls_2000])\n",
    "# Slight postive non-linear trend bu there is a HUGE outlier"
   ]
  },
  {
   "cell_type": "markdown",
   "metadata": {},
   "source": [
    "### Invoices Paid - Notes\n",
    "\n",
    "It has a weak-ish relationship with time. There are a lot of really heavy users of the platform that dominate the market. Let's zoom into the first year and see what it looks like."
   ]
  },
  {
   "cell_type": "code",
   "execution_count": null,
   "metadata": {},
   "outputs": [],
   "source": [
    "# Looking at invoices pad in the first few months (among those only active for a shorter period of time)\n",
    "sns.scatterplot(x='months_active',\n",
    "                y='invoices_paid',\n",
    "                data=dt[dt['years_active'] < 2])"
   ]
  },
  {
   "cell_type": "code",
   "execution_count": null,
   "metadata": {},
   "outputs": [],
   "source": [
    "# Calculating invoices / time active\n",
    "dt['invoices_per_month'] = dt['invoices_paid'] / \\\n",
    "    dt['months_active']\n",
    "sns.distplot(dt.invoices_per_month)\n",
    "print(dt.invoices_per_month.describe())"
   ]
  },
  {
   "cell_type": "code",
   "execution_count": null,
   "metadata": {},
   "outputs": [],
   "source": [
    "# Loaded on zero with a long tail. Continues to sell that there are some serious power users.\n",
    "# Average invoice per month is equal to one, but I left in the 1s that could be zeros. . .\n",
    "# Real average is likely near zero.\n",
    "\n",
    "# The question now is: Does this mean differ by any characteristic that I observe in the data?\n",
    "# For people with a different skill set (Andriod) do they have a higher mean invoice/month rate?\n",
    "# For people in different regions do they have a higher mean invoice/month rate?\n",
    "# For people with lower hourly rates do they have a higher mean invoice/month rate??\n",
    "\n",
    "# The next important step is to figure out how to use the skills data.\n",
    "# It would be great to try and create clusters of the skills."
   ]
  }
 ],
 "metadata": {
  "kernelspec": {
   "display_name": "Python 3",
   "language": "python",
   "name": "python3"
  },
  "language_info": {
   "codemirror_mode": {
    "name": "ipython",
    "version": 3
   },
   "file_extension": ".py",
   "mimetype": "text/x-python",
   "name": "python",
   "nbconvert_exporter": "python",
   "pygments_lexer": "ipython3",
   "version": "3.7.7"
  }
 },
 "nbformat": 4,
 "nbformat_minor": 4
}
