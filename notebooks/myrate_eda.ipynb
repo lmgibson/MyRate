{
 "cells": [
  {
   "cell_type": "code",
   "execution_count": 2,
   "metadata": {},
   "outputs": [],
   "source": [
    "# Packages for EDA\n",
    "import pandas as pd\n",
    "import numpy as np\n",
    "import seaborn as sns\n",
    "import matplotlib.pyplot as plt\n",
    "from scipy import stats\n",
    "\n",
    "# Packages for PostgreSQL Import\n",
    "import psycopg2\n",
    "\n",
    "# Custom packages with database connection information (Not working)\n",
    "    #from projectname.config import dbname, username, pswd"
   ]
  },
  {
   "cell_type": "code",
   "execution_count": 3,
   "metadata": {},
   "outputs": [],
   "source": [
    "# Ideally I'll move this into the project config.py file\n",
    "# Otherwise for now I have to just manually assign . . .\n",
    "\n",
    "dbname = \"freelance_db\"\n",
    "username = \"Metaverse\"\n",
    "pswd = \"Arcifice91\""
   ]
  },
  {
   "cell_type": "code",
   "execution_count": 15,
   "metadata": {},
   "outputs": [
    {
     "data": {
      "text/plain": [
       "0          freelance_db\n",
       "1    user_details_table\n",
       "4         details_table\n",
       "Name: table_name, dtype: object"
      ]
     },
     "execution_count": 15,
     "metadata": {},
     "output_type": "execute_result"
    }
   ],
   "source": [
    "# Connect to Data (from: scraping_data.ipynb)\n",
    "\n",
    "con = None\n",
    "con = psycopg2.connect(database = dbname, user = username, host='localhost', password=pswd)\n",
    "\n",
    "# Column reference\n",
    "sql_query = \"\"\"SELECT * FROM INFORMATION_SCHEMA.TABLES;\"\"\"\n",
    "col_ref = pd.read_sql_query(sql_query,con)\n",
    "col_ref[col_ref['table_schema'] == \"public\"]['table_name']"
   ]
  },
  {
   "cell_type": "code",
   "execution_count": 17,
   "metadata": {},
   "outputs": [
    {
     "name": "stdout",
     "output_type": "stream",
     "text": [
      "(200, 8)\n",
      "(3406, 8)\n"
     ]
    }
   ],
   "source": [
    "# Checking shapes of tables\n",
    "sql_query = \"\"\"SELECT * from user_details_table;\"\"\"\n",
    "dtls_table = pd.read_sql_query(sql_query, con)\n",
    "\n",
    "sql_query = \"\"\"SELECT * from freelance_db;\"\"\"\n",
    "fl_table = pd.read_sql_query(sql_query, con)\n",
    "\n",
    "print(user_details_table.shape)\n",
    "print(fl_table.shape)"
   ]
  },
  {
   "cell_type": "markdown",
   "metadata": {},
   "source": [
    "### EDA for 'fl_table'\n",
    "\n",
    "1. Remove 4 obs of someone from Punjab"
   ]
  },
  {
   "cell_type": "code",
   "execution_count": 19,
   "metadata": {},
   "outputs": [
    {
     "name": "stdout",
     "output_type": "stream",
     "text": [
      "(3406, 8)\n"
     ]
    },
    {
     "data": {
      "text/html": [
       "<div>\n",
       "<style scoped>\n",
       "    .dataframe tbody tr th:only-of-type {\n",
       "        vertical-align: middle;\n",
       "    }\n",
       "\n",
       "    .dataframe tbody tr th {\n",
       "        vertical-align: top;\n",
       "    }\n",
       "\n",
       "    .dataframe thead th {\n",
       "        text-align: right;\n",
       "    }\n",
       "</style>\n",
       "<table border=\"1\" class=\"dataframe\">\n",
       "  <thead>\n",
       "    <tr style=\"text-align: right;\">\n",
       "      <th></th>\n",
       "      <th>index</th>\n",
       "      <th>profile_url</th>\n",
       "      <th>city</th>\n",
       "      <th>state</th>\n",
       "      <th>country</th>\n",
       "      <th>hourly_rate</th>\n",
       "      <th>skills_list</th>\n",
       "      <th>user_description</th>\n",
       "    </tr>\n",
       "  </thead>\n",
       "  <tbody>\n",
       "    <tr>\n",
       "      <th>0</th>\n",
       "      <td>0</td>\n",
       "      <td>https://www.guru.com/freelancers/dugale</td>\n",
       "      <td>Long Beach</td>\n",
       "      <td>California</td>\n",
       "      <td>United States</td>\n",
       "      <td>5</td>\n",
       "      <td>Adobe InDesign</td>\n",
       "      <td>WordPress (Theme and Plugin Development) PHP/P...</td>\n",
       "    </tr>\n",
       "    <tr>\n",
       "      <th>1</th>\n",
       "      <td>1</td>\n",
       "      <td>https://www.guru.com/freelancers/dugale</td>\n",
       "      <td>Long Beach</td>\n",
       "      <td>California</td>\n",
       "      <td>United States</td>\n",
       "      <td>5</td>\n",
       "      <td>Adobe Photoshop</td>\n",
       "      <td>WordPress (Theme and Plugin Development) PHP/P...</td>\n",
       "    </tr>\n",
       "    <tr>\n",
       "      <th>2</th>\n",
       "      <td>2</td>\n",
       "      <td>https://www.guru.com/freelancers/dugale</td>\n",
       "      <td>Long Beach</td>\n",
       "      <td>California</td>\n",
       "      <td>United States</td>\n",
       "      <td>5</td>\n",
       "      <td>Ajax</td>\n",
       "      <td>WordPress (Theme and Plugin Development) PHP/P...</td>\n",
       "    </tr>\n",
       "    <tr>\n",
       "      <th>3</th>\n",
       "      <td>3</td>\n",
       "      <td>https://www.guru.com/freelancers/dugale</td>\n",
       "      <td>Long Beach</td>\n",
       "      <td>California</td>\n",
       "      <td>United States</td>\n",
       "      <td>5</td>\n",
       "      <td>CSS</td>\n",
       "      <td>WordPress (Theme and Plugin Development) PHP/P...</td>\n",
       "    </tr>\n",
       "    <tr>\n",
       "      <th>4</th>\n",
       "      <td>4</td>\n",
       "      <td>https://www.guru.com/freelancers/dugale</td>\n",
       "      <td>Long Beach</td>\n",
       "      <td>California</td>\n",
       "      <td>United States</td>\n",
       "      <td>5</td>\n",
       "      <td>CSS3</td>\n",
       "      <td>WordPress (Theme and Plugin Development) PHP/P...</td>\n",
       "    </tr>\n",
       "  </tbody>\n",
       "</table>\n",
       "</div>"
      ],
      "text/plain": [
       "   index                              profile_url        city       state  \\\n",
       "0      0  https://www.guru.com/freelancers/dugale  Long Beach  California   \n",
       "1      1  https://www.guru.com/freelancers/dugale  Long Beach  California   \n",
       "2      2  https://www.guru.com/freelancers/dugale  Long Beach  California   \n",
       "3      3  https://www.guru.com/freelancers/dugale  Long Beach  California   \n",
       "4      4  https://www.guru.com/freelancers/dugale  Long Beach  California   \n",
       "\n",
       "         country  hourly_rate      skills_list  \\\n",
       "0  United States            5   Adobe InDesign   \n",
       "1  United States            5  Adobe Photoshop   \n",
       "2  United States            5             Ajax   \n",
       "3  United States            5              CSS   \n",
       "4  United States            5             CSS3   \n",
       "\n",
       "                                    user_description  \n",
       "0  WordPress (Theme and Plugin Development) PHP/P...  \n",
       "1  WordPress (Theme and Plugin Development) PHP/P...  \n",
       "2  WordPress (Theme and Plugin Development) PHP/P...  \n",
       "3  WordPress (Theme and Plugin Development) PHP/P...  \n",
       "4  WordPress (Theme and Plugin Development) PHP/P...  "
      ]
     },
     "execution_count": 19,
     "metadata": {},
     "output_type": "execute_result"
    }
   ],
   "source": [
    "print(fl_table.shape)\n",
    "fl_table.head()"
   ]
  },
  {
   "cell_type": "code",
   "execution_count": 22,
   "metadata": {},
   "outputs": [
    {
     "data": {
      "text/plain": [
       "43.46594245449207"
      ]
     },
     "execution_count": 22,
     "metadata": {},
     "output_type": "execute_result"
    }
   ],
   "source": [
    "# Basic descriptives: Outcome - hourly_rate\n",
    "fl_table['hourly_rate'].mean()"
   ]
  },
  {
   "cell_type": "code",
   "execution_count": 24,
   "metadata": {},
   "outputs": [
    {
     "data": {
      "text/plain": [
       "<matplotlib.axes._subplots.AxesSubplot at 0x11956dd50>"
      ]
     },
     "execution_count": 24,
     "metadata": {},
     "output_type": "execute_result"
    },
    {
     "data": {
      "image/png": "[encoded data removed]",
      "text/plain": [
       "<Figure size 432x288 with 1 Axes>"
      ]
     },
     "metadata": {
      "needs_background": "light"
     },
     "output_type": "display_data"
    }
   ],
   "source": [
    "# Distribution\n",
    "sns.distplot(fl_table['hourly_rate'])"
   ]
  },
  {
   "cell_type": "code",
   "execution_count": 29,
   "metadata": {},
   "outputs": [
    {
     "data": {
      "text/plain": [
       "118"
      ]
     },
     "execution_count": 29,
     "metadata": {},
     "output_type": "execute_result"
    }
   ],
   "source": [
    "# Number of different cities?\n",
    "fl_table['city'].nunique()"
   ]
  },
  {
   "cell_type": "code",
   "execution_count": 32,
   "metadata": {},
   "outputs": [
    {
     "name": "stdout",
     "output_type": "stream",
     "text": [
      "2\n",
      "0       California\n",
      "2083        Punjab\n",
      "Name: state, dtype: object\n"
     ]
    }
   ],
   "source": [
    "# All in same state?\n",
    "print(fl_table['state'].nunique())\n",
    "\n",
    "print(fl_table['state'].drop_duplicates())"
   ]
  },
  {
   "cell_type": "code",
   "execution_count": 37,
   "metadata": {},
   "outputs": [
    {
     "name": "stdout",
     "output_type": "stream",
     "text": [
      "index               4\n",
      "profile_url         4\n",
      "city                4\n",
      "state               4\n",
      "country             4\n",
      "hourly_rate         4\n",
      "skills_list         4\n",
      "user_description    4\n",
      "dtype: int64\n"
     ]
    },
    {
     "data": {
      "text/html": [
       "<div>\n",
       "<style scoped>\n",
       "    .dataframe tbody tr th:only-of-type {\n",
       "        vertical-align: middle;\n",
       "    }\n",
       "\n",
       "    .dataframe tbody tr th {\n",
       "        vertical-align: top;\n",
       "    }\n",
       "\n",
       "    .dataframe thead th {\n",
       "        text-align: right;\n",
       "    }\n",
       "</style>\n",
       "<table border=\"1\" class=\"dataframe\">\n",
       "  <thead>\n",
       "    <tr style=\"text-align: right;\">\n",
       "      <th></th>\n",
       "      <th>index</th>\n",
       "      <th>profile_url</th>\n",
       "      <th>city</th>\n",
       "      <th>state</th>\n",
       "      <th>country</th>\n",
       "      <th>hourly_rate</th>\n",
       "      <th>skills_list</th>\n",
       "      <th>user_description</th>\n",
       "    </tr>\n",
       "  </thead>\n",
       "  <tbody>\n",
       "    <tr>\n",
       "      <th>2083</th>\n",
       "      <td>0</td>\n",
       "      <td>https://www.guru.com/freelancers/irshad-ali-1</td>\n",
       "      <td>Pattoki kasur</td>\n",
       "      <td>Punjab</td>\n",
       "      <td>Pakistan</td>\n",
       "      <td>15</td>\n",
       "      <td>Article Submission</td>\n",
       "      <td>i have a lot of experience in every type of Da...</td>\n",
       "    </tr>\n",
       "    <tr>\n",
       "      <th>2400</th>\n",
       "      <td>1</td>\n",
       "      <td>https://www.guru.com/freelancers/irshad-ali-1</td>\n",
       "      <td>Pattoki kasur</td>\n",
       "      <td>Punjab</td>\n",
       "      <td>Pakistan</td>\n",
       "      <td>15</td>\n",
       "      <td>Cpas &amp; Public Accountants</td>\n",
       "      <td>i have a lot of experience in every type of Da...</td>\n",
       "    </tr>\n",
       "    <tr>\n",
       "      <th>2423</th>\n",
       "      <td>2</td>\n",
       "      <td>https://www.guru.com/freelancers/irshad-ali-1</td>\n",
       "      <td>Pattoki kasur</td>\n",
       "      <td>Punjab</td>\n",
       "      <td>Pakistan</td>\n",
       "      <td>15</td>\n",
       "      <td>Data Entry</td>\n",
       "      <td>i have a lot of experience in every type of Da...</td>\n",
       "    </tr>\n",
       "    <tr>\n",
       "      <th>2849</th>\n",
       "      <td>3</td>\n",
       "      <td>https://www.guru.com/freelancers/irshad-ali-1</td>\n",
       "      <td>Pattoki kasur</td>\n",
       "      <td>Punjab</td>\n",
       "      <td>Pakistan</td>\n",
       "      <td>15</td>\n",
       "      <td>Link Building</td>\n",
       "      <td>i have a lot of experience in every type of Da...</td>\n",
       "    </tr>\n",
       "  </tbody>\n",
       "</table>\n",
       "</div>"
      ],
      "text/plain": [
       "      index                                    profile_url           city  \\\n",
       "2083      0  https://www.guru.com/freelancers/irshad-ali-1  Pattoki kasur   \n",
       "2400      1  https://www.guru.com/freelancers/irshad-ali-1  Pattoki kasur   \n",
       "2423      2  https://www.guru.com/freelancers/irshad-ali-1  Pattoki kasur   \n",
       "2849      3  https://www.guru.com/freelancers/irshad-ali-1  Pattoki kasur   \n",
       "\n",
       "       state   country  hourly_rate                skills_list  \\\n",
       "2083  Punjab  Pakistan           15         Article Submission   \n",
       "2400  Punjab  Pakistan           15  Cpas & Public Accountants   \n",
       "2423  Punjab  Pakistan           15                 Data Entry   \n",
       "2849  Punjab  Pakistan           15              Link Building   \n",
       "\n",
       "                                       user_description  \n",
       "2083  i have a lot of experience in every type of Da...  \n",
       "2400  i have a lot of experience in every type of Da...  \n",
       "2423  i have a lot of experience in every type of Da...  \n",
       "2849  i have a lot of experience in every type of Da...  "
      ]
     },
     "execution_count": 37,
     "metadata": {},
     "output_type": "execute_result"
    }
   ],
   "source": [
    "# Just one person from punjab\n",
    "print(fl_table[fl_table['state'] == \"Punjab\"].count())\n",
    "fl_table[fl_table['state'] == \"Punjab\"]"
   ]
  },
  {
   "cell_type": "code",
   "execution_count": 41,
   "metadata": {},
   "outputs": [
    {
     "name": "stdout",
     "output_type": "stream",
     "text": [
      "(3402, 8)\n"
     ]
    }
   ],
   "source": [
    "# Removing seller from Punjab\n",
    "fl_table = fl_table[fl_table['state'] != \"Punjab\"]\n",
    "print(fl_table.shape)"
   ]
  },
  {
   "cell_type": "code",
   "execution_count": null,
   "metadata": {},
   "outputs": [],
   "source": [
    "# Can do much much much more from here:\n",
    "    # 1. Different cities\n",
    "        # - rate distribution by city?\n",
    "        # - Number of unique obs by city?\n",
    "        # - Create a map?\n",
    "    # 2. Inspect skills\n",
    "        # - Number of different skills?\n",
    "        # - Which skills are the most common? How does rate vary within those?\n",
    "        # - Group skills (???) and calculate hourly rate \n",
    "        #   distribution by those groupings\n",
    "    # 3. Inspect description\n",
    "        # - Text analysis of some kind.\n",
    "        # - Also will need to go back and scrape info from the user pages.\n",
    "        #   Could also try Selenium but may be faster to just scrape on static page.\n",
    "        #   Nvm. Will have to use Selenium."
   ]
  }
 ],
 "metadata": {
  "kernelspec": {
   "display_name": "Python 3",
   "language": "python",
   "name": "python3"
  },
  "language_info": {
   "codemirror_mode": {
    "name": "ipython",
    "version": 3
   },
   "file_extension": ".py",
   "mimetype": "text/x-python",
   "name": "python",
   "nbconvert_exporter": "python",
   "pygments_lexer": "ipython3",
   "version": "3.7.7"
  }
 },
 "nbformat": 4,
 "nbformat_minor": 4
}
