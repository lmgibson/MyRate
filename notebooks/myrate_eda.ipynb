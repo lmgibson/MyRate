{
 "cells": [
  {
   "cell_type": "code",
   "execution_count": 2,
   "metadata": {},
   "outputs": [],
   "source": [
    "# Packages for EDA\n",
    "import pandas as pd\n",
    "import numpy as np\n",
    "import seaborn as sns\n",
    "import matplotlib.pyplot as plt\n",
    "from scipy import stats\n",
    "\n",
    "# Packages for PostgreSQL Import\n",
    "import psycopg2\n",
    "\n",
    "# Custom packages with database connection information (Not working)\n",
    "    #from projectname.config import dbname, username, pswd"
   ]
  },
  {
   "cell_type": "code",
   "execution_count": 3,
   "metadata": {},
   "outputs": [],
   "source": [
    "# Ideally I'll move this into the project config.py file\n",
    "# Otherwise for now I have to just manually assign . . .\n",
    "\n",
    "dbname = \"freelance_db\"\n",
    "username = \"Metaverse\"\n",
    "pswd = \"Arcifice91\""
   ]
  },
  {
   "cell_type": "code",
   "execution_count": 4,
   "metadata": {},
   "outputs": [
    {
     "data": {
      "text/plain": [
       "0           freelance_db\n",
       "3          details_table\n",
       "7     user_details_table\n",
       "10       freelance_table\n",
       "Name: table_name, dtype: object"
      ]
     },
     "execution_count": 4,
     "metadata": {},
     "output_type": "execute_result"
    }
   ],
   "source": [
    "# Connect to Data (from: scraping_data.ipynb)\n",
    "\n",
    "con = None\n",
    "con = psycopg2.connect(database = dbname, user = username, host='localhost', password=pswd)\n",
    "\n",
    "# Column reference\n",
    "sql_query = \"\"\"SELECT * FROM INFORMATION_SCHEMA.TABLES;\"\"\"\n",
    "col_ref = pd.read_sql_query(sql_query,con)\n",
    "col_ref[col_ref['table_schema'] == \"public\"]['table_name']"
   ]
  },
  {
   "cell_type": "code",
   "execution_count": 21,
   "metadata": {},
   "outputs": [
    {
     "name": "stdout",
     "output_type": "stream",
     "text": [
      "(1020, 9)\n",
      "(4539, 10)\n"
     ]
    }
   ],
   "source": [
    "# Checking shapes of tables\n",
    "sql_query = \"\"\"SELECT * from user_details_table;\"\"\"\n",
    "dtls_table = pd.read_sql_query(sql_query, con)\n",
    "\n",
    "sql_query = \"\"\"SELECT * from freelance_table;\"\"\"\n",
    "fl_table = pd.read_sql_query(sql_query, con)\n",
    "\n",
    "print(dtls_table.shape)\n",
    "print(fl_table.shape)"
   ]
  },
  {
   "cell_type": "code",
   "execution_count": 22,
   "metadata": {},
   "outputs": [],
   "source": [
    "# Creating merged dataset\n",
    "dtls_table['profile_url'] = \"https://www.guru.com\"+dtls_table['profile_url']"
   ]
  },
  {
   "cell_type": "code",
   "execution_count": 63,
   "metadata": {},
   "outputs": [
    {
     "name": "stdout",
     "output_type": "stream",
     "text": [
      "(979, 17)\n"
     ]
    }
   ],
   "source": [
    "all_table = pd.merge(fl_table, dtls_table, on='profile_url')\n",
    "all_table.shape\n",
    "all_table = all_table.drop(columns=(['index_x']))\n",
    "all_table = all_table.drop_duplicates(subset='profile_url')\n",
    "print(all_table.shape)"
   ]
  },
  {
   "cell_type": "markdown",
   "metadata": {},
   "source": [
    "### EDA for 'all_table'\n",
    "\n",
    "1. Remove 4 obs of someone from Punjab"
   ]
  },
  {
   "cell_type": "code",
   "execution_count": 66,
   "metadata": {},
   "outputs": [
    {
     "data": {
      "text/plain": [
       "31.93667007150153"
      ]
     },
     "execution_count": 66,
     "metadata": {},
     "output_type": "execute_result"
    }
   ],
   "source": [
    "# Basic descriptives: Outcome - hourly_rate\n",
    "all_table['hourly_rate'].mean()"
   ]
  },
  {
   "cell_type": "code",
   "execution_count": 67,
   "metadata": {},
   "outputs": [
    {
     "data": {
      "text/plain": [
       "<matplotlib.axes._subplots.AxesSubplot at 0x1a1fa79410>"
      ]
     },
     "execution_count": 67,
     "metadata": {},
     "output_type": "execute_result"
    },
    {
     "data": {
      "image/png": "[encoded data removed]",
      "text/plain": [
       "<Figure size 432x288 with 1 Axes>"
      ]
     },
     "metadata": {
      "needs_background": "light"
     },
     "output_type": "display_data"
    }
   ],
   "source": [
    "# Distribution\n",
    "sns.distplot(all_table['hourly_rate'])"
   ]
  },
  {
   "cell_type": "code",
   "execution_count": 68,
   "metadata": {},
   "outputs": [
    {
     "name": "stdout",
     "output_type": "stream",
     "text": [
      "Number of cities: 660\n",
      "Number of states: 50\n"
     ]
    }
   ],
   "source": [
    "# Number of different cities and states?\n",
    "print(\"Number of cities: \" + str(all_table['city'].nunique()))\n",
    "print(\"Number of states: \" + str(all_table['state'].nunique()))"
   ]
  },
  {
   "cell_type": "code",
   "execution_count": 70,
   "metadata": {},
   "outputs": [],
   "source": [
    "# All United States? Yes.\n",
    "#print(all_table['state'].drop_duplicates())"
   ]
  },
  {
   "cell_type": "code",
   "execution_count": 71,
   "metadata": {},
   "outputs": [],
   "source": [
    "# Can do much much much more from here:\n",
    "    # 1. Different cities\n",
    "        # - rate distribution by city?\n",
    "        # - Number of unique obs by city?\n",
    "        # - Create a map?\n",
    "    # 2. Inspect skills\n",
    "        # - Number of different skills?\n",
    "        # - Which skills are the most common? How does rate vary within those?\n",
    "        # - Group skills (???) and calculate hourly rate \n",
    "        #   distribution by those groupings\n",
    "    # 3. Inspect description\n",
    "        # - Text analysis of some kind.\n",
    "        # - Also will need to go back and scrape info from the user pages.\n",
    "        #   Could also try Selenium but may be faster to just scrape on static page.\n",
    "        #   Nvm. Will have to use Selenium."
   ]
  },
  {
   "cell_type": "markdown",
   "metadata": {},
   "source": [
    "### Inspecting the outcome (hourly rate) by state"
   ]
  },
  {
   "cell_type": "code",
   "execution_count": 72,
   "metadata": {},
   "outputs": [
    {
     "data": {
      "text/plain": [
       "<matplotlib.axes._subplots.AxesSubplot at 0x1a1f9c4d50>"
      ]
     },
     "execution_count": 72,
     "metadata": {},
     "output_type": "execute_result"
    },
    {
     "data": {
      "image/png": "[encoded data removed]",
      "text/plain": [
       "<Figure size 432x288 with 1 Axes>"
      ]
     },
     "metadata": {
      "needs_background": "light"
     },
     "output_type": "display_data"
    }
   ],
   "source": [
    "# Distribution of hourly rates by state?\n",
    "sns.distplot(all_table.drop_duplicates().groupby('state').mean()['hourly_rate'])\n",
    "\n",
    "# Pretty much a normal distrbution aside from a few outliers (who are they?)"
   ]
  },
  {
   "cell_type": "code",
   "execution_count": 74,
   "metadata": {},
   "outputs": [
    {
     "name": "stdout",
     "output_type": "stream",
     "text": [
      "Five states with the highest average hourly rates\n",
      "state\n",
      "Mississippi     104.000000\n",
      "Rhode Island     71.500000\n",
      "Montana          68.333333\n",
      "Vermont          49.800000\n",
      "Utah             47.500000\n",
      "Name: hourly_rate, dtype: float64\n",
      "Five states wit hteh lowest average hourly rates\n",
      "state\n",
      "North Dakota     8.000000\n",
      "Arkansas         9.142857\n",
      "Nebraska        16.666667\n",
      "Idaho           19.500000\n",
      "Puerto Rico     20.000000\n",
      "Name: hourly_rate, dtype: float64\n"
     ]
    }
   ],
   "source": [
    "# Top five states with highest average hourly rates\n",
    "print(\"Five states with the highest average hourly rates\")\n",
    "print(all_table.groupby('state').mean()['hourly_rate'].sort_values(ascending=False)[0:5,])\n",
    "print(\"Five states wit hteh lowest average hourly rates\")\n",
    "print(all_table.groupby('state').mean()['hourly_rate'].sort_values(ascending=True)[0:5,])\n",
    "\n",
    "# Well, here they are. Mississippi with a mean HR or 104! and then RI & MT ~= 70!\n",
    "# Similarly have a couple of low end states: ND and AK @ ~= 8.5\n",
    "# Everyone else respects the normal distribution"
   ]
  },
  {
   "cell_type": "code",
   "execution_count": 81,
   "metadata": {},
   "outputs": [
    {
     "name": "stdout",
     "output_type": "stream",
     "text": [
      "Counts of observations by state\n"
     ]
    },
    {
     "data": {
      "text/plain": [
       "<matplotlib.axes._subplots.AxesSubplot at 0x1a1f6d5e10>"
      ]
     },
     "execution_count": 81,
     "metadata": {},
     "output_type": "execute_result"
    },
    {
     "data": {
      "image/png": "[encoded data removed]",
      "text/plain": [
       "<Figure size 432x288 with 1 Axes>"
      ]
     },
     "metadata": {
      "needs_background": "light"
     },
     "output_type": "display_data"
    }
   ],
   "source": [
    "# What are the counts within each state?\n",
    "print(\"Counts of observations by state\")\n",
    "dt_tmp = all_table.groupby('state').count()['profile_url'].sort_values(ascending=False)\n",
    "sns.distplot(dt_tmp)\n",
    "\n",
    "# Ooof, really small obs in some states."
   ]
  },
  {
   "cell_type": "code",
   "execution_count": 88,
   "metadata": {},
   "outputs": [
    {
     "name": "stdout",
     "output_type": "stream",
     "text": [
      "Five states with lowest counts\n",
      "state\n",
      "North Dakota     1\n",
      "Wyoming          2\n",
      "West Virginia    2\n",
      "South Dakota     2\n",
      "Rhode Island     2\n",
      "Name: profile_url, dtype: int64\n",
      "Five states with largest counts\n",
      "state\n",
      "California      124\n",
      "Florida          97\n",
      "New York         74\n",
      "Texas            70\n",
      "Pennsylvania     49\n",
      "Name: profile_url, dtype: int64\n"
     ]
    }
   ],
   "source": [
    "# Counts within each state\n",
    "print(\"Five states with lowest counts\")\n",
    "print(all_table.groupby('state').count()['profile_url'].sort_values(ascending=True)[0:5])\n",
    "\n",
    "print(\"Five states with largest counts\")\n",
    "print(all_table.groupby('state').count()['profile_url'].sort_values(ascending=False)[0:5])\n",
    "\n",
    "# No one in some states and alot of people in other states . . ."
   ]
  },
  {
   "cell_type": "markdown",
   "metadata": {},
   "source": [
    "### Looking at \"Rating\""
   ]
  },
  {
   "cell_type": "code",
   "execution_count": 94,
   "metadata": {},
   "outputs": [
    {
     "ename": "AttributeError",
     "evalue": "'Series' object has no attribute 'to_numeric'",
     "output_type": "error",
     "traceback": [
      "\u001b[0;31m---------------------------------------------------------------------------\u001b[0m",
      "\u001b[0;31mAttributeError\u001b[0m                            Traceback (most recent call last)",
      "\u001b[0;32m<ipython-input-94-fa5b7a0fb3e7>\u001b[0m in \u001b[0;36m<module>\u001b[0;34m\u001b[0m\n\u001b[1;32m      1\u001b[0m \u001b[0;31m# Distrbution of ratings - First I have to clean it up\u001b[0m\u001b[0;34m\u001b[0m\u001b[0;34m\u001b[0m\u001b[0;34m\u001b[0m\u001b[0m\n\u001b[0;32m----> 2\u001b[0;31m \u001b[0mall_table\u001b[0m\u001b[0;34m.\u001b[0m\u001b[0mrating\u001b[0m \u001b[0;34m=\u001b[0m \u001b[0mall_table\u001b[0m\u001b[0;34m.\u001b[0m\u001b[0mrating\u001b[0m\u001b[0;34m.\u001b[0m\u001b[0mreplace\u001b[0m\u001b[0;34m(\u001b[0m\u001b[0;34m'$'\u001b[0m\u001b[0;34m,\u001b[0m\u001b[0;34m''\u001b[0m\u001b[0;34m)\u001b[0m\u001b[0;34m.\u001b[0m\u001b[0mto_numeric\u001b[0m\u001b[0;34m(\u001b[0m\u001b[0;34m)\u001b[0m\u001b[0;34m\u001b[0m\u001b[0;34m\u001b[0m\u001b[0m\n\u001b[0m",
      "\u001b[0;32m~/Desktop/Insight/projects/myrate/conda-env/lib/python3.7/site-packages/pandas/core/generic.py\u001b[0m in \u001b[0;36m__getattr__\u001b[0;34m(self, name)\u001b[0m\n\u001b[1;32m   5272\u001b[0m             \u001b[0;32mif\u001b[0m \u001b[0mself\u001b[0m\u001b[0;34m.\u001b[0m\u001b[0m_info_axis\u001b[0m\u001b[0;34m.\u001b[0m\u001b[0m_can_hold_identifiers_and_holds_name\u001b[0m\u001b[0;34m(\u001b[0m\u001b[0mname\u001b[0m\u001b[0;34m)\u001b[0m\u001b[0;34m:\u001b[0m\u001b[0;34m\u001b[0m\u001b[0;34m\u001b[0m\u001b[0m\n\u001b[1;32m   5273\u001b[0m                 \u001b[0;32mreturn\u001b[0m \u001b[0mself\u001b[0m\u001b[0;34m[\u001b[0m\u001b[0mname\u001b[0m\u001b[0;34m]\u001b[0m\u001b[0;34m\u001b[0m\u001b[0;34m\u001b[0m\u001b[0m\n\u001b[0;32m-> 5274\u001b[0;31m             \u001b[0;32mreturn\u001b[0m \u001b[0mobject\u001b[0m\u001b[0;34m.\u001b[0m\u001b[0m__getattribute__\u001b[0m\u001b[0;34m(\u001b[0m\u001b[0mself\u001b[0m\u001b[0;34m,\u001b[0m \u001b[0mname\u001b[0m\u001b[0;34m)\u001b[0m\u001b[0;34m\u001b[0m\u001b[0;34m\u001b[0m\u001b[0m\n\u001b[0m\u001b[1;32m   5275\u001b[0m \u001b[0;34m\u001b[0m\u001b[0m\n\u001b[1;32m   5276\u001b[0m     \u001b[0;32mdef\u001b[0m \u001b[0m__setattr__\u001b[0m\u001b[0;34m(\u001b[0m\u001b[0mself\u001b[0m\u001b[0;34m,\u001b[0m \u001b[0mname\u001b[0m\u001b[0;34m:\u001b[0m \u001b[0mstr\u001b[0m\u001b[0;34m,\u001b[0m \u001b[0mvalue\u001b[0m\u001b[0;34m)\u001b[0m \u001b[0;34m->\u001b[0m \u001b[0;32mNone\u001b[0m\u001b[0;34m:\u001b[0m\u001b[0;34m\u001b[0m\u001b[0;34m\u001b[0m\u001b[0m\n",
      "\u001b[0;31mAttributeError\u001b[0m: 'Series' object has no attribute 'to_numeric'"
     ]
    }
   ],
   "source": [
    "# Distrbution of ratings - First I have to clean it up\n",
    "all_table.rating = all_table.rating.replace('$','')."
   ]
  },
  {
   "cell_type": "code",
   "execution_count": null,
   "metadata": {},
   "outputs": [],
   "source": []
  },
  {
   "cell_type": "code",
   "execution_count": null,
   "metadata": {},
   "outputs": [],
   "source": []
  },
  {
   "cell_type": "code",
   "execution_count": null,
   "metadata": {},
   "outputs": [],
   "source": []
  },
  {
   "cell_type": "markdown",
   "metadata": {},
   "source": [
    "### Inspecting the number of skills and outcome by it"
   ]
  }
 ],
 "metadata": {
  "kernelspec": {
   "display_name": "Python 3",
   "language": "python",
   "name": "python3"
  },
  "language_info": {
   "codemirror_mode": {
    "name": "ipython",
    "version": 3
   },
   "file_extension": ".py",
   "mimetype": "text/x-python",
   "name": "python",
   "nbconvert_exporter": "python",
   "pygments_lexer": "ipython3",
   "version": "3.7.7"
  }
 },
 "nbformat": 4,
 "nbformat_minor": 4
}
