{
 "cells": [
  {
   "cell_type": "code",
   "execution_count": 51,
   "metadata": {},
   "outputs": [],
   "source": [
    "# Notes to self:\n",
    "# 6/2/20 - You left on working on skills cluster\n",
    "# Still need to figure out what your model is really going to be . . . "
   ]
  },
  {
   "cell_type": "code",
   "execution_count": 1,
   "metadata": {
    "scrolled": false
   },
   "outputs": [],
   "source": [
    "# Packages for EDA\n",
    "import pandas as pd\n",
    "import numpy as np\n",
    "import seaborn as sns\n",
    "import matplotlib.pyplot as plt\n",
    "from scipy import stats\n",
    "from datetime import datetime\n",
    "from nltk.corpus import stopwords\n",
    "\n",
    "# Packages for PostgreSQL Import and Export\n",
    "import psycopg2\n",
    "from sqlalchemy import create_engine\n",
    "from sqlalchemy_utils import database_exists, create_database\n",
    "\n",
    "# Custom packages with database connection information (Not working)\n",
    "    #from projectname.config import dbname, username, pswd"
   ]
  },
  {
   "cell_type": "code",
   "execution_count": 2,
   "metadata": {
    "scrolled": false
   },
   "outputs": [],
   "source": [
    "# Ideally I'll move this into the project config.py file\n",
    "# Otherwise for now I have to just manually assign . . .\n",
    "\n",
    "dbname = \"freelance_db\"\n",
    "username = \"Metaverse\"\n",
    "pswd = \"Arcifice91\""
   ]
  },
  {
   "cell_type": "code",
   "execution_count": 3,
   "metadata": {
    "scrolled": false
   },
   "outputs": [
    {
     "data": {
      "text/plain": [
       "0           freelance_db\n",
       "3          details_table\n",
       "4         analysis_table\n",
       "8     user_details_table\n",
       "21       freelance_table\n",
       "Name: table_name, dtype: object"
      ]
     },
     "execution_count": 3,
     "metadata": {},
     "output_type": "execute_result"
    }
   ],
   "source": [
    "# Connect to Data (from: scraping_data.ipynb)\n",
    "\n",
    "con = None\n",
    "con = psycopg2.connect(database = dbname, user = username, host='localhost', password=pswd)\n",
    "\n",
    "# Column reference\n",
    "sql_query = \"\"\"SELECT * FROM INFORMATION_SCHEMA.TABLES;\"\"\"\n",
    "col_ref = pd.read_sql_query(sql_query,con)\n",
    "col_ref[col_ref['table_schema'] == \"public\"]['table_name']"
   ]
  },
  {
   "cell_type": "code",
   "execution_count": 4,
   "metadata": {
    "scrolled": false
   },
   "outputs": [
    {
     "name": "stdout",
     "output_type": "stream",
     "text": [
      "(1020, 9)\n",
      "(4539, 10)\n"
     ]
    }
   ],
   "source": [
    "# Checking shapes of tables\n",
    "sql_query = \"\"\"SELECT * from user_details_table;\"\"\"\n",
    "dtls_table = pd.read_sql_query(sql_query, con)\n",
    "\n",
    "sql_query = \"\"\"SELECT * from freelance_table;\"\"\"\n",
    "fl_table = pd.read_sql_query(sql_query, con)\n",
    "\n",
    "print(dtls_table.shape)\n",
    "print(fl_table.shape)"
   ]
  },
  {
   "cell_type": "code",
   "execution_count": 5,
   "metadata": {
    "scrolled": false
   },
   "outputs": [],
   "source": [
    "# Creating merged dataset\n",
    "dtls_table['profile_url'] = \"https://www.guru.com\"+dtls_table['profile_url']"
   ]
  },
  {
   "cell_type": "code",
   "execution_count": 6,
   "metadata": {
    "scrolled": false
   },
   "outputs": [
    {
     "name": "stdout",
     "output_type": "stream",
     "text": [
      "(979, 17)\n"
     ]
    }
   ],
   "source": [
    "all_table = pd.merge(fl_table, dtls_table, on='profile_url')\n",
    "all_table.shape\n",
    "all_table = all_table.drop(columns=(['index_x']))\n",
    "all_table = all_table.drop_duplicates(subset='profile_url')\n",
    "print(all_table.shape)"
   ]
  },
  {
   "cell_type": "code",
   "execution_count": 7,
   "metadata": {
    "scrolled": false
   },
   "outputs": [],
   "source": [
    "# Merging in State Regions\n",
    "state_region_crswlk = pd.read_csv('~/Desktop/Insight/projects/myrate/data/raw/census-regions/us census bureau regions and divisions.csv')\n",
    "state_region_crswlk.head()\n",
    "\n",
    "all_table = pd.merge(all_table, state_region_crswlk, how='left', left_on='state', right_on='State')\n"
   ]
  },
  {
   "cell_type": "code",
   "execution_count": 8,
   "metadata": {
    "scrolled": false
   },
   "outputs": [
    {
     "name": "stdout",
     "output_type": "stream",
     "text": [
      "<class 'pandas.core.frame.DataFrame'>\n",
      "Int64Index: 979 entries, 0 to 978\n",
      "Data columns (total 21 columns):\n",
      " #   Column            Non-Null Count  Dtype \n",
      "---  ------            --------------  ----- \n",
      " 0   profile_url       979 non-null    object\n",
      " 1   city              979 non-null    object\n",
      " 2   state             979 non-null    object\n",
      " 3   country           979 non-null    object\n",
      " 4   rating            979 non-null    object\n",
      " 5   earnings          979 non-null    object\n",
      " 6   hourly_rate       979 non-null    int64 \n",
      " 7   skills_list       979 non-null    object\n",
      " 8   user_description  979 non-null    object\n",
      " 9   index_y           979 non-null    int64 \n",
      " 10  member_since      979 non-null    object\n",
      " 11  earnings_pst_yr   948 non-null    object\n",
      " 12  earnings_ever     948 non-null    object\n",
      " 13  employers         948 non-null    object\n",
      " 14  invoices_paid     948 non-null    object\n",
      " 15  largest_employ    948 non-null    object\n",
      " 16  bio               948 non-null    object\n",
      " 17  State             975 non-null    object\n",
      " 18  State Code        975 non-null    object\n",
      " 19  Region            975 non-null    object\n",
      " 20  Division          975 non-null    object\n",
      "dtypes: int64(2), object(19)\n",
      "memory usage: 168.3+ KB\n"
     ]
    }
   ],
   "source": [
    "all_table.info()"
   ]
  },
  {
   "cell_type": "code",
   "execution_count": 9,
   "metadata": {
    "scrolled": false
   },
   "outputs": [],
   "source": [
    "# Inspecting null merges with region data\n",
    "all_table[all_table['State'].isna()]\n",
    "    # Ah, it is someone in Puerto Rico. Making their Region \"Other\"\n",
    "all_table.loc[all_table['state'] == \"Puerto Rico\",'Region'] = \"Other\""
   ]
  },
  {
   "cell_type": "markdown",
   "metadata": {},
   "source": [
    "### EDA for 'all_table'"
   ]
  },
  {
   "cell_type": "code",
   "execution_count": 10,
   "metadata": {
    "scrolled": false
   },
   "outputs": [
    {
     "data": {
      "text/plain": [
       "31.93667007150153"
      ]
     },
     "execution_count": 10,
     "metadata": {},
     "output_type": "execute_result"
    }
   ],
   "source": [
    "# Basic descriptives: Outcome - hourly_rate\n",
    "all_table['hourly_rate'].mean()"
   ]
  },
  {
   "cell_type": "code",
   "execution_count": null,
   "metadata": {
    "scrolled": false
   },
   "outputs": [],
   "source": [
    "# Distribution\n",
    "sns.distplot(all_table['hourly_rate'])"
   ]
  },
  {
   "cell_type": "code",
   "execution_count": null,
   "metadata": {
    "scrolled": false
   },
   "outputs": [],
   "source": [
    "# Number of different cities and states?\n",
    "print(\"Number of cities: \" + str(all_table['city'].nunique()))\n",
    "print(\"Number of states: \" + str(all_table['state'].nunique()))"
   ]
  },
  {
   "cell_type": "code",
   "execution_count": null,
   "metadata": {
    "scrolled": false
   },
   "outputs": [],
   "source": [
    "# All United States? Yes.\n",
    "#print(all_table['state'].drop_duplicates())"
   ]
  },
  {
   "cell_type": "code",
   "execution_count": null,
   "metadata": {
    "scrolled": false
   },
   "outputs": [],
   "source": [
    "# Can do much much much more from here:\n",
    "    # 1. Different cities\n",
    "        # - rate distribution by city?\n",
    "        # - Number of unique obs by city?\n",
    "        # - Create a map?\n",
    "    # 2. Inspect skills\n",
    "        # - Number of different skills?\n",
    "        # - Which skills are the most common? How does rate vary within those?\n",
    "        # - Group skills (???) and calculate hourly rate \n",
    "        #   distribution by those groupings\n",
    "    # 3. Inspect description\n",
    "        # - Text analysis of some kind.\n",
    "        # - Also will need to go back and scrape info from the user pages.\n",
    "        #   Could also try Selenium but may be faster to just scrape on static page.\n",
    "        #   Nvm. Will have to use Selenium."
   ]
  },
  {
   "cell_type": "markdown",
   "metadata": {},
   "source": [
    "### Inspecting the outcome (hourly rate) by state"
   ]
  },
  {
   "cell_type": "code",
   "execution_count": null,
   "metadata": {
    "scrolled": false
   },
   "outputs": [],
   "source": [
    "# Distribution of hourly rates by state?\n",
    "sns.distplot(all_table.drop_duplicates().groupby('state').mean()['hourly_rate'])\n",
    "\n",
    "# Pretty much a normal distrbution aside from a few outliers (who are they?)"
   ]
  },
  {
   "cell_type": "code",
   "execution_count": null,
   "metadata": {
    "scrolled": false
   },
   "outputs": [],
   "source": [
    "# Top five states with highest average hourly rates\n",
    "print(\"Five states with the highest average hourly rates\")\n",
    "print(all_table.groupby('state').mean()['hourly_rate'].sort_values(ascending=False)[0:5,])\n",
    "print(\"Five states wit hteh lowest average hourly rates\")\n",
    "print(all_table.groupby('state').mean()['hourly_rate'].sort_values(ascending=True)[0:5,])\n",
    "\n",
    "# Well, here they are. Mississippi with a mean HR or 104! and then RI & MT ~= 70!\n",
    "# Similarly have a couple of low end states: ND and AK @ ~= 8.5\n",
    "# Everyone else respects the normal distribution"
   ]
  },
  {
   "cell_type": "code",
   "execution_count": null,
   "metadata": {
    "scrolled": false
   },
   "outputs": [],
   "source": [
    "# What are the counts within each state?\n",
    "print(\"Counts of observations by state\")\n",
    "dt_tmp = all_table.groupby('state').count()['profile_url'].sort_values(ascending=False)\n",
    "sns.distplot(dt_tmp)\n",
    "\n",
    "# Ooof, really small obs in some states."
   ]
  },
  {
   "cell_type": "code",
   "execution_count": null,
   "metadata": {
    "scrolled": false
   },
   "outputs": [],
   "source": [
    "# Counts within each state\n",
    "print(\"Five states with lowest counts\")\n",
    "print(all_table.groupby('state').count()['profile_url'].sort_values(ascending=True)[0:5])\n",
    "\n",
    "print(\"Five states with largest counts\")\n",
    "print(all_table.groupby('state').count()['profile_url'].sort_values(ascending=False)[0:5])\n",
    "\n",
    "# No one in some states and alot of people in other states . . ."
   ]
  },
  {
   "cell_type": "markdown",
   "metadata": {},
   "source": [
    "### Inspecting outcome by region\n",
    "\n",
    "Note: There doesn't seem to be a signal. Could we cut this up further though? Urban vs rural?"
   ]
  },
  {
   "cell_type": "code",
   "execution_count": null,
   "metadata": {
    "scrolled": false
   },
   "outputs": [],
   "source": [
    "# What is the distribution by region?\n",
    "sns.boxplot(x=\"Region\", y=\"hourly_rate\", data=all_table)\n",
    "\n",
    "# There doesn't seem to be much of a signal by region"
   ]
  },
  {
   "cell_type": "markdown",
   "metadata": {},
   "source": [
    "### Merging in City Data\n",
    "\n",
    "Lose 114 observations. . . would take some hand recoding to get them back.\n",
    "\n",
    "This merge isn't worth the effort right now."
   ]
  },
  {
   "cell_type": "code",
   "execution_count": null,
   "metadata": {
    "scrolled": false
   },
   "outputs": [],
   "source": [
    "# Merging in City Data - https://simplemaps.com/data/us-cities    \n",
    "# Data is unique at city | state_name\n",
    "# city_dt = pd.read_csv('/Users/Metaverse/Desktop/Insight/projects/myrate/data/raw/simplemaps_uscities_basicv1.6/uscities.csv')\n",
    "# city_dt['city'] = city_dt['city'].str.lower()\n",
    "# all_table['city'] = all_table['city'].str.lower()\n",
    "# all_table = pd.merge(all_table, city_dt,  how='left', left_on=['city','state'], right_on = ['city','state_name'])\n",
    "# all_table.info()\n"
   ]
  },
  {
   "cell_type": "markdown",
   "metadata": {},
   "source": [
    "### Looking at \"Rating\"\n",
    "\n",
    "Not much here either."
   ]
  },
  {
   "cell_type": "code",
   "execution_count": 11,
   "metadata": {
    "scrolled": false
   },
   "outputs": [],
   "source": [
    "# Distrbution of ratings - First I have to clean it up\n",
    "all_table.rating = all_table.rating.str.replace('%','')\n",
    "all_table.rating = all_table.rating.str.replace('NA','')\n",
    "all_table.rating = pd.to_numeric(all_table.rating)"
   ]
  },
  {
   "cell_type": "code",
   "execution_count": 12,
   "metadata": {},
   "outputs": [
    {
     "name": "stdout",
     "output_type": "stream",
     "text": [
      "68\n"
     ]
    },
    {
     "data": {
      "text/plain": [
       "count    911.000000\n",
       "mean      98.424040\n",
       "std       11.376479\n",
       "min        1.000000\n",
       "25%      100.000000\n",
       "50%      100.000000\n",
       "75%      100.000000\n",
       "max      100.000000\n",
       "Name: rating, dtype: float64"
      ]
     },
     "execution_count": 12,
     "metadata": {},
     "output_type": "execute_result"
    }
   ],
   "source": [
    "# Distribution of ratings (not there are a a good amount of NAS)\n",
    "print(all_table.rating.isna().sum())\n",
    "all_table.rating.describe()"
   ]
  },
  {
   "cell_type": "code",
   "execution_count": null,
   "metadata": {
    "scrolled": false
   },
   "outputs": [],
   "source": [
    "# All table connection to the outcome - Not very informative.\n",
    "sns.scatterplot(x=\"hourly_rate\", y=\"rating\", data=all_table)"
   ]
  },
  {
   "cell_type": "code",
   "execution_count": null,
   "metadata": {
    "scrolled": false
   },
   "outputs": [],
   "source": [
    "# Distribution of ratings by region? Nope, no relation\n",
    "sns.boxplot(x=\"Region\", y=\"rating\", data=all_table)"
   ]
  },
  {
   "cell_type": "markdown",
   "metadata": {},
   "source": [
    "### How long have they been a member? And how does it relate to the number of jobs completed?\n",
    "\n",
    "1. Convert member start date to a date object\n",
    "2. Calculate years / months they've been a member (to today)"
   ]
  },
  {
   "cell_type": "code",
   "execution_count": 13,
   "metadata": {},
   "outputs": [],
   "source": [
    "def date_convert(member_since):\n",
    "    try:\n",
    "        tmp = datetime.strptime(member_since, '%b, %Y')\n",
    "        #tmp = tmp.strftime('%Y-%m')\n",
    "    except:\n",
    "        tmp = 'NaN'\n",
    "    return tmp"
   ]
  },
  {
   "cell_type": "code",
   "execution_count": 14,
   "metadata": {},
   "outputs": [],
   "source": [
    "def years_active(date):\n",
    "    cur_year = datetime.now().year\n",
    "    try:\n",
    "        yrs_active = cur_year - date.year\n",
    "    except:\n",
    "        yrs_active = 'NaN'\n",
    "    \n",
    "    return yrs_active"
   ]
  },
  {
   "cell_type": "code",
   "execution_count": 15,
   "metadata": {},
   "outputs": [],
   "source": [
    "def months_active(date):\n",
    "    cur_year = datetime.now().year\n",
    "    cur_month = datetime.now().month\n",
    "    \n",
    "    try:\n",
    "        mnths_active = (cur_year - date.year)*12 + (cur_month - date.month)\n",
    "    except:\n",
    "        mnths_active = 'NaN'\n",
    "        \n",
    "    return mnths_active"
   ]
  },
  {
   "cell_type": "code",
   "execution_count": 16,
   "metadata": {},
   "outputs": [
    {
     "data": {
      "text/plain": [
       "21"
      ]
     },
     "execution_count": 16,
     "metadata": {},
     "output_type": "execute_result"
    }
   ],
   "source": [
    "# How many NAs are there?\n",
    "all_table.member_since[all_table.member_since == 'NA'].count()"
   ]
  },
  {
   "cell_type": "code",
   "execution_count": 17,
   "metadata": {},
   "outputs": [],
   "source": [
    "# Converting member_since to date\n",
    "all_table.member_since = all_table.member_since.str.strip()\n",
    "all_table['start_date'] = all_table.member_since.apply(date_convert)\n",
    "all_table['years_active'] = all_table.start_date.apply(years_active)\n",
    "all_table['months_active'] = all_table.start_date.apply(months_active)"
   ]
  },
  {
   "cell_type": "code",
   "execution_count": 18,
   "metadata": {},
   "outputs": [
    {
     "data": {
      "text/plain": [
       "31"
      ]
     },
     "execution_count": 18,
     "metadata": {},
     "output_type": "execute_result"
    }
   ],
   "source": [
    "# Checking the NAs\n",
    "all_table.start_date.isna().sum()\n",
    "\n",
    "# Just going to drop these people for now (later when creating analysis data)"
   ]
  },
  {
   "cell_type": "code",
   "execution_count": null,
   "metadata": {},
   "outputs": [],
   "source": [
    "# Exploring distribution of years active\n",
    "sns.distplot(all_table.years_active)"
   ]
  },
  {
   "cell_type": "code",
   "execution_count": null,
   "metadata": {},
   "outputs": [],
   "source": [
    "# Exploring distribution of months active\n",
    "sns.distplot(all_table.months_active)"
   ]
  },
  {
   "cell_type": "code",
   "execution_count": null,
   "metadata": {},
   "outputs": [],
   "source": [
    "# Discussing distributions of years active\n",
    "    # Pretty similar, heavy towards the low end with some people\n",
    "    # who have been active for a very long time.\n",
    "\n"
   ]
  },
  {
   "cell_type": "code",
   "execution_count": null,
   "metadata": {},
   "outputs": [],
   "source": [
    "# How does it compare with hourly rate? Not much there.\n",
    "sns.scatterplot(x = 'hourly_rate', y = 'years_active', data = all_table)"
   ]
  },
  {
   "cell_type": "code",
   "execution_count": null,
   "metadata": {},
   "outputs": [],
   "source": [
    "sns.scatterplot(x = 'hourly_rate', y = 'months_active', data = all_table)"
   ]
  },
  {
   "cell_type": "code",
   "execution_count": null,
   "metadata": {},
   "outputs": [],
   "source": [
    "# What about by region? I don't think there would be much here. Not worth the investment."
   ]
  },
  {
   "cell_type": "markdown",
   "metadata": {},
   "source": [
    "### Moving on to invoices rate"
   ]
  },
  {
   "cell_type": "code",
   "execution_count": 19,
   "metadata": {},
   "outputs": [
    {
     "data": {
      "text/plain": [
       "count     948.000000\n",
       "mean       91.079114\n",
       "std       405.295216\n",
       "min         1.000000\n",
       "25%         3.000000\n",
       "50%        11.500000\n",
       "75%        54.250000\n",
       "max      9802.000000\n",
       "Name: invoices_paid, dtype: float64"
      ]
     },
     "execution_count": 19,
     "metadata": {},
     "output_type": "execute_result"
    }
   ],
   "source": [
    "# What about the (obvious) relationship between memebershp time and # of jobs completed\n",
    "# How strong is the relationship?\n",
    "# First have to clean the invoices paid variable\n",
    "all_table.invoices_paid = all_table.invoices_paid.str.replace(',','')\n",
    "all_table.invoices_paid = pd.to_numeric(all_table.invoices_paid)\n",
    "all_table.invoices_paid.describe()"
   ]
  },
  {
   "cell_type": "code",
   "execution_count": 20,
   "metadata": {},
   "outputs": [
    {
     "data": {
      "text/html": [
       "<div>\n",
       "<style scoped>\n",
       "    .dataframe tbody tr th:only-of-type {\n",
       "        vertical-align: middle;\n",
       "    }\n",
       "\n",
       "    .dataframe tbody tr th {\n",
       "        vertical-align: top;\n",
       "    }\n",
       "\n",
       "    .dataframe thead th {\n",
       "        text-align: right;\n",
       "    }\n",
       "</style>\n",
       "<table border=\"1\" class=\"dataframe\">\n",
       "  <thead>\n",
       "    <tr style=\"text-align: right;\">\n",
       "      <th></th>\n",
       "      <th>profile_url</th>\n",
       "      <th>city</th>\n",
       "      <th>state</th>\n",
       "      <th>country</th>\n",
       "      <th>rating</th>\n",
       "      <th>earnings</th>\n",
       "      <th>hourly_rate</th>\n",
       "      <th>skills_list</th>\n",
       "      <th>user_description</th>\n",
       "      <th>index_y</th>\n",
       "      <th>...</th>\n",
       "      <th>invoices_paid</th>\n",
       "      <th>largest_employ</th>\n",
       "      <th>bio</th>\n",
       "      <th>State</th>\n",
       "      <th>State Code</th>\n",
       "      <th>Region</th>\n",
       "      <th>Division</th>\n",
       "      <th>start_date</th>\n",
       "      <th>years_active</th>\n",
       "      <th>months_active</th>\n",
       "    </tr>\n",
       "  </thead>\n",
       "  <tbody>\n",
       "    <tr>\n",
       "      <th>947</th>\n",
       "      <td>https://www.guru.com/freelancers/melvis-molindo</td>\n",
       "      <td>Adelphi</td>\n",
       "      <td>Maryland</td>\n",
       "      <td>United States</td>\n",
       "      <td>NaN</td>\n",
       "      <td>NA</td>\n",
       "      <td>13</td>\n",
       "      <td>Customer Service</td>\n",
       "      <td>Seeking to obtain a rewarding and challenging ...</td>\n",
       "      <td>8</td>\n",
       "      <td>...</td>\n",
       "      <td>NaN</td>\n",
       "      <td>None</td>\n",
       "      <td>None</td>\n",
       "      <td>Maryland</td>\n",
       "      <td>MD</td>\n",
       "      <td>South</td>\n",
       "      <td>South Atlantic</td>\n",
       "      <td>NaT</td>\n",
       "      <td>NaN</td>\n",
       "      <td>NaN</td>\n",
       "    </tr>\n",
       "    <tr>\n",
       "      <th>948</th>\n",
       "      <td>https://www.guru.com/freelancers/earl-rouse</td>\n",
       "      <td>New York</td>\n",
       "      <td>New York</td>\n",
       "      <td>United States</td>\n",
       "      <td>NaN</td>\n",
       "      <td>NA</td>\n",
       "      <td>25</td>\n",
       "      <td>Photography</td>\n",
       "      <td>A New York City Photographer specializing in e...</td>\n",
       "      <td>9</td>\n",
       "      <td>...</td>\n",
       "      <td>NaN</td>\n",
       "      <td>None</td>\n",
       "      <td>None</td>\n",
       "      <td>New York</td>\n",
       "      <td>NY</td>\n",
       "      <td>Northeast</td>\n",
       "      <td>Middle Atlantic</td>\n",
       "      <td>NaT</td>\n",
       "      <td>NaN</td>\n",
       "      <td>NaN</td>\n",
       "    </tr>\n",
       "    <tr>\n",
       "      <th>949</th>\n",
       "      <td>https://www.guru.com/freelancers/jacquetta-bom...</td>\n",
       "      <td>Dunwoody</td>\n",
       "      <td>Georgia</td>\n",
       "      <td>United States</td>\n",
       "      <td>NaN</td>\n",
       "      <td>NA</td>\n",
       "      <td>10</td>\n",
       "      <td>Admin Assistant</td>\n",
       "      <td>I have over  6 1/2 years of experience in the ...</td>\n",
       "      <td>10</td>\n",
       "      <td>...</td>\n",
       "      <td>NaN</td>\n",
       "      <td>None</td>\n",
       "      <td>None</td>\n",
       "      <td>Georgia</td>\n",
       "      <td>GA</td>\n",
       "      <td>South</td>\n",
       "      <td>South Atlantic</td>\n",
       "      <td>NaT</td>\n",
       "      <td>NaN</td>\n",
       "      <td>NaN</td>\n",
       "    </tr>\n",
       "    <tr>\n",
       "      <th>950</th>\n",
       "      <td>https://www.guru.com/freelancers/shelley-jennings</td>\n",
       "      <td>Chicago</td>\n",
       "      <td>Illinois</td>\n",
       "      <td>United States</td>\n",
       "      <td>NaN</td>\n",
       "      <td>NA</td>\n",
       "      <td>13</td>\n",
       "      <td>Administrative Assistant</td>\n",
       "      <td>Over 45 years of experience in customer suppor...</td>\n",
       "      <td>11</td>\n",
       "      <td>...</td>\n",
       "      <td>NaN</td>\n",
       "      <td>None</td>\n",
       "      <td>None</td>\n",
       "      <td>Illinois</td>\n",
       "      <td>IL</td>\n",
       "      <td>Midwest</td>\n",
       "      <td>East North Central</td>\n",
       "      <td>NaT</td>\n",
       "      <td>NaN</td>\n",
       "      <td>NaN</td>\n",
       "    </tr>\n",
       "    <tr>\n",
       "      <th>951</th>\n",
       "      <td>https://www.guru.com/freelancers/brian-pegram</td>\n",
       "      <td>Hernando</td>\n",
       "      <td>Mississippi</td>\n",
       "      <td>United States</td>\n",
       "      <td>NaN</td>\n",
       "      <td>NA</td>\n",
       "      <td>200</td>\n",
       "      <td>Penetration Testing</td>\n",
       "      <td>This is the first in  a series of Penetration ...</td>\n",
       "      <td>12</td>\n",
       "      <td>...</td>\n",
       "      <td>NaN</td>\n",
       "      <td>None</td>\n",
       "      <td>None</td>\n",
       "      <td>Mississippi</td>\n",
       "      <td>MS</td>\n",
       "      <td>South</td>\n",
       "      <td>East South Central</td>\n",
       "      <td>NaT</td>\n",
       "      <td>NaN</td>\n",
       "      <td>NaN</td>\n",
       "    </tr>\n",
       "  </tbody>\n",
       "</table>\n",
       "<p>5 rows × 24 columns</p>\n",
       "</div>"
      ],
      "text/plain": [
       "                                           profile_url      city        state  \\\n",
       "947    https://www.guru.com/freelancers/melvis-molindo   Adelphi     Maryland   \n",
       "948        https://www.guru.com/freelancers/earl-rouse  New York     New York   \n",
       "949  https://www.guru.com/freelancers/jacquetta-bom...  Dunwoody      Georgia   \n",
       "950  https://www.guru.com/freelancers/shelley-jennings   Chicago     Illinois   \n",
       "951      https://www.guru.com/freelancers/brian-pegram  Hernando  Mississippi   \n",
       "\n",
       "           country  rating earnings  hourly_rate               skills_list  \\\n",
       "947  United States     NaN       NA           13          Customer Service   \n",
       "948  United States     NaN       NA           25               Photography   \n",
       "949  United States     NaN       NA           10           Admin Assistant   \n",
       "950  United States     NaN       NA           13  Administrative Assistant   \n",
       "951  United States     NaN       NA          200       Penetration Testing   \n",
       "\n",
       "                                      user_description  index_y  ...  \\\n",
       "947  Seeking to obtain a rewarding and challenging ...        8  ...   \n",
       "948  A New York City Photographer specializing in e...        9  ...   \n",
       "949  I have over  6 1/2 years of experience in the ...       10  ...   \n",
       "950  Over 45 years of experience in customer suppor...       11  ...   \n",
       "951  This is the first in  a series of Penetration ...       12  ...   \n",
       "\n",
       "    invoices_paid largest_employ   bio        State  State Code     Region  \\\n",
       "947           NaN           None  None     Maryland          MD      South   \n",
       "948           NaN           None  None     New York          NY  Northeast   \n",
       "949           NaN           None  None      Georgia          GA      South   \n",
       "950           NaN           None  None     Illinois          IL    Midwest   \n",
       "951           NaN           None  None  Mississippi          MS      South   \n",
       "\n",
       "               Division start_date years_active months_active  \n",
       "947      South Atlantic        NaT          NaN           NaN  \n",
       "948     Middle Atlantic        NaT          NaN           NaN  \n",
       "949      South Atlantic        NaT          NaN           NaN  \n",
       "950  East North Central        NaT          NaN           NaN  \n",
       "951  East South Central        NaT          NaN           NaN  \n",
       "\n",
       "[5 rows x 24 columns]"
      ]
     },
     "execution_count": 20,
     "metadata": {},
     "output_type": "execute_result"
    }
   ],
   "source": [
    "# Who is NA? I have a whole bunch of 1s but then some NAs?\n",
    "# The question for a poisson model is: did they just have no invoices OR\n",
    "# were they never going to have any invoices.\n",
    "# Looked at some of them and I'll treat them as zeros. So there are really that many ones?!?\n",
    "all_table[all_table.invoices_paid.isna()].head()"
   ]
  },
  {
   "cell_type": "code",
   "execution_count": 21,
   "metadata": {},
   "outputs": [],
   "source": [
    "# Assigning zero to the NAs. This is important!!\n",
    "all_table.loc[all_table.invoices_paid.isna(), 'invoices_paid'] = 0"
   ]
  },
  {
   "cell_type": "code",
   "execution_count": 22,
   "metadata": {},
   "outputs": [
    {
     "data": {
      "text/plain": [
       "<matplotlib.axes._subplots.AxesSubplot at 0x1a18545990>"
      ]
     },
     "execution_count": 22,
     "metadata": {},
     "output_type": "execute_result"
    },
    {
     "data": {
      "image/png": "[encoded data removed]",
      "text/plain": [
       "<Figure size 432x288 with 1 Axes>"
      ]
     },
     "metadata": {
      "needs_background": "light"
     },
     "output_type": "display_data"
    }
   ],
   "source": [
    "sns.distplot(all_table.invoices_paid)"
   ]
  },
  {
   "cell_type": "code",
   "execution_count": 23,
   "metadata": {},
   "outputs": [
    {
     "data": {
      "text/plain": [
       "count     979.000000\n",
       "mean       88.195097\n",
       "std       399.139186\n",
       "min         0.000000\n",
       "25%         2.000000\n",
       "50%        10.000000\n",
       "75%        50.000000\n",
       "max      9802.000000\n",
       "Name: invoices_paid, dtype: float64"
      ]
     },
     "execution_count": 23,
     "metadata": {},
     "output_type": "execute_result"
    }
   ],
   "source": [
    "# Wow, very heavy on the zeros. Let's look closer.\n",
    "all_table.invoices_paid.describe()"
   ]
  },
  {
   "cell_type": "code",
   "execution_count": null,
   "metadata": {},
   "outputs": [],
   "source": [
    "# Ah, so it is truncating at one.\n",
    "# This is going to be problematic for those who are actually at a value of one.\n",
    "# I can either rerun the scrape and create something to make the val = 0\n",
    "# or I can just move forward. . . \n",
    "\n",
    "# For now I'm going to keep moving forward and treat 1 as 0.\n",
    "# Note, it is more likely than not that they are = 0"
   ]
  },
  {
   "cell_type": "code",
   "execution_count": null,
   "metadata": {},
   "outputs": [],
   "source": []
  },
  {
   "cell_type": "code",
   "execution_count": null,
   "metadata": {},
   "outputs": [],
   "source": [
    "# Checking dist vs months active (no 1s)\n",
    "sns.scatterplot(x = 'months_active', y = 'invoices_paid', data = all_table[all_table.invoices_paid > 1])"
   ]
  },
  {
   "cell_type": "code",
   "execution_count": null,
   "metadata": {},
   "outputs": [],
   "source": [
    "# A few massive outliers. Going to rough chop it down and replot\n",
    "invoice_gtr_one = all_table.invoices_paid > 1\n",
    "invoice_ls_2000 = all_table.invoices_paid < 2000\n",
    "sns.scatterplot(x = 'months_active', y = 'invoices_paid', data = all_table[invoice_gtr_one & invoice_ls_2000])"
   ]
  },
  {
   "cell_type": "code",
   "execution_count": null,
   "metadata": {},
   "outputs": [],
   "source": [
    "# hmm, there may be a slight signal but you would expect a stronger trend"
   ]
  },
  {
   "cell_type": "code",
   "execution_count": null,
   "metadata": {},
   "outputs": [],
   "source": [
    "# Checking dist vs years active (no 1s)\n",
    "sns.scatterplot(x = 'years_active', y = 'invoices_paid', data = all_table[invoice_gtr_one & invoice_ls_2000])\n",
    "# Slight postive non-linear trend bu there is a HUGE outlier"
   ]
  },
  {
   "cell_type": "markdown",
   "metadata": {},
   "source": [
    "### Invoices Paid - Notes\n",
    "\n",
    "It has a weak-ish relationship with time. There are a lot of really heavy users of the platform that dominate the market. Let's zoom into the first year and see what it looks like."
   ]
  },
  {
   "cell_type": "code",
   "execution_count": null,
   "metadata": {},
   "outputs": [],
   "source": [
    "# Looking at invoices pad in the first few months (among those only active for a shorter period of time)\n",
    "sns.scatterplot(x = 'months_active',\n",
    "                y = 'invoices_paid',\n",
    "                data = all_table[all_table['years_active'] < 2] )"
   ]
  },
  {
   "cell_type": "code",
   "execution_count": 22,
   "metadata": {},
   "outputs": [
    {
     "name": "stdout",
     "output_type": "stream",
     "text": [
      "count    948.000000\n",
      "mean       1.073220\n",
      "std        2.652725\n",
      "min        0.004237\n",
      "25%        0.113167\n",
      "50%        0.333333\n",
      "75%        1.000000\n",
      "max       48.285714\n",
      "Name: invoices_per_month, dtype: float64\n"
     ]
    },
    {
     "data": {
      "image/png": "[encoded data removed]",
      "text/plain": [
       "<Figure size 432x288 with 1 Axes>"
      ]
     },
     "metadata": {
      "needs_background": "light"
     },
     "output_type": "display_data"
    }
   ],
   "source": [
    "# Calculating invoices / time active\n",
    "all_table['invoices_per_month'] = all_table['invoices_paid']/all_table['months_active']\n",
    "sns.distplot(all_table.invoices_per_month)\n",
    "print(all_table.invoices_per_month.describe())"
   ]
  },
  {
   "cell_type": "code",
   "execution_count": null,
   "metadata": {},
   "outputs": [],
   "source": [
    "# Loaded on zero with a long tail. Continues to sell that there are some serious power users.\n",
    "# Average invoice per month is equal to one, but I left in the 1s that could be zeros. . .\n",
    "# Real average is likely near zero.\n",
    "\n",
    "# The question now is: Does this mean differ by any characteristic that I observe in the data?\n",
    "# For people with a different skill set (Andriod) do they have a higher mean invoice/month rate?\n",
    "# For people in different regions do they have a higher mean invoice/month rate?\n",
    "# For people with lower hourly rates do they have a higher mean invoice/month rate??\n",
    "\n",
    "# The next important step is to figure out how to use the skills data.\n",
    "# It would be great to try and create clusters of the skills."
   ]
  },
  {
   "cell_type": "markdown",
   "metadata": {},
   "source": [
    "### Working with Skills Data\n",
    "\n",
    "1. Obtain the dataset that is long by skills and shrink it down to just the skills. I'll work with that for this.\n",
    "2. Create some quick features such as: # of skills and top skill. These are user level so I can attach them back to all_table to have everything in one place.\n",
    "\n",
    "Note: the skills are standardized on guru which makes this more straightforward"
   ]
  },
  {
   "cell_type": "code",
   "execution_count": 44,
   "metadata": {},
   "outputs": [],
   "source": [
    "sql_query = \"\"\"SELECT profile_url, skills_list from freelance_table;\"\"\"\n",
    "skills_table = pd.read_sql_query(sql_query, con)\n",
    "skills_table_dummies = pd.get_dummies(skills_table, columns=['skills_list']).groupby(['profile_url'], as_index=False).sum()"
   ]
  },
  {
   "cell_type": "code",
   "execution_count": 45,
   "metadata": {},
   "outputs": [
    {
     "data": {
      "text/plain": [
       "count    979.000000\n",
       "mean       4.636364\n",
       "std        0.940209\n",
       "min        1.000000\n",
       "25%        5.000000\n",
       "50%        5.000000\n",
       "75%        5.000000\n",
       "max        5.000000\n",
       "Name: skills_list, dtype: float64"
      ]
     },
     "execution_count": 45,
     "metadata": {},
     "output_type": "execute_result"
    }
   ],
   "source": [
    "# Number of skills\n",
    "num_skills = skills_table.groupby('profile_url').count()\n",
    "num_skills.skills_list.describe()\n",
    "\n",
    "# Relatively uninformative because everyone maxes out the number of skilsl they can have.\n",
    "# However, I may be able to get some predictive power off the small group of people who have < 5 skills."
   ]
  },
  {
   "cell_type": "code",
   "execution_count": 46,
   "metadata": {},
   "outputs": [],
   "source": [
    "# Flagging those with < 5 skills\n",
    "num_skills['less_five_skills'] = (num_skills.skills_list < 5) * 1"
   ]
  },
  {
   "cell_type": "code",
   "execution_count": 47,
   "metadata": {},
   "outputs": [
    {
     "data": {
      "text/html": [
       "<div>\n",
       "<style scoped>\n",
       "    .dataframe tbody tr th:only-of-type {\n",
       "        vertical-align: middle;\n",
       "    }\n",
       "\n",
       "    .dataframe tbody tr th {\n",
       "        vertical-align: top;\n",
       "    }\n",
       "\n",
       "    .dataframe thead th {\n",
       "        text-align: right;\n",
       "    }\n",
       "</style>\n",
       "<table border=\"1\" class=\"dataframe\">\n",
       "  <thead>\n",
       "    <tr style=\"text-align: right;\">\n",
       "      <th></th>\n",
       "      <th>profile_url</th>\n",
       "      <th>first_skill</th>\n",
       "    </tr>\n",
       "  </thead>\n",
       "  <tbody>\n",
       "    <tr>\n",
       "      <th>0</th>\n",
       "      <td>https://www.guru.com/freelancers/scopic</td>\n",
       "      <td>Angular</td>\n",
       "    </tr>\n",
       "    <tr>\n",
       "      <th>5</th>\n",
       "      <td>https://www.guru.com/freelancers/top-guru-assi...</td>\n",
       "      <td>Android</td>\n",
       "    </tr>\n",
       "    <tr>\n",
       "      <th>10</th>\n",
       "      <td>https://www.guru.com/freelancers/eden-programm...</td>\n",
       "      <td>Android</td>\n",
       "    </tr>\n",
       "    <tr>\n",
       "      <th>15</th>\n",
       "      <td>https://www.guru.com/freelancers/avion-technol...</td>\n",
       "      <td>.NET</td>\n",
       "    </tr>\n",
       "    <tr>\n",
       "      <th>20</th>\n",
       "      <td>https://www.guru.com/freelancers/j-consulting</td>\n",
       "      <td>.NET</td>\n",
       "    </tr>\n",
       "  </tbody>\n",
       "</table>\n",
       "</div>"
      ],
      "text/plain": [
       "                                          profile_url first_skill\n",
       "0             https://www.guru.com/freelancers/scopic     Angular\n",
       "5   https://www.guru.com/freelancers/top-guru-assi...     Android\n",
       "10  https://www.guru.com/freelancers/eden-programm...     Android\n",
       "15  https://www.guru.com/freelancers/avion-technol...        .NET\n",
       "20      https://www.guru.com/freelancers/j-consulting        .NET"
      ]
     },
     "execution_count": 47,
     "metadata": {},
     "output_type": "execute_result"
    }
   ],
   "source": [
    "# Extracting First Skill\n",
    "first_skill = skills_table[skills_table.groupby('profile_url')['skills_list'].cumcount() == 0]\n",
    "first_skill = first_skill.rename(columns = {\"profile_url\":\"profile_url\", \"skills_list\":\"first_skill\"})\n",
    "first_skill.head()"
   ]
  },
  {
   "cell_type": "code",
   "execution_count": 48,
   "metadata": {},
   "outputs": [
    {
     "data": {
      "text/html": [
       "<div>\n",
       "<style scoped>\n",
       "    .dataframe tbody tr th:only-of-type {\n",
       "        vertical-align: middle;\n",
       "    }\n",
       "\n",
       "    .dataframe tbody tr th {\n",
       "        vertical-align: top;\n",
       "    }\n",
       "\n",
       "    .dataframe thead th {\n",
       "        text-align: right;\n",
       "    }\n",
       "</style>\n",
       "<table border=\"1\" class=\"dataframe\">\n",
       "  <thead>\n",
       "    <tr style=\"text-align: right;\">\n",
       "      <th></th>\n",
       "      <th>profile_url</th>\n",
       "      <th>skills_list</th>\n",
       "      <th>less_five_skills</th>\n",
       "      <th>first_skill</th>\n",
       "    </tr>\n",
       "  </thead>\n",
       "  <tbody>\n",
       "    <tr>\n",
       "      <th>0</th>\n",
       "      <td>https://www.guru.com/freelancers/35-year-edito...</td>\n",
       "      <td>5</td>\n",
       "      <td>0</td>\n",
       "      <td>Book Editing</td>\n",
       "    </tr>\n",
       "    <tr>\n",
       "      <th>1</th>\n",
       "      <td>https://www.guru.com/freelancers/64c-it-services</td>\n",
       "      <td>5</td>\n",
       "      <td>0</td>\n",
       "      <td>.NET</td>\n",
       "    </tr>\n",
       "    <tr>\n",
       "      <th>2</th>\n",
       "      <td>https://www.guru.com/freelancers/7-design-group</td>\n",
       "      <td>5</td>\n",
       "      <td>0</td>\n",
       "      <td>Adobe InDesign</td>\n",
       "    </tr>\n",
       "    <tr>\n",
       "      <th>3</th>\n",
       "      <td>https://www.guru.com/freelancers/86-keys-commu...</td>\n",
       "      <td>5</td>\n",
       "      <td>0</td>\n",
       "      <td>Acrobat</td>\n",
       "    </tr>\n",
       "    <tr>\n",
       "      <th>4</th>\n",
       "      <td>https://www.guru.com/freelancers/a-few-wordsworth</td>\n",
       "      <td>5</td>\n",
       "      <td>0</td>\n",
       "      <td>Acting</td>\n",
       "    </tr>\n",
       "  </tbody>\n",
       "</table>\n",
       "</div>"
      ],
      "text/plain": [
       "                                         profile_url  skills_list  \\\n",
       "0  https://www.guru.com/freelancers/35-year-edito...            5   \n",
       "1   https://www.guru.com/freelancers/64c-it-services            5   \n",
       "2    https://www.guru.com/freelancers/7-design-group            5   \n",
       "3  https://www.guru.com/freelancers/86-keys-commu...            5   \n",
       "4  https://www.guru.com/freelancers/a-few-wordsworth            5   \n",
       "\n",
       "   less_five_skills     first_skill  \n",
       "0                 0    Book Editing  \n",
       "1                 0            .NET  \n",
       "2                 0  Adobe InDesign  \n",
       "3                 0         Acrobat  \n",
       "4                 0          Acting  "
      ]
     },
     "execution_count": 48,
     "metadata": {},
     "output_type": "execute_result"
    }
   ],
   "source": [
    "num_skills = pd.merge(num_skills, first_skill, on = 'profile_url')\n",
    "num_skills.head()"
   ]
  },
  {
   "cell_type": "code",
   "execution_count": 30,
   "metadata": {},
   "outputs": [],
   "source": [
    "# Merging into all_table\n",
    "all_table = pd.merge(all_table, num_skills, on = \"profile_url\")"
   ]
  },
  {
   "cell_type": "markdown",
   "metadata": {},
   "source": [
    "### Working on clustering the skills"
   ]
  },
  {
   "cell_type": "code",
   "execution_count": null,
   "metadata": {},
   "outputs": [],
   "source": [
    "# Working with the skills dummies: Clustering\n",
    "    # K-means is for numeric data\n",
    "    # Frequent item sets seems to be a good one?\n",
    "    # What I want to do is group people with similar vectors . . \n",
    "    # So the position of their ones are exactly the same . . .\n",
    "    # Kernel? "
   ]
  },
  {
   "cell_type": "markdown",
   "metadata": {},
   "source": [
    "### Starting the process of using the \"bio\" data\n",
    "\n",
    "1. The easiest variable to create is the len(bio)\n",
    "2. I'll have to try and expand it more using some other techniques"
   ]
  },
  {
   "cell_type": "code",
   "execution_count": 87,
   "metadata": {},
   "outputs": [],
   "source": [
    "def clean_bio(bio):\n",
    "    try:\n",
    "        cleaned_bio = ''.join(s for s in bio if ord(s)>31 and ord(s)<126)\n",
    "    except:\n",
    "        cleaned_bio = \"NaN\"\n",
    "    return cleaned_bio"
   ]
  },
  {
   "cell_type": "code",
   "execution_count": 88,
   "metadata": {},
   "outputs": [],
   "source": [
    "def len_bio(bio):\n",
    "    if bio == \"NaN\":\n",
    "        return 0\n",
    "    else:\n",
    "        return len(bio)"
   ]
  },
  {
   "cell_type": "code",
   "execution_count": 89,
   "metadata": {},
   "outputs": [],
   "source": [
    "all_table['bio_clean'] = all_table.bio.apply(clean_bio)"
   ]
  },
  {
   "cell_type": "code",
   "execution_count": 90,
   "metadata": {},
   "outputs": [],
   "source": [
    "all_table['bio_length'] = all_table.bio_clean.apply(len_bio)"
   ]
  },
  {
   "cell_type": "code",
   "execution_count": null,
   "metadata": {},
   "outputs": [],
   "source": [
    "# Looking at the distrbution of bio lengths\n",
    "sns.distplot(all_table.bio_length)\n",
    "\n",
    "# Nothing crazy, lots of 0s but a good number of people with bios."
   ]
  },
  {
   "cell_type": "code",
   "execution_count": null,
   "metadata": {},
   "outputs": [],
   "source": [
    "# How does it relate to invoices / month?\n",
    "sns.scatterplot(x = 'bio_length',\n",
    "                y = 'invoices_per_month',\n",
    "                data = all_table)\n",
    "\n",
    "# It's weak but I'll keep it for now"
   ]
  },
  {
   "cell_type": "code",
   "execution_count": 110,
   "metadata": {},
   "outputs": [],
   "source": [
    "# Number of separate words in bio\n",
    "all_table['bio_word_count'] = all_table['bio_clean'].apply(lambda x: len(str(x).split(\" \")))"
   ]
  },
  {
   "cell_type": "code",
   "execution_count": 94,
   "metadata": {},
   "outputs": [],
   "source": [
    "# Average word length in bio\n",
    "def avg_word_ln(bio):\n",
    "    try:\n",
    "        words = bio.split()\n",
    "        res = (sum(len(word) for word in words)/len(words))\n",
    "    except:\n",
    "        res = 0\n",
    "    return res"
   ]
  },
  {
   "cell_type": "code",
   "execution_count": 95,
   "metadata": {},
   "outputs": [],
   "source": [
    "all_table['avg_word_length'] = all_table['bio_clean'].apply(avg_word_ln)"
   ]
  },
  {
   "cell_type": "code",
   "execution_count": 96,
   "metadata": {},
   "outputs": [],
   "source": [
    "# Number of stop words\n",
    "def num_stopwords(bio):\n",
    "    stop = stopwords.words('english')\n",
    "\n",
    "    try:\n",
    "        res = len([x for x in bio.split() if x in stop])\n",
    "    except:\n",
    "        res = -1\n",
    "    \n",
    "    return res"
   ]
  },
  {
   "cell_type": "code",
   "execution_count": 97,
   "metadata": {},
   "outputs": [],
   "source": [
    "all_table['num_stop'] = all_table['bio_clean'].apply(num_stopwords)"
   ]
  },
  {
   "cell_type": "code",
   "execution_count": 112,
   "metadata": {},
   "outputs": [],
   "source": [
    "# Preprocessing before pulling more features\n",
    "\n",
    "# Remvoing stop words\n",
    "stop = stopwords.words('english')\n",
    "all_table['bio_processed'] = all_table['bio_clean'].apply(lambda x: \" \".join(x for x in x.split() if x not in stop))\n",
    "\n",
    "# Removing punctuation\n",
    "all_table['bio_processed'] = all_table['bio_processed'].str.replace('[^\\w\\s]','')\n",
    "\n",
    "# Lower Case\n",
    "all_table['bio_processed'] = all_table['bio_processed'].apply(lambda x: \" \".join(x.lower() for x in x.split()))"
   ]
  },
  {
   "cell_type": "markdown",
   "metadata": {},
   "source": [
    "### Some final cleaning"
   ]
  },
  {
   "cell_type": "code",
   "execution_count": null,
   "metadata": {},
   "outputs": [],
   "source": [
    "# Making Region into dummy variables\n",
    "region_dummies = pd.get_dummies(all_table['Region'])\n",
    "all_table = pd.concat([all_table, region_dummies], axis = 1)"
   ]
  },
  {
   "cell_type": "code",
   "execution_count": 131,
   "metadata": {},
   "outputs": [],
   "source": [
    "# Earnings per Month\n",
    "all_table['earnings_ever'] = all_table['earnings_ever'].str.replace('$','')\n",
    "all_table['earnings_ever'] = all_table['earnings_ever'].str.replace(',','')\n",
    "all_table['earnings_ever'] = pd.to_numeric(all_table['earnings_ever'])\n",
    "all_table['earnings_pr_month'] = all_table['earnings_ever']/all_table['months_active']"
   ]
  },
  {
   "cell_type": "markdown",
   "metadata": {},
   "source": [
    "### Saving out Modified Dataset\n",
    "\n",
    "1. First printing the columns I have for reference.\n",
    "2. Saving it to a new table in the postgreSQL database"
   ]
  },
  {
   "cell_type": "code",
   "execution_count": 133,
   "metadata": {},
   "outputs": [
    {
     "name": "stdout",
     "output_type": "stream",
     "text": [
      "<class 'pandas.core.frame.DataFrame'>\n",
      "Int64Index: 979 entries, 0 to 978\n",
      "Data columns (total 40 columns):\n",
      " #   Column              Non-Null Count  Dtype         \n",
      "---  ------              --------------  -----         \n",
      " 0   profile_url         979 non-null    object        \n",
      " 1   city                979 non-null    object        \n",
      " 2   state               979 non-null    object        \n",
      " 3   country             979 non-null    object        \n",
      " 4   rating              911 non-null    float64       \n",
      " 5   earnings            979 non-null    object        \n",
      " 6   hourly_rate         979 non-null    int64         \n",
      " 7   skills_list_x       979 non-null    object        \n",
      " 8   user_description    979 non-null    object        \n",
      " 9   index_y             979 non-null    int64         \n",
      " 10  member_since        979 non-null    object        \n",
      " 11  earnings_pst_yr     948 non-null    object        \n",
      " 12  earnings_ever       948 non-null    float64       \n",
      " 13  employers           948 non-null    object        \n",
      " 14  invoices_paid       979 non-null    float64       \n",
      " 15  largest_employ      948 non-null    object        \n",
      " 16  bio                 948 non-null    object        \n",
      " 17  State               975 non-null    object        \n",
      " 18  State Code          975 non-null    object        \n",
      " 19  Region              979 non-null    object        \n",
      " 20  Division            975 non-null    object        \n",
      " 21  start_date          948 non-null    datetime64[ns]\n",
      " 22  years_active        948 non-null    float64       \n",
      " 23  months_active       948 non-null    float64       \n",
      " 24  invoices_per_month  948 non-null    float64       \n",
      " 25  skills_list_y       979 non-null    int64         \n",
      " 26  less_five_skills    979 non-null    int64         \n",
      " 27  first_skill         979 non-null    object        \n",
      " 28  bio_clean           979 non-null    object        \n",
      " 29  bio_length          979 non-null    int64         \n",
      " 30  bio_word_count      979 non-null    int64         \n",
      " 31  avg_word_length     979 non-null    float64       \n",
      " 32  num_stop            979 non-null    int64         \n",
      " 33  bio_processed       979 non-null    object        \n",
      " 34  Midwest             979 non-null    uint8         \n",
      " 35  Northeast           979 non-null    uint8         \n",
      " 36  Other               979 non-null    uint8         \n",
      " 37  South               979 non-null    uint8         \n",
      " 38  West                979 non-null    uint8         \n",
      " 39  earnings_pr_month   948 non-null    float64       \n",
      "dtypes: datetime64[ns](1), float64(8), int64(7), object(19), uint8(5)\n",
      "memory usage: 320.1+ KB\n"
     ]
    }
   ],
   "source": [
    "all_table.info()"
   ]
  },
  {
   "cell_type": "code",
   "execution_count": 135,
   "metadata": {},
   "outputs": [
    {
     "name": "stdout",
     "output_type": "stream",
     "text": [
      "<class 'pandas.core.frame.DataFrame'>\n",
      "Int64Index: 948 entries, 0 to 978\n",
      "Data columns (total 15 columns):\n",
      " #   Column              Non-Null Count  Dtype  \n",
      "---  ------              --------------  -----  \n",
      " 0   invoices_per_month  948 non-null    float64\n",
      " 1   hourly_rate         948 non-null    int64  \n",
      " 2   earnings_pst_yr     948 non-null    object \n",
      " 3   earnings_pr_month   948 non-null    float64\n",
      " 4   Midwest             948 non-null    uint8  \n",
      " 5   Northeast           948 non-null    uint8  \n",
      " 6   South               948 non-null    uint8  \n",
      " 7   Other               948 non-null    uint8  \n",
      " 8   West                948 non-null    uint8  \n",
      " 9   less_five_skills    948 non-null    int64  \n",
      " 10  bio_length          948 non-null    int64  \n",
      " 11  bio_word_count      948 non-null    int64  \n",
      " 12  avg_word_length     948 non-null    float64\n",
      " 13  num_stop            948 non-null    int64  \n",
      " 14  bio_processed       948 non-null    object \n",
      "dtypes: float64(3), int64(5), object(2), uint8(5)\n",
      "memory usage: 86.1+ KB\n"
     ]
    }
   ],
   "source": [
    "# Cleaning to just variables that will be used in the model\n",
    "analysis_dt = all_table[['invoices_per_month','hourly_rate','earnings_pst_yr','earnings_pr_month',\n",
    "                         'Midwest','Northeast','South','Other','West','less_five_skills','bio_length',\n",
    "                         'bio_word_count', 'avg_word_length', 'num_stop', 'bio_processed']]\n",
    "analysis_dt = analysis_dt.dropna() # Removing people with NA\n",
    "analysis_dt.info()"
   ]
  },
  {
   "cell_type": "code",
   "execution_count": 136,
   "metadata": {},
   "outputs": [],
   "source": [
    "# Connect to the database and save data to it\n",
    "engine = create_engine('postgresql://%s:%s@localhost/%s'%(username,pswd,dbname))"
   ]
  },
  {
   "cell_type": "code",
   "execution_count": 137,
   "metadata": {},
   "outputs": [],
   "source": [
    "analysis_dt.to_sql(\"analysis_table\", engine, if_exists='replace')"
   ]
  }
 ],
 "metadata": {
  "kernelspec": {
   "display_name": "Python 3",
   "language": "python",
   "name": "python3"
  },
  "language_info": {
   "codemirror_mode": {
    "name": "ipython",
    "version": 3
   },
   "file_extension": ".py",
   "mimetype": "text/x-python",
   "name": "python",
   "nbconvert_exporter": "python",
   "pygments_lexer": "ipython3",
   "version": "3.7.7"
  }
 },
 "nbformat": 4,
 "nbformat_minor": 4
}
