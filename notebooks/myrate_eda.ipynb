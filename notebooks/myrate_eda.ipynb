{
 "cells": [
  {
   "cell_type": "code",
   "execution_count": 123,
   "metadata": {
    "scrolled": false
   },
   "outputs": [],
   "source": [
    "# Packages for EDA\n",
    "import pandas as pd\n",
    "import numpy as np\n",
    "import seaborn as sns\n",
    "import matplotlib.pyplot as plt\n",
    "from scipy import stats\n",
    "from datetime import datetime\n",
    "\n",
    "# Packages for PostgreSQL Import\n",
    "import psycopg2\n",
    "\n",
    "# Custom packages with database connection information (Not working)\n",
    "    #from projectname.config import dbname, username, pswd"
   ]
  },
  {
   "cell_type": "code",
   "execution_count": 12,
   "metadata": {
    "scrolled": false
   },
   "outputs": [],
   "source": [
    "# Ideally I'll move this into the project config.py file\n",
    "# Otherwise for now I have to just manually assign . . .\n",
    "\n",
    "dbname = \"freelance_db\"\n",
    "username = \"Metaverse\"\n",
    "pswd = \"Arcifice91\""
   ]
  },
  {
   "cell_type": "code",
   "execution_count": 13,
   "metadata": {
    "scrolled": false
   },
   "outputs": [
    {
     "data": {
      "text/plain": [
       "0           freelance_db\n",
       "3          details_table\n",
       "7     user_details_table\n",
       "20       freelance_table\n",
       "Name: table_name, dtype: object"
      ]
     },
     "execution_count": 13,
     "metadata": {},
     "output_type": "execute_result"
    }
   ],
   "source": [
    "# Connect to Data (from: scraping_data.ipynb)\n",
    "\n",
    "con = None\n",
    "con = psycopg2.connect(database = dbname, user = username, host='localhost', password=pswd)\n",
    "\n",
    "# Column reference\n",
    "sql_query = \"\"\"SELECT * FROM INFORMATION_SCHEMA.TABLES;\"\"\"\n",
    "col_ref = pd.read_sql_query(sql_query,con)\n",
    "col_ref[col_ref['table_schema'] == \"public\"]['table_name']"
   ]
  },
  {
   "cell_type": "code",
   "execution_count": 14,
   "metadata": {
    "scrolled": false
   },
   "outputs": [
    {
     "name": "stdout",
     "output_type": "stream",
     "text": [
      "(1020, 9)\n",
      "(4539, 10)\n"
     ]
    }
   ],
   "source": [
    "# Checking shapes of tables\n",
    "sql_query = \"\"\"SELECT * from user_details_table;\"\"\"\n",
    "dtls_table = pd.read_sql_query(sql_query, con)\n",
    "\n",
    "sql_query = \"\"\"SELECT * from freelance_table;\"\"\"\n",
    "fl_table = pd.read_sql_query(sql_query, con)\n",
    "\n",
    "print(dtls_table.shape)\n",
    "print(fl_table.shape)"
   ]
  },
  {
   "cell_type": "code",
   "execution_count": 15,
   "metadata": {
    "scrolled": false
   },
   "outputs": [],
   "source": [
    "# Creating merged dataset\n",
    "dtls_table['profile_url'] = \"https://www.guru.com\"+dtls_table['profile_url']"
   ]
  },
  {
   "cell_type": "code",
   "execution_count": 174,
   "metadata": {
    "scrolled": false
   },
   "outputs": [
    {
     "name": "stdout",
     "output_type": "stream",
     "text": [
      "(979, 17)\n"
     ]
    }
   ],
   "source": [
    "all_table = pd.merge(fl_table, dtls_table, on='profile_url')\n",
    "all_table.shape\n",
    "all_table = all_table.drop(columns=(['index_x']))\n",
    "all_table = all_table.drop_duplicates(subset='profile_url')\n",
    "print(all_table.shape)"
   ]
  },
  {
   "cell_type": "code",
   "execution_count": 175,
   "metadata": {
    "scrolled": false
   },
   "outputs": [],
   "source": [
    "# Merging in State Regions\n",
    "state_region_crswlk = pd.read_csv('~/Desktop/Insight/projects/myrate/data/raw/census-regions/us census bureau regions and divisions.csv')\n",
    "state_region_crswlk.head()\n",
    "\n",
    "all_table = pd.merge(all_table, state_region_crswlk, how='left', left_on='state', right_on='State')\n"
   ]
  },
  {
   "cell_type": "code",
   "execution_count": 176,
   "metadata": {
    "scrolled": false
   },
   "outputs": [
    {
     "name": "stdout",
     "output_type": "stream",
     "text": [
      "<class 'pandas.core.frame.DataFrame'>\n",
      "Int64Index: 979 entries, 0 to 978\n",
      "Data columns (total 21 columns):\n",
      " #   Column            Non-Null Count  Dtype \n",
      "---  ------            --------------  ----- \n",
      " 0   profile_url       979 non-null    object\n",
      " 1   city              979 non-null    object\n",
      " 2   state             979 non-null    object\n",
      " 3   country           979 non-null    object\n",
      " 4   rating            979 non-null    object\n",
      " 5   earnings          979 non-null    object\n",
      " 6   hourly_rate       979 non-null    int64 \n",
      " 7   skills_list       979 non-null    object\n",
      " 8   user_description  979 non-null    object\n",
      " 9   index_y           979 non-null    int64 \n",
      " 10  member_since      979 non-null    object\n",
      " 11  earnings_pst_yr   948 non-null    object\n",
      " 12  earnings_ever     948 non-null    object\n",
      " 13  employers         948 non-null    object\n",
      " 14  invoices_paid     948 non-null    object\n",
      " 15  largest_employ    948 non-null    object\n",
      " 16  bio               948 non-null    object\n",
      " 17  State             975 non-null    object\n",
      " 18  State Code        975 non-null    object\n",
      " 19  Region            975 non-null    object\n",
      " 20  Division          975 non-null    object\n",
      "dtypes: int64(2), object(19)\n",
      "memory usage: 168.3+ KB\n"
     ]
    }
   ],
   "source": [
    "all_table.info()"
   ]
  },
  {
   "cell_type": "code",
   "execution_count": 47,
   "metadata": {
    "scrolled": false
   },
   "outputs": [],
   "source": [
    "# Inspecting null merges with region data\n",
    "all_table[all_table['State'].isna()]\n",
    "    # Ah, it is someone in Puerto Rico. Making their Region \"Other\"\n",
    "all_table.loc[all_table['state'] == \"Puerto Rico\",'Region'] = \"Other\""
   ]
  },
  {
   "cell_type": "markdown",
   "metadata": {},
   "source": [
    "### EDA for 'all_table'"
   ]
  },
  {
   "cell_type": "code",
   "execution_count": 66,
   "metadata": {
    "scrolled": false
   },
   "outputs": [
    {
     "data": {
      "text/plain": [
       "31.93667007150153"
      ]
     },
     "execution_count": 66,
     "metadata": {},
     "output_type": "execute_result"
    }
   ],
   "source": [
    "# Basic descriptives: Outcome - hourly_rate\n",
    "all_table['hourly_rate'].mean()"
   ]
  },
  {
   "cell_type": "code",
   "execution_count": 67,
   "metadata": {
    "scrolled": false
   },
   "outputs": [
    {
     "data": {
      "text/plain": [
       "<matplotlib.axes._subplots.AxesSubplot at 0x1a1fa79410>"
      ]
     },
     "execution_count": 67,
     "metadata": {},
     "output_type": "execute_result"
    },
    {
     "data": {
      "image/png": "[encoded data removed]",
      "text/plain": [
       "<Figure size 432x288 with 1 Axes>"
      ]
     },
     "metadata": {
      "needs_background": "light"
     },
     "output_type": "display_data"
    }
   ],
   "source": [
    "# Distribution\n",
    "sns.distplot(all_table['hourly_rate'])"
   ]
  },
  {
   "cell_type": "code",
   "execution_count": 68,
   "metadata": {
    "scrolled": false
   },
   "outputs": [
    {
     "name": "stdout",
     "output_type": "stream",
     "text": [
      "Number of cities: 660\n",
      "Number of states: 50\n"
     ]
    }
   ],
   "source": [
    "# Number of different cities and states?\n",
    "print(\"Number of cities: \" + str(all_table['city'].nunique()))\n",
    "print(\"Number of states: \" + str(all_table['state'].nunique()))"
   ]
  },
  {
   "cell_type": "code",
   "execution_count": 70,
   "metadata": {
    "scrolled": false
   },
   "outputs": [],
   "source": [
    "# All United States? Yes.\n",
    "#print(all_table['state'].drop_duplicates())"
   ]
  },
  {
   "cell_type": "code",
   "execution_count": 71,
   "metadata": {
    "scrolled": false
   },
   "outputs": [],
   "source": [
    "# Can do much much much more from here:\n",
    "    # 1. Different cities\n",
    "        # - rate distribution by city?\n",
    "        # - Number of unique obs by city?\n",
    "        # - Create a map?\n",
    "    # 2. Inspect skills\n",
    "        # - Number of different skills?\n",
    "        # - Which skills are the most common? How does rate vary within those?\n",
    "        # - Group skills (???) and calculate hourly rate \n",
    "        #   distribution by those groupings\n",
    "    # 3. Inspect description\n",
    "        # - Text analysis of some kind.\n",
    "        # - Also will need to go back and scrape info from the user pages.\n",
    "        #   Could also try Selenium but may be faster to just scrape on static page.\n",
    "        #   Nvm. Will have to use Selenium."
   ]
  },
  {
   "cell_type": "markdown",
   "metadata": {},
   "source": [
    "### Inspecting the outcome (hourly rate) by state"
   ]
  },
  {
   "cell_type": "code",
   "execution_count": 72,
   "metadata": {
    "scrolled": false
   },
   "outputs": [
    {
     "data": {
      "text/plain": [
       "<matplotlib.axes._subplots.AxesSubplot at 0x1a1f9c4d50>"
      ]
     },
     "execution_count": 72,
     "metadata": {},
     "output_type": "execute_result"
    },
    {
     "data": {
      "image/png": "[encoded data removed]",
      "text/plain": [
       "<Figure size 432x288 with 1 Axes>"
      ]
     },
     "metadata": {
      "needs_background": "light"
     },
     "output_type": "display_data"
    }
   ],
   "source": [
    "# Distribution of hourly rates by state?\n",
    "sns.distplot(all_table.drop_duplicates().groupby('state').mean()['hourly_rate'])\n",
    "\n",
    "# Pretty much a normal distrbution aside from a few outliers (who are they?)"
   ]
  },
  {
   "cell_type": "code",
   "execution_count": 74,
   "metadata": {
    "scrolled": false
   },
   "outputs": [
    {
     "name": "stdout",
     "output_type": "stream",
     "text": [
      "Five states with the highest average hourly rates\n",
      "state\n",
      "Mississippi     104.000000\n",
      "Rhode Island     71.500000\n",
      "Montana          68.333333\n",
      "Vermont          49.800000\n",
      "Utah             47.500000\n",
      "Name: hourly_rate, dtype: float64\n",
      "Five states wit hteh lowest average hourly rates\n",
      "state\n",
      "North Dakota     8.000000\n",
      "Arkansas         9.142857\n",
      "Nebraska        16.666667\n",
      "Idaho           19.500000\n",
      "Puerto Rico     20.000000\n",
      "Name: hourly_rate, dtype: float64\n"
     ]
    }
   ],
   "source": [
    "# Top five states with highest average hourly rates\n",
    "print(\"Five states with the highest average hourly rates\")\n",
    "print(all_table.groupby('state').mean()['hourly_rate'].sort_values(ascending=False)[0:5,])\n",
    "print(\"Five states wit hteh lowest average hourly rates\")\n",
    "print(all_table.groupby('state').mean()['hourly_rate'].sort_values(ascending=True)[0:5,])\n",
    "\n",
    "# Well, here they are. Mississippi with a mean HR or 104! and then RI & MT ~= 70!\n",
    "# Similarly have a couple of low end states: ND and AK @ ~= 8.5\n",
    "# Everyone else respects the normal distribution"
   ]
  },
  {
   "cell_type": "code",
   "execution_count": 81,
   "metadata": {
    "scrolled": false
   },
   "outputs": [
    {
     "name": "stdout",
     "output_type": "stream",
     "text": [
      "Counts of observations by state\n"
     ]
    },
    {
     "data": {
      "text/plain": [
       "<matplotlib.axes._subplots.AxesSubplot at 0x1a1f6d5e10>"
      ]
     },
     "execution_count": 81,
     "metadata": {},
     "output_type": "execute_result"
    },
    {
     "data": {
      "image/png": "[encoded data removed]",
      "text/plain": [
       "<Figure size 432x288 with 1 Axes>"
      ]
     },
     "metadata": {
      "needs_background": "light"
     },
     "output_type": "display_data"
    }
   ],
   "source": [
    "# What are the counts within each state?\n",
    "print(\"Counts of observations by state\")\n",
    "dt_tmp = all_table.groupby('state').count()['profile_url'].sort_values(ascending=False)\n",
    "sns.distplot(dt_tmp)\n",
    "\n",
    "# Ooof, really small obs in some states."
   ]
  },
  {
   "cell_type": "code",
   "execution_count": 88,
   "metadata": {
    "scrolled": false
   },
   "outputs": [
    {
     "name": "stdout",
     "output_type": "stream",
     "text": [
      "Five states with lowest counts\n",
      "state\n",
      "North Dakota     1\n",
      "Wyoming          2\n",
      "West Virginia    2\n",
      "South Dakota     2\n",
      "Rhode Island     2\n",
      "Name: profile_url, dtype: int64\n",
      "Five states with largest counts\n",
      "state\n",
      "California      124\n",
      "Florida          97\n",
      "New York         74\n",
      "Texas            70\n",
      "Pennsylvania     49\n",
      "Name: profile_url, dtype: int64\n"
     ]
    }
   ],
   "source": [
    "# Counts within each state\n",
    "print(\"Five states with lowest counts\")\n",
    "print(all_table.groupby('state').count()['profile_url'].sort_values(ascending=True)[0:5])\n",
    "\n",
    "print(\"Five states with largest counts\")\n",
    "print(all_table.groupby('state').count()['profile_url'].sort_values(ascending=False)[0:5])\n",
    "\n",
    "# No one in some states and alot of people in other states . . ."
   ]
  },
  {
   "cell_type": "markdown",
   "metadata": {},
   "source": [
    "### Inspecting outcome by region\n",
    "\n",
    "Note: There doesn't seem to be a signal. Could we cut this up further though? Urban vs rural?"
   ]
  },
  {
   "cell_type": "code",
   "execution_count": 40,
   "metadata": {
    "scrolled": false
   },
   "outputs": [
    {
     "data": {
      "text/plain": [
       "<matplotlib.axes._subplots.AxesSubplot at 0x1a1aa40bd0>"
      ]
     },
     "execution_count": 40,
     "metadata": {},
     "output_type": "execute_result"
    },
    {
     "data": {
      "image/png": "[encoded data removed]",
      "text/plain": [
       "<Figure size 432x288 with 1 Axes>"
      ]
     },
     "metadata": {
      "needs_background": "light"
     },
     "output_type": "display_data"
    }
   ],
   "source": [
    "# What is the distribution by region?\n",
    "sns.boxplot(x=\"Region\", y=\"hourly_rate\", data=all_table)\n",
    "\n",
    "# There doesn't seem to be much of a signal by region"
   ]
  },
  {
   "cell_type": "markdown",
   "metadata": {},
   "source": [
    "### Merging in City Data\n",
    "\n",
    "Lose 114 observations. . . would take some hand recoding to get them back.\n",
    "\n",
    "This merge isn't worth the effort right now."
   ]
  },
  {
   "cell_type": "code",
   "execution_count": 94,
   "metadata": {
    "scrolled": false
   },
   "outputs": [],
   "source": [
    "# Merging in City Data - https://simplemaps.com/data/us-cities    \n",
    "# Data is unique at city | state_name\n",
    "# city_dt = pd.read_csv('/Users/Metaverse/Desktop/Insight/projects/myrate/data/raw/simplemaps_uscities_basicv1.6/uscities.csv')\n",
    "# city_dt['city'] = city_dt['city'].str.lower()\n",
    "# all_table['city'] = all_table['city'].str.lower()\n",
    "# all_table = pd.merge(all_table, city_dt,  how='left', left_on=['city','state'], right_on = ['city','state_name'])\n",
    "# all_table.info()\n"
   ]
  },
  {
   "cell_type": "markdown",
   "metadata": {},
   "source": [
    "### Looking at \"Rating\"\n",
    "\n",
    "Not much here either."
   ]
  },
  {
   "cell_type": "code",
   "execution_count": 159,
   "metadata": {
    "scrolled": false
   },
   "outputs": [],
   "source": [
    "# Distrbution of ratings - First I have to clean it up\n",
    "all_table.rating = all_table.rating.str.replace('%','')\n",
    "all_table.rating = all_table.rating.str.replace('NA','')\n",
    "all_table.rating = pd.to_numeric(all_table.rating)"
   ]
  },
  {
   "cell_type": "code",
   "execution_count": 160,
   "metadata": {},
   "outputs": [
    {
     "name": "stdout",
     "output_type": "stream",
     "text": [
      "68\n"
     ]
    },
    {
     "data": {
      "text/plain": [
       "count    911.000000\n",
       "mean      98.424040\n",
       "std       11.376479\n",
       "min        1.000000\n",
       "25%      100.000000\n",
       "50%      100.000000\n",
       "75%      100.000000\n",
       "max      100.000000\n",
       "Name: rating, dtype: float64"
      ]
     },
     "execution_count": 160,
     "metadata": {},
     "output_type": "execute_result"
    }
   ],
   "source": [
    "# Distribution of ratings (not there are a a good amount of NAS)\n",
    "print(all_table.rating.isna().sum())\n",
    "all_table.rating.describe()"
   ]
  },
  {
   "cell_type": "code",
   "execution_count": 161,
   "metadata": {
    "scrolled": false
   },
   "outputs": [
    {
     "data": {
      "text/plain": [
       "<matplotlib.axes._subplots.AxesSubplot at 0x1a1d515c10>"
      ]
     },
     "execution_count": 161,
     "metadata": {},
     "output_type": "execute_result"
    },
    {
     "data": {
      "image/png": "[encoded data removed]",
      "text/plain": [
       "<Figure size 432x288 with 1 Axes>"
      ]
     },
     "metadata": {
      "needs_background": "light"
     },
     "output_type": "display_data"
    }
   ],
   "source": [
    "# All table connection to the outcome - Not very informative.\n",
    "sns.scatterplot(x=\"hourly_rate\", y=\"rating\", data=all_table)"
   ]
  },
  {
   "cell_type": "code",
   "execution_count": 162,
   "metadata": {
    "scrolled": false
   },
   "outputs": [
    {
     "data": {
      "text/plain": [
       "<matplotlib.axes._subplots.AxesSubplot at 0x1a1d52dc50>"
      ]
     },
     "execution_count": 162,
     "metadata": {},
     "output_type": "execute_result"
    },
    {
     "data": {
      "image/png": "[encoded data removed]",
      "text/plain": [
       "<Figure size 432x288 with 1 Axes>"
      ]
     },
     "metadata": {
      "needs_background": "light"
     },
     "output_type": "display_data"
    }
   ],
   "source": [
    "# Distribution of ratings by region? Nope, no relation\n",
    "sns.boxplot(x=\"Region\", y=\"rating\", data=all_table)"
   ]
  },
  {
   "cell_type": "markdown",
   "metadata": {},
   "source": [
    "### How long have they been a member?\n",
    "\n",
    "1. Convert member start date to a date object\n",
    "2. Calculate years / months they've been a member (to today)"
   ]
  },
  {
   "cell_type": "code",
   "execution_count": 196,
   "metadata": {},
   "outputs": [],
   "source": [
    "def date_convert(member_since):\n",
    "    try:\n",
    "        tmp = datetime.strptime(member_since, '%b, %Y')\n",
    "        #tmp = tmp.strftime('%Y-%m')\n",
    "    except:\n",
    "        tmp = 'NaN'\n",
    "    return tmp"
   ]
  },
  {
   "cell_type": "code",
   "execution_count": 209,
   "metadata": {},
   "outputs": [],
   "source": [
    "def years_active(date):\n",
    "    cur_year = datetime.now().year\n",
    "    try:\n",
    "        yrs_active = cur_year - date.year\n",
    "    except:\n",
    "        yrs_active = 'NaN'\n",
    "    \n",
    "    return yrs_active"
   ]
  },
  {
   "cell_type": "code",
   "execution_count": 215,
   "metadata": {},
   "outputs": [],
   "source": [
    "def months_active(date):\n",
    "    cur_year = datetime.now().year\n",
    "    cur_month = datetime.now().month\n",
    "    \n",
    "    try:\n",
    "        mnths_active = (cur_year - date.year)*12 + (cur_month - date.month)\n",
    "    except:\n",
    "        mnths_active = 'NaN'\n",
    "        \n",
    "    return mnths_active"
   ]
  },
  {
   "cell_type": "code",
   "execution_count": 197,
   "metadata": {},
   "outputs": [
    {
     "data": {
      "text/plain": [
       "21"
      ]
     },
     "execution_count": 197,
     "metadata": {},
     "output_type": "execute_result"
    }
   ],
   "source": [
    "# How many NAs are there?\n",
    "all_table.member_since[all_table.member_since == 'NA'].count()"
   ]
  },
  {
   "cell_type": "code",
   "execution_count": 216,
   "metadata": {},
   "outputs": [],
   "source": [
    "# Converting member_since to date\n",
    "all_table.member_since = all_table.member_since.str.strip()\n",
    "all_table['start_date'] = all_table.member_since.apply(date_convert)\n",
    "all_table['years_active'] = all_table.start_date.apply(years_active)\n",
    "all_table['months_active'] = all_table.start_date.apply(months_active)"
   ]
  },
  {
   "cell_type": "code",
   "execution_count": null,
   "metadata": {},
   "outputs": [],
   "source": []
  },
  {
   "cell_type": "code",
   "execution_count": null,
   "metadata": {},
   "outputs": [],
   "source": []
  },
  {
   "cell_type": "markdown",
   "metadata": {},
   "source": [
    "### Inspecting the number of skills and outcome by it"
   ]
  }
 ],
 "metadata": {
  "kernelspec": {
   "display_name": "Python 3",
   "language": "python",
   "name": "python3"
  },
  "language_info": {
   "codemirror_mode": {
    "name": "ipython",
    "version": 3
   },
   "file_extension": ".py",
   "mimetype": "text/x-python",
   "name": "python",
   "nbconvert_exporter": "python",
   "pygments_lexer": "ipython3",
   "version": "3.7.6"
  }
 },
 "nbformat": 4,
 "nbformat_minor": 4
}
