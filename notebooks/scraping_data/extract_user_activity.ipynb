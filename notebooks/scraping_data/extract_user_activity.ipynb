{
 "cells": [
  {
   "cell_type": "markdown",
   "metadata": {},
   "source": [
    "# Scraping User Activity\n",
    "\n",
    "I'm trying to identify who the active users are on the market. Going to scrape the number of jobs that they have quouted in the last 30 days and use that as a measure of their activity"
   ]
  },
  {
   "cell_type": "markdown",
   "metadata": {},
   "source": [
    "# Importing Libraries"
   ]
  },
  {
   "cell_type": "code",
   "execution_count": 1,
   "metadata": {},
   "outputs": [],
   "source": [
    "# Packages for Scraping\n",
    "from bs4 import BeautifulSoup\n",
    "import requests\n",
    "import random\n",
    "\n",
    "# Packages for cleaning Data\n",
    "import re\n",
    "import pandas as pd\n",
    "import numpy as np\n",
    "import time\n",
    "\n",
    "# Packages for PostgreSQL Import\n",
    "# from sqlalchemy import create_engine\n",
    "# from sqlalchemy_utils import database_exists, create_database\n",
    "# import psycopg2\n",
    "import os\n",
    "\n",
    "# Other\n",
    "import itertools"
   ]
  },
  {
   "cell_type": "markdown",
   "metadata": {},
   "source": [
    "# Defining Functions"
   ]
  },
  {
   "cell_type": "code",
   "execution_count": 2,
   "metadata": {},
   "outputs": [],
   "source": [
    "def html_extract():\n",
    "    \"\"\"\n",
    "    Extracts and cleans the html from a website (x)\n",
    "    \n",
    "    Returns soup object from beautiful soup\n",
    "    \"\"\"\n",
    "    source =  requests.get(html).text\n",
    "    soup = BeautifulSoup(source, 'html.parser')\n",
    "    \n",
    "    return soup"
   ]
  },
  {
   "cell_type": "code",
   "execution_count": 12,
   "metadata": {},
   "outputs": [],
   "source": [
    "def extract_30day_activity():\n",
    "    \"\"\"\n",
    "    Visits a users profile and extracts their activity in the last 30 days.\n",
    "    \"\"\"\n",
    "    activity_html = soup_html.find('ul',class_=\"dropdown-menu module_list tighter rhythmPadding1\").find_all('li')\n",
    "    activity_text = [x.get_text() for x in activity_html]\n",
    "    activity_clean = [x.replace('\\n','') for x in activity_text]\n",
    "    activity_30days_text = activity_clean[2].split('\\r')\n",
    "    activity_30days_text = [x.strip() for x in activity_30days_text]\n",
    "    activity_30days = int(activity_30days_text[1])\n",
    "    \n",
    "    return activity_30days"
   ]
  },
  {
   "cell_type": "code",
   "execution_count": 13,
   "metadata": {},
   "outputs": [],
   "source": [
    "def extract_30day_activity2():\n",
    "    \"\"\"\n",
    "    Visits a users profile and extracts their activity in the last 30 days.\n",
    "    \"\"\"\n",
    "    activity_html = soup_html.find('dl',class_=\"profile-attd\").find_all('dd')\n",
    "#     activity_text = [x.get_text() for x in activity_html]\n",
    "#     activity_clean = [x.replace('\\n','') for x in activity_text]\n",
    "#     activity_30days_text = activity_clean[2].split('\\r')\n",
    "#     activity_30days_text = [x.strip() for x in activity_30days_text]\n",
    "#     activity_30days = int(activity_30days_text[1])\n",
    "    \n",
    "    return activity_30days"
   ]
  },
  {
   "cell_type": "markdown",
   "metadata": {},
   "source": [
    "# Looping over all user htmls (I have scraped)"
   ]
  },
  {
   "cell_type": "markdown",
   "metadata": {},
   "source": [
    "## Importing Data"
   ]
  },
  {
   "cell_type": "code",
   "execution_count": 4,
   "metadata": {},
   "outputs": [],
   "source": [
    "# Names for accessing SQL database\n",
    "dbname = \"freelance_db\"\n",
    "username = os.environ['USER']\n",
    "pswd = os.environ['SQLPSWD']\n",
    "\n",
    "# Connect to SQL Database\n",
    "con = None\n",
    "con = psycopg2.connect(database = dbname, user = username, host='localhost', password=pswd)\n",
    "\n",
    "# Importing Data\n",
    "sql_query = \"\"\"SELECT profile_url FROM analysis_dummies_table;\"\"\"\n",
    "dt = pd.read_sql_query(sql_query, con)"
   ]
  },
  {
   "cell_type": "markdown",
   "metadata": {},
   "source": [
    "## Extracting activity in last 30 days"
   ]
  },
  {
   "cell_type": "code",
   "execution_count": null,
   "metadata": {},
   "outputs": [],
   "source": [
    "soup = html_extract('https://www.guru.com/freelancers/scopic')\n",
    "extract_stats = "
   ]
  },
  {
   "cell_type": "code",
   "execution_count": 9,
   "metadata": {},
   "outputs": [],
   "source": [
    "urls = ['https://www.guru.com/freelancers/scopic', 'https://www.guru.com/freelancers/top-guru-assistants', 'https://www.guru.com/freelancers/eden-programming-solutions', 'https://www.guru.com/freelancers/avion-technology-inc-chicago', 'https://www.guru.com/freelancers/openwork-tech', 'https://www.guru.com/freelancers/j-consulting', 'https://www.guru.com/freelancers/smart-software-solutions-inc-482125', 'https://www.guru.com/freelancers/grata-tech-solutions', 'https://www.guru.com/freelancers/beksconsulting', 'https://www.guru.com/freelancers/stephenwhite', 'https://www.guru.com/freelancers/all-star-programmers', 'https://www.guru.com/freelancers/sakthiguru', 'https://www.guru.com/freelancers/illusion-software-development', 'https://www.guru.com/freelancers/robert-prislupsky', 'https://www.guru.com/freelancers/jalacrity', 'https://www.guru.com/freelancers/mv-squared', 'https://www.guru.com/freelancers/marco-samson', 'https://www.guru.com/freelancers/nathanial-mckay', 'https://www.guru.com/freelancers/joel-kim-1', 'https://www.guru.com/freelancers/taplabs']\n",
    "\n",
    "activity = []\n",
    "for i, val in enumerate(urls):\n",
    "    html = val\n",
    "    \n",
    "    soup_html = html_extract()\n",
    "    try:\n",
    "        activity.append([(html, extract_30day_activity2())])\n",
    "    except:a\n",
    "        activity.append([(html, \"NA\")])"
   ]
  },
  {
   "cell_type": "code",
   "execution_count": 10,
   "metadata": {},
   "outputs": [],
   "source": [
    "activity = [list(itertools.chain(*sub)) for sub in activity]\n",
    "activity_df = pd.DataFrame(activity, columns = ['profile_url', 'quotes_30days'])"
   ]
  },
  {
   "cell_type": "code",
   "execution_count": 11,
   "metadata": {},
   "outputs": [
    {
     "data": {
      "text/html": [
       "<div>\n",
       "<style scoped>\n",
       "    .dataframe tbody tr th:only-of-type {\n",
       "        vertical-align: middle;\n",
       "    }\n",
       "\n",
       "    .dataframe tbody tr th {\n",
       "        vertical-align: top;\n",
       "    }\n",
       "\n",
       "    .dataframe thead th {\n",
       "        text-align: right;\n",
       "    }\n",
       "</style>\n",
       "<table border=\"1\" class=\"dataframe\">\n",
       "  <thead>\n",
       "    <tr style=\"text-align: right;\">\n",
       "      <th></th>\n",
       "      <th>profile_url</th>\n",
       "      <th>quotes_30days</th>\n",
       "    </tr>\n",
       "  </thead>\n",
       "  <tbody>\n",
       "    <tr>\n",
       "      <th>0</th>\n",
       "      <td>https://www.guru.com/freelancers/scopic</td>\n",
       "      <td>NA</td>\n",
       "    </tr>\n",
       "    <tr>\n",
       "      <th>1</th>\n",
       "      <td>https://www.guru.com/freelancers/top-guru-assi...</td>\n",
       "      <td>NA</td>\n",
       "    </tr>\n",
       "    <tr>\n",
       "      <th>2</th>\n",
       "      <td>https://www.guru.com/freelancers/eden-programm...</td>\n",
       "      <td>NA</td>\n",
       "    </tr>\n",
       "    <tr>\n",
       "      <th>3</th>\n",
       "      <td>https://www.guru.com/freelancers/avion-technol...</td>\n",
       "      <td>NA</td>\n",
       "    </tr>\n",
       "    <tr>\n",
       "      <th>4</th>\n",
       "      <td>https://www.guru.com/freelancers/openwork-tech</td>\n",
       "      <td>NA</td>\n",
       "    </tr>\n",
       "  </tbody>\n",
       "</table>\n",
       "</div>"
      ],
      "text/plain": [
       "                                         profile_url quotes_30days\n",
       "0            https://www.guru.com/freelancers/scopic            NA\n",
       "1  https://www.guru.com/freelancers/top-guru-assi...            NA\n",
       "2  https://www.guru.com/freelancers/eden-programm...            NA\n",
       "3  https://www.guru.com/freelancers/avion-technol...            NA\n",
       "4     https://www.guru.com/freelancers/openwork-tech            NA"
      ]
     },
     "execution_count": 11,
     "metadata": {},
     "output_type": "execute_result"
    }
   ],
   "source": [
    "activity_df.head()"
   ]
  },
  {
   "cell_type": "markdown",
   "metadata": {},
   "source": [
    "# Merging into Data"
   ]
  },
  {
   "cell_type": "code",
   "execution_count": 8,
   "metadata": {},
   "outputs": [],
   "source": [
    "# Importing Data\n",
    "sql_query = \"\"\"SELECT * FROM user_details_table;\"\"\"\n",
    "user_details = pd.read_sql_query(sql_query, con)\n",
    "\n",
    "# Prepping\n",
    "user_details['profile_url'] = \"https://www.guru.com\"+user_details['profile_url']\n",
    "\n",
    "# Merging\n",
    "dt = pd.merge(user_details, activity_df, on='profile_url')\n",
    "dt = dt.drop(['index'], axis = 1)\n",
    "\n",
    "# Saving back out\n",
    "engine = create_engine('postgresql://%s:%s@localhost/%s' %\n",
    "                       (username, pswd, dbname))\n",
    "dt.to_sql(\"user_activity_details\", engine, if_exists='replace')"
   ]
  }
 ],
 "metadata": {
  "kernelspec": {
   "display_name": "Python 3",
   "language": "python",
   "name": "python3"
  },
  "language_info": {
   "codemirror_mode": {
    "name": "ipython",
    "version": 3
   },
   "file_extension": ".py",
   "mimetype": "text/x-python",
   "name": "python",
   "nbconvert_exporter": "python",
   "pygments_lexer": "ipython3",
   "version": "3.8.3"
  }
 },
 "nbformat": 4,
 "nbformat_minor": 4
}
