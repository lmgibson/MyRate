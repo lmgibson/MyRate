{
 "cells": [
  {
   "cell_type": "markdown",
   "metadata": {},
   "source": [
    "# Modeling the Hourly Rate\n",
    "\n",
    "This code trains a model to predict what a prospective freelancers hourly rate should be. The model used is a random forest regression model. I also built an AdaBoosted Decision Tree model, but it performs much worse (using 5-fold cross-validation) compared with the turned random forest regression model.\n",
    "\n",
    "I've also built a k-modes (cluster with categorical/numeric mixed data) model. It is currently being tested."
   ]
  },
  {
   "cell_type": "markdown",
   "metadata": {},
   "source": [
    "# Prep\n",
    "\n",
    "## Importing Libraries and Data"
   ]
  },
  {
   "cell_type": "code",
   "execution_count": null,
   "metadata": {},
   "outputs": [],
   "source": [
    "# Data Analysis and Modeling\n",
    "import pandas as pd\n",
    "import numpy as np\n",
    "import seaborn as sns\n",
    "from matplotlib import pyplot as plt\n",
    "from sklearn.model_selection import train_test_split\n",
    "\n",
    "# Random Forest Regression\n",
    "from sklearn.ensemble import RandomForestRegressor\n",
    "\n",
    "# AdaBoost Decision Tree\n",
    "from sklearn.tree import DecisionTreeRegressor\n",
    "from sklearn.ensemble import AdaBoostRegressor\n",
    "\n",
    "# Cross-Validation and Accuracy Measures\n",
    "from sklearn.model_selection import KFold\n",
    "from sklearn.model_selection import GridSearchCV\n",
    "from sklearn.metrics import mean_squared_error, r2_score, accuracy_score\n",
    "\n",
    "# Model Serializing (export to web-app)\n",
    "import pickle\n",
    "\n",
    "# Packages for PostgreSQL Import\n",
    "import psycopg2\n",
    "import os\n",
    "\n",
    "# Packages for K-Modes Cluster\n",
    "from kmodes.kmodes import KModes"
   ]
  },
  {
   "cell_type": "markdown",
   "metadata": {},
   "source": [
    "## Importing Data from SQL"
   ]
  },
  {
   "cell_type": "code",
   "execution_count": 35,
   "metadata": {
    "scrolled": true
   },
   "outputs": [
    {
     "data": {
      "text/html": [
       "<div>\n",
       "<style scoped>\n",
       "    .dataframe tbody tr th:only-of-type {\n",
       "        vertical-align: middle;\n",
       "    }\n",
       "\n",
       "    .dataframe tbody tr th {\n",
       "        vertical-align: top;\n",
       "    }\n",
       "\n",
       "    .dataframe thead th {\n",
       "        text-align: right;\n",
       "    }\n",
       "</style>\n",
       "<table border=\"1\" class=\"dataframe\">\n",
       "  <thead>\n",
       "    <tr style=\"text-align: right;\">\n",
       "      <th></th>\n",
       "      <th>hourly_rate</th>\n",
       "      <th>num_skills</th>\n",
       "      <th>bio_length</th>\n",
       "      <th>bio_word_count</th>\n",
       "      <th>avg_word_length</th>\n",
       "      <th>num_stop</th>\n",
       "      <th>administrative &amp; secretarial</th>\n",
       "      <th>business &amp; finance</th>\n",
       "      <th>design &amp; art</th>\n",
       "      <th>education &amp; training</th>\n",
       "      <th>...</th>\n",
       "      <th>90</th>\n",
       "      <th>91</th>\n",
       "      <th>92</th>\n",
       "      <th>93</th>\n",
       "      <th>94</th>\n",
       "      <th>95</th>\n",
       "      <th>96</th>\n",
       "      <th>97</th>\n",
       "      <th>98</th>\n",
       "      <th>99</th>\n",
       "    </tr>\n",
       "  </thead>\n",
       "  <tbody>\n",
       "    <tr>\n",
       "      <th>971</th>\n",
       "      <td>20</td>\n",
       "      <td>2</td>\n",
       "      <td>0</td>\n",
       "      <td>1</td>\n",
       "      <td>3.000000</td>\n",
       "      <td>0</td>\n",
       "      <td>0</td>\n",
       "      <td>0</td>\n",
       "      <td>0</td>\n",
       "      <td>0</td>\n",
       "      <td>...</td>\n",
       "      <td>0.00000</td>\n",
       "      <td>0.000000</td>\n",
       "      <td>0.000000</td>\n",
       "      <td>0.00000</td>\n",
       "      <td>0.000000</td>\n",
       "      <td>0.000000</td>\n",
       "      <td>0.000000</td>\n",
       "      <td>0.000000</td>\n",
       "      <td>0.000000</td>\n",
       "      <td>0.000000</td>\n",
       "    </tr>\n",
       "    <tr>\n",
       "      <th>972</th>\n",
       "      <td>12</td>\n",
       "      <td>3</td>\n",
       "      <td>0</td>\n",
       "      <td>1</td>\n",
       "      <td>3.000000</td>\n",
       "      <td>0</td>\n",
       "      <td>0</td>\n",
       "      <td>0</td>\n",
       "      <td>0</td>\n",
       "      <td>0</td>\n",
       "      <td>...</td>\n",
       "      <td>0.00000</td>\n",
       "      <td>0.000000</td>\n",
       "      <td>0.000000</td>\n",
       "      <td>0.00000</td>\n",
       "      <td>0.000000</td>\n",
       "      <td>0.000000</td>\n",
       "      <td>0.000000</td>\n",
       "      <td>0.000000</td>\n",
       "      <td>0.000000</td>\n",
       "      <td>0.000000</td>\n",
       "    </tr>\n",
       "    <tr>\n",
       "      <th>973</th>\n",
       "      <td>70</td>\n",
       "      <td>4</td>\n",
       "      <td>0</td>\n",
       "      <td>1</td>\n",
       "      <td>3.000000</td>\n",
       "      <td>0</td>\n",
       "      <td>0</td>\n",
       "      <td>0</td>\n",
       "      <td>0</td>\n",
       "      <td>0</td>\n",
       "      <td>...</td>\n",
       "      <td>0.00000</td>\n",
       "      <td>0.000000</td>\n",
       "      <td>0.000000</td>\n",
       "      <td>0.00000</td>\n",
       "      <td>0.000000</td>\n",
       "      <td>0.000000</td>\n",
       "      <td>0.000000</td>\n",
       "      <td>0.000000</td>\n",
       "      <td>0.000000</td>\n",
       "      <td>0.000000</td>\n",
       "    </tr>\n",
       "    <tr>\n",
       "      <th>974</th>\n",
       "      <td>15</td>\n",
       "      <td>1</td>\n",
       "      <td>0</td>\n",
       "      <td>1</td>\n",
       "      <td>3.000000</td>\n",
       "      <td>0</td>\n",
       "      <td>0</td>\n",
       "      <td>0</td>\n",
       "      <td>0</td>\n",
       "      <td>0</td>\n",
       "      <td>...</td>\n",
       "      <td>0.00000</td>\n",
       "      <td>0.000000</td>\n",
       "      <td>0.000000</td>\n",
       "      <td>0.00000</td>\n",
       "      <td>0.000000</td>\n",
       "      <td>0.000000</td>\n",
       "      <td>0.000000</td>\n",
       "      <td>0.000000</td>\n",
       "      <td>0.000000</td>\n",
       "      <td>0.000000</td>\n",
       "    </tr>\n",
       "    <tr>\n",
       "      <th>975</th>\n",
       "      <td>30</td>\n",
       "      <td>1</td>\n",
       "      <td>1638</td>\n",
       "      <td>252</td>\n",
       "      <td>5.503968</td>\n",
       "      <td>89</td>\n",
       "      <td>0</td>\n",
       "      <td>0</td>\n",
       "      <td>0</td>\n",
       "      <td>0</td>\n",
       "      <td>...</td>\n",
       "      <td>0.27283</td>\n",
       "      <td>0.020906</td>\n",
       "      <td>-0.040491</td>\n",
       "      <td>-0.06547</td>\n",
       "      <td>-0.060095</td>\n",
       "      <td>-0.244408</td>\n",
       "      <td>-0.074902</td>\n",
       "      <td>0.131396</td>\n",
       "      <td>-0.035204</td>\n",
       "      <td>0.259199</td>\n",
       "    </tr>\n",
       "  </tbody>\n",
       "</table>\n",
       "<p>5 rows × 164 columns</p>\n",
       "</div>"
      ],
      "text/plain": [
       "     hourly_rate  num_skills  bio_length  bio_word_count  avg_word_length  \\\n",
       "971           20           2           0               1         3.000000   \n",
       "972           12           3           0               1         3.000000   \n",
       "973           70           4           0               1         3.000000   \n",
       "974           15           1           0               1         3.000000   \n",
       "975           30           1        1638             252         5.503968   \n",
       "\n",
       "     num_stop  administrative & secretarial  business & finance  design & art  \\\n",
       "971         0                             0                   0             0   \n",
       "972         0                             0                   0             0   \n",
       "973         0                             0                   0             0   \n",
       "974         0                             0                   0             0   \n",
       "975        89                             0                   0             0   \n",
       "\n",
       "     education & training  ...       90        91        92       93  \\\n",
       "971                     0  ...  0.00000  0.000000  0.000000  0.00000   \n",
       "972                     0  ...  0.00000  0.000000  0.000000  0.00000   \n",
       "973                     0  ...  0.00000  0.000000  0.000000  0.00000   \n",
       "974                     0  ...  0.00000  0.000000  0.000000  0.00000   \n",
       "975                     0  ...  0.27283  0.020906 -0.040491 -0.06547   \n",
       "\n",
       "           94        95        96        97        98        99  \n",
       "971  0.000000  0.000000  0.000000  0.000000  0.000000  0.000000  \n",
       "972  0.000000  0.000000  0.000000  0.000000  0.000000  0.000000  \n",
       "973  0.000000  0.000000  0.000000  0.000000  0.000000  0.000000  \n",
       "974  0.000000  0.000000  0.000000  0.000000  0.000000  0.000000  \n",
       "975 -0.060095 -0.244408 -0.074902  0.131396 -0.035204  0.259199  \n",
       "\n",
       "[5 rows x 164 columns]"
      ]
     },
     "execution_count": 35,
     "metadata": {},
     "output_type": "execute_result"
    }
   ],
   "source": [
    "# Names for accessing SQL database\n",
    "dbname = \"freelance_db\"\n",
    "username = os.environ['USER']\n",
    "pswd = os.environ['SQLPSWD']\n",
    "\n",
    "# Connect to SQL Database\n",
    "con = None\n",
    "con = psycopg2.connect(database = dbname, user = username, host='localhost', password=pswd)\n",
    "\n",
    "# Importing Data\n",
    "sql_query = \"\"\"SELECT * FROM analysis_dummies_table;\"\"\"\n",
    "analysis_dt = pd.read_sql_query(sql_query, con)\n",
    "\n",
    "sql_query = \"\"\"SELECT * FROM embeddings_table;\"\"\"\n",
    "embeddings = pd.read_sql_query(sql_query, con)\n",
    "\n",
    "# Doing some cleaning. Removing columns that have a continuous analog in the model.\n",
    "analysis_dt = analysis_dt.drop(['index'], axis=1)\n",
    "analysis_dt = analysis_dt.drop(['first_skill'], axis = 1)\n",
    "\n",
    "# Removing index col from embeddings\n",
    "embeddings = embeddings.drop(['index'], axis = 1)\n",
    "embeddings['profile_url'] = \"https://www.guru.com\" + embeddings['profile_url']\n",
    "\n",
    "# # Merging on profile_url\n",
    "analysis_dt = analysis_dt.merge(embeddings, how = \"left\", \n",
    "                                left_on = \"profile_url\", right_on= \"profile_url\")\n",
    "analysis_dt = analysis_dt.drop(['profile_url'], axis = 1)\n",
    "analysis_dt = analysis_dt.fillna(0)\n",
    "\n",
    "analysis_dt.tail()"
   ]
  },
  {
   "cell_type": "markdown",
   "metadata": {},
   "source": [
    "## Prepping Data"
   ]
  },
  {
   "cell_type": "code",
   "execution_count": 36,
   "metadata": {},
   "outputs": [],
   "source": [
    "# Converting data to numpy arrays and saving column names\n",
    "y = np.array(analysis_dt['hourly_rate'])\n",
    "\n",
    "analysis_dt = analysis_dt.drop(['hourly_rate'], axis = 1)\n",
    "feature_list = list(analysis_dt.columns)\n",
    "\n",
    "X = np.array(analysis_dt)"
   ]
  },
  {
   "cell_type": "code",
   "execution_count": 37,
   "metadata": {},
   "outputs": [],
   "source": [
    "# Creating train and test splits\n",
    "X_train, X_test, y_train, y_test = train_test_split(\n",
    "    X, y, test_size=0.2, random_state=42)"
   ]
  },
  {
   "cell_type": "markdown",
   "metadata": {},
   "source": [
    "# Defining Functions for Analysis"
   ]
  },
  {
   "cell_type": "code",
   "execution_count": 38,
   "metadata": {},
   "outputs": [],
   "source": [
    "def baseline_performance(outcome_data):\n",
    "    # Getting Baseline\n",
    "    baseline_preds = outcome_data.mean()\n",
    "\n",
    "    # Baseline Errors\n",
    "    baseline_errors = abs(baseline_preds - outcome_data)\n",
    "\n",
    "    # Baseline:\n",
    "    print('Mean Absolute Error (naive average): ', round(np.mean(baseline_errors), 2))\n",
    "    \n",
    "def model_performance(predictions, outcome_data, baseline):\n",
    "    # Calculate absolute error (comparison with baseline)\n",
    "    errors = abs(predictions - outcome_data)\n",
    "\n",
    "    # Print out the mean absolute error (mae)\n",
    "    print('Mean Absolute Error:', round(np.mean(errors), 2))\n",
    "\n",
    "    # The mean squared error\n",
    "    print('Mean squared error: %.2f'\n",
    "          % mean_squared_error(outcome_data, predictions))\n",
    "\n",
    "    # The coefficient of determination (R2)\n",
    "    print('Coefficient of determination: %.2f'\n",
    "          % r2_score(outcome_data, predictions))\n",
    "\n",
    "    # Does much better than the mean with regard to mean absolute error\n",
    "    print(\"A \", round((np.mean(errors)-baseline)/baseline,3)*-100,\n",
    "          \"percent change over the mean\")"
   ]
  },
  {
   "cell_type": "markdown",
   "metadata": {},
   "source": [
    "# Modeling - Random Forest Regression\n",
    "## Estimating a Random Forest Regression to Estimate Hourly-Rate\n",
    "\n",
    "Notes:\n",
    "    - Next model probability of getting a job?\n",
    "    - Convert to a clustering algorithm and present a range of estimates?\n",
    "    - Bootstrap to get a range of estimates?\n",
    "    - Make suggestions (Increase bio length by 10 and you can charge X more)\n",
    "        - \"Here are bios for users similar to you\" etc. etc.\n",
    "    - Focus on helping users build up their profiles"
   ]
  },
  {
   "cell_type": "code",
   "execution_count": 46,
   "metadata": {},
   "outputs": [
    {
     "name": "stdout",
     "output_type": "stream",
     "text": [
      "Fitting 5 folds for each of 72 candidates, totalling 360 fits\n"
     ]
    },
    {
     "name": "stderr",
     "output_type": "stream",
     "text": [
      "[Parallel(n_jobs=4)]: Using backend LokyBackend with 4 concurrent workers.\n",
      "[Parallel(n_jobs=4)]: Done  42 tasks      | elapsed:  5.1min\n",
      "[Parallel(n_jobs=4)]: Done 192 tasks      | elapsed: 10.6min\n",
      "[Parallel(n_jobs=4)]: Done 360 out of 360 | elapsed: 22.0min finished\n"
     ]
    },
    {
     "name": "stdout",
     "output_type": "stream",
     "text": [
      "-19.02 {'max_depth': 5, 'max_features': 'auto', 'n_estimators': 900}\n"
     ]
    }
   ],
   "source": [
    "# References for GridSearchCV\n",
    "# 1 - https://scikit-learn.org/stable/modules/ensemble.html#random-forest-parameters\n",
    "# 2 - https://stackoverflow.com/questions/35097003/cross-validation-decision-trees-in-sklearn\n",
    "# References for Random Forest Regression\n",
    "# 1 - https://towardsdatascience.com/random-forest-in-python-24d0893d51c0\n",
    "# 2 - https://scikit-learn.org/stable/modules/generated/sklearn.ensemble.RandomForestRegressor.html\n",
    "\n",
    "# Creating parameter grid\n",
    "parameters = {\"max_features\": [\"auto\", \"sqrt\", \"log2\"], \n",
    "              \"n_estimators\": [100, 500, 900, 1300, 1500, 2000], \n",
    "              \"max_depth\": [None,5,10,20]}\n",
    "\n",
    "# Creating Grid Search Class\n",
    "clf = GridSearchCV(RandomForestRegressor(), parameters, n_jobs=4, verbose=True, \n",
    "                   scoring=\"neg_mean_absolute_error\",\n",
    "                   refit=True)\n",
    "\n",
    "# Running Grid Search\n",
    "clf.fit(X=X_train, y=y_train)\n",
    "\n",
    "# Saving best model\n",
    "rfr_model = clf.best_estimator_\n",
    "\n",
    "# Printing results\n",
    "print(round(clf.best_score_,2), clf.best_params_)"
   ]
  },
  {
   "cell_type": "markdown",
   "metadata": {},
   "source": [
    "## Evaluating Model"
   ]
  },
  {
   "cell_type": "code",
   "execution_count": 47,
   "metadata": {},
   "outputs": [
    {
     "data": {
      "text/plain": [
       "<matplotlib.axes._subplots.AxesSubplot at 0x1a23cd7510>"
      ]
     },
     "execution_count": 47,
     "metadata": {},
     "output_type": "execute_result"
    },
    {
     "data": {
      "image/png": "[encoded data removed]",
      "text/plain": [
       "<Figure size 432x288 with 1 Axes>"
      ]
     },
     "metadata": {
      "needs_background": "light"
     },
     "output_type": "display_data"
    }
   ],
   "source": [
    "# Plotting Grid Search CV Results\n",
    "# Saving results to pandas data frame\n",
    "grid_search_results = pd.DataFrame(clf.cv_results_)\n",
    "\n",
    "# Plotting\n",
    "sns.scatterplot(x=list(grid_search_results.index), \n",
    "               y=grid_search_results.mean_test_score*-1)"
   ]
  },
  {
   "cell_type": "code",
   "execution_count": 48,
   "metadata": {},
   "outputs": [
    {
     "name": "stdout",
     "output_type": "stream",
     "text": [
      "Mean Absolute Error (naive average):  19.47\n",
      "Mean Absolute Error (naive average):  16.23\n"
     ]
    }
   ],
   "source": [
    "baseline_performance(y_train)\n",
    "baseline_performance(y_test)"
   ]
  },
  {
   "cell_type": "code",
   "execution_count": 52,
   "metadata": {},
   "outputs": [
    {
     "name": "stdout",
     "output_type": "stream",
     "text": [
      "Mean Absolute Error: 15.95\n",
      "Mean squared error: 478.44\n",
      "Coefficient of determination: 0.01\n",
      "A  1.7000000000000002 percent change over the mean\n"
     ]
    }
   ],
   "source": [
    "# Predict\n",
    "preds = rfr_model.predict(X_test)\n",
    "model_performance(preds, y_test, 16.23)"
   ]
  },
  {
   "cell_type": "code",
   "execution_count": 53,
   "metadata": {},
   "outputs": [
    {
     "data": {
      "text/plain": [
       "<matplotlib.axes._subplots.AxesSubplot at 0x1a24e62f90>"
      ]
     },
     "execution_count": 53,
     "metadata": {},
     "output_type": "execute_result"
    },
    {
     "data": {
      "image/png": "[encoded data removed]",
      "text/plain": [
       "<Figure size 432x288 with 1 Axes>"
      ]
     },
     "metadata": {
      "needs_background": "light"
     },
     "output_type": "display_data"
    }
   ],
   "source": [
    "# Plotting True Hourly Rates vs Predicted Hourly Rates\n",
    "sns.scatterplot(x = y_test, y = preds)"
   ]
  },
  {
   "cell_type": "code",
   "execution_count": 54,
   "metadata": {},
   "outputs": [],
   "source": [
    "# Saving model with pickle\n",
    "filename = '/Users/Metaverse/Desktop/Insight/projects/myrate/scripts/finalized_model.sav'\n",
    "pickle.dump(rfr_model, open(filename, 'wb'))"
   ]
  },
  {
   "cell_type": "markdown",
   "metadata": {},
   "source": [
    "# Trying Other Models\n",
    "## Fitting AdaBoost Model\n",
    "The reason to fit this model is that iteratively re-weights observations based on how poorly the model predicts them. This pushes the model to finding a way to predict observations other models may miss. I am concerned, however, if it will overfit to outliers.\n",
    "\n",
    "It performs poorly compared to the random forest regression."
   ]
  },
  {
   "cell_type": "code",
   "execution_count": null,
   "metadata": {},
   "outputs": [],
   "source": [
    "# Creating parameter grid\n",
    "parameters = {\"n_estimators\": [1, 3, 5, 10, 25, 50, 75, 100, 125, 150],\n",
    "              \"base_estimator__max_depth\": [3, 5, 7, 9, 10, 11]}\n",
    "\n",
    "regr_1 = DecisionTreeRegressor()\n",
    "regr_2 = AdaBoostRegressor(base_estimator=regr_1)\n",
    "\n",
    "# Creating Grid Search Class\n",
    "clf = GridSearchCV(regr_2, parameters, n_jobs=4, verbose=True)\n",
    "\n",
    "# Running Grid Search\n",
    "clf.fit(X=X_train, y=y_train)\n",
    "\n",
    "# Saving best model\n",
    "adaboost_model = clf.best_estimator_\n",
    "\n",
    "# Printing results\n",
    "print(round(clf.best_score_, 2), clf.best_params_)"
   ]
  },
  {
   "cell_type": "markdown",
   "metadata": {},
   "source": [
    "### Evaluating Model Performance"
   ]
  },
  {
   "cell_type": "code",
   "execution_count": null,
   "metadata": {},
   "outputs": [],
   "source": [
    "baseline_performance(y_train)\n",
    "baseline_performance(y_test)"
   ]
  },
  {
   "cell_type": "code",
   "execution_count": null,
   "metadata": {},
   "outputs": [],
   "source": [
    "# Predict\n",
    "preds_ada = adaboost_model.predict(X_train)\n",
    "model_performance(preds_ada, y_train)"
   ]
  },
  {
   "cell_type": "code",
   "execution_count": null,
   "metadata": {},
   "outputs": [],
   "source": [
    "# Plotting True Hourly Rates vs Predicted Hourly Rates\n",
    "sns.scatterplot(x = y_train, y = preds, hue = errors)"
   ]
  },
  {
   "cell_type": "markdown",
   "metadata": {},
   "source": [
    "### Exporting Model\n",
    "\n",
    "Putting the random forest regression trees with embeddings into production."
   ]
  },
  {
   "cell_type": "markdown",
   "metadata": {},
   "source": [
    "## Building K-Modes Model to Cluster Users\n",
    "This is an experimental section. I want to try and create clusters to then provide a range of values ones hourly rate may take. However, the problem with clustering methods (as always) is that it is more of an art than actual science for determining when to stop. I don't think there are very clear clusters in this data. I may be better off running word2vec on the bios (large text) and clustering off that."
   ]
  },
  {
   "cell_type": "code",
   "execution_count": null,
   "metadata": {},
   "outputs": [],
   "source": [
    "# Found K-Modes on stackoverflow\n",
    "# Following the package documentation\n",
    "# Ref: https://pypi.org/project/kmodes/\n",
    "# Ref: https://stackoverflow.com/questions/42639824/python-k-modes-explanation\n",
    "# Ref: https://www.kaggle.com/ashydv/bank-customer-clustering-k-modes-clustering"
   ]
  },
  {
   "cell_type": "code",
   "execution_count": null,
   "metadata": {},
   "outputs": [],
   "source": [
    "# Modeling with K Modes\n",
    "cost = []\n",
    "for num_clusters in list(range(1, 21)):\n",
    "    kmode = KModes(n_clusters=num_clusters, init=\"Huang\", verbose=0, random_state=42)\n",
    "    kmode.fit_predict(X)\n",
    "    cost.append(kmode.cost_)\n",
    "    print(\"Finished Cluster: \" + str(num_clusters))"
   ]
  },
  {
   "cell_type": "code",
   "execution_count": null,
   "metadata": {},
   "outputs": [],
   "source": [
    "# Plotting cost function result vs number of clusters\n",
    "number_of_clusters = np.array([i for i in range(1, 21, 1)])\n",
    "plt.plot(number_of_clusters, cost)"
   ]
  },
  {
   "cell_type": "code",
   "execution_count": null,
   "metadata": {},
   "outputs": [],
   "source": [
    "kmode = KModes(n_clusters=6, init='Huang', verbose=0)\n",
    "clusters = kmode.fit_predict(X)\n",
    "\n",
    "kmodes = kmode.cluster_centroids_\n",
    "shape = kmodes.shape\n",
    "\n",
    "for i in range(shape[0]):\n",
    "    if sum(kmodes[i, :]) == 0:\n",
    "        print(\"\\ncluster \" + str(i) + \": \")\n",
    "        print(\"no-skills cluster\")\n",
    "    else:\n",
    "        print(\"\\ncluster \" + str(i) + \": \")\n",
    "        cent = kmodes[i, :]\n",
    "        for j in analysis_dt.columns[np.nonzero(cent)]:\n",
    "            print(j)"
   ]
  },
  {
   "cell_type": "code",
   "execution_count": null,
   "metadata": {},
   "outputs": [],
   "source": [
    "clust_assigned = kmode.predict(X)"
   ]
  },
  {
   "cell_type": "code",
   "execution_count": null,
   "metadata": {},
   "outputs": [],
   "source": [
    "unique, counts = np.unique(clust_assigned, return_counts=True)\n",
    "dict(zip(unique, counts))"
   ]
  },
  {
   "cell_type": "code",
   "execution_count": null,
   "metadata": {},
   "outputs": [],
   "source": [
    "analysis_dt['cluster'] = list(clust_assigned)"
   ]
  },
  {
   "cell_type": "code",
   "execution_count": null,
   "metadata": {},
   "outputs": [],
   "source": [
    "analysis_dt[analysis_dt.cluster == 0]"
   ]
  }
 ],
 "metadata": {
  "kernelspec": {
   "display_name": "Python 3",
   "language": "python",
   "name": "python3"
  },
  "language_info": {
   "codemirror_mode": {
    "name": "ipython",
    "version": 3
   },
   "file_extension": ".py",
   "mimetype": "text/x-python",
   "name": "python",
   "nbconvert_exporter": "python",
   "pygments_lexer": "ipython3",
   "version": "3.7.7"
  }
 },
 "nbformat": 4,
 "nbformat_minor": 4
}
