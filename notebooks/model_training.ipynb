{
 "cells": [
  {
   "cell_type": "markdown",
   "metadata": {},
   "source": [
    "# Modeling the Hourly Rate"
   ]
  },
  {
   "cell_type": "markdown",
   "metadata": {},
   "source": [
    "## Importing Libraries and Data"
   ]
  },
  {
   "cell_type": "code",
   "execution_count": 16,
   "metadata": {},
   "outputs": [],
   "source": [
    "# Data Analysis and Modeling\n",
    "import pandas as pd\n",
    "import numpy as np\n",
    "from sklearn.model_selection import train_test_split\n",
    "\n",
    "# Random Forest Regression\n",
    "from sklearn.ensemble import RandomForestRegressor\n",
    "\n",
    "# Cross-Validation and Accuracy Measures\n",
    "from sklearn.model_selection import KFold\n",
    "from sklearn.model_selection import cross_val_score, cross_val_predict\n",
    "from sklearn.metrics import mean_squared_error, r2_score, accuracy_score\n",
    "\n",
    "# Other\n",
    "from matplotlib import pyplot as plt\n",
    "\n",
    "# Model Serializing\n",
    "import pickle\n",
    "\n",
    "# Packages for PostgreSQL Import\n",
    "import psycopg2"
   ]
  },
  {
   "cell_type": "code",
   "execution_count": 2,
   "metadata": {},
   "outputs": [],
   "source": [
    "# Ideally I'll move this into the project config.py file\n",
    "# Otherwise for now I have to just manually assign . . .\n",
    "\n",
    "dbname = \"freelance_db\"\n",
    "username = \"Metaverse\"\n",
    "pswd = \"Arcifice91\""
   ]
  },
  {
   "cell_type": "code",
   "execution_count": 3,
   "metadata": {
    "scrolled": true
   },
   "outputs": [],
   "source": [
    "# Connect to Data (from: scraping_data.ipynb)\n",
    "\n",
    "con = None\n",
    "con = psycopg2.connect(database = dbname, user = username, host='localhost', password=pswd)\n",
    "\n",
    "# Extract freelance_db as fl_table, don't bring Punjab obs\n",
    "sql_query = \"\"\"SELECT * FROM analysis_table;\"\"\"\n",
    "analysis_dt = pd.read_sql_query(sql_query, con)"
   ]
  },
  {
   "cell_type": "code",
   "execution_count": 4,
   "metadata": {},
   "outputs": [],
   "source": [
    "# Doing some cleaning. Removing columns that have their continuous analog.\n",
    "\n",
    "analysis_dt = analysis_dt.drop(['has_rating'], axis=1)\n",
    "analysis_dt = analysis_dt.drop(['index'], axis=1)"
   ]
  },
  {
   "cell_type": "markdown",
   "metadata": {},
   "source": [
    "## Estimating a Random Forest Regression\n",
    "1. Predicting hourly_rate\n",
    "2. Okay some options:\n",
    "    - Remove outliers\n",
    "3. The next model would be:\n",
    "    - Predict the probability of getting a job?\n",
    "    - Could try using the bio features here.\n",
    "4. And?"
   ]
  },
  {
   "cell_type": "code",
   "execution_count": 23,
   "metadata": {},
   "outputs": [],
   "source": [
    "# Converting to numpy arrays and saving column names\n",
    "y = np.array(analysis_dt['hourly_rate'])\n",
    "\n",
    "analysis_dt.drop(['hourly_rate'], axis = 1)\n",
    "feature_list = list(analysis_dt.columns)\n",
    "\n",
    "X = np.array(analysis_dt)"
   ]
  },
  {
   "cell_type": "code",
   "execution_count": 9,
   "metadata": {},
   "outputs": [],
   "source": [
    "# Creating train and test splits\n",
    "X_train, X_test, y_train, y_test = train_test_split(\n",
    "    X, y, test_size=0.2, random_state=42)"
   ]
  },
  {
   "cell_type": "code",
   "execution_count": 19,
   "metadata": {},
   "outputs": [
    {
     "name": "stdout",
     "output_type": "stream",
     "text": [
      "Mean Absolute Error (naive average):  19.12\n"
     ]
    }
   ],
   "source": [
    "# Getting Baseline\n",
    "baseline_preds = y_train.mean()\n",
    "\n",
    "# Baseline Errors\n",
    "baseline_errors = abs(baseline_preds - y)\n",
    "\n",
    "# Baseline:\n",
    "print('Mean Absolute Error (naive average): ', round(np.mean(baseline_errors), 2))"
   ]
  },
  {
   "cell_type": "code",
   "execution_count": null,
   "metadata": {},
   "outputs": [],
   "source": [
    "# Modeling\n",
    "# Reference: https://towardsdatascience.com/random-forest-in-python-24d0893d51c0\n",
    "# Reference: https://scikit-learn.org/stable/modules/generated/sklearn.ensemble.RandomForestRegressor.html\n",
    "\n",
    "# Instantiate model with 1000 decision trees\n",
    "rf = RandomForestRegressor(n_estimators=1000, random_state=42)\n",
    "\n",
    "# Train the model on training data\n",
    "rf.fit(X_train, y_train)\n",
    "\n",
    "# Predict\n",
    "preds = rf.predict(X_train)"
   ]
  },
  {
   "cell_type": "code",
   "execution_count": 20,
   "metadata": {},
   "outputs": [
    {
     "name": "stdout",
     "output_type": "stream",
     "text": [
      "Mean Absolute Error: 0.22\n",
      "Mean squared error: 8.01\n",
      "Coefficient of determination: 0.99\n"
     ]
    }
   ],
   "source": [
    "# Calculate absolute error (comparison with baseline)\n",
    "errors = abs(preds - y_train)\n",
    "\n",
    "# Print out the mean absolute error (mae)\n",
    "print('Mean Absolute Error:', round(np.mean(errors), 2))\n",
    "\n",
    "# The mean squared error\n",
    "print('Mean squared error: %.2f'\n",
    "      % mean_squared_error(y_train, preds))\n",
    "\n",
    "# The coefficient of determination (R2)\n",
    "print('Coefficient of determination: %.2f'\n",
    "      % r2_score(y_train, preds))\n",
    "\n",
    "# Oh, uh wow. It does too well. Definitely going to need cross-validation to cool it down."
   ]
  },
  {
   "cell_type": "code",
   "execution_count": 24,
   "metadata": {},
   "outputs": [],
   "source": [
    "# Saving out with pickle\n",
    "filename = '/Users/Metaverse/Desktop/Insight/projects/myrate/scripts/finalized_model.sav'\n",
    "pickle.dump(rf, open(filename, 'wb'))"
   ]
  },
  {
   "cell_type": "markdown",
   "metadata": {},
   "source": [
    "## Work in Progress: Using Cross-Validation"
   ]
  },
  {
   "cell_type": "code",
   "execution_count": 8,
   "metadata": {},
   "outputs": [],
   "source": [
    "# Creating kfold object\n",
    "kf = KFold(n_splits=5)  # Define the split - into 2 folds\n",
    "# returns the number of splitting iterations in the cross-validator\n",
    "kf.get_n_splits(X_train)\n",
    "\n",
    "for train_index, test_index in kf.split(X_train):\n",
    "    X_train_cv, X_test_cv = X_train.iloc[train_index,:], X_train.iloc[test_index,:]\n",
    "    y_train_cv, y_test_cv = y[train_index], y[test_index]"
   ]
  },
  {
   "cell_type": "code",
   "execution_count": 13,
   "metadata": {},
   "outputs": [],
   "source": [
    "# Modeling\n",
    "# Reference: https://scikit-learn.org/stable/auto_examples/linear_model/plot_ols.html#sphx-glr-auto-examples-linear-model-plot-ols-py\n",
    "\n",
    "\n",
    "# Create linear regression object\n",
    "lm = linear_model.LinearRegression()\n",
    "\n",
    "# Train model on training data\n",
    "model = lm.fit(X_train, y_train)"
   ]
  },
  {
   "cell_type": "code",
   "execution_count": 24,
   "metadata": {},
   "outputs": [
    {
     "name": "stdout",
     "output_type": "stream",
     "text": [
      "Cross-validated scores [-0.01803925  0.01615099 -0.13363831 -0.04238569  0.02569149]\n"
     ]
    }
   ],
   "source": [
    "# Perform 5-fold cross-validation\n",
    "scores = cross_val_score(model, X_train, y_train, cv=5)\n",
    "print(\"Cross-validated scores\", scores)"
   ]
  },
  {
   "cell_type": "code",
   "execution_count": 23,
   "metadata": {},
   "outputs": [
    {
     "data": {
      "text/plain": [
       "<matplotlib.collections.PathCollection at 0x1a1c018b90>"
      ]
     },
     "execution_count": 23,
     "metadata": {},
     "output_type": "execute_result"
    },
    {
     "data": {
      "image/png": "[encoded data removed]",
      "text/plain": [
       "<Figure size 432x288 with 1 Axes>"
      ]
     },
     "metadata": {
      "needs_background": "light"
     },
     "output_type": "display_data"
    }
   ],
   "source": [
    "# Make cross validated predictions\n",
    "predictions = cross_val_predict(model, X_train, y_train, cv=5)\n",
    "plt.scatter(y_train, predictions)"
   ]
  },
  {
   "cell_type": "code",
   "execution_count": 27,
   "metadata": {},
   "outputs": [
    {
     "name": "stdout",
     "output_type": "stream",
     "text": [
      "Cross-Predicted Accuracy: -0.018230478379610338\n"
     ]
    }
   ],
   "source": [
    "# Checking R2\n",
    "accuracy = metrics.r2_score(y_train, predictions)\n",
    "print(\"Cross-Predicted Accuracy:\", accuracy)"
   ]
  },
  {
   "cell_type": "code",
   "execution_count": null,
   "metadata": {},
   "outputs": [],
   "source": []
  }
 ],
 "metadata": {
  "kernelspec": {
   "display_name": "Python 3",
   "language": "python",
   "name": "python3"
  },
  "language_info": {
   "codemirror_mode": {
    "name": "ipython",
    "version": 3
   },
   "file_extension": ".py",
   "mimetype": "text/x-python",
   "name": "python",
   "nbconvert_exporter": "python",
   "pygments_lexer": "ipython3",
   "version": "3.7.7"
  }
 },
 "nbformat": 4,
 "nbformat_minor": 4
}
