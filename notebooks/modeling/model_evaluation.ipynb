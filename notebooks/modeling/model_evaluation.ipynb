{
 "cells": [
  {
   "cell_type": "markdown",
   "metadata": {},
   "source": [
    "# Evaluating Models\n",
    "\n",
    "See model_training for tuning and training models. This is focused on loading models and evaluating their accuracy.\n",
    "\n",
    "TLDR:\n",
    "    - XGBoost performs the best with an 11% improvement over the mean whereas second best is only a 5% improvement.\n",
    "    - All models struggle to predict well for individuals with high hourly rates (> 60 or so)\n",
    " \n",
    "Next Steps:\n",
    "    - Run truth vs prediction graph by subgroups to determine if there are areas where the model could be improved. Specifically, I'm interested in knowing if there are certain skill categories or states where it performs very well or very poorly. For this I may be best off creating a dataframe with {y_test | y_pred | X_test} and calculating means for subgroups or something. \n",
    "    - I'm also wondering if I can collapse my columns down more. Reduce state indicators into large groups. Idea here is that the hourly rate is relatively homogenous across some states. Have to think about this more. Maybe do EDA (visualization notebook).\n",
    "    - Try to work in the supply / demand aspect from client data.\n",
    "    "
   ]
  },
  {
   "cell_type": "markdown",
   "metadata": {},
   "source": [
    "# Library and Data Imports"
   ]
  },
  {
   "cell_type": "code",
   "execution_count": 1,
   "metadata": {},
   "outputs": [],
   "source": [
    "# Data Analysis and Modeling\n",
    "import pandas as pd\n",
    "import numpy as np\n",
    "import seaborn as sns\n",
    "from matplotlib import pyplot as plt\n",
    "from sklearn.model_selection import train_test_split\n",
    "\n",
    "# Random Forest Regression\n",
    "from sklearn.ensemble import RandomForestRegressor\n",
    "\n",
    "# AdaBoost Decision Tree\n",
    "from sklearn.tree import DecisionTreeRegressor\n",
    "from sklearn.ensemble import AdaBoostRegressor\n",
    "\n",
    "# LASSO\n",
    "from sklearn.linear_model import LassoCV, Lasso\n",
    "\n",
    "# XGBoost\n",
    "import xgboost as xgb\n",
    "\n",
    "# Cross-Validation and Accuracy Measures\n",
    "from sklearn.model_selection import KFold\n",
    "from sklearn.model_selection import GridSearchCV\n",
    "from sklearn.metrics import mean_squared_error, r2_score, accuracy_score, mean_absolute_error\n",
    "\n",
    "# Model Serializing (export to web-app)\n",
    "import pickle\n",
    "\n",
    "# Packages for PostgreSQL Import\n",
    "import psycopg2\n",
    "import os"
   ]
  },
  {
   "cell_type": "markdown",
   "metadata": {},
   "source": [
    "## Importing Data from SQL"
   ]
  },
  {
   "cell_type": "code",
   "execution_count": 4,
   "metadata": {},
   "outputs": [
    {
     "data": {
      "text/plain": [
       "(374, 65)"
      ]
     },
     "execution_count": 4,
     "metadata": {},
     "output_type": "execute_result"
    }
   ],
   "source": [
    "# Names for accessing SQL database\n",
    "dbname = \"freelance_db\"\n",
    "username = os.environ['USER']\n",
    "pswd = os.environ['SQLPSWD']\n",
    "\n",
    "# Connect to SQL Database\n",
    "con = None\n",
    "con = psycopg2.connect(database = dbname, user = username, host='localhost', password=pswd)\n",
    "\n",
    "# Importing Data\n",
    "sql_query = \"\"\"SELECT * FROM analysis_dummies_table;\"\"\"\n",
    "analysis_dt = pd.read_sql_query(sql_query, con)\n",
    "\n",
    "sql_query = \"\"\"SELECT * FROM embeddings_table;\"\"\"\n",
    "embeddings = pd.read_sql_query(sql_query, con)\n",
    "\n",
    "# Doing some cleaning. Removing columns that have a continuous analog in the model.\n",
    "analysis_dt = analysis_dt.drop(['index'], axis=1)\n",
    "analysis_dt = analysis_dt.drop(['first_skill'], axis = 1)\n",
    "\n",
    "# Removing index col from embeddings\n",
    "embeddings = embeddings.drop(['index'], axis = 1)\n",
    "embeddings['profile_url'] = \"https://www.guru.com\" + embeddings['profile_url']\n",
    "\n",
    "# Merging on profile_url\n",
    "analysis_dt = analysis_dt.merge(embeddings, how = \"left\", \n",
    "                                left_on = \"profile_url\", right_on= \"profile_url\")\n",
    "analysis_dt = analysis_dt.drop(['profile_url'], axis = 1)\n",
    "analysis_dt = analysis_dt.fillna(0)\n",
    "\n",
    "# Cleaning avg_word_length and bio_word count\n",
    "analysis_dt.loc[analysis_dt['bio_length'] == 0, ['bio_word_count','avg_word_length']] = 0\n",
    "\n",
    "# Removing inactive users\n",
    "analysis_dt = analysis_dt.loc[analysis_dt['has_quote'] == 1, :]\n",
    "analysis_dt.shape\n",
    "\n",
    "# Final Cleaning\n",
    "analysis_dt = analysis_dt.drop(['num_skills','earnings_per_month',\n",
    "                                'hours_worked', 'worked_pst_yr',\n",
    "                                'hours_worked_pr_mnth',\n",
    "                                'has_quote'], axis = 1)\n",
    "analysis_dt = analysis_dt.drop(analysis_dt.columns[14:64], axis = 1)\n",
    "\n",
    "# Removing crazy outliers\n",
    "analysis_dt = analysis_dt.loc[analysis_dt['hourly_rate'] < 100, :]\n",
    "\n",
    "# Last check\n",
    "analysis_dt.shape"
   ]
  },
  {
   "cell_type": "markdown",
   "metadata": {},
   "source": [
    "## Getting Training and Test Splits\n",
    "\n",
    "Note the random state is the same as in the model training notebook. This is to ensure I get the same data."
   ]
  },
  {
   "cell_type": "code",
   "execution_count": 5,
   "metadata": {},
   "outputs": [],
   "source": [
    "# Converting data to numpy arrays and saving column names\n",
    "y = np.array(analysis_dt['hourly_rate'])\n",
    "\n",
    "analysis_dt = analysis_dt.drop(['hourly_rate'], axis = 1)\n",
    "feature_list = list(analysis_dt.columns)\n",
    "\n",
    "X = np.array(analysis_dt)"
   ]
  },
  {
   "cell_type": "code",
   "execution_count": 6,
   "metadata": {},
   "outputs": [],
   "source": [
    "# Creating train and test splits\n",
    "X_train, X_test, y_train, y_test = train_test_split(\n",
    "    X, y, test_size=0.1, random_state=42)"
   ]
  },
  {
   "cell_type": "markdown",
   "metadata": {},
   "source": [
    "## Defining Functions for Evaluation"
   ]
  },
  {
   "cell_type": "code",
   "execution_count": 7,
   "metadata": {},
   "outputs": [],
   "source": [
    "def baseline_performance(outcome_data, test_data):\n",
    "    # Assumes training the mean\n",
    "    \n",
    "    # Getting Baseline\n",
    "    baseline_preds = np.mean(outcome_data)\n",
    "\n",
    "    # Baseline Errors\n",
    "    baseline_errors = abs(baseline_preds - test_data)\n",
    "\n",
    "    # Baseline:\n",
    "    print('Baseline Performance of Naive Mean Estimator:\\nMean Absolute Error:', round(np.mean(baseline_errors), 2))\n",
    "    \n",
    "    return np.mean(baseline_errors)\n",
    "    \n",
    "def model_performance(predictions, outcome_data, baseline, model_str_name):\n",
    "    # Calculate absolute error (comparison with baseline)\n",
    "    errors = abs(predictions - outcome_data)\n",
    "    \n",
    "    print(model_str_name + ' Performance:')\n",
    "    \n",
    "    # Print out the mean absolute error (mae)\n",
    "    print('\\tMean absolute error: %.2f'\n",
    "          % mean_absolute_error(outcome_data, predictions))\n",
    "\n",
    "    # The mean squared error\n",
    "    print('\\tMean squared error: %.2f'\n",
    "          % mean_squared_error(outcome_data, predictions))\n",
    "\n",
    "    # The coefficient of determination (R2)\n",
    "    print('\\tCoefficient of determination: %.2f'\n",
    "          % r2_score(outcome_data, predictions))\n",
    "\n",
    "    # Does much better than the mean with regard to mean absolute error\n",
    "    print(\"\\tA \", round((np.mean(errors)-baseline)/baseline,3)*-100,\n",
    "          \"percent change over the mean\")\n",
    "    \n",
    "    # What is the average dollar change in user hourly rate with this model?\n",
    "    print(\"\\tAverage Change in Hourly Rate vs Naive Model: $\", np.mean(predictions - baseline))\n",
    "\n",
    "def plot_preds_truth(x, y):\n",
    "    # Calculate Error\n",
    "    error = abs(x-y)\n",
    "    \n",
    "    # Plotting True Hourly Rates vs Predicted Hourly Rates\n",
    "    sns.scatterplot(x = x, y = y, hue = error)\n",
    "    plt.xlim(0,100)\n",
    "    plt.ylim(0,100)\n",
    "    plt.xlabel(\"Truth\")\n",
    "    plt.ylabel(\"Prediction\")\n",
    "    plt.show()\n",
    "    \n",
    "# Aggregate Function: Model_performance\n",
    "def model_evaluation(model, model_name_string):\n",
    "\n",
    "    if model_name_string == 'XGBoost':\n",
    "        \n",
    "        # Converting data to useable format \n",
    "        dtest = xgb.DMatrix(X_test, label=y_test)\n",
    "        \n",
    "        # Evaluating Model\n",
    "        model_performance(model.predict(dtest), y_test, pred_baseline, 'model_name_string')\n",
    "\n",
    "        # Plotting True Hourly Rates vs Predicted Hourly Rates\n",
    "        plot_preds_truth(x = y_test, y = model.predict(dtest))\n",
    "        \n",
    "    else:\n",
    "        \n",
    "        # Evaluating Model\n",
    "        model_performance(model.predict(X_test), y_test, pred_baseline, 'model_name')\n",
    "\n",
    "        # Plotting True Hourly Rates vs Predicted Hourly Rates\n",
    "        plot_preds_truth(x = y_test, y = model.predict(X_test))\n"
   ]
  },
  {
   "cell_type": "markdown",
   "metadata": {},
   "source": [
    "# Loading Models"
   ]
  },
  {
   "cell_type": "code",
   "execution_count": 8,
   "metadata": {},
   "outputs": [],
   "source": [
    "# XGBoost\n",
    "model_xgboost = xgb.Booster({'nthread': 4})  # init model\n",
    "model_xgboost.load_model(os.environ['PWD'] + '/scripts/models/model_xgb_v2.model')  # load data\n",
    "\n",
    "# Lasso\n",
    "filename = os.environ['PWD'] + '/scripts/models/model_lasso.sav'\n",
    "model_lasso = pickle.load(open(filename, 'rb'))\n",
    "\n",
    "# Random Forest Regression\n",
    "filename = os.environ['PWD'] + '/scripts/models/model_rfr.sav'\n",
    "model_rfr = pickle.load(open(filename, 'rb'))\n",
    "\n",
    "# AdaBoost\n",
    "filename = os.environ['PWD'] + '/scripts/models/model_ada.sav'\n",
    "model_ada = pickle.load(open(filename, 'rb'))"
   ]
  },
  {
   "cell_type": "markdown",
   "metadata": {},
   "source": [
    "# Evaluating Models\n",
    "\n",
    "Looking at the Mean Absolute Error (MAE), Coefficient of Determination, and Mean Squared Error. Also, I look at the dollar difference between the naive model (mean predict) and my model. Lastly, I print a graphic that visualizes where the model does and doesn't perform well. Later I'll build upon this graphic to subgroups."
   ]
  },
  {
   "cell_type": "markdown",
   "metadata": {},
   "source": [
    "## Baseline Performance\n",
    "This is the performance of an estimator trained on the mean of the training data. Purely looking at the MAE, the XGBoost models performs above and beyond all the other models. "
   ]
  },
  {
   "cell_type": "code",
   "execution_count": 9,
   "metadata": {},
   "outputs": [
    {
     "name": "stdout",
     "output_type": "stream",
     "text": [
      "Baseline Performance of Naive Mean Estimator:\n",
      "Mean Absolute Error: 13.73\n"
     ]
    },
    {
     "data": {
      "image/png": "[encoded data removed]",
      "text/plain": [
       "<Figure size 432x288 with 1 Axes>"
      ]
     },
     "metadata": {
      "needs_background": "light"
     },
     "output_type": "display_data"
    }
   ],
   "source": [
    "pred_baseline = baseline_performance(y_train, y_test)\n",
    "plot_preds_truth(x = y_test, y = pred_baseline)"
   ]
  },
  {
   "cell_type": "markdown",
   "metadata": {},
   "source": [
    "## Model Performance"
   ]
  },
  {
   "cell_type": "code",
   "execution_count": 10,
   "metadata": {},
   "outputs": [
    {
     "name": "stdout",
     "output_type": "stream",
     "text": [
      "model_name_string Performance:\n",
      "\tMean absolute error: 15.31\n",
      "\tMean squared error: 310.30\n",
      "\tCoefficient of determination: -0.33\n",
      "\tA  -11.5 percent change over the mean\n",
      "\tAverage Change in Hourly Rate vs Naive Model: $ 20.656275\n"
     ]
    },
    {
     "data": {
      "image/png": "[encoded data removed]",
      "text/plain": [
       "<Figure size 432x288 with 1 Axes>"
      ]
     },
     "metadata": {
      "needs_background": "light"
     },
     "output_type": "display_data"
    }
   ],
   "source": [
    "# XGBoost\n",
    "model_evaluation(model_xgboost, 'XGBoost')"
   ]
  },
  {
   "cell_type": "code",
   "execution_count": 11,
   "metadata": {},
   "outputs": [
    {
     "name": "stdout",
     "output_type": "stream",
     "text": [
      "model_name Performance:\n",
      "\tMean absolute error: 12.10\n",
      "\tMean squared error: 196.58\n",
      "\tCoefficient of determination: 0.16\n",
      "\tA  11.899999999999999 percent change over the mean\n",
      "\tAverage Change in Hourly Rate vs Naive Model: $ 15.908170218798196\n"
     ]
    },
    {
     "data": {
      "image/png": "[encoded data removed]",
      "text/plain": [
       "<Figure size 432x288 with 1 Axes>"
      ]
     },
     "metadata": {
      "needs_background": "light"
     },
     "output_type": "display_data"
    }
   ],
   "source": [
    "# Lasso\n",
    "model_evaluation(model_lasso, 'LASSO')"
   ]
  },
  {
   "cell_type": "code",
   "execution_count": 12,
   "metadata": {},
   "outputs": [
    {
     "name": "stdout",
     "output_type": "stream",
     "text": [
      "model_name Performance:\n",
      "\tMean absolute error: 18.18\n",
      "\tMean squared error: 427.59\n",
      "\tCoefficient of determination: -0.84\n",
      "\tA  -32.5 percent change over the mean\n",
      "\tAverage Change in Hourly Rate vs Naive Model: $ 26.27552974645737\n"
     ]
    },
    {
     "data": {
      "image/png": "[encoded data removed]",
      "text/plain": [
       "<Figure size 432x288 with 1 Axes>"
      ]
     },
     "metadata": {
      "needs_background": "light"
     },
     "output_type": "display_data"
    }
   ],
   "source": [
    "# Random Forest\n",
    "model_evaluation(model_rfr, 'Random Forest Regression')"
   ]
  },
  {
   "cell_type": "code",
   "execution_count": 13,
   "metadata": {},
   "outputs": [
    {
     "name": "stdout",
     "output_type": "stream",
     "text": [
      "model_name Performance:\n",
      "\tMean absolute error: 18.41\n",
      "\tMean squared error: 448.46\n",
      "\tCoefficient of determination: -0.93\n",
      "\tA  -34.1 percent change over the mean\n",
      "\tAverage Change in Hourly Rate vs Naive Model: $ 26.58719900240798\n"
     ]
    },
    {
     "data": {
      "image/png": "[encoded data removed]",
      "text/plain": [
       "<Figure size 432x288 with 1 Axes>"
      ]
     },
     "metadata": {
      "needs_background": "light"
     },
     "output_type": "display_data"
    }
   ],
   "source": [
    "# AdaBoost\n",
    "model_evaluation(model_ada, 'AdaBoosted Regression Trees')"
   ]
  }
 ],
 "metadata": {
  "kernelspec": {
   "display_name": "Python 3",
   "language": "python",
   "name": "python3"
  },
  "language_info": {
   "codemirror_mode": {
    "name": "ipython",
    "version": 3
   },
   "file_extension": ".py",
   "mimetype": "text/x-python",
   "name": "python",
   "nbconvert_exporter": "python",
   "pygments_lexer": "ipython3",
   "version": "3.7.7"
  }
 },
 "nbformat": 4,
 "nbformat_minor": 4
}
