{
 "cells": [
  {
   "cell_type": "markdown",
   "metadata": {},
   "source": [
    "# Descriptive model using hours user wants to work versus the observed distribution among similar users\n",
    "\n",
    "This is based off code from the eda. The predictive model performs very poorly so I'm turning to something a little more hands on."
   ]
  },
  {
   "cell_type": "markdown",
   "metadata": {},
   "source": [
    "# Libraries and Data Import"
   ]
  },
  {
   "cell_type": "code",
   "execution_count": 1,
   "metadata": {},
   "outputs": [],
   "source": [
    "# Data Analysis and Modeling\n",
    "import pandas as pd\n",
    "import numpy as np\n",
    "import seaborn as sns\n",
    "from matplotlib import pyplot as plt\n",
    "\n",
    "# Packages for PostgreSQL Import\n",
    "import psycopg2\n",
    "import os\n",
    "\n",
    "# Packages for Extracting Embedding\n",
    "import pickle  # Importing serialized model for prediction\n",
    "import gensim\n",
    "from nltk.tokenize import sent_tokenize, word_tokenize\n",
    "from nltk.corpus import stopwords  # Cleaning text data"
   ]
  },
  {
   "cell_type": "code",
   "execution_count": 25,
   "metadata": {},
   "outputs": [],
   "source": [
    "# Data Import\n",
    "dbname = \"freelance_db\"\n",
    "username = os.environ['USER']\n",
    "pswd = os.environ['SQLPSWD']\n",
    "\n",
    "# Connect to SQL Database\n",
    "con = None\n",
    "con = psycopg2.connect(database = dbname, user = username, host='localhost', password=pswd)\n",
    "\n",
    "# Importing Data\n",
    "sql_query = \"\"\"SELECT * FROM analysis_table_hours_worked;\"\"\"\n",
    "dt = pd.read_sql_query(sql_query, con)\n",
    "\n",
    "sql_query = \"\"\"SELECT * FROM embeddings_table;\"\"\"\n",
    "embeddings = pd.read_sql_query(sql_query, con)\n",
    "\n",
    "# Merging Embeddings\n",
    "embeddings = embeddings.drop(['index'], axis = 1)\n",
    "dt = dt.drop(['index'], axis = 1)\n",
    "\n",
    "dt = dt.merge(embeddings, how = \"left\", \n",
    "                                left_on = \"profile_url\", right_on= \"profile_url\")\n",
    "dt = dt.fillna(0)\n",
    "\n",
    "# Cleaning avg_word_length and bio_word count\n",
    "dt.loc[dt['bio_length'] == 0, ['bio_word_count','avg_word_length']] = 0\n",
    "dt = dt[dt.has_quote == 1]\n",
    "\n",
    "dt.to_csv(os.environ['PWD'] + '/data/cleaned/users.csv',index=False)"
   ]
  },
  {
   "cell_type": "markdown",
   "metadata": {},
   "source": [
    "# Functions"
   ]
  },
  {
   "cell_type": "code",
   "execution_count": 3,
   "metadata": {},
   "outputs": [
    {
     "name": "stderr",
     "output_type": "stream",
     "text": [
      "/Users/Metaverse/Desktop/Insight/projects/myrate/conda-env/lib/python3.7/site-packages/ipykernel_launcher.py:10: DeprecationWarning: Call to deprecated `__getitem__` (Method will be removed in 4.0.0, use self.wv.__getitem__() instead).\n",
      "  # Remove the CWD from sys.path while we load stuff.\n"
     ]
    }
   ],
   "source": [
    "# Convert Bio to Embedding\n",
    "def average_word_vectors(words, model, vocabulary, num_features):\n",
    "\n",
    "    feature_vector = np.zeros((num_features,), dtype=\"float64\")\n",
    "    nwords = 0.\n",
    "\n",
    "    for word in words:\n",
    "        if word in vocabulary:\n",
    "            nwords = nwords + 1.\n",
    "            feature_vector = np.add(feature_vector, model[word])\n",
    "\n",
    "    if nwords:\n",
    "        feature_vector = np.divide(feature_vector, nwords)\n",
    "\n",
    "    return feature_vector\n",
    "\n",
    "\n",
    "def averaged_word_vectorizer(corpus, model, num_features):\n",
    "    vocabulary = set(model.wv.index2word)\n",
    "    features = [average_word_vectors(tokenized_sentence, model, vocabulary, num_features)\n",
    "                for tokenized_sentence in corpus]\n",
    "\n",
    "    return np.mean(pd.DataFrame(np.array(features)), axis=0)\n",
    "\n",
    "def get_word_embedding():\n",
    "    # Loading Model\n",
    "    try:\n",
    "        filename = '/home/ubuntu/MyRate/scripts/model_w2v.sav'\n",
    "        model_w2v = pickle.load(open(filename, 'rb'))\n",
    "    except:\n",
    "        filename = os.environ['PWD'] + '/scripts/models/model_w2v.sav'\n",
    "        model_w2v = pickle.load(open(filename, 'rb'))\n",
    "\n",
    "    tokenized_corpus = word_tokenize(bio)\n",
    "    embeddings = averaged_word_vectorizer(corpus=tokenized_corpus, model=model_w2v,\n",
    "                                          num_features=50)\n",
    "\n",
    "    embeddings.index = [str(x) for x in list(embeddings.index)]\n",
    "    embeddings = pd.DataFrame(embeddings).iloc[:, 0].to_dict()\n",
    "\n",
    "    return embeddings\n",
    "\n",
    "bio = \"We are a group specializing in the creation of custom IT solutions for web, mobile, and desktop. We offer visually engaging and user-centric interactive solutions tailored to your business needs. We unify software development with digital marketing to transform the traditional into industry-changing solutions. We combine creative digital marketing with tailor-made software development and unique web design, to become the one-stop-shop for industry innovation. 1,000+ projects delivered 14+ years of experience transforming ideas into reality 280+ highly talented developers, designers, and marketers from around the world. Your digital originality. Crafted, coded and spread with passion. At Scopic our core services include:  Advanced Manufacturing Application Development FDA Compliant Scientific and Medical App Development Audio/Video App Development Financial App Development Communication and Collaboration App Development Crypto Currencies and Blockchain Development Services Machine Learning Solutions Conversational AI and Intelligent Assistance E-commerce Software Development SaaS Development\"\n",
    "test_embed = get_word_embedding()"
   ]
  },
  {
   "cell_type": "code",
   "execution_count": 4,
   "metadata": {},
   "outputs": [],
   "source": [
    "# Creating Lookup Function\n",
    "\n",
    "def get_my_rate(hours, skill_category, embedding):\n",
    "    \n",
    "    # Finding users within skill_category with similar embedding\n",
    "    dt_search = dt[(dt.hours_worked_pr_mnth_pst_yr > (hours-5)) & (dt[skill_category] == 1) & (\n",
    "        dt.hours_worked_pr_mnth_pst_yr < (hours+5))]\n",
    "    \n",
    "    new_embed_array = np.fromiter(test_embed.values(), dtype=float)\n",
    "    data_embed_array = np.array(dt_search.iloc[:,list(range(18,68))])\n",
    "    cos_sim = data_embed_array.dot(new_embed_array) / (np.linalg.norm(new_embed_array) * np.linalg.norm(data_embed_array, axis = 1))\n",
    "    index_max = np.nanargmax(cos_sim)\n",
    "    sim_user = dt_search.iloc[index_max,:].profile_url\n",
    "    \n",
    "    # Getting Rate Distribution\n",
    "    rate_dist = dt[(dt.hours_worked_pr_mnth_pst_yr > (hours-5)) & (dt[skill_category] == 1) & (\n",
    "        dt.hours_worked_pr_mnth_pst_yr < (hours+5))].hourly_rate.describe()\n",
    "    \n",
    "    med_rate = rate_dist[5]\n",
    "    min_rate = rate_dist[3]\n",
    "    max_rate = rate_dist[7]\n",
    "    num_users = rate_dist[0]\n",
    "\n",
    "    # Calculating Change for people outside of \"success\" window\n",
    "    avg_decrease = (dt[(dt.hours_worked_pr_mnth_pst_yr < (hours-5)) & (\n",
    "        dt[skill_category] == 1)].hourly_rate - med_rate).mean()\n",
    "\n",
    "    avg_increase = (dt[(dt.hours_worked_pr_mnth_pst_yr > (hours+5)) & (\n",
    "        dt[skill_category] == 1)].hourly_rate - med_rate).mean()\n",
    "    \n",
    "    # Printing Results\n",
    "    print(\"We recommend an hourly rate of:\", \"$\"+str(med_rate),\"\\n\"\n",
    "          \"Of \" + str(num_users) + \" users - similar to you - working between \" + str(hours-5) + \" and \" + str(hours+5) + \" hours,\\n\" + \n",
    "          \"The minimum hourly rate was\", \"$\"+str(min_rate), \"and the maximum was\", \"$\"+str(max_rate)+\".\\n\" +\n",
    "          \"URL of user similar to you based on your bio:\",sim_user)\n",
    "    \n",
    "    return index_max"
   ]
  },
  {
   "cell_type": "markdown",
   "metadata": {},
   "source": [
    "# Testing"
   ]
  },
  {
   "cell_type": "code",
   "execution_count": 5,
   "metadata": {},
   "outputs": [
    {
     "name": "stdout",
     "output_type": "stream",
     "text": [
      "We recommend an hourly rate of: $35.0 \n",
      "Of 126.0 users - similar to you - working between 0 and 10 hours,\n",
      "The minimum hourly rate was $5.0 and the maximum was $145.0.\n",
      "URL of user similar to you based on your bio: https://www.guru.com/freelancers/calvin-tran-1\n"
     ]
    },
    {
     "name": "stderr",
     "output_type": "stream",
     "text": [
      "/Users/Metaverse/Desktop/Insight/projects/myrate/conda-env/lib/python3.7/site-packages/ipykernel_launcher.py:10: DeprecationWarning: Call to deprecated `__getitem__` (Method will be removed in 4.0.0, use self.wv.__getitem__() instead).\n",
      "  # Remove the CWD from sys.path while we load stuff.\n"
     ]
    }
   ],
   "source": [
    "bio = 'We are a group specializing in the creation of custom IT solutions for web, mobile, and desktop. We offer visually engaging and user-centric interactive solutions tailored to your business needs. We unify software development with digital marketing to transform the traditional into industry-changing solutions. We combine creative digital marketing with tailor-made software development and unique web design, to become the one-stop-shop for industry innovation. 1,000+ projects delivered 14+ years of experience transforming ideas into reality 280+ highly talented developers, designers, and marketers from around the world. Your digital originality. Crafted, coded and spread with passion. At Scopic our core services include:  Advanced Manufacturing Application Development FDA Compliant Scientific and Medical App Development Audio/Video App Development Financial App Development Communication and Collaboration App Development Crypto Currencies and Blockchain Development Services Machine Learning Solutions Conversational AI and Intelligent Assistance E-commerce Software Development SaaS DevelopmentOur highly skilled coders have experience with over 50 types of technologies including:•\tDesktop: C++/Qt, .Net, Java, Ruby•\tWeb: React, Angular, Node.js, PHP/Laravel/Yii/Magento, .Net, Java, AWS Serverless Computing•\tMobile: React Native, Ionic, Xamarin•\tDatabases: SQL (MySQL, PostgreSQL, MS SQL and NoSQL),MongoDB, Dynamo, Firebase•\tSystem and Software Architecture: Micro-services Architecture, Multi-tenant Architectures, Multi-tier Architecture•\tDevOps: AWS, Google Cloud, CI/CD, Containers - Docker/Kubernetes•\tAdvanced Software Solutions: 3D/2D Graphics, Image Processing, AR/VR,Computer Vision, 3D Algorithmic (OpenCV, CUDA, Vuforia/Google VR/ARKit, Three.js, WebAssembly)Innovation starts with a powerful vision. Let’s work together to breathe life into your digital ideas.'\n",
    "embed = get_word_embedding()\n",
    "a = get_my_rate(5,'programming & development', test_embed)"
   ]
  },
  {
   "cell_type": "code",
   "execution_count": 19,
   "metadata": {},
   "outputs": [
    {
     "data": {
      "text/plain": [
       "180.0"
      ]
     },
     "execution_count": 19,
     "metadata": {},
     "output_type": "execute_result"
    }
   ],
   "source": [
    "skill_categories = 'programming & development'\n",
    "top_workers = dt[dt[skill_categories] ==\n",
    "                     1]['hours_worked_pr_mnth_pst_yr'].nlargest(3).min()\n",
    "top_workers"
   ]
  },
  {
   "cell_type": "code",
   "execution_count": 22,
   "metadata": {},
   "outputs": [
    {
     "data": {
      "text/plain": [
       "11    https://www.guru.com/freelancers/eden-programm...\n",
       "70       https://www.guru.com/freelancers/ken-b-1083572\n",
       "81      https://www.guru.com/freelancers/kimberly-verdi\n",
       "Name: profile_url, dtype: object"
      ]
     },
     "execution_count": 22,
     "metadata": {},
     "output_type": "execute_result"
    }
   ],
   "source": [
    "dt[(dt[skill_categories] == 1) &\n",
    "        (dt['hours_worked_pr_mnth_pst_yr'] >= top_workers)].profile_url"
   ]
  },
  {
   "cell_type": "code",
   "execution_count": null,
   "metadata": {},
   "outputs": [],
   "source": []
  }
 ],
 "metadata": {
  "kernelspec": {
   "display_name": "Python 3",
   "language": "python",
   "name": "python3"
  },
  "language_info": {
   "codemirror_mode": {
    "name": "ipython",
    "version": 3
   },
   "file_extension": ".py",
   "mimetype": "text/x-python",
   "name": "python",
   "nbconvert_exporter": "python",
   "pygments_lexer": "ipython3",
   "version": "3.7.7"
  }
 },
 "nbformat": 4,
 "nbformat_minor": 4
}
