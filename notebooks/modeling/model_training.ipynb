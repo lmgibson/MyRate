{
 "cells": [
  {
   "cell_type": "markdown",
   "metadata": {},
   "source": [
    "# Modeling the Hourly Rate\n",
    "\n",
    "This code trains a model to predict what a prospective freelancers hourly rate should be. The model used is a random forest regression model. I also built an AdaBoosted Decision Tree model, but it performs much worse (using 5-fold cross-validation) compared with the turned random forest regression model.\n",
    "\n",
    "I've also built a k-modes (cluster with categorical/numeric mixed data) model. It is currently being tested."
   ]
  },
  {
   "cell_type": "markdown",
   "metadata": {},
   "source": [
    "# Prep\n",
    "\n",
    "## Importing Libraries and Data"
   ]
  },
  {
   "cell_type": "code",
   "execution_count": 1,
   "metadata": {},
   "outputs": [],
   "source": [
    "# Data Analysis and Modeling\n",
    "import pandas as pd\n",
    "import numpy as np\n",
    "import seaborn as sns\n",
    "from matplotlib import pyplot as plt\n",
    "from sklearn.model_selection import train_test_split\n",
    "import time\n",
    "\n",
    "# Random Forest Regression\n",
    "from sklearn.ensemble import RandomForestRegressor\n",
    "\n",
    "# AdaBoost Decision Tree\n",
    "from sklearn.tree import DecisionTreeRegressor\n",
    "from sklearn.ensemble import AdaBoostRegressor\n",
    "\n",
    "# LASSO\n",
    "from sklearn.linear_model import LassoCV, Lasso\n",
    "\n",
    "# XGBoost\n",
    "import xgboost as xgb\n",
    "\n",
    "# Cross-Validation and Accuracy Measures\n",
    "from sklearn.model_selection import KFold\n",
    "from sklearn.model_selection import GridSearchCV\n",
    "from sklearn.metrics import mean_squared_error, r2_score, accuracy_score, mean_absolute_error\n",
    "\n",
    "# Model Serializing (export to web-app)\n",
    "import pickle\n",
    "\n",
    "# Packages for PostgreSQL Import\n",
    "import psycopg2\n",
    "import os\n",
    "\n",
    "# Packages for K-Modes Cluster\n",
    "from kmodes.kmodes import KModes"
   ]
  },
  {
   "cell_type": "markdown",
   "metadata": {},
   "source": [
    "## Importing Data from SQL"
   ]
  },
  {
   "cell_type": "code",
   "execution_count": 28,
   "metadata": {
    "scrolled": true
   },
   "outputs": [
    {
     "data": {
      "text/plain": [
       "(369, 115)"
      ]
     },
     "execution_count": 28,
     "metadata": {},
     "output_type": "execute_result"
    }
   ],
   "source": [
    "# Names for accessing SQL database\n",
    "dbname = \"freelance_db\"\n",
    "username = os.environ['USER']\n",
    "pswd = os.environ['SQLPSWD']\n",
    "\n",
    "# Connect to SQL Database\n",
    "con = None\n",
    "con = psycopg2.connect(database = dbname, user = username, host='localhost', password=pswd)\n",
    "\n",
    "# Importing Data\n",
    "sql_query = \"\"\"SELECT * FROM analysis_dummies_table;\"\"\"\n",
    "analysis_dt = pd.read_sql_query(sql_query, con)\n",
    "\n",
    "sql_query = \"\"\"SELECT * FROM embeddings_table;\"\"\"\n",
    "embeddings = pd.read_sql_query(sql_query, con)\n",
    "\n",
    "# Doing some cleaning. Removing columns that have a continuous analog in the model.\n",
    "analysis_dt = analysis_dt.drop(['index'], axis=1)\n",
    "analysis_dt = analysis_dt.drop(['first_skill'], axis = 1)\n",
    "\n",
    "# Removing index col from embeddings\n",
    "embeddings = embeddings.drop(['index'], axis = 1)\n",
    "\n",
    "# Merging on profile_url\n",
    "analysis_dt = analysis_dt.merge(embeddings, how = \"left\", \n",
    "                                left_on = \"profile_url\", right_on= \"profile_url\")\n",
    "profile_url = analysis_dt['profile_url']\n",
    "analysis_dt = analysis_dt.drop(['profile_url'], axis = 1)\n",
    "analysis_dt = analysis_dt.fillna(0)\n",
    "\n",
    "# Cleaning avg_word_length and bio_word count\n",
    "analysis_dt.loc[analysis_dt['bio_length'] == 0, ['bio_word_count','avg_word_length']] = 0\n",
    "\n",
    "# Removing inactive users\n",
    "analysis_dt = analysis_dt.loc[analysis_dt['has_quote'] == 1, :]\n",
    "analysis_dt.shape\n",
    "\n",
    "# Removing crazy outliers\n",
    "analysis_dt = analysis_dt.loc[analysis_dt['hourly_rate'] < 100, :]\n",
    "\n",
    "# Final Cleaning\n",
    "analysis_dt = analysis_dt.drop(['num_skills','earnings_per_month',\n",
    "                                'hours_worked', 'worked_pst_yr',\n",
    "                                'hours_worked_pr_mnth','has_quote'], axis = 1)\n",
    "# analysis_dt = analysis_dt.drop(['hours_worked_pr_mnth_pst_yr'], axis = 1)\n",
    "# analysis_dt = analysis_dt.drop(analysis_dt.columns[15:65], axis = 1)\n",
    "\n",
    "# Last check\n",
    "analysis_dt.shape"
   ]
  },
  {
   "cell_type": "markdown",
   "metadata": {},
   "source": [
    "## Prepping Data for Training"
   ]
  },
  {
   "cell_type": "code",
   "execution_count": 59,
   "metadata": {},
   "outputs": [],
   "source": [
    "# Converting data to numpy arrays and saving column names\n",
    "y = analysis_dt['hourly_rate']\n",
    "\n",
    "dt = analysis_dt.drop(['hourly_rate'], axis = 1)\n",
    "feature_list = list(dt.columns)\n",
    "\n",
    "X = dt"
   ]
  },
  {
   "cell_type": "code",
   "execution_count": 60,
   "metadata": {},
   "outputs": [],
   "source": [
    "# Creating train and test splits\n",
    "X_train, X_test, y_train, y_test = train_test_split(\n",
    "    X, y, test_size=0.1, random_state=42)"
   ]
  },
  {
   "cell_type": "markdown",
   "metadata": {},
   "source": [
    "# Modeling - XGBoost"
   ]
  },
  {
   "cell_type": "code",
   "execution_count": 31,
   "metadata": {},
   "outputs": [],
   "source": [
    "# Convert Data into DMatrix\n",
    "dtest = xgb.DMatrix(np.array(X_test), label=np.array(y_test))\n",
    "dtrain = xgb.DMatrix(np.array(X_train), label= np.array(y_train))\n",
    "dtrain.save_binary((os.environ['PWD'] + '/data/cleaned/train.buffer'))\n",
    "dtest.save_binary((os.environ['PWD'] + '/data/cleaned/test.buffer'))"
   ]
  },
  {
   "cell_type": "code",
   "execution_count": 32,
   "metadata": {},
   "outputs": [
    {
     "name": "stdout",
     "output_type": "stream",
     "text": [
      "[0]\tTest-mae:21.95933\n",
      "Will train until Test-mae hasn't improved in 10 rounds.\n",
      "[1]\tTest-mae:18.11282\n",
      "[2]\tTest-mae:16.93211\n",
      "[3]\tTest-mae:15.76214\n",
      "[4]\tTest-mae:15.67782\n",
      "[5]\tTest-mae:15.72561\n",
      "[6]\tTest-mae:15.66180\n",
      "[7]\tTest-mae:15.48387\n",
      "[8]\tTest-mae:15.72361\n",
      "[9]\tTest-mae:15.91339\n",
      "[10]\tTest-mae:16.22735\n",
      "[11]\tTest-mae:16.26434\n",
      "[12]\tTest-mae:16.27698\n",
      "[13]\tTest-mae:16.23676\n",
      "[14]\tTest-mae:16.23555\n",
      "[15]\tTest-mae:16.20380\n",
      "[16]\tTest-mae:16.17112\n",
      "[17]\tTest-mae:16.22702\n",
      "Stopping. Best iteration:\n",
      "[7]\tTest-mae:15.48387\n",
      "\n"
     ]
    }
   ],
   "source": [
    "# Baseline Model without Tuning\n",
    "params = {\n",
    "    # Parameters that we are going to tune.\n",
    "    'max_depth':6,\n",
    "    'min_child_weight': 1,\n",
    "    'eta':.3,\n",
    "    'subsample': 1,\n",
    "    'colsample_bytree': 1,\n",
    "    # Other parameters\n",
    "    'objective':'reg:squarederror',\n",
    "    'eval_metric': \"mae\"\n",
    "}\n",
    "\n",
    "num_boost_round = 999\n",
    "\n",
    "# Cross-Validated XGBoost\n",
    "model = xgb.train(\n",
    "    params,\n",
    "    dtrain,\n",
    "    num_boost_round=num_boost_round,\n",
    "    evals=[(dtest, \"Test\")],\n",
    "    early_stopping_rounds=10\n",
    ")\n",
    "\n",
    "# MAE With Default Params = 17.60"
   ]
  },
  {
   "cell_type": "code",
   "execution_count": 33,
   "metadata": {},
   "outputs": [
    {
     "name": "stdout",
     "output_type": "stream",
     "text": [
      "CV with max_depth=2, min_child_weight=2\n",
      "\tMAE 13.9241584 for 5 rounds\n",
      "CV with max_depth=2, min_child_weight=4\n",
      "\tMAE 13.985680400000001 for 7 rounds\n",
      "CV with max_depth=2, min_child_weight=6\n",
      "\tMAE 13.913796 for 6 rounds\n",
      "CV with max_depth=2, min_child_weight=8\n",
      "\tMAE 13.810689799999997 for 6 rounds\n",
      "CV with max_depth=2, min_child_weight=10\n",
      "\tMAE 13.817743400000001 for 6 rounds\n",
      "CV with max_depth=2, min_child_weight=12\n",
      "\tMAE 13.844184799999999 for 10 rounds\n",
      "CV with max_depth=2, min_child_weight=14\n",
      "\tMAE 13.9189666 for 5 rounds\n",
      "CV with max_depth=2, min_child_weight=16\n",
      "\tMAE 13.99769 for 5 rounds\n",
      "CV with max_depth=2, min_child_weight=18\n",
      "\tMAE 13.9206282 for 5 rounds\n",
      "CV with max_depth=4, min_child_weight=2\n",
      "\tMAE 13.9902376 for 5 rounds\n",
      "CV with max_depth=4, min_child_weight=4\n",
      "\tMAE 13.9439774 for 5 rounds\n",
      "CV with max_depth=4, min_child_weight=6\n",
      "\tMAE 13.9917816 for 5 rounds\n",
      "CV with max_depth=4, min_child_weight=8\n",
      "\tMAE 13.671137400000001 for 5 rounds\n",
      "CV with max_depth=4, min_child_weight=10\n",
      "\tMAE 13.727995799999999 for 6 rounds\n",
      "CV with max_depth=4, min_child_weight=12\n",
      "\tMAE 13.736496399999998 for 4 rounds\n",
      "CV with max_depth=4, min_child_weight=14\n",
      "\tMAE 13.921672599999999 for 6 rounds\n",
      "CV with max_depth=4, min_child_weight=16\n",
      "\tMAE 13.963532800000001 for 4 rounds\n",
      "CV with max_depth=4, min_child_weight=18\n",
      "\tMAE 13.901117600000001 for 5 rounds\n",
      "CV with max_depth=6, min_child_weight=2\n",
      "\tMAE 14.163464 for 7 rounds\n",
      "CV with max_depth=6, min_child_weight=4\n",
      "\tMAE 14.1912434 for 9 rounds\n",
      "CV with max_depth=6, min_child_weight=6\n",
      "\tMAE 13.8732902 for 6 rounds\n",
      "CV with max_depth=6, min_child_weight=8\n",
      "\tMAE 13.9763154 for 4 rounds\n",
      "CV with max_depth=6, min_child_weight=10\n",
      "\tMAE 13.7836162 for 5 rounds\n",
      "CV with max_depth=6, min_child_weight=12\n",
      "\tMAE 13.9048038 for 4 rounds\n",
      "CV with max_depth=6, min_child_weight=14\n",
      "\tMAE 13.764801199999999 for 5 rounds\n",
      "CV with max_depth=6, min_child_weight=16\n",
      "\tMAE 14.211020199999998 for 4 rounds\n",
      "CV with max_depth=6, min_child_weight=18\n",
      "\tMAE 14.2359866 for 5 rounds\n",
      "CV with max_depth=8, min_child_weight=2\n",
      "\tMAE 14.051715999999999 for 8 rounds\n",
      "CV with max_depth=8, min_child_weight=4\n",
      "\tMAE 14.561511200000002 for 7 rounds\n",
      "CV with max_depth=8, min_child_weight=6\n",
      "\tMAE 14.127317000000001 for 6 rounds\n",
      "CV with max_depth=8, min_child_weight=8\n",
      "\tMAE 14.4992854 for 6 rounds\n",
      "CV with max_depth=8, min_child_weight=10\n",
      "\tMAE 13.750610799999999 for 5 rounds\n",
      "CV with max_depth=8, min_child_weight=12\n",
      "\tMAE 14.033080799999999 for 6 rounds\n",
      "CV with max_depth=8, min_child_weight=14\n",
      "\tMAE 13.825487600000002 for 4 rounds\n",
      "CV with max_depth=8, min_child_weight=16\n",
      "\tMAE 14.0984556 for 5 rounds\n",
      "CV with max_depth=8, min_child_weight=18\n",
      "\tMAE 14.443950599999999 for 4 rounds\n",
      "CV with max_depth=10, min_child_weight=2\n",
      "\tMAE 14.422590199999998 for 6 rounds\n",
      "CV with max_depth=10, min_child_weight=4\n",
      "\tMAE 14.5974586 for 6 rounds\n",
      "CV with max_depth=10, min_child_weight=6\n",
      "\tMAE 14.5285998 for 5 rounds\n",
      "CV with max_depth=10, min_child_weight=8\n",
      "\tMAE 14.319502 for 4 rounds\n",
      "CV with max_depth=10, min_child_weight=10\n",
      "\tMAE 14.1297552 for 4 rounds\n",
      "CV with max_depth=10, min_child_weight=12\n",
      "\tMAE 14.0819426 for 7 rounds\n",
      "CV with max_depth=10, min_child_weight=14\n",
      "\tMAE 13.819578799999999 for 5 rounds\n",
      "CV with max_depth=10, min_child_weight=16\n",
      "\tMAE 14.099006399999999 for 5 rounds\n",
      "CV with max_depth=10, min_child_weight=18\n",
      "\tMAE 14.443950599999999 for 4 rounds\n",
      "CV with max_depth=12, min_child_weight=2\n",
      "\tMAE 14.427221799999998 for 5 rounds\n",
      "CV with max_depth=12, min_child_weight=4\n",
      "\tMAE 14.622091399999999 for 5 rounds\n",
      "CV with max_depth=12, min_child_weight=6\n",
      "\tMAE 14.330158399999998 for 6 rounds\n",
      "CV with max_depth=12, min_child_weight=8\n",
      "\tMAE 14.2670458 for 5 rounds\n",
      "CV with max_depth=12, min_child_weight=10\n",
      "\tMAE 14.143999599999997 for 4 rounds\n",
      "CV with max_depth=12, min_child_weight=12\n",
      "\tMAE 14.083198200000002 for 5 rounds\n",
      "CV with max_depth=12, min_child_weight=14\n",
      "\tMAE 13.836561799999998 for 5 rounds\n",
      "CV with max_depth=12, min_child_weight=16\n",
      "\tMAE 14.099006399999999 for 5 rounds\n",
      "CV with max_depth=12, min_child_weight=18\n",
      "\tMAE 14.4439504 for 4 rounds\n",
      "CV with max_depth=14, min_child_weight=2\n",
      "\tMAE 14.6753984 for 6 rounds\n",
      "CV with max_depth=14, min_child_weight=4\n",
      "\tMAE 14.611303000000001 for 6 rounds\n",
      "CV with max_depth=14, min_child_weight=6\n",
      "\tMAE 14.2943942 for 6 rounds\n",
      "CV with max_depth=14, min_child_weight=8\n",
      "\tMAE 14.270976999999998 for 5 rounds\n",
      "CV with max_depth=14, min_child_weight=10\n",
      "\tMAE 14.1344158 for 4 rounds\n",
      "CV with max_depth=14, min_child_weight=12\n",
      "\tMAE 14.069065599999998 for 7 rounds\n",
      "CV with max_depth=14, min_child_weight=14\n",
      "\tMAE 13.836561799999998 for 5 rounds\n",
      "CV with max_depth=14, min_child_weight=16\n",
      "\tMAE 14.099006399999999 for 5 rounds\n",
      "CV with max_depth=14, min_child_weight=18\n",
      "\tMAE 14.4439512 for 4 rounds\n",
      "CV with max_depth=16, min_child_weight=2\n",
      "\tMAE 14.519003400000003 for 6 rounds\n",
      "CV with max_depth=16, min_child_weight=4\n",
      "\tMAE 14.548695200000001 for 6 rounds\n",
      "CV with max_depth=16, min_child_weight=6\n",
      "\tMAE 14.2744 for 6 rounds\n",
      "CV with max_depth=16, min_child_weight=8\n",
      "\tMAE 14.2709772 for 5 rounds\n",
      "CV with max_depth=16, min_child_weight=10\n",
      "\tMAE 14.134416199999999 for 4 rounds\n",
      "CV with max_depth=16, min_child_weight=12\n",
      "\tMAE 14.069065599999998 for 7 rounds\n",
      "CV with max_depth=16, min_child_weight=14\n",
      "\tMAE 13.8365612 for 5 rounds\n",
      "CV with max_depth=16, min_child_weight=16\n",
      "\tMAE 14.099006600000001 for 5 rounds\n",
      "CV with max_depth=16, min_child_weight=18\n",
      "\tMAE 14.4439508 for 4 rounds\n",
      "CV with max_depth=18, min_child_weight=2\n",
      "\tMAE 14.5591092 for 6 rounds\n",
      "CV with max_depth=18, min_child_weight=4\n",
      "\tMAE 14.5499694 for 6 rounds\n",
      "CV with max_depth=18, min_child_weight=6\n",
      "\tMAE 14.284852999999998 for 6 rounds\n",
      "CV with max_depth=18, min_child_weight=8\n",
      "\tMAE 14.270976999999998 for 5 rounds\n",
      "CV with max_depth=18, min_child_weight=10\n",
      "\tMAE 14.1344154 for 4 rounds\n",
      "CV with max_depth=18, min_child_weight=12\n",
      "\tMAE 14.069066000000001 for 7 rounds\n",
      "CV with max_depth=18, min_child_weight=14\n",
      "\tMAE 13.8365616 for 5 rounds\n",
      "CV with max_depth=18, min_child_weight=16\n",
      "\tMAE 14.099006399999999 for 5 rounds\n",
      "CV with max_depth=18, min_child_weight=18\n",
      "\tMAE 14.4439504 for 4 rounds\n",
      "Best params: 4, 8, MAE: 13.671137400000001\n"
     ]
    }
   ],
   "source": [
    "# Reference: https://blog.cambridgespark.com/hyperparameter-tuning-in-xgboost-4ff9100a3b2f\n",
    "gridsearch_params = [\n",
    "    (max_depth, min_child_weight)\n",
    "    for max_depth in range(2, 20, 2)\n",
    "    for min_child_weight in range(2, 20, 2)\n",
    "]\n",
    "\n",
    "min_mae = float(\"Inf\")\n",
    "best_params = None\n",
    "\n",
    "for max_depth, min_child_weight in gridsearch_params:\n",
    "    print(\"CV with max_depth={}, min_child_weight={}\".format(\n",
    "        max_depth,\n",
    "        min_child_weight))    # Update our parameters\n",
    "    params['max_depth'] = max_depth\n",
    "    params['min_child_weight'] = min_child_weight    # Run CV\n",
    "    cv_results = xgb.cv(\n",
    "        params,\n",
    "        dtrain,\n",
    "        num_boost_round=num_boost_round,\n",
    "        seed=42,\n",
    "        nfold=5,\n",
    "        metrics={'mae'},\n",
    "        early_stopping_rounds=10\n",
    "    )    # Update best MAE\n",
    "    \n",
    "    mean_mae = cv_results['test-mae-mean'].min()\n",
    "    boost_rounds = cv_results['test-mae-mean'].argmin()\n",
    "    print(\"\\tMAE {} for {} rounds\".format(mean_mae, boost_rounds))\n",
    "    if mean_mae < min_mae:\n",
    "        min_mae = mean_mae\n",
    "        best_params = (max_depth, min_child_weight)\n",
    "\n",
    "print(\"Best params: {}, {}, MAE: {}\".format(best_params[0], best_params[1], min_mae))"
   ]
  },
  {
   "cell_type": "code",
   "execution_count": 34,
   "metadata": {},
   "outputs": [],
   "source": [
    "# Updating params dictionary with selected values\n",
    "params['max_depth'] = 4\n",
    "params['min_child_weight'] = 8"
   ]
  },
  {
   "cell_type": "code",
   "execution_count": 35,
   "metadata": {},
   "outputs": [
    {
     "name": "stdout",
     "output_type": "stream",
     "text": [
      "CV with subsample=1.0, colsample=1.0\n",
      "\tMAE 13.6711372 for 5 rounds\n",
      "CV with subsample=1.0, colsample=0.9\n",
      "\tMAE 13.452415199999999 for 6 rounds\n",
      "CV with subsample=1.0, colsample=0.8\n",
      "\tMAE 13.283531199999999 for 5 rounds\n",
      "CV with subsample=1.0, colsample=0.7\n",
      "\tMAE 13.865132400000002 for 6 rounds\n",
      "CV with subsample=1.0, colsample=0.6\n",
      "\tMAE 13.8214262 for 7 rounds\n",
      "CV with subsample=1.0, colsample=0.5\n",
      "\tMAE 13.921607 for 7 rounds\n",
      "CV with subsample=1.0, colsample=0.4\n",
      "\tMAE 14.252475 for 9 rounds\n",
      "CV with subsample=1.0, colsample=0.3\n",
      "\tMAE 14.6360738 for 20 rounds\n",
      "CV with subsample=1.0, colsample=0.2\n",
      "\tMAE 14.837176199999998 for 4 rounds\n",
      "CV with subsample=1.0, colsample=0.1\n",
      "\tMAE 15.190624 for 4 rounds\n",
      "CV with subsample=0.9, colsample=1.0\n",
      "\tMAE 13.720952399999998 for 5 rounds\n",
      "CV with subsample=0.9, colsample=0.9\n",
      "\tMAE 13.780568399999998 for 4 rounds\n",
      "CV with subsample=0.9, colsample=0.8\n",
      "\tMAE 13.886528000000002 for 5 rounds\n",
      "CV with subsample=0.9, colsample=0.7\n",
      "\tMAE 13.663871799999999 for 7 rounds\n",
      "CV with subsample=0.9, colsample=0.6\n",
      "\tMAE 14.0945404 for 8 rounds\n",
      "CV with subsample=0.9, colsample=0.5\n",
      "\tMAE 13.9316736 for 6 rounds\n",
      "CV with subsample=0.9, colsample=0.4\n",
      "\tMAE 14.320256599999999 for 14 rounds\n",
      "CV with subsample=0.9, colsample=0.3\n",
      "\tMAE 14.777803800000001 for 4 rounds\n",
      "CV with subsample=0.9, colsample=0.2\n",
      "\tMAE 14.8713932 for 4 rounds\n",
      "CV with subsample=0.9, colsample=0.1\n",
      "\tMAE 15.527767399999998 for 20 rounds\n",
      "CV with subsample=0.8, colsample=1.0\n",
      "\tMAE 13.608221 for 6 rounds\n",
      "CV with subsample=0.8, colsample=0.9\n",
      "\tMAE 13.638954799999999 for 6 rounds\n",
      "CV with subsample=0.8, colsample=0.8\n",
      "\tMAE 13.591393 for 6 rounds\n",
      "CV with subsample=0.8, colsample=0.7\n",
      "\tMAE 13.929631599999999 for 6 rounds\n",
      "CV with subsample=0.8, colsample=0.6\n",
      "\tMAE 13.898961199999999 for 8 rounds\n",
      "CV with subsample=0.8, colsample=0.5\n",
      "\tMAE 14.182152000000002 for 8 rounds\n",
      "CV with subsample=0.8, colsample=0.4\n",
      "\tMAE 14.7835768 for 13 rounds\n",
      "CV with subsample=0.8, colsample=0.3\n",
      "\tMAE 14.5449412 for 13 rounds\n",
      "CV with subsample=0.8, colsample=0.2\n",
      "\tMAE 14.472475800000002 for 14 rounds\n",
      "CV with subsample=0.8, colsample=0.1\n",
      "\tMAE 15.384151 for 9 rounds\n",
      "CV with subsample=0.7, colsample=1.0\n",
      "\tMAE 13.613025800000003 for 6 rounds\n",
      "CV with subsample=0.7, colsample=0.9\n",
      "\tMAE 13.6272894 for 6 rounds\n",
      "CV with subsample=0.7, colsample=0.8\n",
      "\tMAE 13.842538000000001 for 6 rounds\n",
      "CV with subsample=0.7, colsample=0.7\n",
      "\tMAE 14.054789600000001 for 8 rounds\n",
      "CV with subsample=0.7, colsample=0.6\n",
      "\tMAE 14.4706478 for 8 rounds\n",
      "CV with subsample=0.7, colsample=0.5\n",
      "\tMAE 14.765508 for 9 rounds\n",
      "CV with subsample=0.7, colsample=0.4\n",
      "\tMAE 14.910614 for 6 rounds\n",
      "CV with subsample=0.7, colsample=0.3\n",
      "\tMAE 14.7379592 for 13 rounds\n",
      "CV with subsample=0.7, colsample=0.2\n",
      "\tMAE 14.685486800000001 for 13 rounds\n",
      "CV with subsample=0.7, colsample=0.1\n",
      "\tMAE 15.136447 for 9 rounds\n",
      "CV with subsample=0.6, colsample=1.0\n",
      "\tMAE 13.940677200000001 for 8 rounds\n",
      "CV with subsample=0.6, colsample=0.9\n",
      "\tMAE 13.882516 for 4 rounds\n",
      "CV with subsample=0.6, colsample=0.8\n",
      "\tMAE 13.9189878 for 5 rounds\n",
      "CV with subsample=0.6, colsample=0.7\n",
      "\tMAE 14.1010872 for 8 rounds\n",
      "CV with subsample=0.6, colsample=0.6\n",
      "\tMAE 14.210141799999999 for 8 rounds\n",
      "CV with subsample=0.6, colsample=0.5\n",
      "\tMAE 13.9990194 for 8 rounds\n",
      "CV with subsample=0.6, colsample=0.4\n",
      "\tMAE 14.329719 for 10 rounds\n",
      "CV with subsample=0.6, colsample=0.3\n",
      "\tMAE 14.249688599999999 for 13 rounds\n",
      "CV with subsample=0.6, colsample=0.2\n",
      "\tMAE 14.667964799999998 for 10 rounds\n",
      "CV with subsample=0.6, colsample=0.1\n",
      "\tMAE 15.150653600000002 for 9 rounds\n",
      "CV with subsample=0.5, colsample=1.0\n",
      "\tMAE 14.317201599999999 for 5 rounds\n",
      "CV with subsample=0.5, colsample=0.9\n",
      "\tMAE 14.063122000000002 for 5 rounds\n",
      "CV with subsample=0.5, colsample=0.8\n",
      "\tMAE 14.317801 for 5 rounds\n",
      "CV with subsample=0.5, colsample=0.7\n",
      "\tMAE 14.292116799999999 for 6 rounds\n",
      "CV with subsample=0.5, colsample=0.6\n",
      "\tMAE 14.717944800000001 for 5 rounds\n",
      "CV with subsample=0.5, colsample=0.5\n",
      "\tMAE 14.5232998 for 9 rounds\n",
      "CV with subsample=0.5, colsample=0.4\n",
      "\tMAE 14.656152599999999 for 10 rounds\n",
      "CV with subsample=0.5, colsample=0.3\n",
      "\tMAE 14.692611000000003 for 9 rounds\n",
      "CV with subsample=0.5, colsample=0.2\n",
      "\tMAE 14.820676 for 10 rounds\n",
      "CV with subsample=0.5, colsample=0.1\n",
      "\tMAE 15.140670799999999 for 10 rounds\n",
      "Best params: 1.0, 0.8, MAE: 13.283531199999999\n"
     ]
    }
   ],
   "source": [
    "# Tuning subsample and colsample_bytree\n",
    "gridsearch_params = [\n",
    "    (subsample, colsample)\n",
    "    for subsample in [i/10. for i in range(5,11)]\n",
    "    for colsample in [i/10. for i in range(1,11)]\n",
    "]\n",
    "\n",
    "min_mae = float(\"Inf\")\n",
    "best_params = None# We start by the largest values and go down to the smallest\n",
    "for subsample, colsample in reversed(gridsearch_params):\n",
    "    print(\"CV with subsample={}, colsample={}\".format(\n",
    "                             subsample,\n",
    "                             colsample))    # We update our parameters\n",
    "    params['subsample'] = subsample\n",
    "    params['colsample_bytree'] = colsample    # Run CV\n",
    "    cv_results = xgb.cv(\n",
    "        params,\n",
    "        dtrain,\n",
    "        num_boost_round=num_boost_round,\n",
    "        seed=42,\n",
    "        nfold=5,\n",
    "        metrics={'mae'},\n",
    "        early_stopping_rounds=10\n",
    "    )    # Update best score\n",
    "    mean_mae = cv_results['test-mae-mean'].min()\n",
    "    boost_rounds = cv_results['test-mae-mean'].argmin()\n",
    "    print(\"\\tMAE {} for {} rounds\".format(mean_mae, boost_rounds))\n",
    "    if mean_mae < min_mae:\n",
    "        min_mae = mean_mae\n",
    "        best_params = (subsample,colsample)\n",
    "        \n",
    "print(\"Best params: {}, {}, MAE: {}\".format(best_params[0], best_params[1], min_mae))\n",
    "\n",
    "params['subsample'] = best_params[0]\n",
    "params['colsample_bytree'] = best_params[1]"
   ]
  },
  {
   "cell_type": "code",
   "execution_count": 36,
   "metadata": {},
   "outputs": [
    {
     "name": "stdout",
     "output_type": "stream",
     "text": [
      "CV with eta=0.3\n",
      "\tMAE 13.283531 for 5 rounds\n",
      "\n",
      "CV with eta=0.2\n",
      "\tMAE 13.5574164 for 9 rounds\n",
      "\n",
      "CV with eta=0.1\n",
      "\tMAE 13.6357612 for 22 rounds\n",
      "\n",
      "CV with eta=0.07\n",
      "\tMAE 13.6796368 for 28 rounds\n",
      "\n",
      "CV with eta=0.05\n",
      "\tMAE 13.67466 for 50 rounds\n",
      "\n",
      "CV with eta=0.02\n",
      "\tMAE 13.71827 for 102 rounds\n",
      "\n",
      "CV with eta=0.01\n",
      "\tMAE 13.713700399999999 for 194 rounds\n",
      "\n",
      "CV with eta=0.005\n",
      "\tMAE 13.735285999999999 for 384 rounds\n",
      "\n",
      "Best params: 0.3, MAE: 13.283531\n"
     ]
    }
   ],
   "source": [
    "# Tuning ETA (learning rate)\n",
    "min_mae = float(\"Inf\")\n",
    "best_params = None\n",
    "\n",
    "for eta in [.3, .2, .1, .07, .05, .02, .01, .005]:\n",
    "    print(\"CV with eta={}\".format(eta))    # We update our parameters\n",
    "    params['eta'] = eta    # Run and time CV\n",
    "    \n",
    "    cv_results = xgb.cv(\n",
    "        params,\n",
    "        dtrain,\n",
    "        num_boost_round=num_boost_round,\n",
    "        seed=42,\n",
    "        nfold=5,\n",
    "        metrics=['mae'],\n",
    "        early_stopping_rounds=10\n",
    "    )    # Update best score\n",
    "    \n",
    "    mean_mae = cv_results['test-mae-mean'].min()\n",
    "    boost_rounds = cv_results['test-mae-mean'].argmin()\n",
    "    print(\"\\tMAE {} for {} rounds\\n\".format(mean_mae, boost_rounds))\n",
    "    if mean_mae < min_mae:\n",
    "        min_mae = mean_mae\n",
    "        best_params = eta\n",
    "\n",
    "print(\"Best params: {}, MAE: {}\".format(best_params, min_mae))\n",
    "\n",
    "params['eta'] = best_params"
   ]
  },
  {
   "cell_type": "code",
   "execution_count": 37,
   "metadata": {},
   "outputs": [
    {
     "name": "stdout",
     "output_type": "stream",
     "text": [
      "[0]\tTest-mae:21.45451\n",
      "Will train until Test-mae hasn't improved in 10 rounds.\n",
      "[1]\tTest-mae:18.39790\n",
      "[2]\tTest-mae:16.90287\n",
      "[3]\tTest-mae:16.06467\n",
      "[4]\tTest-mae:15.68448\n",
      "[5]\tTest-mae:15.84417\n",
      "[6]\tTest-mae:16.07134\n",
      "[7]\tTest-mae:16.28778\n",
      "[8]\tTest-mae:16.38888\n",
      "[9]\tTest-mae:16.44014\n",
      "[10]\tTest-mae:16.47882\n",
      "[11]\tTest-mae:16.61021\n",
      "[12]\tTest-mae:16.73468\n",
      "[13]\tTest-mae:16.34522\n",
      "[14]\tTest-mae:16.34710\n",
      "Stopping. Best iteration:\n",
      "[4]\tTest-mae:15.68448\n",
      "\n",
      "Best MAE: 15.68 in 5 rounds\n"
     ]
    }
   ],
   "source": [
    "# Train Final Model\n",
    "model = xgb.train(\n",
    "    params,\n",
    "    dtrain,\n",
    "    num_boost_round=num_boost_round,\n",
    "    evals=[(dtest, \"Test\")],\n",
    "    early_stopping_rounds=10\n",
    ")\n",
    "\n",
    "print(\"Best MAE: {:.2f} in {} rounds\".format(model.best_score, model.best_iteration+1))"
   ]
  },
  {
   "cell_type": "code",
   "execution_count": 38,
   "metadata": {},
   "outputs": [
    {
     "name": "stdout",
     "output_type": "stream",
     "text": [
      "[0]\tTest-mae:21.45451\n",
      "[1]\tTest-mae:18.39790\n",
      "[2]\tTest-mae:16.90287\n",
      "[3]\tTest-mae:16.06467\n",
      "[4]\tTest-mae:15.68448\n"
     ]
    }
   ],
   "source": [
    "num_boost_round = model.best_iteration + 1\n",
    "best_model = xgb.train(\n",
    "    params,\n",
    "    dtrain,\n",
    "    num_boost_round=num_boost_round,\n",
    "    evals=[(dtest, \"Test\")]\n",
    ")"
   ]
  },
  {
   "cell_type": "code",
   "execution_count": 39,
   "metadata": {},
   "outputs": [],
   "source": [
    "# Exporting model\n",
    "filename = os.environ['PWD'] + '/scripts/models/model_xgb_v4.model'\n",
    "# filename_dump = os.environ['PWD'] + '/scripts/models/dump.raw.txt'\n",
    "\n",
    "best_model.save_model(filename)\n",
    "# best_model.dump_model(filename_dump)"
   ]
  },
  {
   "cell_type": "markdown",
   "metadata": {},
   "source": [
    "# Modeling - LASSO"
   ]
  },
  {
   "cell_type": "code",
   "execution_count": 40,
   "metadata": {},
   "outputs": [],
   "source": [
    "# Running model\n",
    "model_lasso = LassoCV(cv=20).fit(X_train, y_train)\n",
    "\n",
    "# Saving model with pickle\n",
    "filename = os.environ['PWD'] + '/scripts/models/model_lasso.sav'\n",
    "pickle.dump(model_lasso, open(filename, 'wb'))"
   ]
  },
  {
   "cell_type": "markdown",
   "metadata": {},
   "source": [
    "# Modeling - Random Forest Regression\n",
    "## Estimating a Random Forest Regression to Estimate Hourly-Rate\n",
    "\n",
    "Notes:\n",
    "    - Next model probability of getting a job?\n",
    "    - Convert to a clustering algorithm and present a range of estimates?\n",
    "    - Bootstrap to get a range of estimates?\n",
    "    - Make suggestions (Increase bio length by 10 and you can charge X more)\n",
    "        - \"Here are bios for users similar to you\" etc. etc.\n",
    "    - Focus on helping users build up their profiles"
   ]
  },
  {
   "cell_type": "code",
   "execution_count": 41,
   "metadata": {},
   "outputs": [
    {
     "name": "stdout",
     "output_type": "stream",
     "text": [
      "Fitting 3 folds for each of 40 candidates, totalling 120 fits\n"
     ]
    },
    {
     "name": "stderr",
     "output_type": "stream",
     "text": [
      "[Parallel(n_jobs=4)]: Using backend LokyBackend with 4 concurrent workers.\n",
      "[Parallel(n_jobs=4)]: Done  42 tasks      | elapsed:   51.3s\n",
      "[Parallel(n_jobs=4)]: Done 120 out of 120 | elapsed:  2.2min finished\n"
     ]
    },
    {
     "name": "stdout",
     "output_type": "stream",
     "text": [
      "-14.22 {'max_depth': 10, 'max_features': 'auto', 'n_estimators': 100}\n"
     ]
    }
   ],
   "source": [
    "# References for GridSearchCV\n",
    "# 1 - https://scikit-learn.org/stable/modules/ensemble.html#random-forest-parameters\n",
    "# 2 - https://stackoverflow.com/questions/35097003/cross-validation-decision-trees-in-sklearn\n",
    "# References for Random Forest Regression\n",
    "# 1 - https://towardsdatascience.com/random-forest-in-python-24d0893d51c0\n",
    "# 2 - https://scikit-learn.org/stable/modules/generated/sklearn.ensemble.RandomForestRegressor.html\n",
    "\n",
    "# Creating parameter grid\n",
    "parameters = {\"max_features\": [\"auto\", \"sqrt\"], \n",
    "              \"n_estimators\": [100, 500, 900, 1300, 1500], \n",
    "              \"max_depth\": [None,5,10,20]}\n",
    "\n",
    "# Creating Grid Search Class\n",
    "clf = GridSearchCV(RandomForestRegressor(), parameters, n_jobs=4, verbose=True, \n",
    "                   scoring=\"neg_mean_absolute_error\",\n",
    "                   refit=True, cv = 3)\n",
    "\n",
    "# Running Grid Search\n",
    "clf.fit(X=X_train, y=y_train)\n",
    "\n",
    "# Saving best model\n",
    "model_rfr = clf.best_estimator_\n",
    "\n",
    "# Printing results\n",
    "print(round(clf.best_score_,2), clf.best_params_)\n",
    "\n",
    "# Exporting model\n",
    "filename = os.environ['PWD'] + '/scripts/models/model_rfr.sav'\n",
    "pickle.dump(model_rfr, open(filename, 'wb'))"
   ]
  },
  {
   "cell_type": "markdown",
   "metadata": {},
   "source": [
    "# Fitting AdaBoost Model\n",
    "The reason to fit this model is that iteratively re-weights observations based on how poorly the model predicts them. This pushes the model to finding a way to predict observations other models may miss. I am concerned, however, if it will overfit to outliers.\n",
    "\n",
    "It performs poorly compared to the random forest regression."
   ]
  },
  {
   "cell_type": "code",
   "execution_count": 42,
   "metadata": {},
   "outputs": [
    {
     "name": "stdout",
     "output_type": "stream",
     "text": [
      "Fitting 5 folds for each of 60 candidates, totalling 300 fits\n"
     ]
    },
    {
     "name": "stderr",
     "output_type": "stream",
     "text": [
      "[Parallel(n_jobs=4)]: Using backend LokyBackend with 4 concurrent workers.\n",
      "[Parallel(n_jobs=4)]: Done 116 tasks      | elapsed:    7.5s\n",
      "[Parallel(n_jobs=4)]: Done 272 tasks      | elapsed:   29.0s\n",
      "[Parallel(n_jobs=4)]: Done 300 out of 300 | elapsed:   36.2s finished\n"
     ]
    },
    {
     "name": "stdout",
     "output_type": "stream",
     "text": [
      "0.15 {'base_estimator__max_depth': 7, 'n_estimators': 125}\n"
     ]
    }
   ],
   "source": [
    "# Creating parameter grid\n",
    "parameters = {\"n_estimators\": [1, 3, 5, 10, 25, 50, 75, 100, 125, 150],\n",
    "              \"base_estimator__max_depth\": [3, 5, 7, 9, 10, 11]}\n",
    "\n",
    "regr_1 = DecisionTreeRegressor()\n",
    "regr_2 = AdaBoostRegressor(base_estimator=regr_1)\n",
    "\n",
    "# Creating Grid Search Class\n",
    "clf = GridSearchCV(regr_2, parameters, n_jobs=4, verbose=True)\n",
    "\n",
    "# Running Grid Search\n",
    "clf.fit(X=X_train, y=y_train)\n",
    "\n",
    "# Saving best model\n",
    "model_ada = clf.best_estimator_\n",
    "\n",
    "# Printing results\n",
    "print(round(clf.best_score_, 2), clf.best_params_)\n",
    "\n",
    "# Exporting Model\n",
    "filename = os.environ['PWD'] + '/scripts/models/model_ada.sav'\n",
    "pickle.dump(model_ada, open(filename, 'wb'))"
   ]
  },
  {
   "cell_type": "markdown",
   "metadata": {},
   "source": [
    "# Model Evaluation"
   ]
  },
  {
   "cell_type": "markdown",
   "metadata": {},
   "source": [
    "## Functions for Evaluation"
   ]
  },
  {
   "cell_type": "code",
   "execution_count": 43,
   "metadata": {},
   "outputs": [],
   "source": [
    "def baseline_performance(outcome_data, test_data):\n",
    "    # Assumes training the mean\n",
    "    \n",
    "    # Getting Baseline\n",
    "    baseline_preds = np.mean(outcome_data)\n",
    "\n",
    "    # Baseline Errors\n",
    "    baseline_errors = abs(baseline_preds - test_data)\n",
    "\n",
    "    # Baseline:\n",
    "    print('Baseline Performance of Naive Mean Estimator:\\nMean Absolute Error:', round(np.mean(baseline_errors), 2))\n",
    "    \n",
    "    return np.mean(baseline_errors)\n",
    "    \n",
    "def model_performance(predictions, outcome_data, baseline, model_str_name):\n",
    "    # Calculate absolute error (comparison with baseline)\n",
    "    errors = abs(predictions - outcome_data)\n",
    "    \n",
    "    print(model_str_name + ' Performance:')\n",
    "    \n",
    "    # Print out the mean absolute error (mae)\n",
    "    print('\\tMean absolute error: %.2f'\n",
    "          % mean_absolute_error(outcome_data, predictions))\n",
    "\n",
    "    # The mean squared error\n",
    "    print('\\tMean squared error: %.2f'\n",
    "          % mean_squared_error(outcome_data, predictions))\n",
    "\n",
    "    # The coefficient of determination (R2)\n",
    "    print('\\tCoefficient of determination: %.2f'\n",
    "          % r2_score(outcome_data, predictions))\n",
    "\n",
    "    # Does much better than the mean with regard to mean absolute error\n",
    "    print(\"\\tA \", round((np.mean(errors)-baseline)/baseline,3)*-100,\n",
    "          \"percent change over the mean\")\n",
    "    \n",
    "    # What is the average dollar change in user hourly rate with this model?\n",
    "    print(\"\\tAverage Change in Hourly Rate vs Naive Model: $\", np.mean(predictions - baseline))\n",
    "\n",
    "def plot_preds_truth(x, y):\n",
    "    # Calculate Error\n",
    "    error = abs(x-y)\n",
    "    \n",
    "    # Plotting True Hourly Rates vs Predicted Hourly Rates\n",
    "    sns.scatterplot(x = x, y = y, palette=['orange'])\n",
    "    sns.lineplot(x = list(range(0,101)), y = list(range(0,101)), palette=['red'])\n",
    "    plt.xlim(0,100)\n",
    "    plt.ylim(0,100)\n",
    "    plt.xlabel(\"Truth\")\n",
    "    plt.ylabel(\"Prediction\")\n",
    "    plt.show()\n",
    "    \n",
    "# Aggregate Function: Model_performance\n",
    "def model_evaluation(model, model_name_string):\n",
    "\n",
    "    if model_name_string == 'XGBoost':\n",
    "        \n",
    "        # Converting data to useable format \n",
    "        dtest = xgb.DMatrix(X_test, label=y_test)\n",
    "        \n",
    "        # Evaluating Model\n",
    "        model_performance(model.predict(dtest), y_test, pred_baseline, 'model_name_string')\n",
    "\n",
    "        # Plotting True Hourly Rates vs Predicted Hourly Rates\n",
    "        plot_preds_truth(x = y_test, y = model.predict(dtest))\n",
    "        \n",
    "    else:\n",
    "        \n",
    "        # Evaluating Model\n",
    "        model_performance(model.predict(X_test), y_test, pred_baseline, 'model_name')\n",
    "\n",
    "        # Plotting True Hourly Rates vs Predicted Hourly Rates\n",
    "        plot_preds_truth(x = y_test, y = model.predict(X_test))\n"
   ]
  },
  {
   "cell_type": "markdown",
   "metadata": {},
   "source": [
    "## Loading Models"
   ]
  },
  {
   "cell_type": "code",
   "execution_count": 44,
   "metadata": {},
   "outputs": [],
   "source": [
    "# XGBoost\n",
    "model_xgboost = xgb.Booster({'nthread': 4})  # init model\n",
    "model_xgboost.load_model(os.environ['PWD'] + '/scripts/models/model_xgb_v4.model')  # load data\n",
    "\n",
    "# Lasso\n",
    "filename = os.environ['PWD'] + '/scripts/models/model_lasso.sav'\n",
    "model_lasso = pickle.load(open(filename, 'rb'))\n",
    "\n",
    "# Random Forest Regression\n",
    "filename = os.environ['PWD'] + '/scripts/models/model_rfr.sav'\n",
    "model_rfr = pickle.load(open(filename, 'rb'))\n",
    "\n",
    "# AdaBoost\n",
    "filename = os.environ['PWD'] + '/scripts/models/model_ada.sav'\n",
    "model_ada = pickle.load(open(filename, 'rb'))"
   ]
  },
  {
   "cell_type": "markdown",
   "metadata": {},
   "source": [
    "## Evaluation"
   ]
  },
  {
   "cell_type": "code",
   "execution_count": 45,
   "metadata": {},
   "outputs": [
    {
     "name": "stdout",
     "output_type": "stream",
     "text": [
      "Baseline Performance of Naive Mean Estimator:\n",
      "Mean Absolute Error: 16.81\n"
     ]
    },
    {
     "data": {
      "image/png": "[encoded data removed]",
      "text/plain": [
       "<Figure size 432x288 with 1 Axes>"
      ]
     },
     "metadata": {
      "needs_background": "light"
     },
     "output_type": "display_data"
    }
   ],
   "source": [
    "pred_baseline = baseline_performance(y_train, y_test)\n",
    "plot_preds_truth(x = y_test, y = pred_baseline)"
   ]
  },
  {
   "cell_type": "code",
   "execution_count": 46,
   "metadata": {},
   "outputs": [
    {
     "name": "stdout",
     "output_type": "stream",
     "text": [
      "model_name_string Performance:\n",
      "\tMean absolute error: 15.68\n",
      "\tMean squared error: 439.34\n",
      "\tCoefficient of determination: -0.07\n",
      "\tA  6.7 percent change over the mean\n",
      "\tAverage Change in Hourly Rate vs Naive Model: $ 5.542626\n"
     ]
    },
    {
     "data": {
      "image/png": "[encoded data removed]",
      "text/plain": [
       "<Figure size 432x288 with 1 Axes>"
      ]
     },
     "metadata": {
      "needs_background": "light"
     },
     "output_type": "display_data"
    }
   ],
   "source": [
    "# XGBoost\n",
    "model_evaluation(model_xgboost, 'XGBoost')"
   ]
  },
  {
   "cell_type": "code",
   "execution_count": 47,
   "metadata": {},
   "outputs": [
    {
     "name": "stdout",
     "output_type": "stream",
     "text": [
      "model_name Performance:\n",
      "\tMean absolute error: 19.42\n",
      "\tMean squared error: 610.13\n",
      "\tCoefficient of determination: -0.49\n",
      "\tA  -15.5 percent change over the mean\n",
      "\tAverage Change in Hourly Rate vs Naive Model: $ 9.728042162009247\n"
     ]
    },
    {
     "data": {
      "image/png": "[encoded data removed]",
      "text/plain": [
       "<Figure size 432x288 with 1 Axes>"
      ]
     },
     "metadata": {
      "needs_background": "light"
     },
     "output_type": "display_data"
    }
   ],
   "source": [
    "# Lasso\n",
    "model_evaluation(model_lasso, 'LASSO')"
   ]
  },
  {
   "cell_type": "code",
   "execution_count": 48,
   "metadata": {
    "scrolled": true
   },
   "outputs": [
    {
     "name": "stdout",
     "output_type": "stream",
     "text": [
      "model_name Performance:\n",
      "\tMean absolute error: 16.39\n",
      "\tMean squared error: 407.40\n",
      "\tCoefficient of determination: 0.01\n",
      "\tA  2.5 percent change over the mean\n",
      "\tAverage Change in Hourly Rate vs Naive Model: $ 9.308128654836633\n"
     ]
    },
    {
     "data": {
      "image/png": "[encoded data removed]",
      "text/plain": [
       "<Figure size 432x288 with 1 Axes>"
      ]
     },
     "metadata": {
      "needs_background": "light"
     },
     "output_type": "display_data"
    }
   ],
   "source": [
    "# Random Forest\n",
    "model_evaluation(model_rfr, 'Random Forest Regression')"
   ]
  },
  {
   "cell_type": "code",
   "execution_count": 61,
   "metadata": {},
   "outputs": [
    {
     "name": "stdout",
     "output_type": "stream",
     "text": [
      "model_name Performance:\n",
      "\tMean absolute error: 15.39\n",
      "\tMean squared error: 362.30\n",
      "\tCoefficient of determination: 0.12\n",
      "\tA  8.4 percent change over the mean\n",
      "\tAverage Change in Hourly Rate vs Naive Model: $ 9.14618499148077\n"
     ]
    },
    {
     "data": {
      "image/png": "[encoded data removed]",
      "text/plain": [
       "<Figure size 432x288 with 1 Axes>"
      ]
     },
     "metadata": {
      "needs_background": "light"
     },
     "output_type": "display_data"
    }
   ],
   "source": [
    "# AdaBoost\n",
    "model_evaluation(model_ada, 'AdaBoosted Regression Trees')"
   ]
  },
  {
   "cell_type": "markdown",
   "metadata": {},
   "source": [
    "# Investigating the edge cases\n",
    "\n",
    "For those with low truth hourly rates, were they just under pricing themselves? Is my model finding that and recommending their real, competitive, hourly rate?"
   ]
  },
  {
   "cell_type": "code",
   "execution_count": null,
   "metadata": {},
   "outputs": [],
   "source": [
    "# Getting predicted values\n",
    "X_test['preds'] = model_ada.predict(X_test)"
   ]
  },
  {
   "cell_type": "code",
   "execution_count": 63,
   "metadata": {},
   "outputs": [],
   "source": [
    "# Merging into Data\n",
    "dt = analysis_dt.merge(X_test['preds'], how = 'left', left_index=True, right_index=True)\n",
    "dt['profile_url'] = profile_url\n",
    "dt['error'] = dt['preds'] - dt['hourly_rate']"
   ]
  },
  {
   "cell_type": "code",
   "execution_count": 70,
   "metadata": {},
   "outputs": [
    {
     "data": {
      "text/html": [
       "<div>\n",
       "<style scoped>\n",
       "    .dataframe tbody tr th:only-of-type {\n",
       "        vertical-align: middle;\n",
       "    }\n",
       "\n",
       "    .dataframe tbody tr th {\n",
       "        vertical-align: top;\n",
       "    }\n",
       "\n",
       "    .dataframe thead th {\n",
       "        text-align: right;\n",
       "    }\n",
       "</style>\n",
       "<table border=\"1\" class=\"dataframe\">\n",
       "  <thead>\n",
       "    <tr style=\"text-align: right;\">\n",
       "      <th></th>\n",
       "      <th>profile_url</th>\n",
       "      <th>hourly_rate</th>\n",
       "      <th>preds</th>\n",
       "      <th>error</th>\n",
       "    </tr>\n",
       "  </thead>\n",
       "  <tbody>\n",
       "    <tr>\n",
       "      <th>16</th>\n",
       "      <td>https://www.guru.com/freelancers/mxi-coders-inc</td>\n",
       "      <td>14.0</td>\n",
       "      <td>27.346154</td>\n",
       "      <td>13.346154</td>\n",
       "    </tr>\n",
       "    <tr>\n",
       "      <th>83</th>\n",
       "      <td>https://www.guru.com/freelancers/deinde-engine...</td>\n",
       "      <td>15.0</td>\n",
       "      <td>26.428571</td>\n",
       "      <td>11.428571</td>\n",
       "    </tr>\n",
       "    <tr>\n",
       "      <th>122</th>\n",
       "      <td>https://www.guru.com/freelancers/rfadera</td>\n",
       "      <td>10.0</td>\n",
       "      <td>26.279412</td>\n",
       "      <td>16.279412</td>\n",
       "    </tr>\n",
       "    <tr>\n",
       "      <th>214</th>\n",
       "      <td>https://www.guru.com/freelancers/peavyassociate</td>\n",
       "      <td>14.0</td>\n",
       "      <td>26.062500</td>\n",
       "      <td>12.062500</td>\n",
       "    </tr>\n",
       "    <tr>\n",
       "      <th>246</th>\n",
       "      <td>https://www.guru.com/freelancers/technocad3d</td>\n",
       "      <td>25.0</td>\n",
       "      <td>36.250000</td>\n",
       "      <td>11.250000</td>\n",
       "    </tr>\n",
       "    <tr>\n",
       "      <th>264</th>\n",
       "      <td>https://www.guru.com/freelancers/barbara-vargas</td>\n",
       "      <td>5.0</td>\n",
       "      <td>20.000000</td>\n",
       "      <td>15.000000</td>\n",
       "    </tr>\n",
       "    <tr>\n",
       "      <th>362</th>\n",
       "      <td>https://www.guru.com/freelancers/amale</td>\n",
       "      <td>5.0</td>\n",
       "      <td>18.441860</td>\n",
       "      <td>13.441860</td>\n",
       "    </tr>\n",
       "    <tr>\n",
       "      <th>436</th>\n",
       "      <td>https://www.guru.com/freelancers/gabriel-mendoza</td>\n",
       "      <td>10.0</td>\n",
       "      <td>31.666667</td>\n",
       "      <td>21.666667</td>\n",
       "    </tr>\n",
       "    <tr>\n",
       "      <th>437</th>\n",
       "      <td>https://www.guru.com/freelancers/bplanningcom</td>\n",
       "      <td>5.0</td>\n",
       "      <td>20.625000</td>\n",
       "      <td>15.625000</td>\n",
       "    </tr>\n",
       "    <tr>\n",
       "      <th>527</th>\n",
       "      <td>https://www.guru.com/freelancers/harris-janoo</td>\n",
       "      <td>8.0</td>\n",
       "      <td>21.935484</td>\n",
       "      <td>13.935484</td>\n",
       "    </tr>\n",
       "    <tr>\n",
       "      <th>538</th>\n",
       "      <td>https://www.guru.com/freelancers/laitkor-infos...</td>\n",
       "      <td>12.0</td>\n",
       "      <td>22.828947</td>\n",
       "      <td>10.828947</td>\n",
       "    </tr>\n",
       "    <tr>\n",
       "      <th>542</th>\n",
       "      <td>https://www.guru.com/freelancers/alexis-leigh</td>\n",
       "      <td>10.0</td>\n",
       "      <td>26.000000</td>\n",
       "      <td>16.000000</td>\n",
       "    </tr>\n",
       "    <tr>\n",
       "      <th>895</th>\n",
       "      <td>https://www.guru.com/freelancers/donnell-l-davis</td>\n",
       "      <td>17.0</td>\n",
       "      <td>29.009804</td>\n",
       "      <td>12.009804</td>\n",
       "    </tr>\n",
       "  </tbody>\n",
       "</table>\n",
       "</div>"
      ],
      "text/plain": [
       "                                           profile_url  hourly_rate  \\\n",
       "16     https://www.guru.com/freelancers/mxi-coders-inc         14.0   \n",
       "83   https://www.guru.com/freelancers/deinde-engine...         15.0   \n",
       "122           https://www.guru.com/freelancers/rfadera         10.0   \n",
       "214    https://www.guru.com/freelancers/peavyassociate         14.0   \n",
       "246       https://www.guru.com/freelancers/technocad3d         25.0   \n",
       "264    https://www.guru.com/freelancers/barbara-vargas          5.0   \n",
       "362             https://www.guru.com/freelancers/amale          5.0   \n",
       "436   https://www.guru.com/freelancers/gabriel-mendoza         10.0   \n",
       "437      https://www.guru.com/freelancers/bplanningcom          5.0   \n",
       "527      https://www.guru.com/freelancers/harris-janoo          8.0   \n",
       "538  https://www.guru.com/freelancers/laitkor-infos...         12.0   \n",
       "542      https://www.guru.com/freelancers/alexis-leigh         10.0   \n",
       "895   https://www.guru.com/freelancers/donnell-l-davis         17.0   \n",
       "\n",
       "         preds      error  \n",
       "16   27.346154  13.346154  \n",
       "83   26.428571  11.428571  \n",
       "122  26.279412  16.279412  \n",
       "214  26.062500  12.062500  \n",
       "246  36.250000  11.250000  \n",
       "264  20.000000  15.000000  \n",
       "362  18.441860  13.441860  \n",
       "436  31.666667  21.666667  \n",
       "437  20.625000  15.625000  \n",
       "527  21.935484  13.935484  \n",
       "538  22.828947  10.828947  \n",
       "542  26.000000  16.000000  \n",
       "895  29.009804  12.009804  "
      ]
     },
     "metadata": {},
     "output_type": "display_data"
    },
    {
     "data": {
      "text/plain": [
       "['https://www.guru.com/freelancers/rfadera',\n",
       " 'https://www.guru.com/freelancers/gabriel-mendoza',\n",
       " 'https://www.guru.com/freelancers/bplanningcom',\n",
       " 'https://www.guru.com/freelancers/alexis-leigh']"
      ]
     },
     "metadata": {},
     "output_type": "display_data"
    }
   ],
   "source": [
    "# Investigating people for whom the predicted was ~ 20 and the truth was ~ 5\n",
    "display(dt.loc[(dt['error'] > 10), ['profile_url','hourly_rate','preds','error']])\n",
    "display(dt[(dt['error'] > 15)].profile_url.tolist())\n",
    "\n",
    "# Largely, these seem to be people who are underpricing themselves relative to the rest of the market"
   ]
  },
  {
   "cell_type": "code",
   "execution_count": 73,
   "metadata": {},
   "outputs": [
    {
     "data": {
      "text/html": [
       "<div>\n",
       "<style scoped>\n",
       "    .dataframe tbody tr th:only-of-type {\n",
       "        vertical-align: middle;\n",
       "    }\n",
       "\n",
       "    .dataframe tbody tr th {\n",
       "        vertical-align: top;\n",
       "    }\n",
       "\n",
       "    .dataframe thead th {\n",
       "        text-align: right;\n",
       "    }\n",
       "</style>\n",
       "<table border=\"1\" class=\"dataframe\">\n",
       "  <thead>\n",
       "    <tr style=\"text-align: right;\">\n",
       "      <th></th>\n",
       "      <th>profile_url</th>\n",
       "      <th>hourly_rate</th>\n",
       "      <th>preds</th>\n",
       "      <th>error</th>\n",
       "    </tr>\n",
       "  </thead>\n",
       "  <tbody>\n",
       "    <tr>\n",
       "      <th>44</th>\n",
       "      <td>https://www.guru.com/freelancers/icemen</td>\n",
       "      <td>65.0</td>\n",
       "      <td>18.463415</td>\n",
       "      <td>-46.536585</td>\n",
       "    </tr>\n",
       "    <tr>\n",
       "      <th>76</th>\n",
       "      <td>https://www.guru.com/freelancers/a1-digital-so...</td>\n",
       "      <td>60.0</td>\n",
       "      <td>30.866667</td>\n",
       "      <td>-29.133333</td>\n",
       "    </tr>\n",
       "    <tr>\n",
       "      <th>139</th>\n",
       "      <td>https://www.guru.com/freelancers/the-quirky-cr...</td>\n",
       "      <td>50.0</td>\n",
       "      <td>19.611111</td>\n",
       "      <td>-30.388889</td>\n",
       "    </tr>\n",
       "    <tr>\n",
       "      <th>314</th>\n",
       "      <td>https://www.guru.com/freelancers/carolyn-fleming</td>\n",
       "      <td>40.0</td>\n",
       "      <td>20.200000</td>\n",
       "      <td>-19.800000</td>\n",
       "    </tr>\n",
       "    <tr>\n",
       "      <th>359</th>\n",
       "      <td>https://www.guru.com/freelancers/big-whiskey-d...</td>\n",
       "      <td>45.0</td>\n",
       "      <td>27.000000</td>\n",
       "      <td>-18.000000</td>\n",
       "    </tr>\n",
       "    <tr>\n",
       "      <th>524</th>\n",
       "      <td>https://www.guru.com/freelancers/michael-brand</td>\n",
       "      <td>80.0</td>\n",
       "      <td>33.600000</td>\n",
       "      <td>-46.400000</td>\n",
       "    </tr>\n",
       "    <tr>\n",
       "      <th>650</th>\n",
       "      <td>https://www.guru.com/freelancers/robert-wooldr...</td>\n",
       "      <td>50.0</td>\n",
       "      <td>32.964286</td>\n",
       "      <td>-17.035714</td>\n",
       "    </tr>\n",
       "    <tr>\n",
       "      <th>764</th>\n",
       "      <td>https://www.guru.com/freelancers/procutsediting</td>\n",
       "      <td>50.0</td>\n",
       "      <td>27.928571</td>\n",
       "      <td>-22.071429</td>\n",
       "    </tr>\n",
       "    <tr>\n",
       "      <th>796</th>\n",
       "      <td>https://www.guru.com/freelancers/bricasso</td>\n",
       "      <td>75.0</td>\n",
       "      <td>30.481481</td>\n",
       "      <td>-44.518519</td>\n",
       "    </tr>\n",
       "  </tbody>\n",
       "</table>\n",
       "</div>"
      ],
      "text/plain": [
       "                                           profile_url  hourly_rate  \\\n",
       "44             https://www.guru.com/freelancers/icemen         65.0   \n",
       "76   https://www.guru.com/freelancers/a1-digital-so...         60.0   \n",
       "139  https://www.guru.com/freelancers/the-quirky-cr...         50.0   \n",
       "314   https://www.guru.com/freelancers/carolyn-fleming         40.0   \n",
       "359  https://www.guru.com/freelancers/big-whiskey-d...         45.0   \n",
       "524     https://www.guru.com/freelancers/michael-brand         80.0   \n",
       "650  https://www.guru.com/freelancers/robert-wooldr...         50.0   \n",
       "764    https://www.guru.com/freelancers/procutsediting         50.0   \n",
       "796          https://www.guru.com/freelancers/bricasso         75.0   \n",
       "\n",
       "         preds      error  \n",
       "44   18.463415 -46.536585  \n",
       "76   30.866667 -29.133333  \n",
       "139  19.611111 -30.388889  \n",
       "314  20.200000 -19.800000  \n",
       "359  27.000000 -18.000000  \n",
       "524  33.600000 -46.400000  \n",
       "650  32.964286 -17.035714  \n",
       "764  27.928571 -22.071429  \n",
       "796  30.481481 -44.518519  "
      ]
     },
     "metadata": {},
     "output_type": "display_data"
    },
    {
     "data": {
      "text/plain": [
       "['https://www.guru.com/freelancers/icemen',\n",
       " 'https://www.guru.com/freelancers/a1-digital-solutions-inc',\n",
       " 'https://www.guru.com/freelancers/the-quirky-creative',\n",
       " 'https://www.guru.com/freelancers/carolyn-fleming',\n",
       " 'https://www.guru.com/freelancers/big-whiskey-design-studio',\n",
       " 'https://www.guru.com/freelancers/michael-brand',\n",
       " 'https://www.guru.com/freelancers/robert-wooldridge',\n",
       " 'https://www.guru.com/freelancers/procutsediting',\n",
       " 'https://www.guru.com/freelancers/bricasso']"
      ]
     },
     "metadata": {},
     "output_type": "display_data"
    }
   ],
   "source": [
    "# Investigating people for whom the ground truth > 60 but predicted is ~30\n",
    "display(dt.loc[(dt['error'] < -15), ['profile_url','hourly_rate','preds','error']])\n",
    "display(dt[(dt['error'] < -15)].profile_url.tolist())"
   ]
  },
  {
   "cell_type": "code",
   "execution_count": 75,
   "metadata": {},
   "outputs": [
    {
     "data": {
      "text/html": [
       "<div>\n",
       "<style scoped>\n",
       "    .dataframe tbody tr th:only-of-type {\n",
       "        vertical-align: middle;\n",
       "    }\n",
       "\n",
       "    .dataframe tbody tr th {\n",
       "        vertical-align: top;\n",
       "    }\n",
       "\n",
       "    .dataframe thead th {\n",
       "        text-align: right;\n",
       "    }\n",
       "</style>\n",
       "<table border=\"1\" class=\"dataframe\">\n",
       "  <thead>\n",
       "    <tr style=\"text-align: right;\">\n",
       "      <th></th>\n",
       "      <th>profile_url</th>\n",
       "      <th>hourly_rate</th>\n",
       "      <th>preds</th>\n",
       "      <th>error</th>\n",
       "    </tr>\n",
       "  </thead>\n",
       "  <tbody>\n",
       "    <tr>\n",
       "      <th>44</th>\n",
       "      <td>https://www.guru.com/freelancers/icemen</td>\n",
       "      <td>65.0</td>\n",
       "      <td>18.463415</td>\n",
       "      <td>-46.536585</td>\n",
       "    </tr>\n",
       "    <tr>\n",
       "      <th>76</th>\n",
       "      <td>https://www.guru.com/freelancers/a1-digital-so...</td>\n",
       "      <td>60.0</td>\n",
       "      <td>30.866667</td>\n",
       "      <td>-29.133333</td>\n",
       "    </tr>\n",
       "    <tr>\n",
       "      <th>139</th>\n",
       "      <td>https://www.guru.com/freelancers/the-quirky-cr...</td>\n",
       "      <td>50.0</td>\n",
       "      <td>19.611111</td>\n",
       "      <td>-30.388889</td>\n",
       "    </tr>\n",
       "    <tr>\n",
       "      <th>359</th>\n",
       "      <td>https://www.guru.com/freelancers/big-whiskey-d...</td>\n",
       "      <td>45.0</td>\n",
       "      <td>27.000000</td>\n",
       "      <td>-18.000000</td>\n",
       "    </tr>\n",
       "    <tr>\n",
       "      <th>524</th>\n",
       "      <td>https://www.guru.com/freelancers/michael-brand</td>\n",
       "      <td>80.0</td>\n",
       "      <td>33.600000</td>\n",
       "      <td>-46.400000</td>\n",
       "    </tr>\n",
       "    <tr>\n",
       "      <th>650</th>\n",
       "      <td>https://www.guru.com/freelancers/robert-wooldr...</td>\n",
       "      <td>50.0</td>\n",
       "      <td>32.964286</td>\n",
       "      <td>-17.035714</td>\n",
       "    </tr>\n",
       "    <tr>\n",
       "      <th>712</th>\n",
       "      <td>https://www.guru.com/freelancers/brian-zifac</td>\n",
       "      <td>50.0</td>\n",
       "      <td>47.075000</td>\n",
       "      <td>-2.925000</td>\n",
       "    </tr>\n",
       "    <tr>\n",
       "      <th>764</th>\n",
       "      <td>https://www.guru.com/freelancers/procutsediting</td>\n",
       "      <td>50.0</td>\n",
       "      <td>27.928571</td>\n",
       "      <td>-22.071429</td>\n",
       "    </tr>\n",
       "    <tr>\n",
       "      <th>796</th>\n",
       "      <td>https://www.guru.com/freelancers/bricasso</td>\n",
       "      <td>75.0</td>\n",
       "      <td>30.481481</td>\n",
       "      <td>-44.518519</td>\n",
       "    </tr>\n",
       "    <tr>\n",
       "      <th>864</th>\n",
       "      <td>https://www.guru.com/freelancers/gemini-writin...</td>\n",
       "      <td>50.0</td>\n",
       "      <td>44.750000</td>\n",
       "      <td>-5.250000</td>\n",
       "    </tr>\n",
       "  </tbody>\n",
       "</table>\n",
       "</div>"
      ],
      "text/plain": [
       "                                           profile_url  hourly_rate  \\\n",
       "44             https://www.guru.com/freelancers/icemen         65.0   \n",
       "76   https://www.guru.com/freelancers/a1-digital-so...         60.0   \n",
       "139  https://www.guru.com/freelancers/the-quirky-cr...         50.0   \n",
       "359  https://www.guru.com/freelancers/big-whiskey-d...         45.0   \n",
       "524     https://www.guru.com/freelancers/michael-brand         80.0   \n",
       "650  https://www.guru.com/freelancers/robert-wooldr...         50.0   \n",
       "712       https://www.guru.com/freelancers/brian-zifac         50.0   \n",
       "764    https://www.guru.com/freelancers/procutsediting         50.0   \n",
       "796          https://www.guru.com/freelancers/bricasso         75.0   \n",
       "864  https://www.guru.com/freelancers/gemini-writin...         50.0   \n",
       "\n",
       "         preds      error  \n",
       "44   18.463415 -46.536585  \n",
       "76   30.866667 -29.133333  \n",
       "139  19.611111 -30.388889  \n",
       "359  27.000000 -18.000000  \n",
       "524  33.600000 -46.400000  \n",
       "650  32.964286 -17.035714  \n",
       "712  47.075000  -2.925000  \n",
       "764  27.928571 -22.071429  \n",
       "796  30.481481 -44.518519  \n",
       "864  44.750000  -5.250000  "
      ]
     },
     "metadata": {},
     "output_type": "display_data"
    },
    {
     "data": {
      "text/plain": [
       "['https://www.guru.com/freelancers/icemen',\n",
       " 'https://www.guru.com/freelancers/a1-digital-solutions-inc',\n",
       " 'https://www.guru.com/freelancers/the-quirky-creative',\n",
       " 'https://www.guru.com/freelancers/big-whiskey-design-studio',\n",
       " 'https://www.guru.com/freelancers/michael-brand',\n",
       " 'https://www.guru.com/freelancers/robert-wooldridge',\n",
       " 'https://www.guru.com/freelancers/brian-zifac',\n",
       " 'https://www.guru.com/freelancers/procutsediting',\n",
       " 'https://www.guru.com/freelancers/bricasso',\n",
       " 'https://www.guru.com/freelancers/gemini-writing-services']"
      ]
     },
     "metadata": {},
     "output_type": "display_data"
    }
   ],
   "source": [
    "# Investigating people for whom the ground truth > 40 and the model does well on\n",
    "display(dt.loc[(dt['error'] < 10) & (dt['hourly_rate'] > 40), ['profile_url','hourly_rate','preds','error']])\n",
    "display(dt[(dt['error'] < 10) & (dt['hourly_rate'] > 40)].profile_url.tolist())"
   ]
  },
  {
   "cell_type": "code",
   "execution_count": null,
   "metadata": {},
   "outputs": [],
   "source": []
  }
 ],
 "metadata": {
  "kernelspec": {
   "display_name": "Python 3",
   "language": "python",
   "name": "python3"
  },
  "language_info": {
   "codemirror_mode": {
    "name": "ipython",
    "version": 3
   },
   "file_extension": ".py",
   "mimetype": "text/x-python",
   "name": "python",
   "nbconvert_exporter": "python",
   "pygments_lexer": "ipython3",
   "version": "3.7.7"
  }
 },
 "nbformat": 4,
 "nbformat_minor": 4
}
