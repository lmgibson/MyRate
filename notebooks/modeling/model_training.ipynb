{
 "cells": [
  {
   "cell_type": "markdown",
   "metadata": {},
   "source": [
    "# Modeling the Hourly Rate\n",
    "\n",
    "This code trains a model to predict what a prospective freelancers hourly rate should be. The model used is a random forest regression model. I also built an AdaBoosted Decision Tree model, but it performs much worse (using 5-fold cross-validation) compared with the turned random forest regression model.\n",
    "\n",
    "I've also built a k-modes (cluster with categorical/numeric mixed data) model. It is currently being tested."
   ]
  },
  {
   "cell_type": "markdown",
   "metadata": {},
   "source": [
    "# Prep\n",
    "\n",
    "## Importing Libraries and Data"
   ]
  },
  {
   "cell_type": "code",
   "execution_count": 2,
   "metadata": {},
   "outputs": [],
   "source": [
    "# Data Analysis and Modeling\n",
    "import pandas as pd\n",
    "import numpy as np\n",
    "import seaborn as sns\n",
    "from matplotlib import pyplot as plt\n",
    "from sklearn.model_selection import train_test_split\n",
    "import time\n",
    "\n",
    "# Random Forest Regression\n",
    "from sklearn.ensemble import RandomForestRegressor\n",
    "\n",
    "# AdaBoost Decision Tree\n",
    "from sklearn.tree import DecisionTreeRegressor\n",
    "from sklearn.ensemble import AdaBoostRegressor\n",
    "\n",
    "# LASSO\n",
    "from sklearn.linear_model import LassoCV, Lasso\n",
    "\n",
    "# XGBoost\n",
    "import xgboost as xgb\n",
    "\n",
    "# Cross-Validation and Accuracy Measures\n",
    "from sklearn.model_selection import KFold\n",
    "from sklearn.model_selection import GridSearchCV\n",
    "from sklearn.metrics import mean_squared_error, r2_score, accuracy_score, mean_absolute_error\n",
    "\n",
    "# Model Serializing (export to web-app)\n",
    "import pickle\n",
    "\n",
    "# Packages for PostgreSQL Import\n",
    "import psycopg2\n",
    "import os\n",
    "\n",
    "# Packages for K-Modes Cluster\n",
    "from kmodes.kmodes import KModes"
   ]
  },
  {
   "cell_type": "markdown",
   "metadata": {},
   "source": [
    "## Importing Data from SQL"
   ]
  },
  {
   "cell_type": "code",
   "execution_count": 3,
   "metadata": {
    "scrolled": true
   },
   "outputs": [
    {
     "data": {
      "text/plain": [
       "(374, 65)"
      ]
     },
     "execution_count": 3,
     "metadata": {},
     "output_type": "execute_result"
    }
   ],
   "source": [
    "# Names for accessing SQL database\n",
    "dbname = \"freelance_db\"\n",
    "username = os.environ['USER']\n",
    "pswd = os.environ['SQLPSWD']\n",
    "\n",
    "# Connect to SQL Database\n",
    "con = None\n",
    "con = psycopg2.connect(database = dbname, user = username, host='localhost', password=pswd)\n",
    "\n",
    "# Importing Data\n",
    "sql_query = \"\"\"SELECT * FROM analysis_dummies_table;\"\"\"\n",
    "analysis_dt = pd.read_sql_query(sql_query, con)\n",
    "\n",
    "sql_query = \"\"\"SELECT * FROM embeddings_table;\"\"\"\n",
    "embeddings = pd.read_sql_query(sql_query, con)\n",
    "\n",
    "# Doing some cleaning. Removing columns that have a continuous analog in the model.\n",
    "analysis_dt = analysis_dt.drop(['index'], axis=1)\n",
    "analysis_dt = analysis_dt.drop(['first_skill'], axis = 1)\n",
    "\n",
    "# Removing index col from embeddings\n",
    "embeddings = embeddings.drop(['index'], axis = 1)\n",
    "embeddings['profile_url'] = \"https://www.guru.com\" + embeddings['profile_url']\n",
    "\n",
    "# Merging on profile_url\n",
    "analysis_dt = analysis_dt.merge(embeddings, how = \"left\", \n",
    "                                left_on = \"profile_url\", right_on= \"profile_url\")\n",
    "analysis_dt = analysis_dt.drop(['profile_url'], axis = 1)\n",
    "analysis_dt = analysis_dt.fillna(0)\n",
    "\n",
    "# Cleaning avg_word_length and bio_word count\n",
    "analysis_dt.loc[analysis_dt['bio_length'] == 0, ['bio_word_count','avg_word_length']] = 0\n",
    "\n",
    "# Removing inactive users\n",
    "analysis_dt = analysis_dt.loc[analysis_dt['has_quote'] == 1, :]\n",
    "analysis_dt.shape\n",
    "\n",
    "# Removing crazy outliers\n",
    "analysis_dt = analysis_dt.loc[analysis_dt['hourly_rate'] < 100, :]\n",
    "\n",
    "# Final Cleaning\n",
    "analysis_dt = analysis_dt.drop(['num_skills','earnings_per_month',\n",
    "                                'hours_worked', 'worked_pst_yr',\n",
    "                                'hours_worked_pr_mnth','has_quote'], axis = 1)\n",
    "analysis_dt = analysis_dt.drop(analysis_dt.columns[15:65], axis = 1)\n",
    "\n",
    "# Last check\n",
    "analysis_dt.shape"
   ]
  },
  {
   "cell_type": "code",
   "execution_count": 4,
   "metadata": {},
   "outputs": [
    {
     "data": {
      "text/plain": [
       "Index(['hourly_rate', 'bio_length', 'bio_word_count', 'avg_word_length',\n",
       "       'num_stop', 'administrative & secretarial', 'business & finance',\n",
       "       'design & art', 'education & training', 'engineering & architecture',\n",
       "       'legal', 'programming & development', 'sales & marketing',\n",
       "       'writing & translation', 'hours_worked_pr_mnth_pst_yr', '0', '1', '2',\n",
       "       '3', '4', '5', '6', '7', '8', '9', '10', '11', '12', '13', '14', '15',\n",
       "       '16', '17', '18', '19', '20', '21', '22', '23', '24', '25', '26', '27',\n",
       "       '28', '29', '30', '31', '32', '33', '34', '35', '36', '37', '38', '39',\n",
       "       '40', '41', '42', '43', '44', '45', '46', '47', '48', '49'],\n",
       "      dtype='object')"
      ]
     },
     "metadata": {},
     "output_type": "display_data"
    }
   ],
   "source": [
    "cols = analysis_dt.columns\n",
    "display(cols)"
   ]
  },
  {
   "cell_type": "markdown",
   "metadata": {},
   "source": [
    "## Prepping Data for Training"
   ]
  },
  {
   "cell_type": "code",
   "execution_count": 5,
   "metadata": {},
   "outputs": [],
   "source": [
    "# Converting data to numpy arrays and saving column names\n",
    "y = np.array(analysis_dt['hourly_rate'])\n",
    "\n",
    "analysis_dt = analysis_dt.drop(['hourly_rate'], axis = 1)\n",
    "feature_list = list(analysis_dt.columns)\n",
    "\n",
    "X = np.array(analysis_dt)"
   ]
  },
  {
   "cell_type": "code",
   "execution_count": 6,
   "metadata": {},
   "outputs": [],
   "source": [
    "# Creating train and test splits\n",
    "X_train, X_test, y_train, y_test = train_test_split(\n",
    "    X, y, test_size=0.1, random_state=42)"
   ]
  },
  {
   "cell_type": "markdown",
   "metadata": {},
   "source": [
    "# Modeling - XGBoost"
   ]
  },
  {
   "cell_type": "code",
   "execution_count": 7,
   "metadata": {},
   "outputs": [],
   "source": [
    "# Convert Data into DMatrix\n",
    "dtest = xgb.DMatrix(X_test, label=y_test)\n",
    "dtrain = xgb.DMatrix(X_train, label=y_train)\n",
    "dtrain.save_binary((os.environ['PWD'] + '/data/cleaned/train.buffer'))\n",
    "dtest.save_binary((os.environ['PWD'] + '/data/cleaned/test.buffer'))"
   ]
  },
  {
   "cell_type": "code",
   "execution_count": 8,
   "metadata": {},
   "outputs": [
    {
     "name": "stdout",
     "output_type": "stream",
     "text": [
      "[0]\tTest-mae:17.15086\n",
      "Will train until Test-mae hasn't improved in 10 rounds.\n",
      "[1]\tTest-mae:13.44994\n",
      "[2]\tTest-mae:12.58369\n",
      "[3]\tTest-mae:12.61564\n",
      "[4]\tTest-mae:12.43206\n",
      "[5]\tTest-mae:12.30434\n",
      "[6]\tTest-mae:12.26478\n",
      "[7]\tTest-mae:12.42656\n",
      "[8]\tTest-mae:12.61485\n",
      "[9]\tTest-mae:12.64262\n",
      "[10]\tTest-mae:12.72911\n",
      "[11]\tTest-mae:12.79451\n",
      "[12]\tTest-mae:12.87032\n",
      "[13]\tTest-mae:12.93030\n",
      "[14]\tTest-mae:12.96977\n",
      "[15]\tTest-mae:12.93859\n",
      "[16]\tTest-mae:13.00486\n",
      "Stopping. Best iteration:\n",
      "[6]\tTest-mae:12.26478\n",
      "\n"
     ]
    }
   ],
   "source": [
    "# Baseline Model without Tuning\n",
    "params = {\n",
    "    # Parameters that we are going to tune.\n",
    "    'max_depth':6,\n",
    "    'min_child_weight': 1,\n",
    "    'eta':.3,\n",
    "    'subsample': 1,\n",
    "    'colsample_bytree': 1,\n",
    "    # Other parameters\n",
    "    'objective':'reg:squarederror',\n",
    "    'eval_metric': \"mae\"\n",
    "}\n",
    "\n",
    "num_boost_round = 999\n",
    "\n",
    "# Cross-Validated XGBoost\n",
    "model = xgb.train(\n",
    "    params,\n",
    "    dtrain,\n",
    "    num_boost_round=num_boost_round,\n",
    "    evals=[(dtest, \"Test\")],\n",
    "    early_stopping_rounds=10\n",
    ")\n",
    "\n",
    "# MAE With Default Params = 12.26"
   ]
  },
  {
   "cell_type": "code",
   "execution_count": 11,
   "metadata": {},
   "outputs": [
    {
     "name": "stdout",
     "output_type": "stream",
     "text": [
      "CV with max_depth=2, min_child_weight=2\n",
      "\tMAE 14.521995399999998 for 6 rounds\n",
      "CV with max_depth=2, min_child_weight=4\n",
      "\tMAE 14.487337 for 5 rounds\n",
      "CV with max_depth=2, min_child_weight=6\n",
      "\tMAE 14.4810192 for 6 rounds\n",
      "CV with max_depth=2, min_child_weight=8\n",
      "\tMAE 14.470600200000002 for 5 rounds\n",
      "CV with max_depth=2, min_child_weight=10\n",
      "\tMAE 14.4112098 for 6 rounds\n",
      "CV with max_depth=2, min_child_weight=12\n",
      "\tMAE 14.384578999999999 for 5 rounds\n",
      "CV with max_depth=2, min_child_weight=14\n",
      "\tMAE 14.419303600000001 for 6 rounds\n",
      "CV with max_depth=2, min_child_weight=16\n",
      "\tMAE 14.408447 for 5 rounds\n",
      "CV with max_depth=2, min_child_weight=18\n",
      "\tMAE 14.399361199999998 for 5 rounds\n",
      "CV with max_depth=4, min_child_weight=2\n",
      "\tMAE 15.000354400000003 for 4 rounds\n",
      "CV with max_depth=4, min_child_weight=4\n",
      "\tMAE 14.725643999999999 for 4 rounds\n",
      "CV with max_depth=4, min_child_weight=6\n",
      "\tMAE 14.831692799999999 for 5 rounds\n",
      "CV with max_depth=4, min_child_weight=8\n",
      "\tMAE 14.682585800000002 for 4 rounds\n",
      "CV with max_depth=4, min_child_weight=10\n",
      "\tMAE 14.3626734 for 5 rounds\n",
      "CV with max_depth=4, min_child_weight=12\n",
      "\tMAE 14.5173858 for 4 rounds\n",
      "CV with max_depth=4, min_child_weight=14\n",
      "\tMAE 14.556775400000001 for 5 rounds\n",
      "CV with max_depth=4, min_child_weight=16\n",
      "\tMAE 14.5907666 for 5 rounds\n",
      "CV with max_depth=4, min_child_weight=18\n",
      "\tMAE 14.522288399999999 for 4 rounds\n",
      "CV with max_depth=6, min_child_weight=2\n",
      "\tMAE 15.2248582 for 6 rounds\n",
      "CV with max_depth=6, min_child_weight=4\n",
      "\tMAE 14.9831412 for 4 rounds\n",
      "CV with max_depth=6, min_child_weight=6\n",
      "\tMAE 15.0796516 for 4 rounds\n",
      "CV with max_depth=6, min_child_weight=8\n",
      "\tMAE 14.8388376 for 4 rounds\n",
      "CV with max_depth=6, min_child_weight=10\n",
      "\tMAE 14.725015599999997 for 5 rounds\n",
      "CV with max_depth=6, min_child_weight=12\n",
      "\tMAE 14.516346200000001 for 5 rounds\n",
      "CV with max_depth=6, min_child_weight=14\n",
      "\tMAE 14.449083400000001 for 5 rounds\n",
      "CV with max_depth=6, min_child_weight=16\n",
      "\tMAE 14.580359199999998 for 5 rounds\n",
      "CV with max_depth=6, min_child_weight=18\n",
      "\tMAE 14.4433862 for 4 rounds\n",
      "CV with max_depth=8, min_child_weight=2\n",
      "\tMAE 15.465830399999998 for 5 rounds\n",
      "CV with max_depth=8, min_child_weight=4\n",
      "\tMAE 15.2475314 for 4 rounds\n",
      "CV with max_depth=8, min_child_weight=6\n",
      "\tMAE 15.0519846 for 4 rounds\n",
      "CV with max_depth=8, min_child_weight=8\n",
      "\tMAE 14.684810199999998 for 4 rounds\n",
      "CV with max_depth=8, min_child_weight=10\n",
      "\tMAE 14.7268068 for 5 rounds\n",
      "CV with max_depth=8, min_child_weight=12\n",
      "\tMAE 14.3547334 for 4 rounds\n",
      "CV with max_depth=8, min_child_weight=14\n",
      "\tMAE 14.5142452 for 4 rounds\n",
      "CV with max_depth=8, min_child_weight=16\n",
      "\tMAE 14.536513200000002 for 4 rounds\n",
      "CV with max_depth=8, min_child_weight=18\n",
      "\tMAE 14.579202800000001 for 4 rounds\n",
      "CV with max_depth=10, min_child_weight=2\n",
      "\tMAE 15.374494199999997 for 6 rounds\n",
      "CV with max_depth=10, min_child_weight=4\n",
      "\tMAE 15.237978199999997 for 4 rounds\n",
      "CV with max_depth=10, min_child_weight=6\n",
      "\tMAE 15.131871199999997 for 4 rounds\n",
      "CV with max_depth=10, min_child_weight=8\n",
      "\tMAE 14.8289918 for 4 rounds\n",
      "CV with max_depth=10, min_child_weight=10\n",
      "\tMAE 14.777720400000002 for 5 rounds\n",
      "CV with max_depth=10, min_child_weight=12\n",
      "\tMAE 14.3170094 for 5 rounds\n",
      "CV with max_depth=10, min_child_weight=14\n",
      "\tMAE 14.50899 for 4 rounds\n",
      "CV with max_depth=10, min_child_weight=16\n",
      "\tMAE 14.5327944 for 4 rounds\n",
      "CV with max_depth=10, min_child_weight=18\n",
      "\tMAE 14.579203000000001 for 4 rounds\n",
      "CV with max_depth=12, min_child_weight=2\n",
      "\tMAE 15.943005199999998 for 4 rounds\n",
      "CV with max_depth=12, min_child_weight=4\n",
      "\tMAE 15.4152994 for 4 rounds\n",
      "CV with max_depth=12, min_child_weight=6\n",
      "\tMAE 15.216549400000002 for 4 rounds\n",
      "CV with max_depth=12, min_child_weight=8\n",
      "\tMAE 14.812203399999998 for 4 rounds\n",
      "CV with max_depth=12, min_child_weight=10\n",
      "\tMAE 14.802969999999998 for 5 rounds\n",
      "CV with max_depth=12, min_child_weight=12\n",
      "\tMAE 14.317009200000001 for 5 rounds\n",
      "CV with max_depth=12, min_child_weight=14\n",
      "\tMAE 14.50899 for 4 rounds\n",
      "CV with max_depth=12, min_child_weight=16\n",
      "\tMAE 14.532794599999999 for 4 rounds\n",
      "CV with max_depth=12, min_child_weight=18\n",
      "\tMAE 14.579202599999999 for 4 rounds\n",
      "CV with max_depth=14, min_child_weight=2\n",
      "\tMAE 15.805097999999997 for 5 rounds\n",
      "CV with max_depth=14, min_child_weight=4\n",
      "\tMAE 15.3563268 for 4 rounds\n",
      "CV with max_depth=14, min_child_weight=6\n",
      "\tMAE 15.206838600000001 for 4 rounds\n",
      "CV with max_depth=14, min_child_weight=8\n",
      "\tMAE 14.812203199999999 for 4 rounds\n",
      "CV with max_depth=14, min_child_weight=10\n",
      "\tMAE 14.802970399999998 for 5 rounds\n",
      "CV with max_depth=14, min_child_weight=12\n",
      "\tMAE 14.317009200000001 for 5 rounds\n",
      "CV with max_depth=14, min_child_weight=14\n",
      "\tMAE 14.5089902 for 4 rounds\n",
      "CV with max_depth=14, min_child_weight=16\n",
      "\tMAE 14.532794200000001 for 4 rounds\n",
      "CV with max_depth=14, min_child_weight=18\n",
      "\tMAE 14.579202200000001 for 4 rounds\n",
      "CV with max_depth=16, min_child_weight=2\n",
      "\tMAE 15.892345 for 5 rounds\n",
      "CV with max_depth=16, min_child_weight=4\n",
      "\tMAE 15.372368 for 4 rounds\n",
      "CV with max_depth=16, min_child_weight=6\n",
      "\tMAE 15.2068384 for 4 rounds\n",
      "CV with max_depth=16, min_child_weight=8\n",
      "\tMAE 14.812203599999998 for 4 rounds\n",
      "CV with max_depth=16, min_child_weight=10\n",
      "\tMAE 14.8029706 for 5 rounds\n",
      "CV with max_depth=16, min_child_weight=12\n",
      "\tMAE 14.3170094 for 5 rounds\n",
      "CV with max_depth=16, min_child_weight=14\n",
      "\tMAE 14.5089902 for 4 rounds\n",
      "CV with max_depth=16, min_child_weight=16\n",
      "\tMAE 14.5327944 for 4 rounds\n",
      "CV with max_depth=16, min_child_weight=18\n",
      "\tMAE 14.579202599999999 for 4 rounds\n",
      "CV with max_depth=18, min_child_weight=2\n",
      "\tMAE 15.888936199999998 for 5 rounds\n",
      "CV with max_depth=18, min_child_weight=4\n",
      "\tMAE 15.372367399999998 for 4 rounds\n",
      "CV with max_depth=18, min_child_weight=6\n",
      "\tMAE 15.206838600000001 for 4 rounds\n",
      "CV with max_depth=18, min_child_weight=8\n",
      "\tMAE 14.812203599999998 for 4 rounds\n",
      "CV with max_depth=18, min_child_weight=10\n",
      "\tMAE 14.802970399999998 for 5 rounds\n",
      "CV with max_depth=18, min_child_weight=12\n",
      "\tMAE 14.3170094 for 5 rounds\n",
      "CV with max_depth=18, min_child_weight=14\n",
      "\tMAE 14.508989399999999 for 4 rounds\n",
      "CV with max_depth=18, min_child_weight=16\n",
      "\tMAE 14.532793999999999 for 4 rounds\n",
      "CV with max_depth=18, min_child_weight=18\n",
      "\tMAE 14.579202599999999 for 4 rounds\n",
      "Best params: 12, 12, MAE: 14.317009200000001\n"
     ]
    }
   ],
   "source": [
    "# Reference: https://blog.cambridgespark.com/hyperparameter-tuning-in-xgboost-4ff9100a3b2f\n",
    "gridsearch_params = [\n",
    "    (max_depth, min_child_weight)\n",
    "    for max_depth in range(2, 20, 2)\n",
    "    for min_child_weight in range(2, 20, 2)\n",
    "]\n",
    "\n",
    "min_mae = float(\"Inf\")\n",
    "best_params = None\n",
    "\n",
    "for max_depth, min_child_weight in gridsearch_params:\n",
    "    print(\"CV with max_depth={}, min_child_weight={}\".format(\n",
    "        max_depth,\n",
    "        min_child_weight))    # Update our parameters\n",
    "    params['max_depth'] = max_depth\n",
    "    params['min_child_weight'] = min_child_weight    # Run CV\n",
    "    cv_results = xgb.cv(\n",
    "        params,\n",
    "        dtrain,\n",
    "        num_boost_round=num_boost_round,\n",
    "        seed=42,\n",
    "        nfold=5,\n",
    "        metrics={'mae'},\n",
    "        early_stopping_rounds=10\n",
    "    )    # Update best MAE\n",
    "    \n",
    "    mean_mae = cv_results['test-mae-mean'].min()\n",
    "    boost_rounds = cv_results['test-mae-mean'].argmin()\n",
    "    print(\"\\tMAE {} for {} rounds\".format(mean_mae, boost_rounds))\n",
    "    if mean_mae < min_mae:\n",
    "        min_mae = mean_mae\n",
    "        best_params = (max_depth, min_child_weight)\n",
    "\n",
    "print(\"Best params: {}, {}, MAE: {}\".format(best_params[0], best_params[1], min_mae))"
   ]
  },
  {
   "cell_type": "code",
   "execution_count": 12,
   "metadata": {},
   "outputs": [],
   "source": [
    "# Updating params dictionary with selected values\n",
    "params['max_depth'] = 12\n",
    "params['min_child_weight'] = 12"
   ]
  },
  {
   "cell_type": "code",
   "execution_count": 13,
   "metadata": {},
   "outputs": [
    {
     "name": "stdout",
     "output_type": "stream",
     "text": [
      "CV with subsample=1.0, colsample=1.0\n",
      "\tMAE 14.3170094 for 5 rounds\n",
      "CV with subsample=1.0, colsample=0.9\n",
      "\tMAE 14.823176 for 4 rounds\n",
      "CV with subsample=1.0, colsample=0.8\n",
      "\tMAE 14.790761800000002 for 4 rounds\n",
      "CV with subsample=1.0, colsample=0.7\n",
      "\tMAE 15.2768372 for 5 rounds\n",
      "CV with subsample=1.0, colsample=0.6\n",
      "\tMAE 14.923036000000002 for 4 rounds\n",
      "CV with subsample=1.0, colsample=0.5\n",
      "\tMAE 15.237611800000002 for 4 rounds\n",
      "CV with subsample=1.0, colsample=0.4\n",
      "\tMAE 15.3057534 for 4 rounds\n",
      "CV with subsample=1.0, colsample=0.3\n",
      "\tMAE 15.2022008 for 5 rounds\n",
      "CV with subsample=1.0, colsample=0.2\n",
      "\tMAE 15.1386506 for 5 rounds\n",
      "CV with subsample=1.0, colsample=0.1\n",
      "\tMAE 15.460079400000001 for 5 rounds\n",
      "CV with subsample=0.9, colsample=1.0\n",
      "\tMAE 14.497732200000002 for 4 rounds\n",
      "CV with subsample=0.9, colsample=0.9\n",
      "\tMAE 14.806815599999998 for 4 rounds\n",
      "CV with subsample=0.9, colsample=0.8\n",
      "\tMAE 14.559949 for 5 rounds\n",
      "CV with subsample=0.9, colsample=0.7\n",
      "\tMAE 14.5359238 for 5 rounds\n",
      "CV with subsample=0.9, colsample=0.6\n",
      "\tMAE 14.7105896 for 4 rounds\n",
      "CV with subsample=0.9, colsample=0.5\n",
      "\tMAE 15.015751599999998 for 4 rounds\n",
      "CV with subsample=0.9, colsample=0.4\n",
      "\tMAE 15.288569599999999 for 4 rounds\n",
      "CV with subsample=0.9, colsample=0.3\n",
      "\tMAE 15.428217600000002 for 4 rounds\n",
      "CV with subsample=0.9, colsample=0.2\n",
      "\tMAE 15.4857324 for 4 rounds\n",
      "CV with subsample=0.9, colsample=0.1\n",
      "\tMAE 15.579327999999999 for 4 rounds\n",
      "CV with subsample=0.8, colsample=1.0\n",
      "\tMAE 14.5167282 for 4 rounds\n",
      "CV with subsample=0.8, colsample=0.9\n",
      "\tMAE 14.868998600000001 for 4 rounds\n",
      "CV with subsample=0.8, colsample=0.8\n",
      "\tMAE 14.6536306 for 4 rounds\n",
      "CV with subsample=0.8, colsample=0.7\n",
      "\tMAE 14.8456366 for 5 rounds\n",
      "CV with subsample=0.8, colsample=0.6\n",
      "\tMAE 14.877855 for 4 rounds\n",
      "CV with subsample=0.8, colsample=0.5\n",
      "\tMAE 15.141227800000001 for 4 rounds\n",
      "CV with subsample=0.8, colsample=0.4\n",
      "\tMAE 15.036171000000001 for 4 rounds\n",
      "CV with subsample=0.8, colsample=0.3\n",
      "\tMAE 15.485937799999999 for 4 rounds\n",
      "CV with subsample=0.8, colsample=0.2\n",
      "\tMAE 15.317697600000002 for 4 rounds\n",
      "CV with subsample=0.8, colsample=0.1\n",
      "\tMAE 15.613757800000002 for 4 rounds\n",
      "CV with subsample=0.7, colsample=1.0\n",
      "\tMAE 14.5340156 for 4 rounds\n",
      "CV with subsample=0.7, colsample=0.9\n",
      "\tMAE 14.9291834 for 4 rounds\n",
      "CV with subsample=0.7, colsample=0.8\n",
      "\tMAE 14.9869234 for 4 rounds\n",
      "CV with subsample=0.7, colsample=0.7\n",
      "\tMAE 14.8191798 for 4 rounds\n",
      "CV with subsample=0.7, colsample=0.6\n",
      "\tMAE 14.863739599999999 for 4 rounds\n",
      "CV with subsample=0.7, colsample=0.5\n",
      "\tMAE 14.9979622 for 6 rounds\n",
      "CV with subsample=0.7, colsample=0.4\n",
      "\tMAE 14.8892044 for 4 rounds\n",
      "CV with subsample=0.7, colsample=0.3\n",
      "\tMAE 15.3591114 for 4 rounds\n",
      "CV with subsample=0.7, colsample=0.2\n",
      "\tMAE 15.0576346 for 4 rounds\n",
      "CV with subsample=0.7, colsample=0.1\n",
      "\tMAE 15.460879799999997 for 4 rounds\n",
      "CV with subsample=0.6, colsample=1.0\n",
      "\tMAE 14.470203600000001 for 5 rounds\n",
      "CV with subsample=0.6, colsample=0.9\n",
      "\tMAE 15.019627600000002 for 6 rounds\n",
      "CV with subsample=0.6, colsample=0.8\n",
      "\tMAE 14.5381834 for 6 rounds\n",
      "CV with subsample=0.6, colsample=0.7\n",
      "\tMAE 14.6778182 for 6 rounds\n",
      "CV with subsample=0.6, colsample=0.6\n",
      "\tMAE 14.9920808 for 4 rounds\n",
      "CV with subsample=0.6, colsample=0.5\n",
      "\tMAE 14.647441800000001 for 4 rounds\n",
      "CV with subsample=0.6, colsample=0.4\n",
      "\tMAE 14.674227400000001 for 7 rounds\n",
      "CV with subsample=0.6, colsample=0.3\n",
      "\tMAE 15.0351312 for 4 rounds\n",
      "CV with subsample=0.6, colsample=0.2\n",
      "\tMAE 15.0510516 for 4 rounds\n",
      "CV with subsample=0.6, colsample=0.1\n",
      "\tMAE 15.492042800000002 for 5 rounds\n",
      "CV with subsample=0.5, colsample=1.0\n",
      "\tMAE 14.9214886 for 6 rounds\n",
      "CV with subsample=0.5, colsample=0.9\n",
      "\tMAE 14.975691399999999 for 7 rounds\n",
      "CV with subsample=0.5, colsample=0.8\n",
      "\tMAE 14.696194600000002 for 7 rounds\n",
      "CV with subsample=0.5, colsample=0.7\n",
      "\tMAE 14.735033999999999 for 6 rounds\n",
      "CV with subsample=0.5, colsample=0.6\n",
      "\tMAE 14.8300998 for 7 rounds\n",
      "CV with subsample=0.5, colsample=0.5\n",
      "\tMAE 14.788051200000002 for 7 rounds\n",
      "CV with subsample=0.5, colsample=0.4\n",
      "\tMAE 14.795049999999998 for 7 rounds\n",
      "CV with subsample=0.5, colsample=0.3\n",
      "\tMAE 14.977461799999997 for 7 rounds\n",
      "CV with subsample=0.5, colsample=0.2\n",
      "\tMAE 14.8568942 for 7 rounds\n",
      "CV with subsample=0.5, colsample=0.1\n",
      "\tMAE 15.3226822 for 4 rounds\n",
      "Best params: 1.0, 1.0, MAE: 14.3170094\n"
     ]
    }
   ],
   "source": [
    "# Tuning subsample and colsample_bytree\n",
    "gridsearch_params = [\n",
    "    (subsample, colsample)\n",
    "    for subsample in [i/10. for i in range(5,11)]\n",
    "    for colsample in [i/10. for i in range(1,11)]\n",
    "]\n",
    "\n",
    "min_mae = float(\"Inf\")\n",
    "best_params = None# We start by the largest values and go down to the smallest\n",
    "for subsample, colsample in reversed(gridsearch_params):\n",
    "    print(\"CV with subsample={}, colsample={}\".format(\n",
    "                             subsample,\n",
    "                             colsample))    # We update our parameters\n",
    "    params['subsample'] = subsample\n",
    "    params['colsample_bytree'] = colsample    # Run CV\n",
    "    cv_results = xgb.cv(\n",
    "        params,\n",
    "        dtrain,\n",
    "        num_boost_round=num_boost_round,\n",
    "        seed=42,\n",
    "        nfold=5,\n",
    "        metrics={'mae'},\n",
    "        early_stopping_rounds=10\n",
    "    )    # Update best score\n",
    "    mean_mae = cv_results['test-mae-mean'].min()\n",
    "    boost_rounds = cv_results['test-mae-mean'].argmin()\n",
    "    print(\"\\tMAE {} for {} rounds\".format(mean_mae, boost_rounds))\n",
    "    if mean_mae < min_mae:\n",
    "        min_mae = mean_mae\n",
    "        best_params = (subsample,colsample)\n",
    "        \n",
    "print(\"Best params: {}, {}, MAE: {}\".format(best_params[0], best_params[1], min_mae))\n",
    "\n",
    "params['subsample'] = best_params[0]\n",
    "params['colsample_bytree'] = best_params[1]"
   ]
  },
  {
   "cell_type": "code",
   "execution_count": 14,
   "metadata": {},
   "outputs": [
    {
     "name": "stdout",
     "output_type": "stream",
     "text": [
      "CV with eta=0.3\n",
      "\tMAE 14.3170094 for 5 rounds\n",
      "\n",
      "CV with eta=0.2\n",
      "\tMAE 14.4985594 for 7 rounds\n",
      "\n",
      "CV with eta=0.1\n",
      "\tMAE 14.4261944 for 18 rounds\n",
      "\n",
      "CV with eta=0.07\n",
      "\tMAE 14.417238399999999 for 24 rounds\n",
      "\n",
      "CV with eta=0.05\n",
      "\tMAE 14.3815164 for 36 rounds\n",
      "\n",
      "CV with eta=0.02\n",
      "\tMAE 14.433885999999998 for 86 rounds\n",
      "\n",
      "CV with eta=0.01\n",
      "\tMAE 14.4032272 for 179 rounds\n",
      "\n",
      "CV with eta=0.005\n",
      "\tMAE 14.445059800000001 for 355 rounds\n",
      "\n",
      "Best params: 0.3, MAE: 14.3170094\n"
     ]
    }
   ],
   "source": [
    "# Tuning ETA (learning rate)\n",
    "min_mae = float(\"Inf\")\n",
    "best_params = None\n",
    "\n",
    "for eta in [.3, .2, .1, .07, .05, .02, .01, .005]:\n",
    "    print(\"CV with eta={}\".format(eta))    # We update our parameters\n",
    "    params['eta'] = eta    # Run and time CV\n",
    "    \n",
    "    cv_results = xgb.cv(\n",
    "        params,\n",
    "        dtrain,\n",
    "        num_boost_round=num_boost_round,\n",
    "        seed=42,\n",
    "        nfold=5,\n",
    "        metrics=['mae'],\n",
    "        early_stopping_rounds=10\n",
    "    )    # Update best score\n",
    "    \n",
    "    mean_mae = cv_results['test-mae-mean'].min()\n",
    "    boost_rounds = cv_results['test-mae-mean'].argmin()\n",
    "    print(\"\\tMAE {} for {} rounds\\n\".format(mean_mae, boost_rounds))\n",
    "    if mean_mae < min_mae:\n",
    "        min_mae = mean_mae\n",
    "        best_params = eta\n",
    "\n",
    "print(\"Best params: {}, MAE: {}\".format(best_params, min_mae))\n",
    "\n",
    "params['eta'] = best_params"
   ]
  },
  {
   "cell_type": "code",
   "execution_count": 15,
   "metadata": {},
   "outputs": [
    {
     "name": "stdout",
     "output_type": "stream",
     "text": [
      "[0]\tTest-mae:16.61443\n",
      "Will train until Test-mae hasn't improved in 10 rounds.\n",
      "[1]\tTest-mae:13.68543\n",
      "[2]\tTest-mae:12.58721\n",
      "[3]\tTest-mae:12.02043\n",
      "[4]\tTest-mae:11.62314\n",
      "[5]\tTest-mae:11.66778\n",
      "[6]\tTest-mae:12.05887\n",
      "[7]\tTest-mae:12.47646\n",
      "[8]\tTest-mae:12.83424\n",
      "[9]\tTest-mae:12.81134\n",
      "[10]\tTest-mae:13.00128\n",
      "[11]\tTest-mae:13.10092\n",
      "[12]\tTest-mae:13.36987\n",
      "[13]\tTest-mae:13.61673\n",
      "[14]\tTest-mae:13.70628\n",
      "Stopping. Best iteration:\n",
      "[4]\tTest-mae:11.62314\n",
      "\n",
      "Best MAE: 11.62 in 5 rounds\n"
     ]
    }
   ],
   "source": [
    "# Train Final Model\n",
    "model = xgb.train(\n",
    "    params,\n",
    "    dtrain,\n",
    "    num_boost_round=num_boost_round,\n",
    "    evals=[(dtest, \"Test\")],\n",
    "    early_stopping_rounds=10\n",
    ")\n",
    "\n",
    "print(\"Best MAE: {:.2f} in {} rounds\".format(model.best_score, model.best_iteration+1))"
   ]
  },
  {
   "cell_type": "code",
   "execution_count": 16,
   "metadata": {},
   "outputs": [
    {
     "name": "stdout",
     "output_type": "stream",
     "text": [
      "[0]\tTest-mae:16.61443\n",
      "[1]\tTest-mae:13.68543\n",
      "[2]\tTest-mae:12.58721\n",
      "[3]\tTest-mae:12.02043\n",
      "[4]\tTest-mae:11.62314\n"
     ]
    }
   ],
   "source": [
    "num_boost_round = model.best_iteration + 1\n",
    "best_model = xgb.train(\n",
    "    params,\n",
    "    dtrain,\n",
    "    num_boost_round=num_boost_round,\n",
    "    evals=[(dtest, \"Test\")]\n",
    ")"
   ]
  },
  {
   "cell_type": "code",
   "execution_count": 17,
   "metadata": {},
   "outputs": [],
   "source": [
    "# Exporting model\n",
    "filename = os.environ['PWD'] + '/scripts/models/model_xgb_v2.model'\n",
    "# filename_dump = os.environ['PWD'] + '/scripts/models/dump.raw.txt'\n",
    "\n",
    "best_model.save_model(filename)\n",
    "# best_model.dump_model(filename_dump)"
   ]
  },
  {
   "cell_type": "markdown",
   "metadata": {},
   "source": [
    "# Modeling - LASSO"
   ]
  },
  {
   "cell_type": "code",
   "execution_count": 18,
   "metadata": {},
   "outputs": [],
   "source": [
    "# Running model\n",
    "model_lasso = LassoCV(cv=20).fit(X_train, y_train)\n",
    "\n",
    "# Saving model with pickle\n",
    "filename = os.environ['PWD'] + '/scripts/models/model_lasso.sav'\n",
    "pickle.dump(model_lasso, open(filename, 'wb'))"
   ]
  },
  {
   "cell_type": "markdown",
   "metadata": {},
   "source": [
    "# Modeling - Random Forest Regression\n",
    "## Estimating a Random Forest Regression to Estimate Hourly-Rate\n",
    "\n",
    "Notes:\n",
    "    - Next model probability of getting a job?\n",
    "    - Convert to a clustering algorithm and present a range of estimates?\n",
    "    - Bootstrap to get a range of estimates?\n",
    "    - Make suggestions (Increase bio length by 10 and you can charge X more)\n",
    "        - \"Here are bios for users similar to you\" etc. etc.\n",
    "    - Focus on helping users build up their profiles"
   ]
  },
  {
   "cell_type": "code",
   "execution_count": 19,
   "metadata": {},
   "outputs": [
    {
     "name": "stdout",
     "output_type": "stream",
     "text": [
      "Fitting 3 folds for each of 40 candidates, totalling 120 fits\n"
     ]
    },
    {
     "name": "stderr",
     "output_type": "stream",
     "text": [
      "[Parallel(n_jobs=4)]: Using backend LokyBackend with 4 concurrent workers.\n",
      "[Parallel(n_jobs=4)]: Done  42 tasks      | elapsed:   38.0s\n",
      "[Parallel(n_jobs=4)]: Done 120 out of 120 | elapsed:  1.6min finished\n"
     ]
    },
    {
     "name": "stdout",
     "output_type": "stream",
     "text": [
      "-14.58 {'max_depth': 5, 'max_features': 'auto', 'n_estimators': 1500}\n"
     ]
    }
   ],
   "source": [
    "# References for GridSearchCV\n",
    "# 1 - https://scikit-learn.org/stable/modules/ensemble.html#random-forest-parameters\n",
    "# 2 - https://stackoverflow.com/questions/35097003/cross-validation-decision-trees-in-sklearn\n",
    "# References for Random Forest Regression\n",
    "# 1 - https://towardsdatascience.com/random-forest-in-python-24d0893d51c0\n",
    "# 2 - https://scikit-learn.org/stable/modules/generated/sklearn.ensemble.RandomForestRegressor.html\n",
    "\n",
    "# Creating parameter grid\n",
    "parameters = {\"max_features\": [\"auto\", \"sqrt\"], \n",
    "              \"n_estimators\": [100, 500, 900, 1300, 1500], \n",
    "              \"max_depth\": [None,5,10,20]}\n",
    "\n",
    "# Creating Grid Search Class\n",
    "clf = GridSearchCV(RandomForestRegressor(), parameters, n_jobs=4, verbose=True, \n",
    "                   scoring=\"neg_mean_absolute_error\",\n",
    "                   refit=True, cv = 3)\n",
    "\n",
    "# Running Grid Search\n",
    "clf.fit(X=X_train, y=y_train)\n",
    "\n",
    "# Saving best model\n",
    "model_rfr = clf.best_estimator_\n",
    "\n",
    "# Printing results\n",
    "print(round(clf.best_score_,2), clf.best_params_)\n",
    "\n",
    "# Exporting model\n",
    "filename = os.environ['PWD'] + '/scripts/models/model_rfr.sav'\n",
    "pickle.dump(model_rfr, open(filename, 'wb'))"
   ]
  },
  {
   "cell_type": "markdown",
   "metadata": {},
   "source": [
    "# Fitting AdaBoost Model\n",
    "The reason to fit this model is that iteratively re-weights observations based on how poorly the model predicts them. This pushes the model to finding a way to predict observations other models may miss. I am concerned, however, if it will overfit to outliers.\n",
    "\n",
    "It performs poorly compared to the random forest regression."
   ]
  },
  {
   "cell_type": "code",
   "execution_count": 20,
   "metadata": {},
   "outputs": [
    {
     "name": "stdout",
     "output_type": "stream",
     "text": [
      "Fitting 5 folds for each of 60 candidates, totalling 300 fits\n"
     ]
    },
    {
     "name": "stderr",
     "output_type": "stream",
     "text": [
      "[Parallel(n_jobs=4)]: Using backend LokyBackend with 4 concurrent workers.\n",
      "[Parallel(n_jobs=4)]: Done 128 tasks      | elapsed:    8.4s\n"
     ]
    },
    {
     "name": "stdout",
     "output_type": "stream",
     "text": [
      "0.05 {'base_estimator__max_depth': 3, 'n_estimators': 3}\n"
     ]
    },
    {
     "name": "stderr",
     "output_type": "stream",
     "text": [
      "[Parallel(n_jobs=4)]: Done 300 out of 300 | elapsed:   24.3s finished\n"
     ]
    }
   ],
   "source": [
    "# Creating parameter grid\n",
    "parameters = {\"n_estimators\": [1, 3, 5, 10, 25, 50, 75, 100, 125, 150],\n",
    "              \"base_estimator__max_depth\": [3, 5, 7, 9, 10, 11]}\n",
    "\n",
    "regr_1 = DecisionTreeRegressor()\n",
    "regr_2 = AdaBoostRegressor(base_estimator=regr_1)\n",
    "\n",
    "# Creating Grid Search Class\n",
    "clf = GridSearchCV(regr_2, parameters, n_jobs=4, verbose=True)\n",
    "\n",
    "# Running Grid Search\n",
    "clf.fit(X=X_train, y=y_train)\n",
    "\n",
    "# Saving best model\n",
    "model_ada = clf.best_estimator_\n",
    "\n",
    "# Printing results\n",
    "print(round(clf.best_score_, 2), clf.best_params_)\n",
    "\n",
    "# Exporting Model\n",
    "filename = os.environ['PWD'] + '/scripts/models/model_ada.sav'\n",
    "pickle.dump(model_ada, open(filename, 'wb'))"
   ]
  },
  {
   "cell_type": "markdown",
   "metadata": {},
   "source": [
    "# Model Evaluation"
   ]
  },
  {
   "cell_type": "markdown",
   "metadata": {},
   "source": [
    "## Functions for Evaluation"
   ]
  },
  {
   "cell_type": "code",
   "execution_count": 7,
   "metadata": {},
   "outputs": [],
   "source": [
    "def baseline_performance(outcome_data, test_data):\n",
    "    # Assumes training the mean\n",
    "    \n",
    "    # Getting Baseline\n",
    "    baseline_preds = np.mean(outcome_data)\n",
    "\n",
    "    # Baseline Errors\n",
    "    baseline_errors = abs(baseline_preds - test_data)\n",
    "\n",
    "    # Baseline:\n",
    "    print('Baseline Performance of Naive Mean Estimator:\\nMean Absolute Error:', round(np.mean(baseline_errors), 2))\n",
    "    \n",
    "    return np.mean(baseline_errors)\n",
    "    \n",
    "def model_performance(predictions, outcome_data, baseline, model_str_name):\n",
    "    # Calculate absolute error (comparison with baseline)\n",
    "    errors = abs(predictions - outcome_data)\n",
    "    \n",
    "    print(model_str_name + ' Performance:')\n",
    "    \n",
    "    # Print out the mean absolute error (mae)\n",
    "    print('\\tMean absolute error: %.2f'\n",
    "          % mean_absolute_error(outcome_data, predictions))\n",
    "\n",
    "    # The mean squared error\n",
    "    print('\\tMean squared error: %.2f'\n",
    "          % mean_squared_error(outcome_data, predictions))\n",
    "\n",
    "    # The coefficient of determination (R2)\n",
    "    print('\\tCoefficient of determination: %.2f'\n",
    "          % r2_score(outcome_data, predictions))\n",
    "\n",
    "    # Does much better than the mean with regard to mean absolute error\n",
    "    print(\"\\tA \", round((np.mean(errors)-baseline)/baseline,3)*-100,\n",
    "          \"percent change over the mean\")\n",
    "    \n",
    "    # What is the average dollar change in user hourly rate with this model?\n",
    "    print(\"\\tAverage Change in Hourly Rate vs Naive Model: $\", np.mean(predictions - baseline))\n",
    "\n",
    "def plot_preds_truth(x, y):\n",
    "    # Calculate Error\n",
    "    error = abs(x-y)\n",
    "    \n",
    "    # Plotting True Hourly Rates vs Predicted Hourly Rates\n",
    "    sns.scatterplot(x = x, y = y, hue = error)\n",
    "    plt.xlim(0,100)\n",
    "    plt.ylim(0,100)\n",
    "    plt.xlabel(\"Truth\")\n",
    "    plt.ylabel(\"Prediction\")\n",
    "    plt.show()\n",
    "    \n",
    "# Aggregate Function: Model_performance\n",
    "def model_evaluation(model, model_name_string):\n",
    "\n",
    "    if model_name_string == 'XGBoost':\n",
    "        \n",
    "        # Converting data to useable format \n",
    "        dtest = xgb.DMatrix(X_test, label=y_test)\n",
    "        \n",
    "        # Evaluating Model\n",
    "        model_performance(model.predict(dtest), y_test, pred_baseline, 'model_name_string')\n",
    "\n",
    "        # Plotting True Hourly Rates vs Predicted Hourly Rates\n",
    "        plot_preds_truth(x = y_test, y = model.predict(dtest))\n",
    "        \n",
    "    else:\n",
    "        \n",
    "        # Evaluating Model\n",
    "        model_performance(model.predict(X_test), y_test, pred_baseline, 'model_name')\n",
    "\n",
    "        # Plotting True Hourly Rates vs Predicted Hourly Rates\n",
    "        plot_preds_truth(x = y_test, y = model.predict(X_test))\n"
   ]
  },
  {
   "cell_type": "markdown",
   "metadata": {},
   "source": [
    "## Loading Models"
   ]
  },
  {
   "cell_type": "code",
   "execution_count": 8,
   "metadata": {},
   "outputs": [],
   "source": [
    "# XGBoost\n",
    "model_xgboost = xgb.Booster({'nthread': 4})  # init model\n",
    "model_xgboost.load_model(os.environ['PWD'] + '/scripts/models/model_xgb_v2.model')  # load data\n",
    "\n",
    "# Lasso\n",
    "filename = os.environ['PWD'] + '/scripts/models/model_lasso.sav'\n",
    "model_lasso = pickle.load(open(filename, 'rb'))\n",
    "\n",
    "# Random Forest Regression\n",
    "filename = os.environ['PWD'] + '/scripts/models/model_rfr.sav'\n",
    "model_rfr = pickle.load(open(filename, 'rb'))\n",
    "\n",
    "# AdaBoost\n",
    "filename = os.environ['PWD'] + '/scripts/models/model_ada.sav'\n",
    "model_ada = pickle.load(open(filename, 'rb'))"
   ]
  },
  {
   "cell_type": "markdown",
   "metadata": {},
   "source": [
    "## Evaluation"
   ]
  },
  {
   "cell_type": "code",
   "execution_count": 9,
   "metadata": {},
   "outputs": [
    {
     "name": "stdout",
     "output_type": "stream",
     "text": [
      "Baseline Performance of Naive Mean Estimator:\n",
      "Mean Absolute Error: 13.73\n"
     ]
    },
    {
     "data": {
      "image/png": "[encoded data removed]",
      "text/plain": [
       "<Figure size 432x288 with 1 Axes>"
      ]
     },
     "metadata": {
      "needs_background": "light"
     },
     "output_type": "display_data"
    }
   ],
   "source": [
    "pred_baseline = baseline_performance(y_train, y_test)\n",
    "plot_preds_truth(x = y_test, y = pred_baseline)"
   ]
  },
  {
   "cell_type": "code",
   "execution_count": 10,
   "metadata": {},
   "outputs": [
    {
     "name": "stdout",
     "output_type": "stream",
     "text": [
      "model_name_string Performance:\n",
      "\tMean absolute error: 11.62\n",
      "\tMean squared error: 203.44\n",
      "\tCoefficient of determination: 0.13\n",
      "\tA  15.299999999999999 percent change over the mean\n",
      "\tAverage Change in Hourly Rate vs Naive Model: $ 11.285678\n"
     ]
    },
    {
     "data": {
      "image/png": "[encoded data removed]",
      "text/plain": [
       "<Figure size 432x288 with 1 Axes>"
      ]
     },
     "metadata": {
      "needs_background": "light"
     },
     "output_type": "display_data"
    }
   ],
   "source": [
    "# XGBoost\n",
    "model_evaluation(model_xgboost, 'XGBoost')"
   ]
  },
  {
   "cell_type": "code",
   "execution_count": 11,
   "metadata": {},
   "outputs": [
    {
     "name": "stdout",
     "output_type": "stream",
     "text": [
      "model_name Performance:\n",
      "\tMean absolute error: 13.78\n",
      "\tMean squared error: 371.27\n",
      "\tCoefficient of determination: -0.59\n",
      "\tA  -0.4 percent change over the mean\n",
      "\tAverage Change in Hourly Rate vs Naive Model: $ 13.135606625147316\n"
     ]
    },
    {
     "data": {
      "image/png": "[encoded data removed]",
      "text/plain": [
       "<Figure size 432x288 with 1 Axes>"
      ]
     },
     "metadata": {
      "needs_background": "light"
     },
     "output_type": "display_data"
    }
   ],
   "source": [
    "# Lasso\n",
    "model_evaluation(model_lasso, 'LASSO')"
   ]
  },
  {
   "cell_type": "code",
   "execution_count": 15,
   "metadata": {},
   "outputs": [
    {
     "name": "stdout",
     "output_type": "stream",
     "text": [
      "model_name Performance:\n",
      "\tMean absolute error: 12.68\n",
      "\tMean squared error: 236.78\n",
      "\tCoefficient of determination: -0.02\n",
      "\tA  7.6 percent change over the mean\n",
      "\tAverage Change in Hourly Rate vs Naive Model: $ 15.422155252884023\n"
     ]
    },
    {
     "data": {
      "image/png": "[encoded data removed]",
      "text/plain": [
       "<Figure size 432x288 with 1 Axes>"
      ]
     },
     "metadata": {
      "needs_background": "light"
     },
     "output_type": "display_data"
    }
   ],
   "source": [
    "# Random Forest\n",
    "model_evaluation(model_rfr, 'Random Forest Regression')"
   ]
  },
  {
   "cell_type": "code",
   "execution_count": 16,
   "metadata": {},
   "outputs": [
    {
     "name": "stdout",
     "output_type": "stream",
     "text": [
      "model_name Performance:\n",
      "\tMean absolute error: 12.12\n",
      "\tMean squared error: 204.01\n",
      "\tCoefficient of determination: 0.12\n",
      "\tA  11.700000000000001 percent change over the mean\n",
      "\tAverage Change in Hourly Rate vs Naive Model: $ 15.375889497710785\n"
     ]
    },
    {
     "data": {
      "image/png": "[encoded data removed]",
      "text/plain": [
       "<Figure size 432x288 with 1 Axes>"
      ]
     },
     "metadata": {
      "needs_background": "light"
     },
     "output_type": "display_data"
    }
   ],
   "source": [
    "# AdaBoost\n",
    "model_evaluation(model_ada, 'AdaBoosted Regression Trees')"
   ]
  }
 ],
 "metadata": {
  "kernelspec": {
   "display_name": "Python 3",
   "language": "python",
   "name": "python3"
  }
 },
 "nbformat": 4,
 "nbformat_minor": 4
}
