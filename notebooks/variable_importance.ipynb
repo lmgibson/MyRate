{
 "cells": [
  {
   "cell_type": "markdown",
   "metadata": {},
   "source": [
    "# Variable Importance Extraction from Random Forest Regression Model\n",
    "\n",
    "The model is from the model_training notebook. This simply loads in the model and begins exploring variable importance and how that can be used to help users improve their profiles."
   ]
  },
  {
   "cell_type": "markdown",
   "metadata": {},
   "source": [
    "## Library Imports"
   ]
  },
  {
   "cell_type": "code",
   "execution_count": 12,
   "metadata": {},
   "outputs": [],
   "source": [
    "# Model Importing\n",
    "import pickle\n",
    "import os\n",
    "\n",
    "# Feature Importance Extraction and Plotting\n",
    "import numpy as np\n",
    "import matplotlib.pyplot as plt\n",
    "\n"
   ]
  },
  {
   "cell_type": "markdown",
   "metadata": {},
   "source": [
    "## Importing Model"
   ]
  },
  {
   "cell_type": "code",
   "execution_count": 11,
   "metadata": {},
   "outputs": [],
   "source": [
    "# Loading serialized model from pickle\n",
    "filename = os.environ['PWD'] + \"/scripts/finalized_model.sav\"\n",
    "model = pickle.load(open(filename, 'rb'))"
   ]
  },
  {
   "cell_type": "markdown",
   "metadata": {},
   "source": [
    "## Feature Importance\n",
    "\n",
    "Reference:\n",
    "    - https://scikit-learn.org/stable/auto_examples/ensemble/plot_forest_importances.html\n",
    "    \n",
    "Findings:\n",
    "    - The bio features are the most important and are followed by a state, number of skills, skill categories"
   ]
  },
  {
   "cell_type": "code",
   "execution_count": 22,
   "metadata": {},
   "outputs": [
    {
     "name": "stdout",
     "output_type": "stream",
     "text": [
      "Feature ranking:\n",
      "1. feature 1 (0.112454)\n",
      "2. feature 3 (0.111467)\n",
      "3. feature 2 (0.103397)\n",
      "4. feature 4 (0.094540)\n",
      "5. feature 36 (0.061841)\n",
      "6. feature 0 (0.054033)\n",
      "7. feature 57 (0.041951)\n",
      "8. feature 59 (0.036633)\n",
      "9. feature 23 (0.029893)\n",
      "10. feature 63 (0.029205)\n"
     ]
    }
   ],
   "source": [
    "# Extraction\n",
    "importances = model.feature_importances_\n",
    "std = np.std([tree.feature_importances_ for tree in model.estimators_],\n",
    "             axis=0)\n",
    "indices = np.argsort(importances)[::-1]\n",
    "n_features = model.n_features_\n",
    "\n",
    "# Print Feature rankings\n",
    "print(\"Feature ranking:\")\n",
    "\n",
    "# Top 10 features\n",
    "for f in range(10):\n",
    "    print(\"%d. feature %d (%f)\" % (f + 1, indices[f], importances[indices[f]]))"
   ]
  },
  {
   "cell_type": "code",
   "execution_count": 29,
   "metadata": {},
   "outputs": [
    {
     "data": {
      "image/png": "[encoded data removed]",
      "text/plain": [
       "<Figure size 432x288 with 1 Axes>"
      ]
     },
     "metadata": {
      "needs_background": "light"
     },
     "output_type": "display_data"
    }
   ],
   "source": [
    "# Plot the impurity-based feature importances of the forest (Top 10 Features)\n",
    "plt.figure()\n",
    "plt.title(\"Feature importances\")\n",
    "plt.bar(range(10), importances[indices][0:10],\n",
    "        color=\"r\", yerr=std[indices][0:10], align=\"center\")\n",
    "plt.xticks(range(10), indices[0:10])\n",
    "plt.xlim([-1, 10])\n",
    "plt.show()"
   ]
  }
 ],
 "metadata": {
  "kernelspec": {
   "display_name": "Python 3",
   "language": "python",
   "name": "python3"
  },
  "language_info": {
   "codemirror_mode": {
    "name": "ipython",
    "version": 3
   },
   "file_extension": ".py",
   "mimetype": "text/x-python",
   "name": "python",
   "nbconvert_exporter": "python",
   "pygments_lexer": "ipython3",
   "version": "3.7.7"
  }
 },
 "nbformat": 4,
 "nbformat_minor": 4
}
